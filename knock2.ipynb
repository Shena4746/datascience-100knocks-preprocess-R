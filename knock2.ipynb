{
 "cells": [
  {
   "cell_type": "code",
   "execution_count": 1,
   "metadata": {
    "vscode": {
     "languageId": "r"
    }
   },
   "outputs": [
    {
     "name": "stderr",
     "output_type": "stream",
     "text": [
      "\n",
      "Attaching package: ‘dplyr’\n",
      "\n",
      "\n",
      "The following objects are masked from ‘package:dbplyr’:\n",
      "\n",
      "    ident, sql\n",
      "\n",
      "\n",
      "The following objects are masked from ‘package:stats’:\n",
      "\n",
      "    filter, lag\n",
      "\n",
      "\n",
      "The following objects are masked from ‘package:base’:\n",
      "\n",
      "    intersect, setdiff, setequal, union\n",
      "\n",
      "\n"
     ]
    }
   ],
   "source": [
    "library('DBI')\n",
    "library('RPostgreSQL')\n",
    "library('dbplyr')\n",
    "library('dplyr')\n",
    "library(tidyr)\n",
    "\n",
    "# connect to database\n",
    "con <- dbConnect(PostgreSQL(), host=\"localhost\", port=5432, dbname=\"knock100\", user=\"guest\", password=\"guest\")\n",
    "\n",
    "# get access to table\n",
    "re = tbl(con,'receipt')"
   ]
  },
  {
   "cell_type": "markdown",
   "metadata": {},
   "source": [
    "### R-041\n",
    "レシート明細データ（df_receipt）の売上金額（amount）を日付（sales_ymd）ごとに集計し、前回売上があった日からの売上金額増減を計算せよ。そして結果を10件表示せよ。"
   ]
  },
  {
   "cell_type": "code",
   "execution_count": 57,
   "metadata": {
    "vscode": {
     "languageId": "r"
    }
   },
   "outputs": [
    {
     "data": {
      "text/plain": [
       "\u001b[90m# Source:   lazy query [?? x 4]\u001b[39m\n",
       "\u001b[90m# Database: postgres 12.0.11 [@localhost:5432/knock100]\u001b[39m\n",
       "  sales_ymd sales_today sales_yest   diff\n",
       "      \u001b[3m\u001b[90m<int>\u001b[39m\u001b[23m       \u001b[3m\u001b[90m<dbl>\u001b[39m\u001b[23m      \u001b[3m\u001b[90m<dbl>\u001b[39m\u001b[23m  \u001b[3m\u001b[90m<dbl>\u001b[39m\u001b[23m\n",
       "\u001b[90m1\u001b[39m  20\u001b[4m1\u001b[24m\u001b[4m9\u001b[24m\u001b[4m0\u001b[24m504       \u001b[4m4\u001b[24m\u001b[4m9\u001b[24m561         \u001b[31mNA\u001b[39m     \u001b[31mNA\u001b[39m\n",
       "\u001b[90m2\u001b[39m  20\u001b[4m1\u001b[24m\u001b[4m8\u001b[24m\u001b[4m0\u001b[24m414       \u001b[4m2\u001b[24m\u001b[4m7\u001b[24m599      \u001b[4m4\u001b[24m\u001b[4m9\u001b[24m561 -\u001b[31m\u001b[4m2\u001b[24m\u001b[4m1\u001b[24m9\u001b[39m\u001b[31m62\u001b[39m\n",
       "\u001b[90m3\u001b[39m  20\u001b[4m1\u001b[24m\u001b[4m7\u001b[24m\u001b[4m0\u001b[24m416       \u001b[4m1\u001b[24m\u001b[4m6\u001b[24m442      \u001b[4m2\u001b[24m\u001b[4m7\u001b[24m599 -\u001b[31m\u001b[4m1\u001b[24m\u001b[4m1\u001b[24m1\u001b[39m\u001b[31m57\u001b[39m\n",
       "\u001b[90m4\u001b[39m  20\u001b[4m1\u001b[24m\u001b[4m9\u001b[24m\u001b[4m0\u001b[24m422       \u001b[4m3\u001b[24m\u001b[4m7\u001b[24m044      \u001b[4m1\u001b[24m\u001b[4m6\u001b[24m442  \u001b[4m2\u001b[24m\u001b[4m0\u001b[24m602\n",
       "\u001b[90m5\u001b[39m  20\u001b[4m1\u001b[24m\u001b[4m9\u001b[24m\u001b[4m0\u001b[24m710       \u001b[4m2\u001b[24m\u001b[4m7\u001b[24m796      \u001b[4m3\u001b[24m\u001b[4m7\u001b[24m044  -\u001b[31m\u001b[4m9\u001b[24m24\u001b[39m\u001b[31m8\u001b[39m\n",
       "\u001b[90m6\u001b[39m  20\u001b[4m1\u001b[24m\u001b[4m8\u001b[24m\u001b[4m1\u001b[24m027       \u001b[4m2\u001b[24m\u001b[4m8\u001b[24m497      \u001b[4m2\u001b[24m\u001b[4m7\u001b[24m796    701"
      ]
     },
     "metadata": {},
     "output_type": "display_data"
    }
   ],
   "source": [
    "re %>%\n",
    "group_by(sales_ymd) %>%\n",
    "summarise(sales_today = sum(amount)) %>%\n",
    "mutate(sales_yest = sales_today %>% lag()) %>%\n",
    "mutate(diff = sales_today - sales_yest) %>%\n",
    "head"
   ]
  },
  {
   "cell_type": "code",
   "execution_count": 3,
   "metadata": {
    "vscode": {
     "languageId": "r"
    }
   },
   "outputs": [
    {
     "name": "stderr",
     "output_type": "stream",
     "text": [
      "Warning message:\n",
      "“Missing values are always removed in SQL.\n",
      "Use `SUM(x, na.rm = TRUE)` to silence this warning\n",
      "This warning is displayed only once per session.”\n"
     ]
    },
    {
     "data": {
      "text/plain": [
       "\u001b[90m# Source:   lazy query [?? x 4]\u001b[39m\n",
       "\u001b[90m# Database: postgres 12.0.11 [@localhost:5432/knock100]\u001b[39m\n",
       "  sales_ymd sales_today sales_yest   diff\n",
       "      \u001b[3m\u001b[90m<int>\u001b[39m\u001b[23m       \u001b[3m\u001b[90m<dbl>\u001b[39m\u001b[23m      \u001b[3m\u001b[90m<dbl>\u001b[39m\u001b[23m  \u001b[3m\u001b[90m<dbl>\u001b[39m\u001b[23m\n",
       "\u001b[90m1\u001b[39m  20\u001b[4m1\u001b[24m\u001b[4m9\u001b[24m\u001b[4m0\u001b[24m504       \u001b[4m4\u001b[24m\u001b[4m9\u001b[24m561          0  \u001b[4m4\u001b[24m\u001b[4m9\u001b[24m561\n",
       "\u001b[90m2\u001b[39m  20\u001b[4m1\u001b[24m\u001b[4m8\u001b[24m\u001b[4m0\u001b[24m414       \u001b[4m2\u001b[24m\u001b[4m7\u001b[24m599      \u001b[4m4\u001b[24m\u001b[4m9\u001b[24m561 -\u001b[31m\u001b[4m2\u001b[24m\u001b[4m1\u001b[24m9\u001b[39m\u001b[31m62\u001b[39m\n",
       "\u001b[90m3\u001b[39m  20\u001b[4m1\u001b[24m\u001b[4m7\u001b[24m\u001b[4m0\u001b[24m416       \u001b[4m1\u001b[24m\u001b[4m6\u001b[24m442      \u001b[4m2\u001b[24m\u001b[4m7\u001b[24m599 -\u001b[31m\u001b[4m1\u001b[24m\u001b[4m1\u001b[24m1\u001b[39m\u001b[31m57\u001b[39m\n",
       "\u001b[90m4\u001b[39m  20\u001b[4m1\u001b[24m\u001b[4m9\u001b[24m\u001b[4m0\u001b[24m422       \u001b[4m3\u001b[24m\u001b[4m7\u001b[24m044      \u001b[4m1\u001b[24m\u001b[4m6\u001b[24m442  \u001b[4m2\u001b[24m\u001b[4m0\u001b[24m602\n",
       "\u001b[90m5\u001b[39m  20\u001b[4m1\u001b[24m\u001b[4m9\u001b[24m\u001b[4m0\u001b[24m710       \u001b[4m2\u001b[24m\u001b[4m7\u001b[24m796      \u001b[4m3\u001b[24m\u001b[4m7\u001b[24m044  -\u001b[31m\u001b[4m9\u001b[24m24\u001b[39m\u001b[31m8\u001b[39m\n",
       "\u001b[90m6\u001b[39m  20\u001b[4m1\u001b[24m\u001b[4m8\u001b[24m\u001b[4m1\u001b[24m027       \u001b[4m2\u001b[24m\u001b[4m8\u001b[24m497      \u001b[4m2\u001b[24m\u001b[4m7\u001b[24m796    701"
      ]
     },
     "metadata": {},
     "output_type": "display_data"
    }
   ],
   "source": [
    "re %>%\n",
    "group_by(sales_ymd) %>%\n",
    "summarise(sales_today = sum(amount)) %>%\n",
    "mutate(sales_yest = ifelse(is.na(lag(sales_today)),0,lag(sales_today))) %>%\n",
    "mutate(diff = sales_today - sales_yest) %>%\n",
    "head"
   ]
  },
  {
   "cell_type": "markdown",
   "metadata": {},
   "source": [
    "### R-042\n",
    "レシート明細データ（df_receipt）の売上金額（amount）を日付（sales_ymd）ごとに集計し、各日付のデータに対し、前回、前々回、3回前に売上があった日のデータを結合せよ。そして結果を10件表示せよ。"
   ]
  },
  {
   "cell_type": "code",
   "execution_count": 4,
   "metadata": {
    "vscode": {
     "languageId": "r"
    }
   },
   "outputs": [
    {
     "data": {
      "text/plain": [
       "\u001b[90m# Source:   lazy query [?? x 5]\u001b[39m\n",
       "\u001b[90m# Database: postgres 12.0.11 [@localhost:5432/knock100]\u001b[39m\n",
       "  sales_ymd sales_today sales_1 sales_2 sales_3\n",
       "      \u001b[3m\u001b[90m<int>\u001b[39m\u001b[23m       \u001b[3m\u001b[90m<dbl>\u001b[39m\u001b[23m   \u001b[3m\u001b[90m<dbl>\u001b[39m\u001b[23m   \u001b[3m\u001b[90m<dbl>\u001b[39m\u001b[23m   \u001b[3m\u001b[90m<dbl>\u001b[39m\u001b[23m\n",
       "\u001b[90m1\u001b[39m  20\u001b[4m1\u001b[24m\u001b[4m9\u001b[24m\u001b[4m0\u001b[24m504       \u001b[4m4\u001b[24m\u001b[4m9\u001b[24m561       0       0       0\n",
       "\u001b[90m2\u001b[39m  20\u001b[4m1\u001b[24m\u001b[4m8\u001b[24m\u001b[4m0\u001b[24m414       \u001b[4m2\u001b[24m\u001b[4m7\u001b[24m599   \u001b[4m4\u001b[24m\u001b[4m9\u001b[24m561       0       0\n",
       "\u001b[90m3\u001b[39m  20\u001b[4m1\u001b[24m\u001b[4m7\u001b[24m\u001b[4m0\u001b[24m416       \u001b[4m1\u001b[24m\u001b[4m6\u001b[24m442   \u001b[4m2\u001b[24m\u001b[4m7\u001b[24m599   \u001b[4m4\u001b[24m\u001b[4m9\u001b[24m561       0\n",
       "\u001b[90m4\u001b[39m  20\u001b[4m1\u001b[24m\u001b[4m9\u001b[24m\u001b[4m0\u001b[24m422       \u001b[4m3\u001b[24m\u001b[4m7\u001b[24m044   \u001b[4m1\u001b[24m\u001b[4m6\u001b[24m442   \u001b[4m2\u001b[24m\u001b[4m7\u001b[24m599   \u001b[4m4\u001b[24m\u001b[4m9\u001b[24m561\n",
       "\u001b[90m5\u001b[39m  20\u001b[4m1\u001b[24m\u001b[4m9\u001b[24m\u001b[4m0\u001b[24m710       \u001b[4m2\u001b[24m\u001b[4m7\u001b[24m796   \u001b[4m3\u001b[24m\u001b[4m7\u001b[24m044   \u001b[4m1\u001b[24m\u001b[4m6\u001b[24m442   \u001b[4m2\u001b[24m\u001b[4m7\u001b[24m599\n",
       "\u001b[90m6\u001b[39m  20\u001b[4m1\u001b[24m\u001b[4m8\u001b[24m\u001b[4m1\u001b[24m027       \u001b[4m2\u001b[24m\u001b[4m8\u001b[24m497   \u001b[4m2\u001b[24m\u001b[4m7\u001b[24m796   \u001b[4m3\u001b[24m\u001b[4m7\u001b[24m044   \u001b[4m1\u001b[24m\u001b[4m6\u001b[24m442"
      ]
     },
     "metadata": {},
     "output_type": "display_data"
    }
   ],
   "source": [
    "re %>%\n",
    "group_by(sales_ymd) %>%\n",
    "summarise(sales_today = sum(amount)) %>%\n",
    "mutate(sales_1 = ifelse(is.na(lag(sales_today,n=1)),0,lag(sales_today,n=1)),\n",
    "\t\tsales_2 = ifelse(is.na(lag(sales_today,n=2)),0,lag(sales_today,n=2)),\n",
    "\t\tsales_3 = ifelse(is.na(lag(sales_today,n=3)),0,lag(sales_today,n=3))\n",
    ") %>%\n",
    "head"
   ]
  },
  {
   "cell_type": "code",
   "execution_count": 55,
   "metadata": {
    "vscode": {
     "languageId": "r"
    }
   },
   "outputs": [
    {
     "data": {
      "text/plain": [
       "\u001b[90m# Source:   lazy query [?? x 5]\u001b[39m\n",
       "\u001b[90m# Database: postgres 12.0.11 [@localhost:5432/knock100]\u001b[39m\n",
       "   sales_ymd sales_daily sales_daily_lag_1 sales_daily_lag_2 sales_daily_lag_3\n",
       "       \u001b[3m\u001b[90m<int>\u001b[39m\u001b[23m       \u001b[3m\u001b[90m<dbl>\u001b[39m\u001b[23m             \u001b[3m\u001b[90m<dbl>\u001b[39m\u001b[23m             \u001b[3m\u001b[90m<dbl>\u001b[39m\u001b[23m             \u001b[3m\u001b[90m<dbl>\u001b[39m\u001b[23m\n",
       "\u001b[90m 1\u001b[39m  20\u001b[4m1\u001b[24m\u001b[4m9\u001b[24m\u001b[4m0\u001b[24m504  \u001b[4m2\u001b[24m382\u001b[4m4\u001b[24m\u001b[4m7\u001b[24m\u001b[4m9\u001b[24m472                \u001b[31mNA\u001b[39m                \u001b[31mNA\u001b[39m                \u001b[31mNA\u001b[39m\n",
       "\u001b[90m 2\u001b[39m  20\u001b[4m1\u001b[24m\u001b[4m8\u001b[24m\u001b[4m0\u001b[24m414  \u001b[4m2\u001b[24m118\u001b[4m9\u001b[24m\u001b[4m4\u001b[24m\u001b[4m3\u001b[24m470        \u001b[4m2\u001b[24m382\u001b[4m4\u001b[24m\u001b[4m7\u001b[24m\u001b[4m9\u001b[24m472                \u001b[31mNA\u001b[39m                \u001b[31mNA\u001b[39m\n",
       "\u001b[90m 3\u001b[39m  20\u001b[4m1\u001b[24m\u001b[4m7\u001b[24m\u001b[4m0\u001b[24m416  \u001b[4m1\u001b[24m593\u001b[4m4\u001b[24m\u001b[4m6\u001b[24m\u001b[4m2\u001b[24m864        \u001b[4m2\u001b[24m118\u001b[4m9\u001b[24m\u001b[4m4\u001b[24m\u001b[4m3\u001b[24m470        \u001b[4m2\u001b[24m382\u001b[4m4\u001b[24m\u001b[4m7\u001b[24m\u001b[4m9\u001b[24m472                \u001b[31mNA\u001b[39m\n",
       "\u001b[90m 4\u001b[39m  20\u001b[4m1\u001b[24m\u001b[4m9\u001b[24m\u001b[4m0\u001b[24m422  \u001b[4m2\u001b[24m261\u001b[4m3\u001b[24m\u001b[4m2\u001b[24m\u001b[4m7\u001b[24m264        \u001b[4m1\u001b[24m593\u001b[4m4\u001b[24m\u001b[4m6\u001b[24m\u001b[4m2\u001b[24m864        \u001b[4m2\u001b[24m118\u001b[4m9\u001b[24m\u001b[4m4\u001b[24m\u001b[4m3\u001b[24m470        \u001b[4m2\u001b[24m382\u001b[4m4\u001b[24m\u001b[4m7\u001b[24m\u001b[4m9\u001b[24m472\n",
       "\u001b[90m 5\u001b[39m  20\u001b[4m1\u001b[24m\u001b[4m9\u001b[24m\u001b[4m0\u001b[24m710  \u001b[4m2\u001b[24m059\u001b[4m4\u001b[24m\u001b[4m5\u001b[24m\u001b[4m2\u001b[24m420        \u001b[4m2\u001b[24m261\u001b[4m3\u001b[24m\u001b[4m2\u001b[24m\u001b[4m7\u001b[24m264        \u001b[4m1\u001b[24m593\u001b[4m4\u001b[24m\u001b[4m6\u001b[24m\u001b[4m2\u001b[24m864        \u001b[4m2\u001b[24m118\u001b[4m9\u001b[24m\u001b[4m4\u001b[24m\u001b[4m3\u001b[24m470\n",
       "\u001b[90m 6\u001b[39m  20\u001b[4m1\u001b[24m\u001b[4m8\u001b[24m\u001b[4m1\u001b[24m027  \u001b[4m1\u001b[24m836\u001b[4m4\u001b[24m\u001b[4m7\u001b[24m\u001b[4m3\u001b[24m457        \u001b[4m2\u001b[24m059\u001b[4m4\u001b[24m\u001b[4m5\u001b[24m\u001b[4m2\u001b[24m420        \u001b[4m2\u001b[24m261\u001b[4m3\u001b[24m\u001b[4m2\u001b[24m\u001b[4m7\u001b[24m264        \u001b[4m1\u001b[24m593\u001b[4m4\u001b[24m\u001b[4m6\u001b[24m\u001b[4m2\u001b[24m864\n",
       "\u001b[90m 7\u001b[39m  20\u001b[4m1\u001b[24m\u001b[4m8\u001b[24m\u001b[4m0\u001b[24m819  \u001b[4m2\u001b[24m280\u001b[4m4\u001b[24m\u001b[4m3\u001b[24m\u001b[4m2\u001b[24m547        \u001b[4m1\u001b[24m836\u001b[4m4\u001b[24m\u001b[4m7\u001b[24m\u001b[4m3\u001b[24m457        \u001b[4m2\u001b[24m059\u001b[4m4\u001b[24m\u001b[4m5\u001b[24m\u001b[4m2\u001b[24m420        \u001b[4m2\u001b[24m261\u001b[4m3\u001b[24m\u001b[4m2\u001b[24m\u001b[4m7\u001b[24m264\n",
       "\u001b[90m 8\u001b[39m  20\u001b[4m1\u001b[24m\u001b[4m8\u001b[24m\u001b[4m1\u001b[24m107  \u001b[4m2\u001b[24m159\u001b[4m3\u001b[24m\u001b[4m7\u001b[24m\u001b[4m8\u001b[24m449        \u001b[4m2\u001b[24m280\u001b[4m4\u001b[24m\u001b[4m3\u001b[24m\u001b[4m2\u001b[24m547        \u001b[4m1\u001b[24m836\u001b[4m4\u001b[24m\u001b[4m7\u001b[24m\u001b[4m3\u001b[24m457        \u001b[4m2\u001b[24m059\u001b[4m4\u001b[24m\u001b[4m5\u001b[24m\u001b[4m2\u001b[24m420\n",
       "\u001b[90m 9\u001b[39m  20\u001b[4m1\u001b[24m\u001b[4m7\u001b[24m\u001b[4m0\u001b[24m315  \u001b[4m2\u001b[24m057\u001b[4m3\u001b[24m\u001b[4m7\u001b[24m\u001b[4m2\u001b[24m130        \u001b[4m2\u001b[24m159\u001b[4m3\u001b[24m\u001b[4m7\u001b[24m\u001b[4m8\u001b[24m449        \u001b[4m2\u001b[24m280\u001b[4m4\u001b[24m\u001b[4m3\u001b[24m\u001b[4m2\u001b[24m547        \u001b[4m1\u001b[24m836\u001b[4m4\u001b[24m\u001b[4m7\u001b[24m\u001b[4m3\u001b[24m457\n",
       "\u001b[90m10\u001b[39m  20\u001b[4m1\u001b[24m\u001b[4m7\u001b[24m\u001b[4m0\u001b[24m809  \u001b[4m2\u001b[24m037\u001b[4m2\u001b[24m\u001b[4m5\u001b[24m\u001b[4m1\u001b[24m709        \u001b[4m2\u001b[24m057\u001b[4m3\u001b[24m\u001b[4m7\u001b[24m\u001b[4m2\u001b[24m130        \u001b[4m2\u001b[24m159\u001b[4m3\u001b[24m\u001b[4m7\u001b[24m\u001b[4m8\u001b[24m449        \u001b[4m2\u001b[24m280\u001b[4m4\u001b[24m\u001b[4m3\u001b[24m\u001b[4m2\u001b[24m547"
      ]
     },
     "metadata": {},
     "output_type": "display_data"
    }
   ],
   "source": [
    "re %>%\n",
    "  group_by(sales_ymd) %>%\n",
    "  summarise(sales_daily= sum(sales_ymd)) %>%\n",
    "  mutate(\n",
    "    across(\n",
    "      sales_daily,\n",
    "      list(lag_1 = ~ lag(.x, n = 1), lag_2 = ~ lag(.x, n = 2), lag_3 = ~ lag(.x, n = 3))\n",
    "    )\n",
    "  ) %>%\n",
    "  head()"
   ]
  },
  {
   "cell_type": "markdown",
   "metadata": {},
   "source": [
    "### R-043:\n",
    "レシート明細データ（df_receipt）と顧客データ（df_customer）を結合し、性別コード（gender_cd）と年代（ageから計算）ごとに売上金額（amount）を合計した売上サマリデータを作成せよ。性別コードは0が男性、1が女性、9が不明を表すものとする。\n",
    "\n",
    "ただし、項目構成は年代、女性の売上金額、男性の売上金額、性別不明の売上金額の4項目とすること（縦に年代、横に性別のクロス集計）。また、年代は10歳ごとの階級とすること。"
   ]
  },
  {
   "cell_type": "code",
   "execution_count": 81,
   "metadata": {
    "vscode": {
     "languageId": "r"
    }
   },
   "outputs": [
    {
     "data": {
      "text/plain": [
       "\u001b[90m# Source:   lazy query [?? x 4]\u001b[39m\n",
       "\u001b[90m# Database: postgres 12.0.11 [@localhost:5432/knock100]\u001b[39m\n",
       "  generation sales_male sales_female sales_other\n",
       "       \u001b[3m\u001b[90m<dbl>\u001b[39m\u001b[23m      \u001b[3m\u001b[90m<dbl>\u001b[39m\u001b[23m        \u001b[3m\u001b[90m<dbl>\u001b[39m\u001b[23m       \u001b[3m\u001b[90m<dbl>\u001b[39m\u001b[23m\n",
       "\u001b[90m1\u001b[39m         10       \u001b[4m1\u001b[24m591       \u001b[4m1\u001b[24m\u001b[4m4\u001b[24m\u001b[4m9\u001b[24m836        \u001b[4m4\u001b[24m317\n",
       "\u001b[90m2\u001b[39m         20      \u001b[4m7\u001b[24m\u001b[4m2\u001b[24m940      1\u001b[4m3\u001b[24m\u001b[4m6\u001b[24m\u001b[4m3\u001b[24m724       \u001b[4m4\u001b[24m\u001b[4m4\u001b[24m328\n",
       "\u001b[90m3\u001b[39m         30     \u001b[4m1\u001b[24m\u001b[4m7\u001b[24m\u001b[4m7\u001b[24m322       \u001b[4m6\u001b[24m\u001b[4m9\u001b[24m\u001b[4m3\u001b[24m047       \u001b[4m5\u001b[24m\u001b[4m0\u001b[24m441\n",
       "\u001b[90m4\u001b[39m         40      \u001b[4m1\u001b[24m\u001b[4m9\u001b[24m355      9\u001b[4m3\u001b[24m\u001b[4m2\u001b[24m\u001b[4m0\u001b[24m791      \u001b[4m4\u001b[24m\u001b[4m8\u001b[24m\u001b[4m3\u001b[24m512\n",
       "\u001b[90m5\u001b[39m         50      \u001b[4m5\u001b[24m\u001b[4m4\u001b[24m320      6\u001b[4m6\u001b[24m\u001b[4m8\u001b[24m\u001b[4m5\u001b[24m192      \u001b[4m3\u001b[24m\u001b[4m4\u001b[24m\u001b[4m2\u001b[24m923\n",
       "\u001b[90m6\u001b[39m         60     \u001b[4m2\u001b[24m\u001b[4m7\u001b[24m\u001b[4m2\u001b[24m469       \u001b[4m9\u001b[24m\u001b[4m8\u001b[24m\u001b[4m7\u001b[24m741       \u001b[4m7\u001b[24m\u001b[4m1\u001b[24m418\n",
       "\u001b[90m7\u001b[39m         70      \u001b[4m1\u001b[24m\u001b[4m3\u001b[24m435        \u001b[4m2\u001b[24m\u001b[4m9\u001b[24m764        \u001b[4m2\u001b[24m427\n",
       "\u001b[90m8\u001b[39m         80      \u001b[4m4\u001b[24m\u001b[4m6\u001b[24m360       \u001b[4m2\u001b[24m\u001b[4m6\u001b[24m\u001b[4m2\u001b[24m923        \u001b[4m5\u001b[24m111\n",
       "\u001b[90m9\u001b[39m         90          0         \u001b[4m6\u001b[24m260           0"
      ]
     },
     "metadata": {},
     "output_type": "display_data"
    }
   ],
   "source": [
    "cu = tbl(con,'customer')\n",
    "re %>%\n",
    "inner_join(cu, by = 'customer_id') %>%\n",
    "mutate(generation = age - age%%10) %>%\n",
    "group_by(generation, gender_cd) %>%\n",
    "summarise(sales_amount = amount %>% sum(), .groups = 'drop') %>% \n",
    "pivot_wider(names_from = gender_cd, names_prefix = 'sales', values_from = sales_amount, values_fill = 0) %>%\n",
    "rename(sales_male = sales0, sales_female = sales1, sales_other = sales9) -> sales_summary\n",
    "sales_summary "
   ]
  },
  {
   "cell_type": "markdown",
   "metadata": {},
   "source": [
    "### R-044\n",
    "043で作成した売上サマリデータ（df_sales_summary）は性別の売上を横持ちさせたものであった。このデータから性別を縦持ちさせ、年代、性別コード、売上金額の3項目に変換せよ。ただし、性別コードは男性を\"00\"、女性を\"01\"、不明を\"99\"とする"
   ]
  },
  {
   "cell_type": "code",
   "execution_count": 85,
   "metadata": {
    "vscode": {
     "languageId": "r"
    }
   },
   "outputs": [
    {
     "data": {
      "text/plain": [
       "\u001b[90m# Source:   lazy query [?? x 3]\u001b[39m\n",
       "\u001b[90m# Database: postgres 12.0.11 [@localhost:5432/knock100]\u001b[39m\n",
       "  generation gender_cd sales_amount\n",
       "       \u001b[3m\u001b[90m<dbl>\u001b[39m\u001b[23m \u001b[3m\u001b[90m<chr>\u001b[39m\u001b[23m            \u001b[3m\u001b[90m<dbl>\u001b[39m\u001b[23m\n",
       "\u001b[90m1\u001b[39m         10 00                \u001b[4m1\u001b[24m591\n",
       "\u001b[90m2\u001b[39m         20 00               \u001b[4m7\u001b[24m\u001b[4m2\u001b[24m940\n",
       "\u001b[90m3\u001b[39m         30 00              \u001b[4m1\u001b[24m\u001b[4m7\u001b[24m\u001b[4m7\u001b[24m322\n",
       "\u001b[90m4\u001b[39m         40 00               \u001b[4m1\u001b[24m\u001b[4m9\u001b[24m355\n",
       "\u001b[90m5\u001b[39m         50 00               \u001b[4m5\u001b[24m\u001b[4m4\u001b[24m320\n",
       "\u001b[90m6\u001b[39m         60 00              \u001b[4m2\u001b[24m\u001b[4m7\u001b[24m\u001b[4m2\u001b[24m469"
      ]
     },
     "metadata": {},
     "output_type": "display_data"
    }
   ],
   "source": [
    "sales_summary %>%\n",
    "rename('00'=sales_male, '01'=sales_female, '99'=sales_other) %>%\n",
    "  pivot_longer(cols = - generation, names_to = 'gender_cd', values_to = 'sales_amount') %>% head"
   ]
  },
  {
   "cell_type": "code",
   "execution_count": 6,
   "metadata": {
    "vscode": {
     "languageId": "r"
    }
   },
   "outputs": [
    {
     "data": {
      "text/plain": [
       "\u001b[90m# Source:   lazy query [?? x 3]\u001b[39m\n",
       "\u001b[90m# Database: postgres 12.0.11 [@localhost:5432/knock100]\u001b[39m\n",
       "   generation gender   sales\n",
       "        \u001b[3m\u001b[90m<dbl>\u001b[39m\u001b[23m \u001b[3m\u001b[90m<chr>\u001b[39m\u001b[23m    \u001b[3m\u001b[90m<dbl>\u001b[39m\u001b[23m\n",
       "\u001b[90m 1\u001b[39m         10 01      \u001b[4m1\u001b[24m\u001b[4m4\u001b[24m\u001b[4m9\u001b[24m836\n",
       "\u001b[90m 2\u001b[39m         20 01     1\u001b[4m3\u001b[24m\u001b[4m6\u001b[24m\u001b[4m3\u001b[24m724\n",
       "\u001b[90m 3\u001b[39m         30 01      \u001b[4m6\u001b[24m\u001b[4m9\u001b[24m\u001b[4m3\u001b[24m047\n",
       "\u001b[90m 4\u001b[39m         40 01     9\u001b[4m3\u001b[24m\u001b[4m2\u001b[24m\u001b[4m0\u001b[24m791\n",
       "\u001b[90m 5\u001b[39m         50 01     6\u001b[4m6\u001b[24m\u001b[4m8\u001b[24m\u001b[4m5\u001b[24m192\n",
       "\u001b[90m 6\u001b[39m         60 01      \u001b[4m9\u001b[24m\u001b[4m8\u001b[24m\u001b[4m7\u001b[24m741\n",
       "\u001b[90m 7\u001b[39m         70 01       \u001b[4m2\u001b[24m\u001b[4m9\u001b[24m764\n",
       "\u001b[90m 8\u001b[39m         80 01      \u001b[4m2\u001b[24m\u001b[4m6\u001b[24m\u001b[4m2\u001b[24m923\n",
       "\u001b[90m 9\u001b[39m         90 01        \u001b[4m6\u001b[24m260\n",
       "\u001b[90m10\u001b[39m         10 00        \u001b[4m1\u001b[24m591"
      ]
     },
     "metadata": {},
     "output_type": "display_data"
    }
   ],
   "source": [
    "sales_summary %>%\n",
    "select(\n",
    "\tgeneration,\n",
    "\t'01' = sales_female,\n",
    "\t'00' = sales_male,\n",
    "\t'99' = sales_unknown\n",
    "\t) %>%\n",
    "pivot_longer(!generation, names_to = 'gender', values_to = 'sales') %>%\n",
    "head(10)"
   ]
  },
  {
   "cell_type": "markdown",
   "metadata": {},
   "source": [
    "### R-045\n",
    "顧客データ（df_customer）の生年月日（birth_day）は日付型でデータを保有している。これをYYYYMMDD形式の文字列に変換し、顧客ID（customer_id）とともに10件表示せよ。"
   ]
  },
  {
   "cell_type": "code",
   "execution_count": 48,
   "metadata": {
    "vscode": {
     "languageId": "r"
    }
   },
   "outputs": [
    {
     "data": {
      "text/plain": [
       "\u001b[90m# Source:   lazy query [?? x 2]\u001b[39m\n",
       "\u001b[90m# Database: postgres 12.0.11 [@localhost:5432/knock100]\u001b[39m\n",
       "  customer_id    date    \n",
       "  \u001b[3m\u001b[90m<chr>\u001b[39m\u001b[23m          \u001b[3m\u001b[90m<chr>\u001b[39m\u001b[23m   \n",
       "\u001b[90m1\u001b[39m CS021313000114 19810429\n",
       "\u001b[90m2\u001b[39m CS037613000071 19520401\n",
       "\u001b[90m3\u001b[39m CS031415000172 19761004\n",
       "\u001b[90m4\u001b[39m CS028811000001 19330327\n",
       "\u001b[90m5\u001b[39m CS001215000145 19950329\n",
       "\u001b[90m6\u001b[39m CS020401000016 19740915"
      ]
     },
     "metadata": {},
     "output_type": "display_data"
    }
   ],
   "source": [
    "cu %>%\n",
    "transmute(customer_id ,date = birth_day %>% as.character() %>% str_replace_all(pattern = '-',replacement='')) %>%\n",
    "head"
   ]
  },
  {
   "cell_type": "markdown",
   "metadata": {},
   "source": [
    "### R-046\n",
    "顧客データ（df_customer）の申し込み日（application_date）はYYYYMMDD形式の文字列型でデータを保有している。これを日付型に変換し、顧客ID（customer_id）とともに10件表示せよ。"
   ]
  },
  {
   "cell_type": "code",
   "execution_count": 8,
   "metadata": {
    "vscode": {
     "languageId": "r"
    }
   },
   "outputs": [
    {
     "data": {
      "text/plain": [
       "\u001b[90m# Source:   lazy query [?? x 2]\u001b[39m\n",
       "\u001b[90m# Database: postgres 12.0.11 [@localhost:5432/knock100]\u001b[39m\n",
       "  customer_id    application_date\n",
       "  \u001b[3m\u001b[90m<chr>\u001b[39m\u001b[23m          \u001b[3m\u001b[90m<date>\u001b[39m\u001b[23m          \n",
       "\u001b[90m1\u001b[39m CS021313000114 2015-09-05      \n",
       "\u001b[90m2\u001b[39m CS037613000071 2015-04-14      \n",
       "\u001b[90m3\u001b[39m CS031415000172 2015-05-29      \n",
       "\u001b[90m4\u001b[39m CS028811000001 2016-01-15      \n",
       "\u001b[90m5\u001b[39m CS001215000145 2017-06-05      \n",
       "\u001b[90m6\u001b[39m CS020401000016 2015-02-25      "
      ]
     },
     "metadata": {},
     "output_type": "display_data"
    }
   ],
   "source": [
    "cu %>%\n",
    "transmute(customer_id, application_date = as.Date(application_date)) %>%\n",
    "head"
   ]
  },
  {
   "cell_type": "markdown",
   "metadata": {},
   "source": [
    "### R-047\n",
    "レシート明細データ（df_receipt）の売上日（sales_ymd）はYYYYMMDD形式の数値型でデータを保有している。これを日付型に変換し、レシート番号(receipt_no)、レシートサブ番号（receipt_sub_no）とともに10件表示せよ。"
   ]
  },
  {
   "cell_type": "code",
   "execution_count": 47,
   "metadata": {
    "vscode": {
     "languageId": "r"
    }
   },
   "outputs": [
    {
     "data": {
      "text/plain": [
       "\u001b[90m# Source:   lazy query [?? x 3]\u001b[39m\n",
       "\u001b[90m# Database: postgres 12.0.11 [@localhost:5432/knock100]\u001b[39m\n",
       "  sales_date receipt_no receipt_sub_no\n",
       "  \u001b[3m\u001b[90m<date>\u001b[39m\u001b[23m          \u001b[3m\u001b[90m<int>\u001b[39m\u001b[23m          \u001b[3m\u001b[90m<int>\u001b[39m\u001b[23m\n",
       "\u001b[90m1\u001b[39m 2018-11-03        112              1\n",
       "\u001b[90m2\u001b[39m 2018-11-18       \u001b[4m1\u001b[24m132              2\n",
       "\u001b[90m3\u001b[39m 2017-07-12       \u001b[4m1\u001b[24m102              1\n",
       "\u001b[90m4\u001b[39m 2019-02-05       \u001b[4m1\u001b[24m132              1\n",
       "\u001b[90m5\u001b[39m 2018-08-21       \u001b[4m1\u001b[24m102              2\n",
       "\u001b[90m6\u001b[39m 2019-06-05       \u001b[4m1\u001b[24m112              1"
      ]
     },
     "metadata": {},
     "output_type": "display_data"
    }
   ],
   "source": [
    "re %>%\n",
    "transmute(sales_date = sales_ymd %>% as.character() %>% as.Date(),\n",
    "\t\t\treceipt_no,receipt_sub_no) %>%\n",
    "head"
   ]
  },
  {
   "cell_type": "markdown",
   "metadata": {},
   "source": [
    "### R-052:\n",
    "レシート明細データ（df_receipt）の売上金額（amount）を顧客ID（customer_id）ごとに合計の上、売上金額合計に対して2,000円以下を0、2,000円より大きい金額を1に二値化し、顧客ID、売上金額合計とともに10件表示せよ。ただし、顧客IDが\"Z\"から始まるのものは非会員を表すため、除外して計算すること。"
   ]
  },
  {
   "cell_type": "code",
   "execution_count": 40,
   "metadata": {
    "vscode": {
     "languageId": "r"
    }
   },
   "outputs": [
    {
     "data": {
      "text/plain": [
       "\u001b[90m# Source:   lazy query [?? x 3]\u001b[39m\n",
       "\u001b[90m# Database: postgres 12.0.11 [@localhost:5432/knock100]\u001b[39m\n",
       "   customer_id    amount amount_over_2000\n",
       "   \u001b[3m\u001b[90m<chr>\u001b[39m\u001b[23m           \u001b[3m\u001b[90m<dbl>\u001b[39m\u001b[23m            \u001b[3m\u001b[90m<dbl>\u001b[39m\u001b[23m\n",
       "\u001b[90m 1\u001b[39m CS001311000059   \u001b[4m2\u001b[24m302                1\n",
       "\u001b[90m 2\u001b[39m CS004614000122    248                0\n",
       "\u001b[90m 3\u001b[39m CS003512000043    298                0\n",
       "\u001b[90m 4\u001b[39m CS011615000061    246                0\n",
       "\u001b[90m 5\u001b[39m CS029212000033   \u001b[4m3\u001b[24m604                1\n",
       "\u001b[90m 6\u001b[39m CS007515000119   \u001b[4m7\u001b[24m157                1\n",
       "\u001b[90m 7\u001b[39m CS034515000123   \u001b[4m3\u001b[24m699                1\n",
       "\u001b[90m 8\u001b[39m CS004315000058    490                0\n",
       "\u001b[90m 9\u001b[39m CS026414000014   \u001b[4m6\u001b[24m671                1\n",
       "\u001b[90m10\u001b[39m CS001615000099    768                0"
      ]
     },
     "metadata": {},
     "output_type": "display_data"
    }
   ],
   "source": [
    "library(stringr)\n",
    "re %>%\n",
    "filter(!str_detect(customer_id, '^Z')) %>%\n",
    "group_by(customer_id) %>%\n",
    "summarise(amount = sum(amount, na.rm = TRUE)) %>%\n",
    "mutate(amount_over_2000 = ifelse(amount>2000,1,0)) %>%\n",
    "head(10)"
   ]
  },
  {
   "cell_type": "markdown",
   "metadata": {},
   "source": [
    "### R-053:\n",
    "顧客データ（df_customer）の郵便番号（postal_cd）に対し、東京（先頭3桁が100〜209のもの）を1、それ以外のものを0に二値化せよ。さらにレシート明細データ（df_receipt）と結合し、全期間において売上実績のある顧客数を、作成した二値ごとにカウントせよ。"
   ]
  },
  {
   "cell_type": "code",
   "execution_count": 86,
   "metadata": {
    "vscode": {
     "languageId": "r"
    }
   },
   "outputs": [
    {
     "data": {
      "text/plain": [
       "\u001b[90m# Source:   lazy query [?? x 2]\u001b[39m\n",
       "\u001b[90m# Database: postgres 12.0.11 [@localhost:5432/knock100]\u001b[39m\n",
       "  is_tokyo amount\n",
       "     \u001b[3m\u001b[90m<dbl>\u001b[39m\u001b[23m  \u001b[3m\u001b[90m<dbl>\u001b[39m\u001b[23m\n",
       "\u001b[90m1\u001b[39m        0   \u001b[4m3\u001b[24m906\n",
       "\u001b[90m2\u001b[39m        1   \u001b[4m4\u001b[24m400"
      ]
     },
     "metadata": {},
     "output_type": "display_data"
    }
   ],
   "source": [
    "cu = tbl(con,'customer')\n",
    "\n",
    "cu %>% mutate(is_tokyo = dplyr::between(substr(postal_cd,1,3) %>% as.integer(),100,209) %>% ifelse(1,0)) %>%\n",
    "inner_join(re, by = 'customer_id') %>%\n",
    "group_by(is_tokyo) %>%\n",
    "summarise(amount=n_distinct(customer_id)) %>% head"
   ]
  },
  {
   "cell_type": "markdown",
   "metadata": {},
   "source": [
    "### R-054:\n",
    "顧客データ（df_customer）の住所（address）は、埼玉県、千葉県、東京都、神奈川県のいずれかとなっている。都道府県毎にコード値を作成し、顧客ID、住所とともに10件表示せよ。値は埼玉県を11、千葉県を12、東京都を13、神奈川県を14とすること。"
   ]
  },
  {
   "cell_type": "code",
   "execution_count": 12,
   "metadata": {
    "vscode": {
     "languageId": "r"
    }
   },
   "outputs": [
    {
     "data": {
      "text/plain": [
       "\u001b[90m# Source:   lazy query [?? x 3]\u001b[39m\n",
       "\u001b[90m# Database: postgres 12.0.11 [@localhost:5432/knock100]\u001b[39m\n",
       "  customer_id    address                            prefecture_cd\n",
       "  \u001b[3m\u001b[90m<chr>\u001b[39m\u001b[23m          \u001b[3m\u001b[90m<chr>\u001b[39m\u001b[23m                              \u001b[3m\u001b[90m<chr>\u001b[39m\u001b[23m        \n",
       "\u001b[90m1\u001b[39m CS021313000114 神奈川県伊勢原市粟窪**********     14           \n",
       "\u001b[90m2\u001b[39m CS037613000071 東京都江東区南砂**********         13           \n",
       "\u001b[90m3\u001b[39m CS031415000172 東京都渋谷区代々木**********       13           \n",
       "\u001b[90m4\u001b[39m CS028811000001 神奈川県横浜市泉区和泉町********** 14           \n",
       "\u001b[90m5\u001b[39m CS001215000145 東京都大田区仲六郷**********       13           \n",
       "\u001b[90m6\u001b[39m CS020401000016 東京都板橋区若木**********         13           "
      ]
     },
     "metadata": {},
     "output_type": "display_data"
    }
   ],
   "source": [
    "cu %>%\n",
    "mutate(prefecture_cd =\n",
    "\t\tcase_when(\n",
    "\t\t\tsubstr(address,1,2) == '埼玉' ~ '11',\n",
    "\t\t\tsubstr(address,1,2) == '千葉' ~ '12',\n",
    "\t\t\tsubstr(address,1,2) == '東京' ~ '13',\n",
    "\t\t\tsubstr(address,1,3) == '神奈川' ~ '14'\n",
    "\t\t)) %>%\n",
    "select(customer_id, address, prefecture_cd) %>%\n",
    "head"
   ]
  },
  {
   "cell_type": "markdown",
   "metadata": {},
   "source": [
    "### R-055:\n",
    "レシート明細（df_receipt）データの売上金額（amount）を顧客ID（customer_id）ごとに合計し、その合計金額の四分位点を求めよ。その上で、顧客ごとの売上金額合計に対して以下の基準でカテゴリ値を作成し、顧客ID、売上金額合計とともに10件表示せよ。カテゴリ値は順に1〜4とする。\n",
    "- 最小値以上第1四分位未満 ・・・ 1を付与\n",
    "- 第1四分位以上第2四分位未満 ・・・ 2を付与\n",
    "- 第2四分位以上第3四分位未満 ・・・ 3を付与\n",
    "- 第3四分位以上 ・・・ 4を付与"
   ]
  },
  {
   "cell_type": "code",
   "execution_count": 13,
   "metadata": {
    "vscode": {
     "languageId": "r"
    }
   },
   "outputs": [
    {
     "data": {
      "text/html": [
       "<table class=\"dataframe\">\n",
       "<caption>A tibble: 6 × 3</caption>\n",
       "<thead>\n",
       "\t<tr><th scope=col>customer_id</th><th scope=col>amount</th><th scope=col>pct_group</th></tr>\n",
       "\t<tr><th scope=col>&lt;chr&gt;</th><th scope=col>&lt;int&gt;</th><th scope=col>&lt;dbl&gt;</th></tr>\n",
       "</thead>\n",
       "<tbody>\n",
       "\t<tr><td>CS001113000004</td><td>1298</td><td>2</td></tr>\n",
       "\t<tr><td>CS001114000005</td><td> 626</td><td>2</td></tr>\n",
       "\t<tr><td>CS001115000010</td><td>3044</td><td>3</td></tr>\n",
       "\t<tr><td>CS001205000004</td><td>1988</td><td>3</td></tr>\n",
       "\t<tr><td>CS001205000006</td><td>3337</td><td>3</td></tr>\n",
       "\t<tr><td>CS001211000025</td><td> 456</td><td>1</td></tr>\n",
       "</tbody>\n",
       "</table>\n"
      ],
      "text/latex": [
       "A tibble: 6 × 3\n",
       "\\begin{tabular}{lll}\n",
       " customer\\_id & amount & pct\\_group\\\\\n",
       " <chr> & <int> & <dbl>\\\\\n",
       "\\hline\n",
       "\t CS001113000004 & 1298 & 2\\\\\n",
       "\t CS001114000005 &  626 & 2\\\\\n",
       "\t CS001115000010 & 3044 & 3\\\\\n",
       "\t CS001205000004 & 1988 & 3\\\\\n",
       "\t CS001205000006 & 3337 & 3\\\\\n",
       "\t CS001211000025 &  456 & 1\\\\\n",
       "\\end{tabular}\n"
      ],
      "text/markdown": [
       "\n",
       "A tibble: 6 × 3\n",
       "\n",
       "| customer_id &lt;chr&gt; | amount &lt;int&gt; | pct_group &lt;dbl&gt; |\n",
       "|---|---|---|\n",
       "| CS001113000004 | 1298 | 2 |\n",
       "| CS001114000005 |  626 | 2 |\n",
       "| CS001115000010 | 3044 | 3 |\n",
       "| CS001205000004 | 1988 | 3 |\n",
       "| CS001205000006 | 3337 | 3 |\n",
       "| CS001211000025 |  456 | 1 |\n",
       "\n"
      ],
      "text/plain": [
       "  customer_id    amount pct_group\n",
       "1 CS001113000004 1298   2        \n",
       "2 CS001114000005  626   2        \n",
       "3 CS001115000010 3044   3        \n",
       "4 CS001205000004 1988   3        \n",
       "5 CS001205000006 3337   3        \n",
       "6 CS001211000025  456   1        "
      ]
     },
     "metadata": {},
     "output_type": "display_data"
    }
   ],
   "source": [
    "# assume data are in local machine\n",
    "rel = DBI::dbReadTable(con, \"receipt\")\n",
    "rel %>%\n",
    "group_by(customer_id) %>%\n",
    "summarise(amount = sum(amount, na.rm = TRUE)) %>%\n",
    "mutate(pct_group = \n",
    "\t\tcase_when(\n",
    "\t\t\tamount < quantile(amount)[2] ~ 1\n",
    "\t\t\t,amount < quantile(amount)[3] ~ 2\n",
    "\t\t\t,amount < quantile(amount)[4] ~ 3\n",
    "\t\t\t,quantile(amount)[4] <= amount ~ 4\n",
    "\t\t)) %>%\n",
    "head"
   ]
  },
  {
   "cell_type": "code",
   "execution_count": null,
   "metadata": {
    "vscode": {
     "languageId": "r"
    }
   },
   "outputs": [],
   "source": [
    "re %>%\n",
    "group_by(customer_id) %>%\n",
    "summarise(amount = sum(amount, na.rm = TRUE)) %>%\n",
    "mutate(pct_group = 4) %>%\n",
    "mutate_at(pct_group,function(x){})\n",
    "head"
   ]
  },
  {
   "cell_type": "markdown",
   "metadata": {},
   "source": [
    "### R-056:\n",
    "顧客データ（df_customer）の年齢（age）をもとに10歳刻みで年代を算出し、顧客ID（customer_id）、生年月日（birth_day）とともに10件表示せよ。ただし、60歳以上は全て60歳代とすること。年代を表すカテゴリ名は任意とする。"
   ]
  },
  {
   "cell_type": "code",
   "execution_count": 90,
   "metadata": {
    "vscode": {
     "languageId": "r"
    }
   },
   "outputs": [
    {
     "data": {
      "text/plain": [
       "\u001b[90m# Source:   lazy query [?? x 3]\u001b[39m\n",
       "\u001b[90m# Database: postgres 12.0.11 [@localhost:5432/knock100]\u001b[39m\n",
       "  customer_id    birth_day  generation\n",
       "  \u001b[3m\u001b[90m<chr>\u001b[39m\u001b[23m          \u001b[3m\u001b[90m<date>\u001b[39m\u001b[23m          \u001b[3m\u001b[90m<dbl>\u001b[39m\u001b[23m\n",
       "\u001b[90m1\u001b[39m CS021313000114 1981-04-29         30\n",
       "\u001b[90m2\u001b[39m CS037613000071 1952-04-01         60\n",
       "\u001b[90m3\u001b[39m CS031415000172 1976-10-04         40\n",
       "\u001b[90m4\u001b[39m CS028811000001 1933-03-27         60\n",
       "\u001b[90m5\u001b[39m CS001215000145 1995-03-29         20\n",
       "\u001b[90m6\u001b[39m CS020401000016 1974-09-15         40"
      ]
     },
     "metadata": {},
     "output_type": "display_data"
    }
   ],
   "source": [
    "cu %>%\n",
    "mutate(generation = ifelse(age>=60, 60, age-age%%10)) -> customer_generation\n",
    "\n",
    "customer_generation %>% \n",
    "select(customer_id, birth_day, generation) %>%\n",
    "head"
   ]
  },
  {
   "cell_type": "markdown",
   "metadata": {},
   "source": [
    "### R-057:\n",
    "056の抽出結果と性別コード（gender_cd）により、新たに性別×年代の組み合わせを表すカテゴリデータを作成し、10件表示せよ。組み合わせを表すカテゴリの値は任意とする。"
   ]
  },
  {
   "cell_type": "code",
   "execution_count": 91,
   "metadata": {
    "vscode": {
     "languageId": "r"
    }
   },
   "outputs": [
    {
     "data": {
      "text/plain": [
       "\u001b[90m# Source:   lazy query [?? x 6]\u001b[39m\n",
       "\u001b[90m# Database: postgres 12.0.11 [@localhost:5432/knock100]\u001b[39m\n",
       "  customer_id    gender_cd gender   age generation gender_generation\n",
       "  \u001b[3m\u001b[90m<chr>\u001b[39m\u001b[23m              \u001b[3m\u001b[90m<int>\u001b[39m\u001b[23m \u001b[3m\u001b[90m<chr>\u001b[39m\u001b[23m  \u001b[3m\u001b[90m<int>\u001b[39m\u001b[23m      \u001b[3m\u001b[90m<dbl>\u001b[39m\u001b[23m             \u001b[3m\u001b[90m<dbl>\u001b[39m\u001b[23m\n",
       "\u001b[90m1\u001b[39m CS021313000114         1 女性      37         30                31\n",
       "\u001b[90m2\u001b[39m CS037613000071         9 不明      66         60                69\n",
       "\u001b[90m3\u001b[39m CS031415000172         1 女性      42         40                41\n",
       "\u001b[90m4\u001b[39m CS028811000001         1 女性      86         60                61\n",
       "\u001b[90m5\u001b[39m CS001215000145         1 女性      24         20                21\n",
       "\u001b[90m6\u001b[39m CS020401000016         0 男性      44         40                40"
      ]
     },
     "metadata": {},
     "output_type": "display_data"
    }
   ],
   "source": [
    "generation %>%\n",
    "mutate(gender_generation = gender_cd + generation) %>%\n",
    "select(customer_id, gender_cd, gender, age, generation, gender_generation) %>%\n",
    "head"
   ]
  },
  {
   "cell_type": "markdown",
   "metadata": {},
   "source": [
    "### R-058:\n",
    "顧客データ（df_customer）の性別コード（gender_cd）をダミー変数化し、顧客ID（customer_id）とともに10件表示せよ。"
   ]
  },
  {
   "cell_type": "code",
   "execution_count": 16,
   "metadata": {
    "vscode": {
     "languageId": "r"
    }
   },
   "outputs": [
    {
     "name": "stderr",
     "output_type": "stream",
     "text": [
      "Warning message in system(\"timedatectl\", intern = TRUE):\n",
      "“running command 'timedatectl' had status 1”\n",
      "\n",
      "Attaching package: ‘recipes’\n",
      "\n",
      "\n",
      "The following object is masked from ‘package:stringr’:\n",
      "\n",
      "    fixed\n",
      "\n",
      "\n",
      "The following object is masked from ‘package:stats’:\n",
      "\n",
      "    step\n",
      "\n",
      "\n",
      "── \u001b[1mAttaching packages\u001b[22m ────────────────────────────────────── tidymodels 0.2.0 ──\n",
      "\n",
      "\u001b[32m✔\u001b[39m \u001b[34mbroom       \u001b[39m 0.8.0     \u001b[32m✔\u001b[39m \u001b[34mrsample     \u001b[39m 0.1.1\n",
      "\u001b[32m✔\u001b[39m \u001b[34mdials       \u001b[39m 0.1.1     \u001b[32m✔\u001b[39m \u001b[34mtibble      \u001b[39m 3.1.7\n",
      "\u001b[32m✔\u001b[39m \u001b[34mggplot2     \u001b[39m 3.3.6     \u001b[32m✔\u001b[39m \u001b[34mtune        \u001b[39m 0.2.0\n",
      "\u001b[32m✔\u001b[39m \u001b[34minfer       \u001b[39m 1.0.0     \u001b[32m✔\u001b[39m \u001b[34mworkflows   \u001b[39m 0.2.6\n",
      "\u001b[32m✔\u001b[39m \u001b[34mmodeldata   \u001b[39m 0.1.1     \u001b[32m✔\u001b[39m \u001b[34mworkflowsets\u001b[39m 0.2.1\n",
      "\u001b[32m✔\u001b[39m \u001b[34mparsnip     \u001b[39m 0.2.1     \u001b[32m✔\u001b[39m \u001b[34myardstick   \u001b[39m 0.0.9\n",
      "\u001b[32m✔\u001b[39m \u001b[34mpurrr       \u001b[39m 0.3.4     \n",
      "\n",
      "── \u001b[1mConflicts\u001b[22m ───────────────────────────────────────── tidymodels_conflicts() ──\n",
      "\u001b[31m✖\u001b[39m \u001b[34mpurrr\u001b[39m::\u001b[32mdiscard()\u001b[39m masks \u001b[34mscales\u001b[39m::discard()\n",
      "\u001b[31m✖\u001b[39m \u001b[34mdplyr\u001b[39m::\u001b[32mfilter()\u001b[39m  masks \u001b[34mstats\u001b[39m::filter()\n",
      "\u001b[31m✖\u001b[39m \u001b[34mrecipes\u001b[39m::\u001b[32mfixed()\u001b[39m masks \u001b[34mstringr\u001b[39m::fixed()\n",
      "\u001b[31m✖\u001b[39m \u001b[34mdplyr\u001b[39m::\u001b[32mident()\u001b[39m   masks \u001b[34mdbplyr\u001b[39m::ident()\n",
      "\u001b[31m✖\u001b[39m \u001b[34mdplyr\u001b[39m::\u001b[32mlag()\u001b[39m     masks \u001b[34mstats\u001b[39m::lag()\n",
      "\u001b[31m✖\u001b[39m \u001b[34mdplyr\u001b[39m::\u001b[32msql()\u001b[39m     masks \u001b[34mdbplyr\u001b[39m::sql()\n",
      "\u001b[31m✖\u001b[39m \u001b[34mrecipes\u001b[39m::\u001b[32mstep()\u001b[39m  masks \u001b[34mstats\u001b[39m::step()\n",
      "\u001b[34m•\u001b[39m Learn how to get started at \u001b[32mhttps://www.tidymodels.org/start/\u001b[39m\n",
      "\n"
     ]
    },
    {
     "data": {
      "text/html": [
       "<table class=\"dataframe\">\n",
       "<caption>A tibble: 10 × 4</caption>\n",
       "<thead>\n",
       "\t<tr><th scope=col>customer_id</th><th scope=col>gender_cd_X0</th><th scope=col>gender_cd_X1</th><th scope=col>gender_cd_X9</th></tr>\n",
       "\t<tr><th scope=col>&lt;fct&gt;</th><th scope=col>&lt;dbl&gt;</th><th scope=col>&lt;dbl&gt;</th><th scope=col>&lt;dbl&gt;</th></tr>\n",
       "</thead>\n",
       "<tbody>\n",
       "\t<tr><td>CS021313000114</td><td>0</td><td>1</td><td>0</td></tr>\n",
       "\t<tr><td>CS037613000071</td><td>0</td><td>0</td><td>1</td></tr>\n",
       "\t<tr><td>CS031415000172</td><td>0</td><td>1</td><td>0</td></tr>\n",
       "\t<tr><td>CS028811000001</td><td>0</td><td>1</td><td>0</td></tr>\n",
       "\t<tr><td>CS001215000145</td><td>0</td><td>1</td><td>0</td></tr>\n",
       "\t<tr><td>CS020401000016</td><td>1</td><td>0</td><td>0</td></tr>\n",
       "\t<tr><td>CS015414000103</td><td>0</td><td>1</td><td>0</td></tr>\n",
       "\t<tr><td>CS029403000008</td><td>1</td><td>0</td><td>0</td></tr>\n",
       "\t<tr><td>CS015804000004</td><td>1</td><td>0</td><td>0</td></tr>\n",
       "\t<tr><td>CS033513000180</td><td>0</td><td>1</td><td>0</td></tr>\n",
       "</tbody>\n",
       "</table>\n"
      ],
      "text/latex": [
       "A tibble: 10 × 4\n",
       "\\begin{tabular}{llll}\n",
       " customer\\_id & gender\\_cd\\_X0 & gender\\_cd\\_X1 & gender\\_cd\\_X9\\\\\n",
       " <fct> & <dbl> & <dbl> & <dbl>\\\\\n",
       "\\hline\n",
       "\t CS021313000114 & 0 & 1 & 0\\\\\n",
       "\t CS037613000071 & 0 & 0 & 1\\\\\n",
       "\t CS031415000172 & 0 & 1 & 0\\\\\n",
       "\t CS028811000001 & 0 & 1 & 0\\\\\n",
       "\t CS001215000145 & 0 & 1 & 0\\\\\n",
       "\t CS020401000016 & 1 & 0 & 0\\\\\n",
       "\t CS015414000103 & 0 & 1 & 0\\\\\n",
       "\t CS029403000008 & 1 & 0 & 0\\\\\n",
       "\t CS015804000004 & 1 & 0 & 0\\\\\n",
       "\t CS033513000180 & 0 & 1 & 0\\\\\n",
       "\\end{tabular}\n"
      ],
      "text/markdown": [
       "\n",
       "A tibble: 10 × 4\n",
       "\n",
       "| customer_id &lt;fct&gt; | gender_cd_X0 &lt;dbl&gt; | gender_cd_X1 &lt;dbl&gt; | gender_cd_X9 &lt;dbl&gt; |\n",
       "|---|---|---|---|\n",
       "| CS021313000114 | 0 | 1 | 0 |\n",
       "| CS037613000071 | 0 | 0 | 1 |\n",
       "| CS031415000172 | 0 | 1 | 0 |\n",
       "| CS028811000001 | 0 | 1 | 0 |\n",
       "| CS001215000145 | 0 | 1 | 0 |\n",
       "| CS020401000016 | 1 | 0 | 0 |\n",
       "| CS015414000103 | 0 | 1 | 0 |\n",
       "| CS029403000008 | 1 | 0 | 0 |\n",
       "| CS015804000004 | 1 | 0 | 0 |\n",
       "| CS033513000180 | 0 | 1 | 0 |\n",
       "\n"
      ],
      "text/plain": [
       "   customer_id    gender_cd_X0 gender_cd_X1 gender_cd_X9\n",
       "1  CS021313000114 0            1            0           \n",
       "2  CS037613000071 0            0            1           \n",
       "3  CS031415000172 0            1            0           \n",
       "4  CS028811000001 0            1            0           \n",
       "5  CS001215000145 0            1            0           \n",
       "6  CS020401000016 1            0            0           \n",
       "7  CS015414000103 0            1            0           \n",
       "8  CS029403000008 1            0            0           \n",
       "9  CS015804000004 1            0            0           \n",
       "10 CS033513000180 0            1            0           "
      ]
     },
     "metadata": {},
     "output_type": "display_data"
    }
   ],
   "source": [
    "cul = DBI::dbReadTable(con, \"customer\")\n",
    "\n",
    "library(recipes)\n",
    "library(tidymodels)\n",
    "\n",
    "cul %>%\n",
    "  transmute(customer_id, gender_cd = factor(gender_cd)) %>%\n",
    "  recipe() %>%\n",
    "  step_dummy(gender_cd, one_hot = T) %>%\n",
    "  prep() %>%\n",
    "  juice() %>%\n",
    "  head(10)"
   ]
  },
  {
   "cell_type": "code",
   "execution_count": 17,
   "metadata": {
    "vscode": {
     "languageId": "r"
    }
   },
   "outputs": [
    {
     "data": {
      "text/plain": [
       "\u001b[90m# Source:   lazy query [?? x 5]\u001b[39m\n",
       "\u001b[90m# Database: postgres 12.0.11 [@localhost:5432/knock100]\u001b[39m\n",
       "   customer_id    gender_cd female unknown  male\n",
       "   \u001b[3m\u001b[90m<chr>\u001b[39m\u001b[23m          \u001b[3m\u001b[90m<chr>\u001b[39m\u001b[23m      \u001b[3m\u001b[90m<int>\u001b[39m\u001b[23m   \u001b[3m\u001b[90m<int>\u001b[39m\u001b[23m \u001b[3m\u001b[90m<int>\u001b[39m\u001b[23m\n",
       "\u001b[90m 1\u001b[39m CS001105000001 male           0       0     1\n",
       "\u001b[90m 2\u001b[39m CS001112000009 female         1       0     0\n",
       "\u001b[90m 3\u001b[39m CS001112000019 female         1       0     0\n",
       "\u001b[90m 4\u001b[39m CS001112000021 female         1       0     0\n",
       "\u001b[90m 5\u001b[39m CS001112000023 female         1       0     0\n",
       "\u001b[90m 6\u001b[39m CS001112000024 female         1       0     0\n",
       "\u001b[90m 7\u001b[39m CS001112000029 female         1       0     0\n",
       "\u001b[90m 8\u001b[39m CS001112000030 female         1       0     0\n",
       "\u001b[90m 9\u001b[39m CS001113000004 female         1       0     0\n",
       "\u001b[90m10\u001b[39m CS001113000010 female         1       0     0"
      ]
     },
     "metadata": {},
     "output_type": "display_data"
    }
   ],
   "source": [
    "cu %>% \n",
    "transmute(customer_id, gender_cd = \n",
    "\t\tcase_when(\n",
    "\t\t\tgender_cd == 1~'female',\n",
    "\t\t\tgender_cd == 0~'male',\n",
    "\t\t\tgender_cd == 9~'unknown'\n",
    "\t\t)) %>%\n",
    "mutate(name = gender_cd, value = 1L) %>%\n",
    "pivot_wider(values_fill = 0L) %>%\n",
    "head(10)"
   ]
  },
  {
   "cell_type": "code",
   "execution_count": 95,
   "metadata": {
    "vscode": {
     "languageId": "r"
    }
   },
   "outputs": [
    {
     "data": {
      "text/plain": [
       "\u001b[90m# Source:   lazy query [?? x 4]\u001b[39m\n",
       "\u001b[90m# Database: postgres 12.0.11 [@localhost:5432/knock100]\u001b[39m\n",
       "   customer_id    gender_cd0 gender_cd9 gender_cd1\n",
       "   \u001b[3m\u001b[90m<chr>\u001b[39m\u001b[23m               \u001b[3m\u001b[90m<dbl>\u001b[39m\u001b[23m      \u001b[3m\u001b[90m<dbl>\u001b[39m\u001b[23m      \u001b[3m\u001b[90m<dbl>\u001b[39m\u001b[23m\n",
       "\u001b[90m 1\u001b[39m CS001105000001          1          0          0\n",
       "\u001b[90m 2\u001b[39m CS001112000009          0          0          1\n",
       "\u001b[90m 3\u001b[39m CS001112000019          0          0          1\n",
       "\u001b[90m 4\u001b[39m CS001112000021          0          0          1\n",
       "\u001b[90m 5\u001b[39m CS001112000023          0          0          1\n",
       "\u001b[90m 6\u001b[39m CS001112000024          0          0          1\n",
       "\u001b[90m 7\u001b[39m CS001112000029          0          0          1\n",
       "\u001b[90m 8\u001b[39m CS001112000030          0          0          1\n",
       "\u001b[90m 9\u001b[39m CS001113000004          0          0          1\n",
       "\u001b[90m10\u001b[39m CS001113000010          0          0          1\n",
       "\u001b[90m# … with more rows\u001b[39m"
      ]
     },
     "metadata": {},
     "output_type": "display_data"
    }
   ],
   "source": [
    "cu %>% select(customer_id, gender_cd) %>%\n",
    "mutate(value = 1) %>%\n",
    "pivot_wider(names_from = gender_cd, names_prefix = 'gender_cd' ,values_from = value, values_fill = 0) "
   ]
  },
  {
   "cell_type": "markdown",
   "metadata": {},
   "source": [
    "### R-059:\n",
    "レシート明細データ（df_receipt）の売上金額（amount）を顧客ID（customer_id）ごとに合計し、売上金額合計を平均0、標準偏差1に標準化して顧客ID、売上金額合計とともに10件表示せよ。標準化に使用する標準偏差は、分散の平方根、もしくは不偏分散の平方根のどちらでも良いものとする。ただし、顧客IDが\"Z\"から始まるのものは非会員を表すため、除外して計算すること。"
   ]
  },
  {
   "cell_type": "code",
   "execution_count": 96,
   "metadata": {
    "vscode": {
     "languageId": "r"
    }
   },
   "outputs": [
    {
     "name": "stderr",
     "output_type": "stream",
     "text": [
      "Warning message:\n",
      "“Named arguments ignored for SQL scale”\n",
      "ERROR while rich displaying an object: Error in postgresqlExecStatement(conn, statement, ...): RS-DBI driver: (\u0010\u0003<af>OlU)\n",
      "\n",
      "Traceback:\n",
      "1. tryCatch(withCallingHandlers({\n",
      " .     if (!mime %in% names(repr::mime2repr)) \n",
      " .         stop(\"No repr_* for mimetype \", mime, \" in repr::mime2repr\")\n",
      " .     rpr <- repr::mime2repr[[mime]](obj)\n",
      " .     if (is.null(rpr)) \n",
      " .         return(NULL)\n",
      " .     prepare_content(is.raw(rpr), rpr)\n",
      " . }, error = error_handler), error = outer_handler)\n",
      "2. tryCatchList(expr, classes, parentenv, handlers)\n",
      "3. tryCatchOne(expr, names, parentenv, handlers[[1L]])\n",
      "4. doTryCatch(return(expr), name, parentenv, handler)\n",
      "5. withCallingHandlers({\n",
      " .     if (!mime %in% names(repr::mime2repr)) \n",
      " .         stop(\"No repr_* for mimetype \", mime, \" in repr::mime2repr\")\n",
      " .     rpr <- repr::mime2repr[[mime]](obj)\n",
      " .     if (is.null(rpr)) \n",
      " .         return(NULL)\n",
      " .     prepare_content(is.raw(rpr), rpr)\n",
      " . }, error = error_handler)\n",
      "6. repr::mime2repr[[mime]](obj)\n",
      "7. repr_text.default(obj)\n",
      "8. paste(capture.output(print(obj)), collapse = \"\\n\")\n",
      "9. capture.output(print(obj))\n",
      "10. withVisible(...elt(i))\n",
      "11. print(obj)\n",
      "12. print.tbl_sql(obj)\n",
      "13. cat_line(format(x, ..., n = n, width = width, n_extra = n_extra))\n",
      "14. cat(paste0(..., \"\\n\"), sep = \"\")\n",
      "15. paste0(..., \"\\n\")\n",
      "16. format(x, ..., n = n, width = width, n_extra = n_extra)\n",
      "17. format.tbl(x, ..., n = n, width = width, n_extra = n_extra)\n",
      "18. format_tbl(x, width, ..., n = n, max_extra_cols = max_extra_cols, \n",
      "  .     max_footer_lines = max_footer_lines)\n",
      "19. tbl_format_setup(x, width = width, ..., n = n, max_extra_cols = max_extra_cols, \n",
      "  .     max_footer_lines = max_footer_lines)\n",
      "20. tbl_format_setup_dispatch(x, width, ..., n = n, max_extra_cols = max_extra_cols, \n",
      "  .     max_footer_lines = max_footer_lines, focus = focus)\n",
      "21. tbl_format_setup.tbl(x, width, ..., n = n, max_extra_cols = max_extra_cols, \n",
      "  .     max_footer_lines = max_footer_lines, focus = focus)\n",
      "22. df_head(x, n + 1)\n",
      "23. as.data.frame(head(x, n))\n",
      "24. as.data.frame.tbl_sql(head(x, n))\n",
      "25. as.data.frame(collect(x, n = n))\n",
      "26. collect(x, n = n)\n",
      "27. collect.tbl_sql(x, n = n)\n",
      "28. db_collect(x$src$con, sql, n = n, warn_incomplete = warn_incomplete)\n",
      "29. db_collect.DBIConnection(x$src$con, sql, n = n, warn_incomplete = warn_incomplete)\n",
      "30. dbSendQuery(con, sql)\n",
      "31. dbSendQuery(con, sql)\n",
      "32. postgresqlExecStatement(conn, statement, ...)\n"
     ]
    }
   ],
   "source": [
    "library(stringr)\n",
    "re %>%\n",
    "filter(!str_detect(customer_id,'^Z')) %>%\n",
    "group_by(customer_id) %>%\n",
    "summarise(amount = sum(amount, na.rm = TRUE)) %>%\n",
    "mutate(std_amount = scale(amount, center = TRUE, scale = TRUE)) %>%\n",
    "head"
   ]
  },
  {
   "cell_type": "code",
   "execution_count": 18,
   "metadata": {
    "vscode": {
     "languageId": "r"
    }
   },
   "outputs": [
    {
     "name": "stderr",
     "output_type": "stream",
     "text": [
      "Warning message:\n",
      "“Missing values are always removed in SQL.\n",
      "Use `AVG(x, na.rm = TRUE)` to silence this warning\n",
      "This warning is displayed only once per session.”\n",
      "Warning message:\n",
      "“Missing values are always removed in SQL.\n",
      "Use `STDDEV_SAMP(x, na.rm = TRUE)` to silence this warning\n",
      "This warning is displayed only once per session.”\n"
     ]
    },
    {
     "data": {
      "text/plain": [
       "\u001b[90m# Source:   lazy query [?? x 3]\u001b[39m\n",
       "\u001b[90m# Database: postgres 12.0.11 [@localhost:5432/knock100]\u001b[39m\n",
       "  customer_id    amount std_amount\n",
       "  \u001b[3m\u001b[90m<chr>\u001b[39m\u001b[23m           \u001b[3m\u001b[90m<dbl>\u001b[39m\u001b[23m      \u001b[3m\u001b[90m<dbl>\u001b[39m\u001b[23m\n",
       "\u001b[90m1\u001b[39m CS001311000059   \u001b[4m2\u001b[24m302    -\u001b[31m0\u001b[39m\u001b[31m.\u001b[39m\u001b[31m0\u001b[39m\u001b[31m90\u001b[4m3\u001b[24m\u001b[39m\n",
       "\u001b[90m2\u001b[39m CS004614000122    248    -\u001b[31m0\u001b[39m\u001b[31m.\u001b[39m\u001b[31m845\u001b[39m \n",
       "\u001b[90m3\u001b[39m CS003512000043    298    -\u001b[31m0\u001b[39m\u001b[31m.\u001b[39m\u001b[31m827\u001b[39m \n",
       "\u001b[90m4\u001b[39m CS011615000061    246    -\u001b[31m0\u001b[39m\u001b[31m.\u001b[39m\u001b[31m846\u001b[39m \n",
       "\u001b[90m5\u001b[39m CS029212000033   \u001b[4m3\u001b[24m604     0.388 \n",
       "\u001b[90m6\u001b[39m CS007515000119   \u001b[4m7\u001b[24m157     1.69  "
      ]
     },
     "metadata": {},
     "output_type": "display_data"
    }
   ],
   "source": [
    "library(stringr)\n",
    "re %>%\n",
    "filter(!str_detect(customer_id,'^Z')) %>%\n",
    "group_by(customer_id) %>%\n",
    "summarise(amount = sum(amount, na.rm = TRUE)) %>%\n",
    "mutate(std_amount = (amount - mean(amount))/sd(amount)) %>%\n",
    "head"
   ]
  },
  {
   "cell_type": "markdown",
   "metadata": {},
   "source": [
    "### R-060:\n",
    "レシート明細データ（df_receipt）の売上金額（amount）を顧客ID（customer_id）ごとに合計し、売上金額合計を最小値0、最大値1に正規化して顧客ID、売上金額合計とともに10件表示せよ。ただし、顧客IDが\"Z\"から始まるのものは非会員を表すため、除外して計算すること。"
   ]
  },
  {
   "cell_type": "code",
   "execution_count": 19,
   "metadata": {
    "vscode": {
     "languageId": "r"
    }
   },
   "outputs": [
    {
     "name": "stderr",
     "output_type": "stream",
     "text": [
      "Warning message:\n",
      "“Missing values are always removed in SQL.\n",
      "Use `MIN(x, na.rm = TRUE)` to silence this warning\n",
      "This warning is displayed only once per session.”\n",
      "Warning message:\n",
      "“Missing values are always removed in SQL.\n",
      "Use `MAX(x, na.rm = TRUE)` to silence this warning\n",
      "This warning is displayed only once per session.”\n"
     ]
    },
    {
     "data": {
      "text/plain": [
       "\u001b[90m# Source:   lazy query [?? x 3]\u001b[39m\n",
       "\u001b[90m# Database: postgres 12.0.11 [@localhost:5432/knock100]\u001b[39m\n",
       "   customer_id    amount relative_pos\n",
       "   \u001b[3m\u001b[90m<chr>\u001b[39m\u001b[23m           \u001b[3m\u001b[90m<dbl>\u001b[39m\u001b[23m        \u001b[3m\u001b[90m<dbl>\u001b[39m\u001b[23m\n",
       "\u001b[90m 1\u001b[39m CS001311000059   \u001b[4m2\u001b[24m302      0.097\u001b[4m0\u001b[24m \n",
       "\u001b[90m 2\u001b[39m CS004614000122    248      0.007\u001b[4m7\u001b[24m\u001b[4m3\u001b[24m\n",
       "\u001b[90m 3\u001b[39m CS003512000043    298      0.009\u001b[4m9\u001b[24m\u001b[4m1\u001b[24m\n",
       "\u001b[90m 4\u001b[39m CS011615000061    246      0.007\u001b[4m6\u001b[24m\u001b[4m5\u001b[24m\n",
       "\u001b[90m 5\u001b[39m CS029212000033   \u001b[4m3\u001b[24m604      0.154  \n",
       "\u001b[90m 6\u001b[39m CS007515000119   \u001b[4m7\u001b[24m157      0.308  \n",
       "\u001b[90m 7\u001b[39m CS034515000123   \u001b[4m3\u001b[24m699      0.158  \n",
       "\u001b[90m 8\u001b[39m CS004315000058    490      0.018\u001b[4m2\u001b[24m \n",
       "\u001b[90m 9\u001b[39m CS026414000014   \u001b[4m6\u001b[24m671      0.287  \n",
       "\u001b[90m10\u001b[39m CS001615000099    768      0.030\u001b[4m3\u001b[24m "
      ]
     },
     "metadata": {},
     "output_type": "display_data"
    }
   ],
   "source": [
    "library(stringr)\n",
    "re %>%\n",
    "filter(!str_detect(customer_id, '^Z')) %>%\n",
    "group_by(customer_id) %>%\n",
    "summarise(amount = sum(amount, na.rm = TRUE )) %>%\n",
    "mutate(relative_pos = as.numeric((amount - min(amount)))/(max(amount)-min(amount))) %>%\n",
    "head(10)"
   ]
  },
  {
   "cell_type": "markdown",
   "metadata": {},
   "source": [
    "### R-061:\n",
    "レシート明細データ（df_receipt）の売上金額（amount）を顧客ID（customer_id）ごとに合計し、売上金額合計を常用対数化（底10）して顧客ID、売上金額合計とともに10件表示せよ。ただし、顧客IDが\"Z\"から始まるのものは非会員を表すため、除外して計算すること。"
   ]
  },
  {
   "cell_type": "code",
   "execution_count": 20,
   "metadata": {
    "vscode": {
     "languageId": "r"
    }
   },
   "outputs": [
    {
     "data": {
      "text/plain": [
       "\u001b[90m# Source:   lazy query [?? x 3]\u001b[39m\n",
       "\u001b[90m# Database: postgres 12.0.11 [@localhost:5432/knock100]\u001b[39m\n",
       "  customer_id    amount log_amount\n",
       "  \u001b[3m\u001b[90m<chr>\u001b[39m\u001b[23m           \u001b[3m\u001b[90m<dbl>\u001b[39m\u001b[23m      \u001b[3m\u001b[90m<dbl>\u001b[39m\u001b[23m\n",
       "\u001b[90m1\u001b[39m CS001311000059   \u001b[4m2\u001b[24m302       3.36\n",
       "\u001b[90m2\u001b[39m CS004614000122    248       2.39\n",
       "\u001b[90m3\u001b[39m CS003512000043    298       2.47\n",
       "\u001b[90m4\u001b[39m CS011615000061    246       2.39\n",
       "\u001b[90m5\u001b[39m CS029212000033   \u001b[4m3\u001b[24m604       3.56\n",
       "\u001b[90m6\u001b[39m CS007515000119   \u001b[4m7\u001b[24m157       3.85"
      ]
     },
     "metadata": {},
     "output_type": "display_data"
    }
   ],
   "source": [
    "library(stringr)\n",
    "re %>%\n",
    "filter(!str_detect(customer_id, '^Z')) %>%\n",
    "group_by(customer_id) %>%\n",
    "summarise(amount = sum(amount, na.rm = TRUE )) %>%\n",
    "mutate(log_amount = log10(amount)) %>%\n",
    "head"
   ]
  },
  {
   "cell_type": "markdown",
   "metadata": {},
   "source": [
    "### R-062:\n",
    "レシート明細データ（df_receipt）の売上金額（amount）を顧客ID（customer_id）ごとに合計し、売上金額合計を自然対数化（底e）して顧客ID、売上金額合計とともに10件表示せよ。ただし、顧客IDが\"Z\"から始まるのものは非会員を表すため、除外して計算すること。"
   ]
  },
  {
   "cell_type": "code",
   "execution_count": 21,
   "metadata": {
    "vscode": {
     "languageId": "r"
    }
   },
   "outputs": [
    {
     "data": {
      "text/plain": [
       "\u001b[90m# Source:   lazy query [?? x 3]\u001b[39m\n",
       "\u001b[90m# Database: postgres 12.0.11 [@localhost:5432/knock100]\u001b[39m\n",
       "  customer_id    amount log_amount\n",
       "  \u001b[3m\u001b[90m<chr>\u001b[39m\u001b[23m           \u001b[3m\u001b[90m<dbl>\u001b[39m\u001b[23m      \u001b[3m\u001b[90m<dbl>\u001b[39m\u001b[23m\n",
       "\u001b[90m1\u001b[39m CS001311000059   \u001b[4m2\u001b[24m302       7.74\n",
       "\u001b[90m2\u001b[39m CS004614000122    248       5.51\n",
       "\u001b[90m3\u001b[39m CS003512000043    298       5.70\n",
       "\u001b[90m4\u001b[39m CS011615000061    246       5.51\n",
       "\u001b[90m5\u001b[39m CS029212000033   \u001b[4m3\u001b[24m604       8.19\n",
       "\u001b[90m6\u001b[39m CS007515000119   \u001b[4m7\u001b[24m157       8.88"
      ]
     },
     "metadata": {},
     "output_type": "display_data"
    }
   ],
   "source": [
    "library(stringr)\n",
    "re %>%\n",
    "filter(!str_detect(customer_id, '^Z')) %>%\n",
    "group_by(customer_id) %>%\n",
    "summarise(amount = sum(amount, na.rm = TRUE )) %>%\n",
    "mutate(log_amount = log(amount)) %>%\n",
    "head"
   ]
  },
  {
   "cell_type": "markdown",
   "metadata": {},
   "source": [
    "### R-063:\n",
    "商品データ（df_product）の単価（unit_price）と原価（unit_cost）から各商品の利益額を算出し、結果を10件表示せよ。"
   ]
  },
  {
   "cell_type": "code",
   "execution_count": 22,
   "metadata": {
    "vscode": {
     "languageId": "r"
    }
   },
   "outputs": [
    {
     "data": {
      "text/plain": [
       "\u001b[90m# Source:   lazy query [?? x 4]\u001b[39m\n",
       "\u001b[90m# Database: postgres 12.0.11 [@localhost:5432/knock100]\u001b[39m\n",
       "  product_cd unit_price unit_cost unit_profit\n",
       "  \u001b[3m\u001b[90m<chr>\u001b[39m\u001b[23m           \u001b[3m\u001b[90m<int>\u001b[39m\u001b[23m     \u001b[3m\u001b[90m<int>\u001b[39m\u001b[23m       \u001b[3m\u001b[90m<int>\u001b[39m\u001b[23m\n",
       "\u001b[90m1\u001b[39m P040101001        198       149          49\n",
       "\u001b[90m2\u001b[39m P040101002        218       164          54\n",
       "\u001b[90m3\u001b[39m P040101003        230       173          57\n",
       "\u001b[90m4\u001b[39m P040101004        248       186          62\n",
       "\u001b[90m5\u001b[39m P040101005        268       201          67\n",
       "\u001b[90m6\u001b[39m P040101006        298       224          74"
      ]
     },
     "metadata": {},
     "output_type": "display_data"
    }
   ],
   "source": [
    "product = tbl(con, 'product')\n",
    "product %>%\n",
    "transmute(product_cd, unit_price, unit_cost, unit_profit = unit_price - unit_cost) %>%\n",
    "head"
   ]
  },
  {
   "cell_type": "markdown",
   "metadata": {},
   "source": [
    "### R-064:\n",
    "商品データ（df_product）の単価（unit_price）と原価（unit_cost）から、各商品の利益率の全体平均を算出せよ。ただし、単価と原価には欠損が生じていることに注意せよ。"
   ]
  },
  {
   "cell_type": "code",
   "execution_count": 23,
   "metadata": {
    "vscode": {
     "languageId": "r"
    }
   },
   "outputs": [
    {
     "name": "stderr",
     "output_type": "stream",
     "text": [
      "Warning message:\n",
      "“Missing values are always removed in SQL.\n",
      "Use `MIN(x, na.rm = TRUE)` to silence this warning\n",
      "This warning is displayed only once per session.”\n"
     ]
    },
    {
     "data": {
      "text/plain": [
       "\u001b[90m# Source:   lazy query [?? x 1]\u001b[39m\n",
       "\u001b[90m# Database: postgres 12.0.11 [@localhost:5432/knock100]\u001b[39m\n",
       "  avg_profit_rate\n",
       "            \u001b[3m\u001b[90m<dbl>\u001b[39m\u001b[23m\n",
       "\u001b[90m1\u001b[39m           0.249"
      ]
     },
     "metadata": {},
     "output_type": "display_data"
    }
   ],
   "source": [
    "product %>%\n",
    "mutate(avg_profit_rate = mean(unit_price - unit_cost, na.rm = TRUE)/mean(unit_price)) %>%\n",
    "summarise(avg_profit_rate = min(avg_profit_rate))"
   ]
  },
  {
   "cell_type": "markdown",
   "metadata": {},
   "source": [
    "### R-065:\n",
    "商品データ（df_product）の各商品について、利益率が30%となる新たな単価を求めよ。ただし、1円未満は切り捨てること。そして結果を10件表示させ、利益率がおよそ30％付近であることを確認せよ。ただし、単価（unit_price）と原価（unit_cost）には欠損が生じていることに注意せよ。"
   ]
  },
  {
   "cell_type": "code",
   "execution_count": 24,
   "metadata": {
    "vscode": {
     "languageId": "r"
    }
   },
   "outputs": [
    {
     "data": {
      "text/plain": [
       "\u001b[90m# Source:   lazy query [?? x 5]\u001b[39m\n",
       "\u001b[90m# Database: postgres 12.0.11 [@localhost:5432/knock100]\u001b[39m\n",
       "  product_cd unit_price unit_cost target_price check_rate\n",
       "  \u001b[3m\u001b[90m<chr>\u001b[39m\u001b[23m           \u001b[3m\u001b[90m<int>\u001b[39m\u001b[23m     \u001b[3m\u001b[90m<int>\u001b[39m\u001b[23m        \u001b[3m\u001b[90m<dbl>\u001b[39m\u001b[23m      \u001b[3m\u001b[90m<dbl>\u001b[39m\u001b[23m\n",
       "\u001b[90m1\u001b[39m P040101001        198       149          212      0.297\n",
       "\u001b[90m2\u001b[39m P040101002        218       164          234      0.299\n",
       "\u001b[90m3\u001b[39m P040101003        230       173          247      0.300\n",
       "\u001b[90m4\u001b[39m P040101004        248       186          265      0.298\n",
       "\u001b[90m5\u001b[39m P040101005        268       201          287      0.300\n",
       "\u001b[90m6\u001b[39m P040101006        298       224          320      0.3  "
      ]
     },
     "metadata": {},
     "output_type": "display_data"
    }
   ],
   "source": [
    "product %>%\n",
    "mutate(target_price = trunc(unit_cost/0.7)) %>%\n",
    "select(product_cd, unit_price, unit_cost, target_price) %>%\n",
    "mutate(check_rate = (target_price - unit_cost)/target_price) %>%\n",
    "head"
   ]
  },
  {
   "cell_type": "markdown",
   "metadata": {},
   "source": [
    "### R-066:\n",
    "商品データ（df_product）の各商品について、利益率が30%となる新たな単価を求めよ。今回は、1円未満を丸めること（四捨五入または偶数への丸めで良い）。そして結果を10件表示させ、利益率がおよそ30％付近であることを確認せよ。ただし、単価（unit_price）と原価（unit_cost）には欠損が生じていることに注意せよ。"
   ]
  },
  {
   "cell_type": "code",
   "execution_count": 25,
   "metadata": {
    "vscode": {
     "languageId": "r"
    }
   },
   "outputs": [
    {
     "data": {
      "text/plain": [
       "\u001b[90m# Source:   lazy query [?? x 5]\u001b[39m\n",
       "\u001b[90m# Database: postgres 12.0.11 [@localhost:5432/knock100]\u001b[39m\n",
       "  product_cd unit_price unit_cost target_price check_rate\n",
       "  \u001b[3m\u001b[90m<chr>\u001b[39m\u001b[23m           \u001b[3m\u001b[90m<int>\u001b[39m\u001b[23m     \u001b[3m\u001b[90m<int>\u001b[39m\u001b[23m        \u001b[3m\u001b[90m<dbl>\u001b[39m\u001b[23m      \u001b[3m\u001b[90m<dbl>\u001b[39m\u001b[23m\n",
       "\u001b[90m1\u001b[39m P040101001        198       149          213      0.300\n",
       "\u001b[90m2\u001b[39m P040101002        218       164          234      0.299\n",
       "\u001b[90m3\u001b[39m P040101003        230       173          247      0.300\n",
       "\u001b[90m4\u001b[39m P040101004        248       186          266      0.301\n",
       "\u001b[90m5\u001b[39m P040101005        268       201          287      0.300\n",
       "\u001b[90m6\u001b[39m P040101006        298       224          320      0.3  "
      ]
     },
     "metadata": {},
     "output_type": "display_data"
    }
   ],
   "source": [
    "product %>%\n",
    "mutate(target_price = round(unit_cost/0.7)) %>%\n",
    "select(product_cd, unit_price, unit_cost, target_price) %>%\n",
    "mutate(check_rate = (target_price - unit_cost)/target_price) %>%\n",
    "head"
   ]
  },
  {
   "cell_type": "markdown",
   "metadata": {},
   "source": [
    "### R-067:\n",
    "商品データ（df_product）の各商品について、利益率が30%となる新たな単価を求めよ。今回は、1円未満を切り上げること。そして結果を10件表示させ、利益率がおよそ30％付近であることを確認せよ。ただし、単価（unit_price）と原価（unit_cost）には欠損が生じていることに注意せよ。"
   ]
  },
  {
   "cell_type": "code",
   "execution_count": 26,
   "metadata": {
    "vscode": {
     "languageId": "r"
    }
   },
   "outputs": [
    {
     "data": {
      "text/plain": [
       "\u001b[90m# Source:   lazy query [?? x 5]\u001b[39m\n",
       "\u001b[90m# Database: postgres 12.0.11 [@localhost:5432/knock100]\u001b[39m\n",
       "  product_cd unit_price unit_cost target_price check_rate\n",
       "  \u001b[3m\u001b[90m<chr>\u001b[39m\u001b[23m           \u001b[3m\u001b[90m<int>\u001b[39m\u001b[23m     \u001b[3m\u001b[90m<int>\u001b[39m\u001b[23m        \u001b[3m\u001b[90m<dbl>\u001b[39m\u001b[23m      \u001b[3m\u001b[90m<dbl>\u001b[39m\u001b[23m\n",
       "\u001b[90m1\u001b[39m P040101001        198       149          213      0.300\n",
       "\u001b[90m2\u001b[39m P040101002        218       164          235      0.302\n",
       "\u001b[90m3\u001b[39m P040101003        230       173          248      0.302\n",
       "\u001b[90m4\u001b[39m P040101004        248       186          266      0.301\n",
       "\u001b[90m5\u001b[39m P040101005        268       201          288      0.302\n",
       "\u001b[90m6\u001b[39m P040101006        298       224          320      0.3  "
      ]
     },
     "metadata": {},
     "output_type": "display_data"
    }
   ],
   "source": [
    "product %>%\n",
    "mutate(target_price = ceiling(unit_cost/0.7)) %>%\n",
    "select(product_cd, unit_price, unit_cost, target_price) %>%\n",
    "mutate(check_rate = (target_price - unit_cost)/target_price) %>%\n",
    "head"
   ]
  },
  {
   "cell_type": "markdown",
   "metadata": {},
   "source": [
    "### R-068:\n",
    "商品データ（df_product）の各商品について、消費税率10％の税込み金額を求めよ。1円未満の端数は切り捨てとし、結果を10件表示せよ。ただし、単価（unit_price）には欠損が生じていることに注意せよ。"
   ]
  },
  {
   "cell_type": "code",
   "execution_count": 27,
   "metadata": {
    "vscode": {
     "languageId": "r"
    }
   },
   "outputs": [
    {
     "data": {
      "text/plain": [
       "\u001b[90m# Source:   lazy query [?? x 2]\u001b[39m\n",
       "\u001b[90m# Database: postgres 12.0.11 [@localhost:5432/knock100]\u001b[39m\n",
       "  unit_price price_taxin\n",
       "       \u001b[3m\u001b[90m<int>\u001b[39m\u001b[23m       \u001b[3m\u001b[90m<dbl>\u001b[39m\u001b[23m\n",
       "\u001b[90m1\u001b[39m        198         217\n",
       "\u001b[90m2\u001b[39m        218         239\n",
       "\u001b[90m3\u001b[39m        230         253\n",
       "\u001b[90m4\u001b[39m        248         272\n",
       "\u001b[90m5\u001b[39m        268         294\n",
       "\u001b[90m6\u001b[39m        298         327"
      ]
     },
     "metadata": {},
     "output_type": "display_data"
    }
   ],
   "source": [
    "product %>%\n",
    "mutate(price_taxin = trunc(1.1 * unit_price)) %>%\n",
    "select(unit_price, price_taxin) %>%\n",
    "head"
   ]
  },
  {
   "cell_type": "markdown",
   "metadata": {},
   "source": [
    "### R-069:\n",
    "レシート明細データ（df_receipt）と商品データ（df_product）を結合し、顧客毎に全商品の売上金額合計と、カテゴリ大区分コード（category_major_cd）が\"07\"（瓶詰缶詰）の売上金額合計を計算の上、両者の比率を求めよ。抽出対象はカテゴリ大区分コード\"07\"（瓶詰缶詰）の売上実績がある顧客のみとし、結果を10件表示せよ。"
   ]
  },
  {
   "cell_type": "code",
   "execution_count": 28,
   "metadata": {
    "vscode": {
     "languageId": "r"
    }
   },
   "outputs": [
    {
     "data": {
      "text/plain": [
       "\u001b[90m# Source:   lazy query [?? x 4]\u001b[39m\n",
       "\u001b[90m# Database: postgres 12.0.11 [@localhost:5432/knock100]\u001b[39m\n",
       "   customer_id    amount_canned amount_total canned_ratio\n",
       "   \u001b[3m\u001b[90m<chr>\u001b[39m\u001b[23m                  \u001b[3m\u001b[90m<dbl>\u001b[39m\u001b[23m        \u001b[3m\u001b[90m<dbl>\u001b[39m\u001b[23m        \u001b[3m\u001b[90m<dbl>\u001b[39m\u001b[23m\n",
       "\u001b[90m 1\u001b[39m CS001113000004          \u001b[4m1\u001b[24m298         \u001b[4m1\u001b[24m298        1    \n",
       "\u001b[90m 2\u001b[39m CS001114000005           486          626        0.776\n",
       "\u001b[90m 3\u001b[39m CS001115000010          \u001b[4m2\u001b[24m694         \u001b[4m3\u001b[24m044        0.885\n",
       "\u001b[90m 4\u001b[39m CS001205000004           346         \u001b[4m1\u001b[24m988        0.174\n",
       "\u001b[90m 5\u001b[39m CS001205000006          \u001b[4m2\u001b[24m004         \u001b[4m3\u001b[24m337        0.601\n",
       "\u001b[90m 6\u001b[39m CS001212000027           200          448        0.446\n",
       "\u001b[90m 7\u001b[39m CS001212000031           296          296        1    \n",
       "\u001b[90m 8\u001b[39m CS001212000046           108          228        0.474\n",
       "\u001b[90m 9\u001b[39m CS001212000070           308          456        0.675\n",
       "\u001b[90m10\u001b[39m CS001213000018           145          243        0.597"
      ]
     },
     "metadata": {},
     "output_type": "display_data"
    }
   ],
   "source": [
    "re %>%\n",
    "inner_join(product, by = 'product_cd') %>% \n",
    "group_by(customer_id) %>%\n",
    "summarise(amount_canned = sum(ifelse(category_major_cd == '07',amount, 0), na.rm = TRUE ), amount_total = sum(amount)) %>%\n",
    "filter(amount_canned > 0) %>%\n",
    "mutate(canned_ratio = as.numeric(amount_canned) / amount_total) %>%\n",
    "head(10)"
   ]
  },
  {
   "cell_type": "markdown",
   "metadata": {},
   "source": [
    "### R-070:\n",
    "レシート明細データ（df_receipt）の売上日（sales_ymd）に対し、顧客データ（df_customer）の会員申込日（application_date）からの経過日数を計算し、顧客ID（customer_id）、売上日、会員申込日とともに10件表示せよ（sales_ymdは数値、application_dateは文字列でデータを保持している点に注意）。"
   ]
  },
  {
   "cell_type": "code",
   "execution_count": 29,
   "metadata": {
    "vscode": {
     "languageId": "r"
    }
   },
   "outputs": [
    {
     "data": {
      "text/plain": [
       "\u001b[90m# Source:   lazy query [?? x 4]\u001b[39m\n",
       "\u001b[90m# Database: postgres 12.0.11 [@localhost:5432/knock100]\u001b[39m\n",
       "  customer_id    application_date sales_ymd  elapsed_days\n",
       "  \u001b[3m\u001b[90m<chr>\u001b[39m\u001b[23m          \u001b[3m\u001b[90m<date>\u001b[39m\u001b[23m           \u001b[3m\u001b[90m<date>\u001b[39m\u001b[23m            \u001b[3m\u001b[90m<int>\u001b[39m\u001b[23m\n",
       "\u001b[90m1\u001b[39m CS006214000001 2015-02-01       2018-11-03         \u001b[4m1\u001b[24m371\n",
       "\u001b[90m2\u001b[39m CS008415000097 2015-03-22       2018-11-18         \u001b[4m1\u001b[24m337\n",
       "\u001b[90m3\u001b[39m CS028414000014 2015-07-11       2017-07-12          732\n",
       "\u001b[90m4\u001b[39m CS025415000050 2016-01-31       2018-08-21          933\n",
       "\u001b[90m5\u001b[39m CS003515000195 2015-03-06       2019-06-05         \u001b[4m1\u001b[24m552\n",
       "\u001b[90m6\u001b[39m CS024514000042 2015-10-10       2018-12-05         \u001b[4m1\u001b[24m152"
      ]
     },
     "metadata": {},
     "output_type": "display_data"
    }
   ],
   "source": [
    "cu = tbl(con,'customer')\n",
    "\n",
    "compare_date <- cu %>%\n",
    "select(customer_id, application_date) %>%\n",
    "inner_join(select(re, customer_id, sales_ymd), by='customer_id') %>%\n",
    "transmute(customer_id, application_date = as.Date(application_date), sales_ymd = as.Date(as.character(sales_ymd)))\n",
    "\n",
    "compare_date %>%\n",
    "mutate(elapsed_days = as.Date(as.character(sales_ymd))-as.Date(application_date)) %>%\n",
    "head"
   ]
  },
  {
   "cell_type": "markdown",
   "metadata": {},
   "source": [
    "### R-071:\n",
    "レシート明細データ（df_receipt）の売上日（sales_ymd）に対し、顧客データ（df_customer）の会員申込日（application_date）からの経過月数を計算し、顧客ID（customer_id）、売上日、会員申込日とともに10件表示せよ（sales_ymdは数値、application_dateは文字列でデータを保持している点に注意）。1ヶ月未満は切り捨てること。"
   ]
  },
  {
   "cell_type": "code",
   "execution_count": 30,
   "metadata": {
    "vscode": {
     "languageId": "r"
    }
   },
   "outputs": [
    {
     "name": "stderr",
     "output_type": "stream",
     "text": [
      "\n",
      "Attaching package: ‘lubridate’\n",
      "\n",
      "\n",
      "The following objects are masked from ‘package:base’:\n",
      "\n",
      "    date, intersect, setdiff, union\n",
      "\n",
      "\n"
     ]
    },
    {
     "data": {
      "text/html": [
       "<table class=\"dataframe\">\n",
       "<caption>A data.frame: 6 × 4</caption>\n",
       "<thead>\n",
       "\t<tr><th></th><th scope=col>customer_id</th><th scope=col>sales_ymd</th><th scope=col>application_date</th><th scope=col>elapsed_months</th></tr>\n",
       "\t<tr><th></th><th scope=col>&lt;chr&gt;</th><th scope=col>&lt;date&gt;</th><th scope=col>&lt;date&gt;</th><th scope=col>&lt;dbl&gt;</th></tr>\n",
       "</thead>\n",
       "<tbody>\n",
       "\t<tr><th scope=row>1</th><td>CS031415000172</td><td>2017-05-07</td><td>2015-05-29</td><td>23</td></tr>\n",
       "\t<tr><th scope=row>2</th><td>CS031415000172</td><td>2017-10-26</td><td>2015-05-29</td><td>28</td></tr>\n",
       "\t<tr><th scope=row>3</th><td>CS031415000172</td><td>2019-03-25</td><td>2015-05-29</td><td>45</td></tr>\n",
       "\t<tr><th scope=row>4</th><td>CS031415000172</td><td>2017-01-11</td><td>2015-05-29</td><td>19</td></tr>\n",
       "\t<tr><th scope=row>5</th><td>CS031415000172</td><td>2019-03-25</td><td>2015-05-29</td><td>45</td></tr>\n",
       "\t<tr><th scope=row>6</th><td>CS031415000172</td><td>2019-01-22</td><td>2015-05-29</td><td>43</td></tr>\n",
       "</tbody>\n",
       "</table>\n"
      ],
      "text/latex": [
       "A data.frame: 6 × 4\n",
       "\\begin{tabular}{r|llll}\n",
       "  & customer\\_id & sales\\_ymd & application\\_date & elapsed\\_months\\\\\n",
       "  & <chr> & <date> & <date> & <dbl>\\\\\n",
       "\\hline\n",
       "\t1 & CS031415000172 & 2017-05-07 & 2015-05-29 & 23\\\\\n",
       "\t2 & CS031415000172 & 2017-10-26 & 2015-05-29 & 28\\\\\n",
       "\t3 & CS031415000172 & 2019-03-25 & 2015-05-29 & 45\\\\\n",
       "\t4 & CS031415000172 & 2017-01-11 & 2015-05-29 & 19\\\\\n",
       "\t5 & CS031415000172 & 2019-03-25 & 2015-05-29 & 45\\\\\n",
       "\t6 & CS031415000172 & 2019-01-22 & 2015-05-29 & 43\\\\\n",
       "\\end{tabular}\n"
      ],
      "text/markdown": [
       "\n",
       "A data.frame: 6 × 4\n",
       "\n",
       "| <!--/--> | customer_id &lt;chr&gt; | sales_ymd &lt;date&gt; | application_date &lt;date&gt; | elapsed_months &lt;dbl&gt; |\n",
       "|---|---|---|---|---|\n",
       "| 1 | CS031415000172 | 2017-05-07 | 2015-05-29 | 23 |\n",
       "| 2 | CS031415000172 | 2017-10-26 | 2015-05-29 | 28 |\n",
       "| 3 | CS031415000172 | 2019-03-25 | 2015-05-29 | 45 |\n",
       "| 4 | CS031415000172 | 2017-01-11 | 2015-05-29 | 19 |\n",
       "| 5 | CS031415000172 | 2019-03-25 | 2015-05-29 | 45 |\n",
       "| 6 | CS031415000172 | 2019-01-22 | 2015-05-29 | 43 |\n",
       "\n"
      ],
      "text/plain": [
       "  customer_id    sales_ymd  application_date elapsed_months\n",
       "1 CS031415000172 2017-05-07 2015-05-29       23            \n",
       "2 CS031415000172 2017-10-26 2015-05-29       28            \n",
       "3 CS031415000172 2019-03-25 2015-05-29       45            \n",
       "4 CS031415000172 2017-01-11 2015-05-29       19            \n",
       "5 CS031415000172 2019-03-25 2015-05-29       45            \n",
       "6 CS031415000172 2019-01-22 2015-05-29       43            "
      ]
     },
     "metadata": {},
     "output_type": "display_data"
    }
   ],
   "source": [
    "# work in local\n",
    "library(lubridate)\n",
    "rel = DBI::dbReadTable(con, \"receipt\")\n",
    "cul = DBI::dbReadTable(con, \"customer\")\n",
    "\n",
    "compare_date_local <- cul %>%\n",
    "select(customer_id, application_date) %>%\n",
    "inner_join(select(rel, customer_id, sales_ymd), by='customer_id') %>%\n",
    "transmute(customer_id, sales_ymd = ymd(sales_ymd), application_date = ymd(application_date))\n",
    "\n",
    "compare_date_local %>% \n",
    "mutate(elapsed_months = interval(application_date, sales_ymd) %/% months(1)) %>%\n",
    "head"
   ]
  },
  {
   "cell_type": "markdown",
   "metadata": {},
   "source": [
    "### R-072:\n",
    "レシート明細データ（df_receipt）の売上日（df_customer）に対し、顧客データ（df_customer）の会員申込日（application_date）からの経過年数を計算し、顧客ID（customer_id）、売上日、会員申込日とともに10件表示せよ（sales_ymdは数値、application_dateは文字列でデータを保持している点に注意）。1年未満は切り捨てること。"
   ]
  },
  {
   "cell_type": "code",
   "execution_count": 31,
   "metadata": {
    "vscode": {
     "languageId": "r"
    }
   },
   "outputs": [
    {
     "data": {
      "text/html": [
       "<table class=\"dataframe\">\n",
       "<caption>A data.frame: 6 × 4</caption>\n",
       "<thead>\n",
       "\t<tr><th></th><th scope=col>customer_id</th><th scope=col>sales_ymd</th><th scope=col>application_date</th><th scope=col>elapsed_years</th></tr>\n",
       "\t<tr><th></th><th scope=col>&lt;chr&gt;</th><th scope=col>&lt;date&gt;</th><th scope=col>&lt;date&gt;</th><th scope=col>&lt;dbl&gt;</th></tr>\n",
       "</thead>\n",
       "<tbody>\n",
       "\t<tr><th scope=row>1</th><td>CS031415000172</td><td>2017-05-07</td><td>2015-05-29</td><td>1</td></tr>\n",
       "\t<tr><th scope=row>2</th><td>CS031415000172</td><td>2017-10-26</td><td>2015-05-29</td><td>2</td></tr>\n",
       "\t<tr><th scope=row>3</th><td>CS031415000172</td><td>2019-03-25</td><td>2015-05-29</td><td>3</td></tr>\n",
       "\t<tr><th scope=row>4</th><td>CS031415000172</td><td>2017-01-11</td><td>2015-05-29</td><td>1</td></tr>\n",
       "\t<tr><th scope=row>5</th><td>CS031415000172</td><td>2019-03-25</td><td>2015-05-29</td><td>3</td></tr>\n",
       "\t<tr><th scope=row>6</th><td>CS031415000172</td><td>2019-01-22</td><td>2015-05-29</td><td>3</td></tr>\n",
       "</tbody>\n",
       "</table>\n"
      ],
      "text/latex": [
       "A data.frame: 6 × 4\n",
       "\\begin{tabular}{r|llll}\n",
       "  & customer\\_id & sales\\_ymd & application\\_date & elapsed\\_years\\\\\n",
       "  & <chr> & <date> & <date> & <dbl>\\\\\n",
       "\\hline\n",
       "\t1 & CS031415000172 & 2017-05-07 & 2015-05-29 & 1\\\\\n",
       "\t2 & CS031415000172 & 2017-10-26 & 2015-05-29 & 2\\\\\n",
       "\t3 & CS031415000172 & 2019-03-25 & 2015-05-29 & 3\\\\\n",
       "\t4 & CS031415000172 & 2017-01-11 & 2015-05-29 & 1\\\\\n",
       "\t5 & CS031415000172 & 2019-03-25 & 2015-05-29 & 3\\\\\n",
       "\t6 & CS031415000172 & 2019-01-22 & 2015-05-29 & 3\\\\\n",
       "\\end{tabular}\n"
      ],
      "text/markdown": [
       "\n",
       "A data.frame: 6 × 4\n",
       "\n",
       "| <!--/--> | customer_id &lt;chr&gt; | sales_ymd &lt;date&gt; | application_date &lt;date&gt; | elapsed_years &lt;dbl&gt; |\n",
       "|---|---|---|---|---|\n",
       "| 1 | CS031415000172 | 2017-05-07 | 2015-05-29 | 1 |\n",
       "| 2 | CS031415000172 | 2017-10-26 | 2015-05-29 | 2 |\n",
       "| 3 | CS031415000172 | 2019-03-25 | 2015-05-29 | 3 |\n",
       "| 4 | CS031415000172 | 2017-01-11 | 2015-05-29 | 1 |\n",
       "| 5 | CS031415000172 | 2019-03-25 | 2015-05-29 | 3 |\n",
       "| 6 | CS031415000172 | 2019-01-22 | 2015-05-29 | 3 |\n",
       "\n"
      ],
      "text/plain": [
       "  customer_id    sales_ymd  application_date elapsed_years\n",
       "1 CS031415000172 2017-05-07 2015-05-29       1            \n",
       "2 CS031415000172 2017-10-26 2015-05-29       2            \n",
       "3 CS031415000172 2019-03-25 2015-05-29       3            \n",
       "4 CS031415000172 2017-01-11 2015-05-29       1            \n",
       "5 CS031415000172 2019-03-25 2015-05-29       3            \n",
       "6 CS031415000172 2019-01-22 2015-05-29       3            "
      ]
     },
     "metadata": {},
     "output_type": "display_data"
    }
   ],
   "source": [
    "# work in local\n",
    "compare_date_local %>%\n",
    "mutate(elapsed_years = interval(application_date, sales_ymd) %/% years(1)) %>%\n",
    "head"
   ]
  },
  {
   "cell_type": "markdown",
   "metadata": {},
   "source": [
    "### R-073:\n",
    "レシート明細データ（df_receipt）の売上日（sales_ymd）に対し、顧客データ（df_customer）の会員申込日（application_date）からのエポック秒による経過時間を計算し、顧客ID（customer_id）、売上日、会員申込日とともに10件表示せよ（なお、sales_ymdは数値、application_dateは文字列でデータを保持している点に注意）。なお、時間情報は保有していないため各日付は0時0分0秒を表すものとする。"
   ]
  },
  {
   "cell_type": "code",
   "execution_count": 32,
   "metadata": {
    "vscode": {
     "languageId": "r"
    }
   },
   "outputs": [
    {
     "data": {
      "text/html": [
       "<table class=\"dataframe\">\n",
       "<caption>A data.frame: 6 × 4</caption>\n",
       "<thead>\n",
       "\t<tr><th></th><th scope=col>customer_id</th><th scope=col>sales_ymd</th><th scope=col>application_date</th><th scope=col>elapsed_epoch</th></tr>\n",
       "\t<tr><th></th><th scope=col>&lt;chr&gt;</th><th scope=col>&lt;date&gt;</th><th scope=col>&lt;date&gt;</th><th scope=col>&lt;dbl&gt;</th></tr>\n",
       "</thead>\n",
       "<tbody>\n",
       "\t<tr><th scope=row>1</th><td>CS031415000172</td><td>2017-05-07</td><td>2015-05-29</td><td> 61257600</td></tr>\n",
       "\t<tr><th scope=row>2</th><td>CS031415000172</td><td>2017-10-26</td><td>2015-05-29</td><td> 76118400</td></tr>\n",
       "\t<tr><th scope=row>3</th><td>CS031415000172</td><td>2019-03-25</td><td>2015-05-29</td><td>120614400</td></tr>\n",
       "\t<tr><th scope=row>4</th><td>CS031415000172</td><td>2017-01-11</td><td>2015-05-29</td><td> 51235200</td></tr>\n",
       "\t<tr><th scope=row>5</th><td>CS031415000172</td><td>2019-03-25</td><td>2015-05-29</td><td>120614400</td></tr>\n",
       "\t<tr><th scope=row>6</th><td>CS031415000172</td><td>2019-01-22</td><td>2015-05-29</td><td>115257600</td></tr>\n",
       "</tbody>\n",
       "</table>\n"
      ],
      "text/latex": [
       "A data.frame: 6 × 4\n",
       "\\begin{tabular}{r|llll}\n",
       "  & customer\\_id & sales\\_ymd & application\\_date & elapsed\\_epoch\\\\\n",
       "  & <chr> & <date> & <date> & <dbl>\\\\\n",
       "\\hline\n",
       "\t1 & CS031415000172 & 2017-05-07 & 2015-05-29 &  61257600\\\\\n",
       "\t2 & CS031415000172 & 2017-10-26 & 2015-05-29 &  76118400\\\\\n",
       "\t3 & CS031415000172 & 2019-03-25 & 2015-05-29 & 120614400\\\\\n",
       "\t4 & CS031415000172 & 2017-01-11 & 2015-05-29 &  51235200\\\\\n",
       "\t5 & CS031415000172 & 2019-03-25 & 2015-05-29 & 120614400\\\\\n",
       "\t6 & CS031415000172 & 2019-01-22 & 2015-05-29 & 115257600\\\\\n",
       "\\end{tabular}\n"
      ],
      "text/markdown": [
       "\n",
       "A data.frame: 6 × 4\n",
       "\n",
       "| <!--/--> | customer_id &lt;chr&gt; | sales_ymd &lt;date&gt; | application_date &lt;date&gt; | elapsed_epoch &lt;dbl&gt; |\n",
       "|---|---|---|---|---|\n",
       "| 1 | CS031415000172 | 2017-05-07 | 2015-05-29 |  61257600 |\n",
       "| 2 | CS031415000172 | 2017-10-26 | 2015-05-29 |  76118400 |\n",
       "| 3 | CS031415000172 | 2019-03-25 | 2015-05-29 | 120614400 |\n",
       "| 4 | CS031415000172 | 2017-01-11 | 2015-05-29 |  51235200 |\n",
       "| 5 | CS031415000172 | 2019-03-25 | 2015-05-29 | 120614400 |\n",
       "| 6 | CS031415000172 | 2019-01-22 | 2015-05-29 | 115257600 |\n",
       "\n"
      ],
      "text/plain": [
       "  customer_id    sales_ymd  application_date elapsed_epoch\n",
       "1 CS031415000172 2017-05-07 2015-05-29        61257600    \n",
       "2 CS031415000172 2017-10-26 2015-05-29        76118400    \n",
       "3 CS031415000172 2019-03-25 2015-05-29       120614400    \n",
       "4 CS031415000172 2017-01-11 2015-05-29        51235200    \n",
       "5 CS031415000172 2019-03-25 2015-05-29       120614400    \n",
       "6 CS031415000172 2019-01-22 2015-05-29       115257600    "
      ]
     },
     "metadata": {},
     "output_type": "display_data"
    }
   ],
   "source": [
    "# work in local\n",
    "compare_date_local %>%\n",
    "mutate(elapsed_epoch = (sales_ymd - application_date) %>% as.numeric(units = 'secs')) %>%\n",
    "head"
   ]
  },
  {
   "cell_type": "markdown",
   "metadata": {},
   "source": [
    "### R-074:\n",
    "レシート明細データ（df_receipt）の売上日（sales_ymd）に対し、当該週の月曜日からの経過日数を計算し、売上日、直前の月曜日付とともに10件表示せよ（sales_ymdは数値でデータを保持している点に注意）。"
   ]
  },
  {
   "cell_type": "code",
   "execution_count": 33,
   "metadata": {
    "vscode": {
     "languageId": "r"
    }
   },
   "outputs": [
    {
     "data": {
      "text/html": [
       "<table class=\"dataframe\">\n",
       "<caption>A data.frame: 6 × 12</caption>\n",
       "<thead>\n",
       "\t<tr><th></th><th scope=col>sales_ymd</th><th scope=col>sales_epoch</th><th scope=col>store_cd</th><th scope=col>receipt_no</th><th scope=col>receipt_sub_no</th><th scope=col>customer_id</th><th scope=col>product_cd</th><th scope=col>quantity</th><th scope=col>amount</th><th scope=col>sales_ymd_d</th><th scope=col>elapsed_weekdays</th><th scope=col>last_monday</th></tr>\n",
       "\t<tr><th></th><th scope=col>&lt;int&gt;</th><th scope=col>&lt;int&gt;</th><th scope=col>&lt;chr&gt;</th><th scope=col>&lt;int&gt;</th><th scope=col>&lt;int&gt;</th><th scope=col>&lt;chr&gt;</th><th scope=col>&lt;chr&gt;</th><th scope=col>&lt;int&gt;</th><th scope=col>&lt;int&gt;</th><th scope=col>&lt;date&gt;</th><th scope=col>&lt;dbl&gt;</th><th scope=col>&lt;date&gt;</th></tr>\n",
       "</thead>\n",
       "<tbody>\n",
       "\t<tr><th scope=row>1</th><td>20181103</td><td>1541203200</td><td>S14006</td><td> 112</td><td>1</td><td>CS006214000001</td><td>P070305012</td><td>1</td><td>158</td><td>2018-11-03</td><td>5</td><td>2018-10-29</td></tr>\n",
       "\t<tr><th scope=row>2</th><td>20181118</td><td>1542499200</td><td>S13008</td><td>1132</td><td>2</td><td>CS008415000097</td><td>P070701017</td><td>1</td><td> 81</td><td>2018-11-18</td><td>6</td><td>2018-11-12</td></tr>\n",
       "\t<tr><th scope=row>3</th><td>20170712</td><td>1499817600</td><td>S14028</td><td>1102</td><td>1</td><td>CS028414000014</td><td>P060101005</td><td>1</td><td>170</td><td>2017-07-12</td><td>2</td><td>2017-07-10</td></tr>\n",
       "\t<tr><th scope=row>4</th><td>20190205</td><td>1549324800</td><td>S14042</td><td>1132</td><td>1</td><td>ZZ000000000000</td><td>P050301001</td><td>1</td><td> 25</td><td>2019-02-05</td><td>1</td><td>2019-02-04</td></tr>\n",
       "\t<tr><th scope=row>5</th><td>20180821</td><td>1534809600</td><td>S14025</td><td>1102</td><td>2</td><td>CS025415000050</td><td>P060102007</td><td>1</td><td> 90</td><td>2018-08-21</td><td>1</td><td>2018-08-20</td></tr>\n",
       "\t<tr><th scope=row>6</th><td>20190605</td><td>1559692800</td><td>S13003</td><td>1112</td><td>1</td><td>CS003515000195</td><td>P050102002</td><td>1</td><td>138</td><td>2019-06-05</td><td>2</td><td>2019-06-03</td></tr>\n",
       "</tbody>\n",
       "</table>\n"
      ],
      "text/latex": [
       "A data.frame: 6 × 12\n",
       "\\begin{tabular}{r|llllllllllll}\n",
       "  & sales\\_ymd & sales\\_epoch & store\\_cd & receipt\\_no & receipt\\_sub\\_no & customer\\_id & product\\_cd & quantity & amount & sales\\_ymd\\_d & elapsed\\_weekdays & last\\_monday\\\\\n",
       "  & <int> & <int> & <chr> & <int> & <int> & <chr> & <chr> & <int> & <int> & <date> & <dbl> & <date>\\\\\n",
       "\\hline\n",
       "\t1 & 20181103 & 1541203200 & S14006 &  112 & 1 & CS006214000001 & P070305012 & 1 & 158 & 2018-11-03 & 5 & 2018-10-29\\\\\n",
       "\t2 & 20181118 & 1542499200 & S13008 & 1132 & 2 & CS008415000097 & P070701017 & 1 &  81 & 2018-11-18 & 6 & 2018-11-12\\\\\n",
       "\t3 & 20170712 & 1499817600 & S14028 & 1102 & 1 & CS028414000014 & P060101005 & 1 & 170 & 2017-07-12 & 2 & 2017-07-10\\\\\n",
       "\t4 & 20190205 & 1549324800 & S14042 & 1132 & 1 & ZZ000000000000 & P050301001 & 1 &  25 & 2019-02-05 & 1 & 2019-02-04\\\\\n",
       "\t5 & 20180821 & 1534809600 & S14025 & 1102 & 2 & CS025415000050 & P060102007 & 1 &  90 & 2018-08-21 & 1 & 2018-08-20\\\\\n",
       "\t6 & 20190605 & 1559692800 & S13003 & 1112 & 1 & CS003515000195 & P050102002 & 1 & 138 & 2019-06-05 & 2 & 2019-06-03\\\\\n",
       "\\end{tabular}\n"
      ],
      "text/markdown": [
       "\n",
       "A data.frame: 6 × 12\n",
       "\n",
       "| <!--/--> | sales_ymd &lt;int&gt; | sales_epoch &lt;int&gt; | store_cd &lt;chr&gt; | receipt_no &lt;int&gt; | receipt_sub_no &lt;int&gt; | customer_id &lt;chr&gt; | product_cd &lt;chr&gt; | quantity &lt;int&gt; | amount &lt;int&gt; | sales_ymd_d &lt;date&gt; | elapsed_weekdays &lt;dbl&gt; | last_monday &lt;date&gt; |\n",
       "|---|---|---|---|---|---|---|---|---|---|---|---|---|\n",
       "| 1 | 20181103 | 1541203200 | S14006 |  112 | 1 | CS006214000001 | P070305012 | 1 | 158 | 2018-11-03 | 5 | 2018-10-29 |\n",
       "| 2 | 20181118 | 1542499200 | S13008 | 1132 | 2 | CS008415000097 | P070701017 | 1 |  81 | 2018-11-18 | 6 | 2018-11-12 |\n",
       "| 3 | 20170712 | 1499817600 | S14028 | 1102 | 1 | CS028414000014 | P060101005 | 1 | 170 | 2017-07-12 | 2 | 2017-07-10 |\n",
       "| 4 | 20190205 | 1549324800 | S14042 | 1132 | 1 | ZZ000000000000 | P050301001 | 1 |  25 | 2019-02-05 | 1 | 2019-02-04 |\n",
       "| 5 | 20180821 | 1534809600 | S14025 | 1102 | 2 | CS025415000050 | P060102007 | 1 |  90 | 2018-08-21 | 1 | 2018-08-20 |\n",
       "| 6 | 20190605 | 1559692800 | S13003 | 1112 | 1 | CS003515000195 | P050102002 | 1 | 138 | 2019-06-05 | 2 | 2019-06-03 |\n",
       "\n"
      ],
      "text/plain": [
       "  sales_ymd sales_epoch store_cd receipt_no receipt_sub_no customer_id   \n",
       "1 20181103  1541203200  S14006    112       1              CS006214000001\n",
       "2 20181118  1542499200  S13008   1132       2              CS008415000097\n",
       "3 20170712  1499817600  S14028   1102       1              CS028414000014\n",
       "4 20190205  1549324800  S14042   1132       1              ZZ000000000000\n",
       "5 20180821  1534809600  S14025   1102       2              CS025415000050\n",
       "6 20190605  1559692800  S13003   1112       1              CS003515000195\n",
       "  product_cd quantity amount sales_ymd_d elapsed_weekdays last_monday\n",
       "1 P070305012 1        158    2018-11-03  5                2018-10-29 \n",
       "2 P070701017 1         81    2018-11-18  6                2018-11-12 \n",
       "3 P060101005 1        170    2017-07-12  2                2017-07-10 \n",
       "4 P050301001 1         25    2019-02-05  1                2019-02-04 \n",
       "5 P060102007 1         90    2018-08-21  1                2018-08-20 \n",
       "6 P050102002 1        138    2019-06-05  2                2019-06-03 "
      ]
     },
     "metadata": {},
     "output_type": "display_data"
    }
   ],
   "source": [
    "library(lubridate)\n",
    "\n",
    "re %>%\n",
    "data.frame %>%\n",
    "mutate(\n",
    "\tsales_ymd_d = sales_ymd %>% ymd,\n",
    "\telapsed_weekdays = sales_ymd_d %>% wday(week_start = 1)-1,\n",
    "\tlast_monday = sales_ymd_d - elapsed_weekdays\n",
    "\t) %>%\n",
    "\thead"
   ]
  },
  {
   "cell_type": "code",
   "execution_count": 34,
   "metadata": {
    "vscode": {
     "languageId": "r"
    }
   },
   "outputs": [
    {
     "data": {
      "text/html": [
       "<table class=\"dataframe\">\n",
       "<caption>A data.frame: 6 × 12</caption>\n",
       "<thead>\n",
       "\t<tr><th></th><th scope=col>sales_ymd</th><th scope=col>sales_epoch</th><th scope=col>store_cd</th><th scope=col>receipt_no</th><th scope=col>receipt_sub_no</th><th scope=col>customer_id</th><th scope=col>product_cd</th><th scope=col>quantity</th><th scope=col>amount</th><th scope=col>sales_ymd_d</th><th scope=col>elapsed_weekdays</th><th scope=col>last_monday</th></tr>\n",
       "\t<tr><th></th><th scope=col>&lt;int&gt;</th><th scope=col>&lt;int&gt;</th><th scope=col>&lt;chr&gt;</th><th scope=col>&lt;int&gt;</th><th scope=col>&lt;int&gt;</th><th scope=col>&lt;chr&gt;</th><th scope=col>&lt;chr&gt;</th><th scope=col>&lt;int&gt;</th><th scope=col>&lt;int&gt;</th><th scope=col>&lt;date&gt;</th><th scope=col>&lt;dbl&gt;</th><th scope=col>&lt;date&gt;</th></tr>\n",
       "</thead>\n",
       "<tbody>\n",
       "\t<tr><th scope=row>1</th><td>20181103</td><td>1541203200</td><td>S14006</td><td> 112</td><td>1</td><td>CS006214000001</td><td>P070305012</td><td>1</td><td>158</td><td>2018-11-03</td><td>5</td><td>2018-10-29</td></tr>\n",
       "\t<tr><th scope=row>2</th><td>20181118</td><td>1542499200</td><td>S13008</td><td>1132</td><td>2</td><td>CS008415000097</td><td>P070701017</td><td>1</td><td> 81</td><td>2018-11-18</td><td>6</td><td>2018-11-12</td></tr>\n",
       "\t<tr><th scope=row>3</th><td>20170712</td><td>1499817600</td><td>S14028</td><td>1102</td><td>1</td><td>CS028414000014</td><td>P060101005</td><td>1</td><td>170</td><td>2017-07-12</td><td>2</td><td>2017-07-10</td></tr>\n",
       "\t<tr><th scope=row>4</th><td>20190205</td><td>1549324800</td><td>S14042</td><td>1132</td><td>1</td><td>ZZ000000000000</td><td>P050301001</td><td>1</td><td> 25</td><td>2019-02-05</td><td>1</td><td>2019-02-04</td></tr>\n",
       "\t<tr><th scope=row>5</th><td>20180821</td><td>1534809600</td><td>S14025</td><td>1102</td><td>2</td><td>CS025415000050</td><td>P060102007</td><td>1</td><td> 90</td><td>2018-08-21</td><td>1</td><td>2018-08-20</td></tr>\n",
       "\t<tr><th scope=row>6</th><td>20190605</td><td>1559692800</td><td>S13003</td><td>1112</td><td>1</td><td>CS003515000195</td><td>P050102002</td><td>1</td><td>138</td><td>2019-06-05</td><td>2</td><td>2019-06-03</td></tr>\n",
       "</tbody>\n",
       "</table>\n"
      ],
      "text/latex": [
       "A data.frame: 6 × 12\n",
       "\\begin{tabular}{r|llllllllllll}\n",
       "  & sales\\_ymd & sales\\_epoch & store\\_cd & receipt\\_no & receipt\\_sub\\_no & customer\\_id & product\\_cd & quantity & amount & sales\\_ymd\\_d & elapsed\\_weekdays & last\\_monday\\\\\n",
       "  & <int> & <int> & <chr> & <int> & <int> & <chr> & <chr> & <int> & <int> & <date> & <dbl> & <date>\\\\\n",
       "\\hline\n",
       "\t1 & 20181103 & 1541203200 & S14006 &  112 & 1 & CS006214000001 & P070305012 & 1 & 158 & 2018-11-03 & 5 & 2018-10-29\\\\\n",
       "\t2 & 20181118 & 1542499200 & S13008 & 1132 & 2 & CS008415000097 & P070701017 & 1 &  81 & 2018-11-18 & 6 & 2018-11-12\\\\\n",
       "\t3 & 20170712 & 1499817600 & S14028 & 1102 & 1 & CS028414000014 & P060101005 & 1 & 170 & 2017-07-12 & 2 & 2017-07-10\\\\\n",
       "\t4 & 20190205 & 1549324800 & S14042 & 1132 & 1 & ZZ000000000000 & P050301001 & 1 &  25 & 2019-02-05 & 1 & 2019-02-04\\\\\n",
       "\t5 & 20180821 & 1534809600 & S14025 & 1102 & 2 & CS025415000050 & P060102007 & 1 &  90 & 2018-08-21 & 1 & 2018-08-20\\\\\n",
       "\t6 & 20190605 & 1559692800 & S13003 & 1112 & 1 & CS003515000195 & P050102002 & 1 & 138 & 2019-06-05 & 2 & 2019-06-03\\\\\n",
       "\\end{tabular}\n"
      ],
      "text/markdown": [
       "\n",
       "A data.frame: 6 × 12\n",
       "\n",
       "| <!--/--> | sales_ymd &lt;int&gt; | sales_epoch &lt;int&gt; | store_cd &lt;chr&gt; | receipt_no &lt;int&gt; | receipt_sub_no &lt;int&gt; | customer_id &lt;chr&gt; | product_cd &lt;chr&gt; | quantity &lt;int&gt; | amount &lt;int&gt; | sales_ymd_d &lt;date&gt; | elapsed_weekdays &lt;dbl&gt; | last_monday &lt;date&gt; |\n",
       "|---|---|---|---|---|---|---|---|---|---|---|---|---|\n",
       "| 1 | 20181103 | 1541203200 | S14006 |  112 | 1 | CS006214000001 | P070305012 | 1 | 158 | 2018-11-03 | 5 | 2018-10-29 |\n",
       "| 2 | 20181118 | 1542499200 | S13008 | 1132 | 2 | CS008415000097 | P070701017 | 1 |  81 | 2018-11-18 | 6 | 2018-11-12 |\n",
       "| 3 | 20170712 | 1499817600 | S14028 | 1102 | 1 | CS028414000014 | P060101005 | 1 | 170 | 2017-07-12 | 2 | 2017-07-10 |\n",
       "| 4 | 20190205 | 1549324800 | S14042 | 1132 | 1 | ZZ000000000000 | P050301001 | 1 |  25 | 2019-02-05 | 1 | 2019-02-04 |\n",
       "| 5 | 20180821 | 1534809600 | S14025 | 1102 | 2 | CS025415000050 | P060102007 | 1 |  90 | 2018-08-21 | 1 | 2018-08-20 |\n",
       "| 6 | 20190605 | 1559692800 | S13003 | 1112 | 1 | CS003515000195 | P050102002 | 1 | 138 | 2019-06-05 | 2 | 2019-06-03 |\n",
       "\n"
      ],
      "text/plain": [
       "  sales_ymd sales_epoch store_cd receipt_no receipt_sub_no customer_id   \n",
       "1 20181103  1541203200  S14006    112       1              CS006214000001\n",
       "2 20181118  1542499200  S13008   1132       2              CS008415000097\n",
       "3 20170712  1499817600  S14028   1102       1              CS028414000014\n",
       "4 20190205  1549324800  S14042   1132       1              ZZ000000000000\n",
       "5 20180821  1534809600  S14025   1102       2              CS025415000050\n",
       "6 20190605  1559692800  S13003   1112       1              CS003515000195\n",
       "  product_cd quantity amount sales_ymd_d elapsed_weekdays last_monday\n",
       "1 P070305012 1        158    2018-11-03  5                2018-10-29 \n",
       "2 P070701017 1         81    2018-11-18  6                2018-11-12 \n",
       "3 P060101005 1        170    2017-07-12  2                2017-07-10 \n",
       "4 P050301001 1         25    2019-02-05  1                2019-02-04 \n",
       "5 P060102007 1         90    2018-08-21  1                2018-08-20 \n",
       "6 P050102002 1        138    2019-06-05  2                2019-06-03 "
      ]
     },
     "metadata": {},
     "output_type": "display_data"
    }
   ],
   "source": [
    "library(lubridate)\n",
    "re %>%\n",
    "data.frame %>%\n",
    "mutate(\n",
    "\tsales_ymd_d = sales_ymd %>% ymd,\n",
    "\telapsed_weekdays = sales_ymd_d %>% wday(week_start = 1)-1,\n",
    "\tlast_monday = sales_ymd_d - elapsed_weekdays\n",
    "\t) %>%\n",
    "\thead"
   ]
  },
  {
   "cell_type": "markdown",
   "metadata": {},
   "source": [
    "### R-075:\n",
    "顧客データ（df_customer）からランダムに1%のデータを抽出し、先頭から10件表示せよ。"
   ]
  },
  {
   "cell_type": "code",
   "execution_count": 35,
   "metadata": {
    "vscode": {
     "languageId": "r"
    }
   },
   "outputs": [
    {
     "data": {
      "text/html": [
       "<table class=\"dataframe\">\n",
       "<caption>A data.frame: 6 × 11</caption>\n",
       "<thead>\n",
       "\t<tr><th></th><th scope=col>customer_id</th><th scope=col>customer_name</th><th scope=col>gender_cd</th><th scope=col>gender</th><th scope=col>birth_day</th><th scope=col>age</th><th scope=col>postal_cd</th><th scope=col>address</th><th scope=col>application_store_cd</th><th scope=col>application_date</th><th scope=col>status_cd</th></tr>\n",
       "\t<tr><th></th><th scope=col>&lt;chr&gt;</th><th scope=col>&lt;chr&gt;</th><th scope=col>&lt;int&gt;</th><th scope=col>&lt;chr&gt;</th><th scope=col>&lt;date&gt;</th><th scope=col>&lt;int&gt;</th><th scope=col>&lt;chr&gt;</th><th scope=col>&lt;chr&gt;</th><th scope=col>&lt;chr&gt;</th><th scope=col>&lt;chr&gt;</th><th scope=col>&lt;chr&gt;</th></tr>\n",
       "</thead>\n",
       "<tbody>\n",
       "\t<tr><th scope=row>1</th><td>CS023615000070</td><td>玉城 美佳  </td><td>1</td><td>女性</td><td>1951-08-06</td><td>67</td><td>144-0055</td><td>東京都大田区仲六郷**********        </td><td>S14023</td><td>20150813</td><td>C-20100712-A</td></tr>\n",
       "\t<tr><th scope=row>2</th><td>CS005412000024</td><td>杉山 まみ  </td><td>1</td><td>女性</td><td>1977-01-14</td><td>42</td><td>176-0002</td><td>東京都練馬区桜台**********          </td><td>S13005</td><td>20150808</td><td>2-20080407-1</td></tr>\n",
       "\t<tr><th scope=row>3</th><td>CS031513000201</td><td>松井 佳乃  </td><td>1</td><td>女性</td><td>1962-04-17</td><td>56</td><td>151-0061</td><td>東京都渋谷区初台**********          </td><td>S13031</td><td>20150508</td><td>4-20090615-6</td></tr>\n",
       "\t<tr><th scope=row>4</th><td>CS001615000271</td><td>杉野 奈央  </td><td>1</td><td>女性</td><td>1954-01-06</td><td>65</td><td>144-0035</td><td>東京都大田区南蒲田**********        </td><td>S13001</td><td>20160714</td><td>1-20091130-1</td></tr>\n",
       "\t<tr><th scope=row>5</th><td>CS014515000252</td><td>野沢 千佳子</td><td>1</td><td>女性</td><td>1965-06-08</td><td>53</td><td>264-0032</td><td>千葉県千葉市若葉区みつわ台**********</td><td>S12014</td><td>20180510</td><td>0-00000000-0</td></tr>\n",
       "\t<tr><th scope=row>6</th><td>CS023414000087</td><td>梅本 明日  </td><td>1</td><td>女性</td><td>1969-06-24</td><td>49</td><td>212-0021</td><td>神奈川県川崎市幸区都町**********    </td><td>S14023</td><td>20150929</td><td>E-20101029-F</td></tr>\n",
       "</tbody>\n",
       "</table>\n"
      ],
      "text/latex": [
       "A data.frame: 6 × 11\n",
       "\\begin{tabular}{r|lllllllllll}\n",
       "  & customer\\_id & customer\\_name & gender\\_cd & gender & birth\\_day & age & postal\\_cd & address & application\\_store\\_cd & application\\_date & status\\_cd\\\\\n",
       "  & <chr> & <chr> & <int> & <chr> & <date> & <int> & <chr> & <chr> & <chr> & <chr> & <chr>\\\\\n",
       "\\hline\n",
       "\t1 & CS023615000070 & 玉城 美佳   & 1 & 女性 & 1951-08-06 & 67 & 144-0055 & 東京都大田区仲六郷**********         & S14023 & 20150813 & C-20100712-A\\\\\n",
       "\t2 & CS005412000024 & 杉山 まみ   & 1 & 女性 & 1977-01-14 & 42 & 176-0002 & 東京都練馬区桜台**********           & S13005 & 20150808 & 2-20080407-1\\\\\n",
       "\t3 & CS031513000201 & 松井 佳乃   & 1 & 女性 & 1962-04-17 & 56 & 151-0061 & 東京都渋谷区初台**********           & S13031 & 20150508 & 4-20090615-6\\\\\n",
       "\t4 & CS001615000271 & 杉野 奈央   & 1 & 女性 & 1954-01-06 & 65 & 144-0035 & 東京都大田区南蒲田**********         & S13001 & 20160714 & 1-20091130-1\\\\\n",
       "\t5 & CS014515000252 & 野沢 千佳子 & 1 & 女性 & 1965-06-08 & 53 & 264-0032 & 千葉県千葉市若葉区みつわ台********** & S12014 & 20180510 & 0-00000000-0\\\\\n",
       "\t6 & CS023414000087 & 梅本 明日   & 1 & 女性 & 1969-06-24 & 49 & 212-0021 & 神奈川県川崎市幸区都町**********     & S14023 & 20150929 & E-20101029-F\\\\\n",
       "\\end{tabular}\n"
      ],
      "text/markdown": [
       "\n",
       "A data.frame: 6 × 11\n",
       "\n",
       "| <!--/--> | customer_id &lt;chr&gt; | customer_name &lt;chr&gt; | gender_cd &lt;int&gt; | gender &lt;chr&gt; | birth_day &lt;date&gt; | age &lt;int&gt; | postal_cd &lt;chr&gt; | address &lt;chr&gt; | application_store_cd &lt;chr&gt; | application_date &lt;chr&gt; | status_cd &lt;chr&gt; |\n",
       "|---|---|---|---|---|---|---|---|---|---|---|---|\n",
       "| 1 | CS023615000070 | 玉城 美佳   | 1 | 女性 | 1951-08-06 | 67 | 144-0055 | 東京都大田区仲六郷**********         | S14023 | 20150813 | C-20100712-A |\n",
       "| 2 | CS005412000024 | 杉山 まみ   | 1 | 女性 | 1977-01-14 | 42 | 176-0002 | 東京都練馬区桜台**********           | S13005 | 20150808 | 2-20080407-1 |\n",
       "| 3 | CS031513000201 | 松井 佳乃   | 1 | 女性 | 1962-04-17 | 56 | 151-0061 | 東京都渋谷区初台**********           | S13031 | 20150508 | 4-20090615-6 |\n",
       "| 4 | CS001615000271 | 杉野 奈央   | 1 | 女性 | 1954-01-06 | 65 | 144-0035 | 東京都大田区南蒲田**********         | S13001 | 20160714 | 1-20091130-1 |\n",
       "| 5 | CS014515000252 | 野沢 千佳子 | 1 | 女性 | 1965-06-08 | 53 | 264-0032 | 千葉県千葉市若葉区みつわ台********** | S12014 | 20180510 | 0-00000000-0 |\n",
       "| 6 | CS023414000087 | 梅本 明日   | 1 | 女性 | 1969-06-24 | 49 | 212-0021 | 神奈川県川崎市幸区都町**********     | S14023 | 20150929 | E-20101029-F |\n",
       "\n"
      ],
      "text/plain": [
       "  customer_id    customer_name gender_cd gender birth_day  age postal_cd\n",
       "1 CS023615000070 玉城 美佳     1         女性   1951-08-06 67  144-0055 \n",
       "2 CS005412000024 杉山 まみ     1         女性   1977-01-14 42  176-0002 \n",
       "3 CS031513000201 松井 佳乃     1         女性   1962-04-17 56  151-0061 \n",
       "4 CS001615000271 杉野 奈央     1         女性   1954-01-06 65  144-0035 \n",
       "5 CS014515000252 野沢 千佳子   1         女性   1965-06-08 53  264-0032 \n",
       "6 CS023414000087 梅本 明日     1         女性   1969-06-24 49  212-0021 \n",
       "  address                              application_store_cd application_date\n",
       "1 東京都大田区仲六郷**********         S14023               20150813        \n",
       "2 東京都練馬区桜台**********           S13005               20150808        \n",
       "3 東京都渋谷区初台**********           S13031               20150508        \n",
       "4 東京都大田区南蒲田**********         S13001               20160714        \n",
       "5 千葉県千葉市若葉区みつわ台********** S12014               20180510        \n",
       "6 神奈川県川崎市幸区都町**********     S14023               20150929        \n",
       "  status_cd   \n",
       "1 C-20100712-A\n",
       "2 2-20080407-1\n",
       "3 4-20090615-6\n",
       "4 1-20091130-1\n",
       "5 0-00000000-0\n",
       "6 E-20101029-F"
      ]
     },
     "metadata": {},
     "output_type": "display_data"
    }
   ],
   "source": [
    "cul %>% sample_frac(0.01) %>%head"
   ]
  },
  {
   "cell_type": "markdown",
   "metadata": {},
   "source": [
    "### R-076:\n",
    "顧客データ（df_customer）から性別コード（gender_cd）の割合に基づきランダムに10%のデータを層化抽出し、性別コードごとに件数を集計せよ。"
   ]
  },
  {
   "cell_type": "code",
   "execution_count": null,
   "metadata": {
    "vscode": {
     "languageId": "r"
    }
   },
   "outputs": [],
   "source": []
  },
  {
   "cell_type": "markdown",
   "metadata": {},
   "source": [
    "### R-077:\n",
    "レシート明細データ（df_receipt）の売上金額を顧客単位に合計し、合計した売上金額の外れ値を抽出せよ。なお、外れ値は売上金額合計を対数化したうえで平均と標準偏差を計算し、その平均から3σを超えて離れたものとする（自然対数と常用対数のどちらでも可）。結果は10件表示せよ。\n"
   ]
  },
  {
   "cell_type": "code",
   "execution_count": 36,
   "metadata": {
    "vscode": {
     "languageId": "r"
    }
   },
   "outputs": [
    {
     "data": {
      "text/plain": [
       "\u001b[90m# Source:   lazy query [?? x 4]\u001b[39m\n",
       "\u001b[90m# Database: postgres 12.0.11 [@localhost:5432/knock100]\u001b[39m\n",
       "  customer_id    log_amount  mean    sd\n",
       "  \u001b[3m\u001b[90m<chr>\u001b[39m\u001b[23m               \u001b[3m\u001b[90m<dbl>\u001b[39m\u001b[23m \u001b[3m\u001b[90m<dbl>\u001b[39m\u001b[23m \u001b[3m\u001b[90m<dbl>\u001b[39m\u001b[23m\n",
       "\u001b[90m1\u001b[39m ZZ000000000000       16.3  7.27  1.14"
      ]
     },
     "metadata": {},
     "output_type": "display_data"
    }
   ],
   "source": [
    "re %>%\n",
    "group_by(customer_id) %>%\n",
    "summarise(log_amount = log(sum(amount, na.rm = TRUE))) %>%\n",
    "mutate(mean = mean(log_amount, na.rm = TRUE), sd = sd(log_amount,na.rm = TRUE)) %>%\n",
    "filter(!(log_amount <= mean+3*sd)) %>%\n",
    "head"
   ]
  },
  {
   "cell_type": "markdown",
   "metadata": {},
   "source": [
    "### R-078:\n",
    "レシート明細データ（df_receipt）の売上金額（amount）を顧客単位に合計し、合計した売上金額の外れ値を抽出せよ。ただし、顧客IDが\"Z\"から始まるのものは非会員を表すため、除外して計算すること。なお、ここでは外れ値を第1四分位と第3四分位の差であるIQRを用いて、「第1四分位数-1.5×IQR」を下回るもの、または「第3四分位数+1.5×IQR」を超えるものとする。結果は10件表示せよ。"
   ]
  },
  {
   "cell_type": "code",
   "execution_count": 37,
   "metadata": {
    "vscode": {
     "languageId": "r"
    }
   },
   "outputs": [
    {
     "data": {
      "text/html": [
       "<table class=\"dataframe\">\n",
       "<caption>A tibble: 6 × 5</caption>\n",
       "<thead>\n",
       "\t<tr><th scope=col>customer_id</th><th scope=col>amount</th><th scope=col>iqr</th><th scope=col>thre_lower</th><th scope=col>thre_upper</th></tr>\n",
       "\t<tr><th scope=col>&lt;chr&gt;</th><th scope=col>&lt;int&gt;</th><th scope=col>&lt;dbl&gt;</th><th scope=col>&lt;dbl&gt;</th><th scope=col>&lt;dbl&gt;</th></tr>\n",
       "</thead>\n",
       "<tbody>\n",
       "\t<tr><td>CS001414000048</td><td> 8584</td><td>3101.5</td><td>-4104</td><td>8302</td></tr>\n",
       "\t<tr><td>CS001605000009</td><td>18925</td><td>3101.5</td><td>-4104</td><td>8302</td></tr>\n",
       "\t<tr><td>CS002415000594</td><td> 9568</td><td>3101.5</td><td>-4104</td><td>8302</td></tr>\n",
       "\t<tr><td>CS004414000181</td><td> 9584</td><td>3101.5</td><td>-4104</td><td>8302</td></tr>\n",
       "\t<tr><td>CS005415000137</td><td> 8734</td><td>3101.5</td><td>-4104</td><td>8302</td></tr>\n",
       "\t<tr><td>CS006414000001</td><td> 9156</td><td>3101.5</td><td>-4104</td><td>8302</td></tr>\n",
       "</tbody>\n",
       "</table>\n"
      ],
      "text/latex": [
       "A tibble: 6 × 5\n",
       "\\begin{tabular}{lllll}\n",
       " customer\\_id & amount & iqr & thre\\_lower & thre\\_upper\\\\\n",
       " <chr> & <int> & <dbl> & <dbl> & <dbl>\\\\\n",
       "\\hline\n",
       "\t CS001414000048 &  8584 & 3101.5 & -4104 & 8302\\\\\n",
       "\t CS001605000009 & 18925 & 3101.5 & -4104 & 8302\\\\\n",
       "\t CS002415000594 &  9568 & 3101.5 & -4104 & 8302\\\\\n",
       "\t CS004414000181 &  9584 & 3101.5 & -4104 & 8302\\\\\n",
       "\t CS005415000137 &  8734 & 3101.5 & -4104 & 8302\\\\\n",
       "\t CS006414000001 &  9156 & 3101.5 & -4104 & 8302\\\\\n",
       "\\end{tabular}\n"
      ],
      "text/markdown": [
       "\n",
       "A tibble: 6 × 5\n",
       "\n",
       "| customer_id &lt;chr&gt; | amount &lt;int&gt; | iqr &lt;dbl&gt; | thre_lower &lt;dbl&gt; | thre_upper &lt;dbl&gt; |\n",
       "|---|---|---|---|---|\n",
       "| CS001414000048 |  8584 | 3101.5 | -4104 | 8302 |\n",
       "| CS001605000009 | 18925 | 3101.5 | -4104 | 8302 |\n",
       "| CS002415000594 |  9568 | 3101.5 | -4104 | 8302 |\n",
       "| CS004414000181 |  9584 | 3101.5 | -4104 | 8302 |\n",
       "| CS005415000137 |  8734 | 3101.5 | -4104 | 8302 |\n",
       "| CS006414000001 |  9156 | 3101.5 | -4104 | 8302 |\n",
       "\n"
      ],
      "text/plain": [
       "  customer_id    amount iqr    thre_lower thre_upper\n",
       "1 CS001414000048  8584  3101.5 -4104      8302      \n",
       "2 CS001605000009 18925  3101.5 -4104      8302      \n",
       "3 CS002415000594  9568  3101.5 -4104      8302      \n",
       "4 CS004414000181  9584  3101.5 -4104      8302      \n",
       "5 CS005415000137  8734  3101.5 -4104      8302      \n",
       "6 CS006414000001  9156  3101.5 -4104      8302      "
      ]
     },
     "metadata": {},
     "output_type": "display_data"
    }
   ],
   "source": [
    "# assume you are on a local machine\n",
    "library(stringr)\n",
    "\n",
    "re %>%\n",
    "data.frame %>%\n",
    "filter(!str_detect(customer_id, '^Z')) %>%\n",
    "group_by(customer_id) %>%\n",
    "summarise(amount = sum(amount, na.rm = TRUE)) %>%\n",
    "mutate(iqr = quantile(amount)[4] - quantile(amount)[2]) %>%\n",
    "mutate(thre_lower = quantile(amount)[2] - 1.5*iqr, thre_upper = quantile(amount)[4] + 1.5*iqr) %>%\n",
    "filter(amount < thre_lower | thre_upper < amount) %>%\n",
    "head"
   ]
  },
  {
   "cell_type": "code",
   "execution_count": 38,
   "metadata": {
    "vscode": {
     "languageId": "r"
    }
   },
   "outputs": [
    {
     "data": {
      "text/html": [
       "<table class=\"dataframe\">\n",
       "<caption>A tibble: 6 × 5</caption>\n",
       "<thead>\n",
       "\t<tr><th scope=col>customer_id</th><th scope=col>amount</th><th scope=col>iqr</th><th scope=col>thre_lower</th><th scope=col>thre_upper</th></tr>\n",
       "\t<tr><th scope=col>&lt;chr&gt;</th><th scope=col>&lt;int&gt;</th><th scope=col>&lt;dbl&gt;</th><th scope=col>&lt;dbl&gt;</th><th scope=col>&lt;dbl&gt;</th></tr>\n",
       "</thead>\n",
       "<tbody>\n",
       "\t<tr><td>CS001414000048</td><td> 8584</td><td>3101.5</td><td>-4104</td><td>8302</td></tr>\n",
       "\t<tr><td>CS001605000009</td><td>18925</td><td>3101.5</td><td>-4104</td><td>8302</td></tr>\n",
       "\t<tr><td>CS002415000594</td><td> 9568</td><td>3101.5</td><td>-4104</td><td>8302</td></tr>\n",
       "\t<tr><td>CS004414000181</td><td> 9584</td><td>3101.5</td><td>-4104</td><td>8302</td></tr>\n",
       "\t<tr><td>CS005415000137</td><td> 8734</td><td>3101.5</td><td>-4104</td><td>8302</td></tr>\n",
       "\t<tr><td>CS006414000001</td><td> 9156</td><td>3101.5</td><td>-4104</td><td>8302</td></tr>\n",
       "</tbody>\n",
       "</table>\n"
      ],
      "text/latex": [
       "A tibble: 6 × 5\n",
       "\\begin{tabular}{lllll}\n",
       " customer\\_id & amount & iqr & thre\\_lower & thre\\_upper\\\\\n",
       " <chr> & <int> & <dbl> & <dbl> & <dbl>\\\\\n",
       "\\hline\n",
       "\t CS001414000048 &  8584 & 3101.5 & -4104 & 8302\\\\\n",
       "\t CS001605000009 & 18925 & 3101.5 & -4104 & 8302\\\\\n",
       "\t CS002415000594 &  9568 & 3101.5 & -4104 & 8302\\\\\n",
       "\t CS004414000181 &  9584 & 3101.5 & -4104 & 8302\\\\\n",
       "\t CS005415000137 &  8734 & 3101.5 & -4104 & 8302\\\\\n",
       "\t CS006414000001 &  9156 & 3101.5 & -4104 & 8302\\\\\n",
       "\\end{tabular}\n"
      ],
      "text/markdown": [
       "\n",
       "A tibble: 6 × 5\n",
       "\n",
       "| customer_id &lt;chr&gt; | amount &lt;int&gt; | iqr &lt;dbl&gt; | thre_lower &lt;dbl&gt; | thre_upper &lt;dbl&gt; |\n",
       "|---|---|---|---|---|\n",
       "| CS001414000048 |  8584 | 3101.5 | -4104 | 8302 |\n",
       "| CS001605000009 | 18925 | 3101.5 | -4104 | 8302 |\n",
       "| CS002415000594 |  9568 | 3101.5 | -4104 | 8302 |\n",
       "| CS004414000181 |  9584 | 3101.5 | -4104 | 8302 |\n",
       "| CS005415000137 |  8734 | 3101.5 | -4104 | 8302 |\n",
       "| CS006414000001 |  9156 | 3101.5 | -4104 | 8302 |\n",
       "\n"
      ],
      "text/plain": [
       "  customer_id    amount iqr    thre_lower thre_upper\n",
       "1 CS001414000048  8584  3101.5 -4104      8302      \n",
       "2 CS001605000009 18925  3101.5 -4104      8302      \n",
       "3 CS002415000594  9568  3101.5 -4104      8302      \n",
       "4 CS004414000181  9584  3101.5 -4104      8302      \n",
       "5 CS005415000137  8734  3101.5 -4104      8302      \n",
       "6 CS006414000001  9156  3101.5 -4104      8302      "
      ]
     },
     "metadata": {},
     "output_type": "display_data"
    }
   ],
   "source": [
    "# assume you are on a local machine\n",
    "rel = DBI::dbReadTable(con, \"receipt\")\n",
    "library(stringr)\n",
    "\n",
    "rel %>%\n",
    "filter(!str_detect(customer_id, '^Z')) %>%\n",
    "group_by(customer_id) %>%\n",
    "summarise(amount = sum(amount, na.rm = TRUE)) %>%\n",
    "mutate(iqr = quantile(amount)[4] - quantile(amount)[2]) %>%\n",
    "mutate(thre_lower = quantile(amount)[2] - 1.5*iqr, thre_upper = quantile(amount)[4] + 1.5*iqr) %>%\n",
    "filter(amount < thre_lower | thre_upper < amount) %>%\n",
    "head"
   ]
  },
  {
   "cell_type": "markdown",
   "metadata": {},
   "source": [
    "### R-079:\n",
    "商品データ（df_product）の各項目に対し、欠損数を確認せよ。"
   ]
  },
  {
   "cell_type": "code",
   "execution_count": 39,
   "metadata": {
    "vscode": {
     "languageId": "r"
    }
   },
   "outputs": [
    {
     "ename": "ERROR",
     "evalue": "Error in data.frame(.): object 'pr' not found\n",
     "output_type": "error",
     "traceback": [
      "Error in data.frame(.): object 'pr' not found\nTraceback:\n",
      "1. pr %>% data.frame %>% summarise(across(everything(), ~is.na(.) %>% \n .     sum()))",
      "2. summarise(., across(everything(), ~is.na(.) %>% sum()))",
      "3. data.frame(.)"
     ]
    }
   ],
   "source": [
    "pr %>%\n",
    "data.frame %>%\n",
    "summarise(across(everything(), ~ is.na(.) %>% sum()))"
   ]
  },
  {
   "cell_type": "markdown",
   "metadata": {},
   "source": [
    "### R-080:\n",
    "商品データ（df_product）のいずれかの項目に欠損が発生しているレコードを全て削除した新たな商品データを作成せよ。なお、削除前後の件数を表示させ、079で確認した件数だけ減少していることも確認すること。"
   ]
  },
  {
   "cell_type": "code",
   "execution_count": null,
   "metadata": {
    "vscode": {
     "languageId": "r"
    }
   },
   "outputs": [
    {
     "data": {
      "text/html": [
       "10023"
      ],
      "text/latex": [
       "10023"
      ],
      "text/markdown": [
       "10023"
      ],
      "text/plain": [
       "[1] 10023"
      ]
     },
     "metadata": {},
     "output_type": "display_data"
    }
   ],
   "source": [
    "# complete.cases does not works on tbl\n",
    "pr %>% data.frame %>%\n",
    "filter(complete.cases(.)) %>% nrow"
   ]
  },
  {
   "cell_type": "markdown",
   "metadata": {},
   "source": [
    "### R-081:\n",
    "単価（unit_price）と原価（unit_cost）の欠損値について、それぞれの平均値で補完した新たな商品データを作成せよ。なお、平均値については1円未満を丸めること（四捨五入または偶数への丸めで良い）。補完実施後、各項目について欠損が生じていないことも確認すること。"
   ]
  },
  {
   "cell_type": "code",
   "execution_count": null,
   "metadata": {
    "vscode": {
     "languageId": "r"
    }
   },
   "outputs": [
    {
     "data": {
      "text/html": [
       "<table class=\"dataframe\">\n",
       "<caption>A tibble: 6 × 6</caption>\n",
       "<thead>\n",
       "\t<tr><th scope=col>product_cd</th><th scope=col>category_major_cd</th><th scope=col>category_medium_cd</th><th scope=col>category_small_cd</th><th scope=col>unit_price</th><th scope=col>unit_cost</th></tr>\n",
       "\t<tr><th scope=col>&lt;fct&gt;</th><th scope=col>&lt;fct&gt;</th><th scope=col>&lt;fct&gt;</th><th scope=col>&lt;fct&gt;</th><th scope=col>&lt;int&gt;</th><th scope=col>&lt;int&gt;</th></tr>\n",
       "</thead>\n",
       "<tbody>\n",
       "\t<tr><td>P040101001</td><td>04</td><td>0401</td><td>040101</td><td>198</td><td>149</td></tr>\n",
       "\t<tr><td>P040101002</td><td>04</td><td>0401</td><td>040101</td><td>218</td><td>164</td></tr>\n",
       "\t<tr><td>P040101003</td><td>04</td><td>0401</td><td>040101</td><td>230</td><td>173</td></tr>\n",
       "\t<tr><td>P040101004</td><td>04</td><td>0401</td><td>040101</td><td>248</td><td>186</td></tr>\n",
       "\t<tr><td>P040101005</td><td>04</td><td>0401</td><td>040101</td><td>268</td><td>201</td></tr>\n",
       "\t<tr><td>P040101006</td><td>04</td><td>0401</td><td>040101</td><td>298</td><td>224</td></tr>\n",
       "</tbody>\n",
       "</table>\n"
      ],
      "text/latex": [
       "A tibble: 6 × 6\n",
       "\\begin{tabular}{llllll}\n",
       " product\\_cd & category\\_major\\_cd & category\\_medium\\_cd & category\\_small\\_cd & unit\\_price & unit\\_cost\\\\\n",
       " <fct> & <fct> & <fct> & <fct> & <int> & <int>\\\\\n",
       "\\hline\n",
       "\t P040101001 & 04 & 0401 & 040101 & 198 & 149\\\\\n",
       "\t P040101002 & 04 & 0401 & 040101 & 218 & 164\\\\\n",
       "\t P040101003 & 04 & 0401 & 040101 & 230 & 173\\\\\n",
       "\t P040101004 & 04 & 0401 & 040101 & 248 & 186\\\\\n",
       "\t P040101005 & 04 & 0401 & 040101 & 268 & 201\\\\\n",
       "\t P040101006 & 04 & 0401 & 040101 & 298 & 224\\\\\n",
       "\\end{tabular}\n"
      ],
      "text/markdown": [
       "\n",
       "A tibble: 6 × 6\n",
       "\n",
       "| product_cd &lt;fct&gt; | category_major_cd &lt;fct&gt; | category_medium_cd &lt;fct&gt; | category_small_cd &lt;fct&gt; | unit_price &lt;int&gt; | unit_cost &lt;int&gt; |\n",
       "|---|---|---|---|---|---|\n",
       "| P040101001 | 04 | 0401 | 040101 | 198 | 149 |\n",
       "| P040101002 | 04 | 0401 | 040101 | 218 | 164 |\n",
       "| P040101003 | 04 | 0401 | 040101 | 230 | 173 |\n",
       "| P040101004 | 04 | 0401 | 040101 | 248 | 186 |\n",
       "| P040101005 | 04 | 0401 | 040101 | 268 | 201 |\n",
       "| P040101006 | 04 | 0401 | 040101 | 298 | 224 |\n",
       "\n"
      ],
      "text/plain": [
       "  product_cd category_major_cd category_medium_cd category_small_cd unit_price\n",
       "1 P040101001 04                0401               040101            198       \n",
       "2 P040101002 04                0401               040101            218       \n",
       "3 P040101003 04                0401               040101            230       \n",
       "4 P040101004 04                0401               040101            248       \n",
       "5 P040101005 04                0401               040101            268       \n",
       "6 P040101006 04                0401               040101            298       \n",
       "  unit_cost\n",
       "1 149      \n",
       "2 164      \n",
       "3 173      \n",
       "4 186      \n",
       "5 201      \n",
       "6 224      "
      ]
     },
     "metadata": {},
     "output_type": "display_data"
    }
   ],
   "source": [
    "library(tidymodels)\n",
    "\n",
    "pr %>%\n",
    "data.frame %>%\n",
    "recipe() %>%\n",
    "step_impute_mean(unit_price, unit_cost) %>%\n",
    "prep() %>%\n",
    "juice() %>%\n",
    "head\n",
    "# filter(unit_cost %>% is.na)"
   ]
  },
  {
   "cell_type": "code",
   "execution_count": null,
   "metadata": {
    "vscode": {
     "languageId": "r"
    }
   },
   "outputs": [],
   "source": []
  },
  {
   "cell_type": "markdown",
   "metadata": {},
   "source": [
    "### R-082:\n",
    "単価（unit_price）と原価（unit_cost）の欠損値について、それぞれの中央値で補完した新たな商品データを作成せよ。なお、中央値については1円未満を丸めること（四捨五入または偶数への丸めで良い）。補完実施後、各項目について欠損が生じていないことも確認すること。"
   ]
  },
  {
   "cell_type": "code",
   "execution_count": null,
   "metadata": {
    "vscode": {
     "languageId": "r"
    }
   },
   "outputs": [
    {
     "data": {
      "text/html": [
       "<table class=\"dataframe\">\n",
       "<caption>A tibble: 0 × 6</caption>\n",
       "<thead>\n",
       "\t<tr><th scope=col>product_cd</th><th scope=col>category_major_cd</th><th scope=col>category_medium_cd</th><th scope=col>category_small_cd</th><th scope=col>unit_price</th><th scope=col>unit_cost</th></tr>\n",
       "\t<tr><th scope=col>&lt;fct&gt;</th><th scope=col>&lt;fct&gt;</th><th scope=col>&lt;fct&gt;</th><th scope=col>&lt;fct&gt;</th><th scope=col>&lt;int&gt;</th><th scope=col>&lt;int&gt;</th></tr>\n",
       "</thead>\n",
       "<tbody>\n",
       "</tbody>\n",
       "</table>\n"
      ],
      "text/latex": [
       "A tibble: 0 × 6\n",
       "\\begin{tabular}{llllll}\n",
       " product\\_cd & category\\_major\\_cd & category\\_medium\\_cd & category\\_small\\_cd & unit\\_price & unit\\_cost\\\\\n",
       " <fct> & <fct> & <fct> & <fct> & <int> & <int>\\\\\n",
       "\\hline\n",
       "\\end{tabular}\n"
      ],
      "text/markdown": [
       "\n",
       "A tibble: 0 × 6\n",
       "\n",
       "| product_cd &lt;fct&gt; | category_major_cd &lt;fct&gt; | category_medium_cd &lt;fct&gt; | category_small_cd &lt;fct&gt; | unit_price &lt;int&gt; | unit_cost &lt;int&gt; |\n",
       "|---|---|---|---|---|---|\n",
       "\n"
      ],
      "text/plain": [
       "     product_cd category_major_cd category_medium_cd category_small_cd\n",
       "     unit_price unit_cost"
      ]
     },
     "metadata": {},
     "output_type": "display_data"
    }
   ],
   "source": [
    "pr %>%\n",
    "data.frame %>%\n",
    "recipe() %>%\n",
    "step_impute_median(unit_price, unit_cost) %>%\n",
    "prep() %>%\n",
    "juice() %>%\n",
    "#head\n",
    "filter(unit_cost %>% is.na) %>%head"
   ]
  },
  {
   "cell_type": "code",
   "execution_count": null,
   "metadata": {
    "vscode": {
     "languageId": "r"
    }
   },
   "outputs": [
    {
     "name": "stderr",
     "output_type": "stream",
     "text": [
      "Warning message in mean.default(.$unit_price, na.rm = T):\n",
      "“argument is not numeric or logical: returning NA”\n",
      "Warning message in mean.default(.$unit_cost, na.rm = T):\n",
      "“argument is not numeric or logical: returning NA”\n"
     ]
    },
    {
     "data": {
      "text/plain": [
       "\u001b[90m# Source:   lazy query [?? x 6]\u001b[39m\n",
       "\u001b[90m# Database: postgres 12.0.9 [@localhost:5432/knock100]\u001b[39m\n",
       "   product_cd category_major_cd category_medium_cd category_small_cd unit_price\n",
       "   \u001b[3m\u001b[90m<chr>\u001b[39m\u001b[23m      \u001b[3m\u001b[90m<chr>\u001b[39m\u001b[23m             \u001b[3m\u001b[90m<chr>\u001b[39m\u001b[23m              \u001b[3m\u001b[90m<chr>\u001b[39m\u001b[23m                  \u001b[3m\u001b[90m<int>\u001b[39m\u001b[23m\n",
       "\u001b[90m 1\u001b[39m P040101001 04                0401               040101                   198\n",
       "\u001b[90m 2\u001b[39m P040101002 04                0401               040101                   218\n",
       "\u001b[90m 3\u001b[39m P040101003 04                0401               040101                   230\n",
       "\u001b[90m 4\u001b[39m P040101004 04                0401               040101                   248\n",
       "\u001b[90m 5\u001b[39m P040101005 04                0401               040101                   268\n",
       "\u001b[90m 6\u001b[39m P040101006 04                0401               040101                   298\n",
       "\u001b[90m 7\u001b[39m P040101007 04                0401               040101                   338\n",
       "\u001b[90m 8\u001b[39m P040101008 04                0401               040101                   420\n",
       "\u001b[90m 9\u001b[39m P040101009 04                0401               040101                   498\n",
       "\u001b[90m10\u001b[39m P040101010 04                0401               040101                   580\n",
       "\u001b[90m# … with more rows, and 1 more variable: unit_cost <int>\u001b[39m"
      ]
     },
     "metadata": {},
     "output_type": "display_data"
    }
   ],
   "source": [
    "pr %>%\n",
    "  replace_na(list(unit_price = mean(.$unit_price, na.rm = T) %>% round, unit_cost = mean(.$unit_cost, na.rm = T) %>% round))"
   ]
  },
  {
   "cell_type": "markdown",
   "metadata": {},
   "source": [
    "### R-083:\n",
    "単価（unit_price）と原価（unit_cost）の欠損値について、各商品のカテゴリ小区分コード（category_small_cd）ごとに算出した中央値で補完した新たな商品データを作成せよ。なお、中央値については1円未満を丸めること（四捨五入または偶数への丸めで良い）。補完実施後、各項目について欠損が生じていないことも確認すること。"
   ]
  },
  {
   "cell_type": "code",
   "execution_count": null,
   "metadata": {
    "vscode": {
     "languageId": "r"
    }
   },
   "outputs": [
    {
     "data": {
      "text/plain": [
       "\u001b[90m# Source:   lazy query [?? x 8]\u001b[39m\n",
       "\u001b[90m# Database: postgres 12.0.9 [@localhost:5432/knock100]\u001b[39m\n",
       "   category_small_cd price_median cost_median product_cd category_major_cd\n",
       "   \u001b[3m\u001b[90m<chr>\u001b[39m\u001b[23m                    \u001b[3m\u001b[90m<dbl>\u001b[39m\u001b[23m       \u001b[3m\u001b[90m<dbl>\u001b[39m\u001b[23m \u001b[3m\u001b[90m<chr>\u001b[39m\u001b[23m      \u001b[3m\u001b[90m<chr>\u001b[39m\u001b[23m            \n",
       "\u001b[90m 1\u001b[39m 040101                     283         213 P040101001 04               \n",
       "\u001b[90m 2\u001b[39m 040101                     283         213 P040101002 04               \n",
       "\u001b[90m 3\u001b[39m 040101                     283         213 P040101003 04               \n",
       "\u001b[90m 4\u001b[39m 040101                     283         213 P040101004 04               \n",
       "\u001b[90m 5\u001b[39m 040101                     283         213 P040101005 04               \n",
       "\u001b[90m 6\u001b[39m 040101                     283         213 P040101006 04               \n",
       "\u001b[90m 7\u001b[39m 040101                     283         213 P040101007 04               \n",
       "\u001b[90m 8\u001b[39m 040101                     283         213 P040101008 04               \n",
       "\u001b[90m 9\u001b[39m 040101                     283         213 P040101009 04               \n",
       "\u001b[90m10\u001b[39m 040101                     283         213 P040101010 04               \n",
       "\u001b[90m# … with more rows, and 3 more variables: category_medium_cd <chr>,\u001b[39m\n",
       "\u001b[90m#   unit_price <dbl>, unit_cost <dbl>\u001b[39m"
      ]
     },
     "metadata": {},
     "output_type": "display_data"
    }
   ],
   "source": [
    "pr %>%\n",
    "group_by(category_small_cd) %>%\n",
    "summarise(\n",
    "\t\tprice_median = unit_price %>% median(na.rm = TRUE) %>% round(),\n",
    "\t\tcost_median = unit_cost %>% median(na.rm = TRUE) %>% round()\n",
    "\t\t) %>%\n",
    "inner_join(pr, by='category_small_cd') %>%\n",
    "mutate(\n",
    "\tunit_price = ifelse(unit_price %>% is.na, price_median, unit_price),\n",
    "\tunit_cost = ifelse(unit_cost %>% is.na, cost_median, unit_cost)\n",
    ")"
   ]
  },
  {
   "cell_type": "markdown",
   "metadata": {},
   "source": [
    "### R-084:\n",
    "顧客データ（df_customer）の全顧客に対して全期間の売上金額に占める2019年売上金額の割合を計算し、新たなデータを作成せよ。ただし、売上実績がない場合は0として扱うこと。そして計算した割合が0超のものを抽出し、結果を10件表示せよ。また、作成したデータに欠損が存在しないことを確認せよ。"
   ]
  },
  {
   "cell_type": "code",
   "execution_count": null,
   "metadata": {
    "vscode": {
     "languageId": "r"
    }
   },
   "outputs": [
    {
     "data": {
      "text/html": [
       "<table class=\"dataframe\">\n",
       "<caption>A tibble: 10 × 13</caption>\n",
       "<thead>\n",
       "\t<tr><th scope=col>customer_id</th><th scope=col>amount_all</th><th scope=col>amount_2019</th><th scope=col>customer_name</th><th scope=col>gender_cd</th><th scope=col>gender</th><th scope=col>birth_day</th><th scope=col>age</th><th scope=col>postal_cd</th><th scope=col>address</th><th scope=col>application_store_cd</th><th scope=col>application_date</th><th scope=col>status_cd</th></tr>\n",
       "\t<tr><th scope=col>&lt;chr&gt;</th><th scope=col>&lt;int&gt;</th><th scope=col>&lt;dbl&gt;</th><th scope=col>&lt;chr&gt;</th><th scope=col>&lt;int&gt;</th><th scope=col>&lt;chr&gt;</th><th scope=col>&lt;date&gt;</th><th scope=col>&lt;int&gt;</th><th scope=col>&lt;chr&gt;</th><th scope=col>&lt;chr&gt;</th><th scope=col>&lt;chr&gt;</th><th scope=col>&lt;chr&gt;</th><th scope=col>&lt;chr&gt;</th></tr>\n",
       "</thead>\n",
       "<tbody>\n",
       "\t<tr><td>CS001113000004</td><td>1298</td><td>1298</td><td>葛西 莉央  </td><td>1</td><td>女性</td><td>2003-02-22</td><td>16</td><td>144-0056</td><td>東京都大田区西六郷**********      </td><td>S13001</td><td>20151105</td><td>7-20100308-1</td></tr>\n",
       "\t<tr><td>CS001114000005</td><td> 626</td><td> 188</td><td>安 里穂    </td><td>1</td><td>女性</td><td>2004-11-22</td><td>14</td><td>144-0056</td><td>東京都大田区西六郷**********      </td><td>S13001</td><td>20160412</td><td>5-20100731-7</td></tr>\n",
       "\t<tr><td>CS001115000010</td><td>3044</td><td> 578</td><td>藤沢 涼    </td><td>1</td><td>女性</td><td>2006-05-16</td><td>12</td><td>144-0056</td><td>東京都大田区西六郷**********      </td><td>S13001</td><td>20150417</td><td>B-20100405-9</td></tr>\n",
       "\t<tr><td>CS001205000004</td><td>1988</td><td> 702</td><td>奥山 秀隆  </td><td>0</td><td>男性</td><td>1993-02-28</td><td>26</td><td>144-0056</td><td>東京都大田区西六郷**********      </td><td>S13001</td><td>20160615</td><td>9-20100625-C</td></tr>\n",
       "\t<tr><td>CS001205000006</td><td>3337</td><td> 486</td><td>福士 明    </td><td>0</td><td>男性</td><td>1993-06-12</td><td>25</td><td>144-0056</td><td>東京都大田区西六郷**********      </td><td>S13001</td><td>20161111</td><td>B-20100224-C</td></tr>\n",
       "\t<tr><td>CS001211000025</td><td> 456</td><td> 456</td><td>河野 夏希  </td><td>1</td><td>女性</td><td>1996-06-09</td><td>22</td><td>140-0013</td><td>東京都品川区南大井**********      </td><td>S13001</td><td>20160505</td><td>4-20100322-2</td></tr>\n",
       "\t<tr><td>CS001212000070</td><td> 456</td><td> 456</td><td>浜本 愛    </td><td>1</td><td>女性</td><td>1996-01-14</td><td>23</td><td>210-0831</td><td>神奈川県川崎市川崎区観音**********</td><td>S13001</td><td>20160918</td><td>4-20101018-2</td></tr>\n",
       "\t<tr><td>CS001214000009</td><td>4685</td><td> 664</td><td>平尾 奈月  </td><td>1</td><td>女性</td><td>1990-05-02</td><td>28</td><td>144-0056</td><td>東京都大田区西六郷**********      </td><td>S13001</td><td>20160108</td><td>D-20100902-D</td></tr>\n",
       "\t<tr><td>CS001214000017</td><td>4132</td><td>2962</td><td>小野 寿々花</td><td>1</td><td>女性</td><td>1996-06-05</td><td>22</td><td>144-0056</td><td>東京都大田区西六郷**********      </td><td>S13001</td><td>20150409</td><td>C-20101006-C</td></tr>\n",
       "\t<tr><td>CS001214000048</td><td>2374</td><td>1889</td><td>牧 エリカ  </td><td>1</td><td>女性</td><td>1991-06-20</td><td>27</td><td>144-0056</td><td>東京都大田区西六郷**********      </td><td>S13001</td><td>20160830</td><td>A-20100929-C</td></tr>\n",
       "</tbody>\n",
       "</table>\n"
      ],
      "text/latex": [
       "A tibble: 10 × 13\n",
       "\\begin{tabular}{lllllllllllll}\n",
       " customer\\_id & amount\\_all & amount\\_2019 & customer\\_name & gender\\_cd & gender & birth\\_day & age & postal\\_cd & address & application\\_store\\_cd & application\\_date & status\\_cd\\\\\n",
       " <chr> & <int> & <dbl> & <chr> & <int> & <chr> & <date> & <int> & <chr> & <chr> & <chr> & <chr> & <chr>\\\\\n",
       "\\hline\n",
       "\t CS001113000004 & 1298 & 1298 & 葛西 莉央   & 1 & 女性 & 2003-02-22 & 16 & 144-0056 & 東京都大田区西六郷**********       & S13001 & 20151105 & 7-20100308-1\\\\\n",
       "\t CS001114000005 &  626 &  188 & 安 里穂     & 1 & 女性 & 2004-11-22 & 14 & 144-0056 & 東京都大田区西六郷**********       & S13001 & 20160412 & 5-20100731-7\\\\\n",
       "\t CS001115000010 & 3044 &  578 & 藤沢 涼     & 1 & 女性 & 2006-05-16 & 12 & 144-0056 & 東京都大田区西六郷**********       & S13001 & 20150417 & B-20100405-9\\\\\n",
       "\t CS001205000004 & 1988 &  702 & 奥山 秀隆   & 0 & 男性 & 1993-02-28 & 26 & 144-0056 & 東京都大田区西六郷**********       & S13001 & 20160615 & 9-20100625-C\\\\\n",
       "\t CS001205000006 & 3337 &  486 & 福士 明     & 0 & 男性 & 1993-06-12 & 25 & 144-0056 & 東京都大田区西六郷**********       & S13001 & 20161111 & B-20100224-C\\\\\n",
       "\t CS001211000025 &  456 &  456 & 河野 夏希   & 1 & 女性 & 1996-06-09 & 22 & 140-0013 & 東京都品川区南大井**********       & S13001 & 20160505 & 4-20100322-2\\\\\n",
       "\t CS001212000070 &  456 &  456 & 浜本 愛     & 1 & 女性 & 1996-01-14 & 23 & 210-0831 & 神奈川県川崎市川崎区観音********** & S13001 & 20160918 & 4-20101018-2\\\\\n",
       "\t CS001214000009 & 4685 &  664 & 平尾 奈月   & 1 & 女性 & 1990-05-02 & 28 & 144-0056 & 東京都大田区西六郷**********       & S13001 & 20160108 & D-20100902-D\\\\\n",
       "\t CS001214000017 & 4132 & 2962 & 小野 寿々花 & 1 & 女性 & 1996-06-05 & 22 & 144-0056 & 東京都大田区西六郷**********       & S13001 & 20150409 & C-20101006-C\\\\\n",
       "\t CS001214000048 & 2374 & 1889 & 牧 エリカ   & 1 & 女性 & 1991-06-20 & 27 & 144-0056 & 東京都大田区西六郷**********       & S13001 & 20160830 & A-20100929-C\\\\\n",
       "\\end{tabular}\n"
      ],
      "text/markdown": [
       "\n",
       "A tibble: 10 × 13\n",
       "\n",
       "| customer_id &lt;chr&gt; | amount_all &lt;int&gt; | amount_2019 &lt;dbl&gt; | customer_name &lt;chr&gt; | gender_cd &lt;int&gt; | gender &lt;chr&gt; | birth_day &lt;date&gt; | age &lt;int&gt; | postal_cd &lt;chr&gt; | address &lt;chr&gt; | application_store_cd &lt;chr&gt; | application_date &lt;chr&gt; | status_cd &lt;chr&gt; |\n",
       "|---|---|---|---|---|---|---|---|---|---|---|---|---|\n",
       "| CS001113000004 | 1298 | 1298 | 葛西 莉央   | 1 | 女性 | 2003-02-22 | 16 | 144-0056 | 東京都大田区西六郷**********       | S13001 | 20151105 | 7-20100308-1 |\n",
       "| CS001114000005 |  626 |  188 | 安 里穂     | 1 | 女性 | 2004-11-22 | 14 | 144-0056 | 東京都大田区西六郷**********       | S13001 | 20160412 | 5-20100731-7 |\n",
       "| CS001115000010 | 3044 |  578 | 藤沢 涼     | 1 | 女性 | 2006-05-16 | 12 | 144-0056 | 東京都大田区西六郷**********       | S13001 | 20150417 | B-20100405-9 |\n",
       "| CS001205000004 | 1988 |  702 | 奥山 秀隆   | 0 | 男性 | 1993-02-28 | 26 | 144-0056 | 東京都大田区西六郷**********       | S13001 | 20160615 | 9-20100625-C |\n",
       "| CS001205000006 | 3337 |  486 | 福士 明     | 0 | 男性 | 1993-06-12 | 25 | 144-0056 | 東京都大田区西六郷**********       | S13001 | 20161111 | B-20100224-C |\n",
       "| CS001211000025 |  456 |  456 | 河野 夏希   | 1 | 女性 | 1996-06-09 | 22 | 140-0013 | 東京都品川区南大井**********       | S13001 | 20160505 | 4-20100322-2 |\n",
       "| CS001212000070 |  456 |  456 | 浜本 愛     | 1 | 女性 | 1996-01-14 | 23 | 210-0831 | 神奈川県川崎市川崎区観音********** | S13001 | 20160918 | 4-20101018-2 |\n",
       "| CS001214000009 | 4685 |  664 | 平尾 奈月   | 1 | 女性 | 1990-05-02 | 28 | 144-0056 | 東京都大田区西六郷**********       | S13001 | 20160108 | D-20100902-D |\n",
       "| CS001214000017 | 4132 | 2962 | 小野 寿々花 | 1 | 女性 | 1996-06-05 | 22 | 144-0056 | 東京都大田区西六郷**********       | S13001 | 20150409 | C-20101006-C |\n",
       "| CS001214000048 | 2374 | 1889 | 牧 エリカ   | 1 | 女性 | 1991-06-20 | 27 | 144-0056 | 東京都大田区西六郷**********       | S13001 | 20160830 | A-20100929-C |\n",
       "\n"
      ],
      "text/plain": [
       "   customer_id    amount_all amount_2019 customer_name gender_cd gender\n",
       "1  CS001113000004 1298       1298        葛西 莉央     1         女性  \n",
       "2  CS001114000005  626        188        安 里穂       1         女性  \n",
       "3  CS001115000010 3044        578        藤沢 涼       1         女性  \n",
       "4  CS001205000004 1988        702        奥山 秀隆     0         男性  \n",
       "5  CS001205000006 3337        486        福士 明       0         男性  \n",
       "6  CS001211000025  456        456        河野 夏希     1         女性  \n",
       "7  CS001212000070  456        456        浜本 愛       1         女性  \n",
       "8  CS001214000009 4685        664        平尾 奈月     1         女性  \n",
       "9  CS001214000017 4132       2962        小野 寿々花   1         女性  \n",
       "10 CS001214000048 2374       1889        牧 エリカ     1         女性  \n",
       "   birth_day  age postal_cd address                           \n",
       "1  2003-02-22 16  144-0056  東京都大田区西六郷**********      \n",
       "2  2004-11-22 14  144-0056  東京都大田区西六郷**********      \n",
       "3  2006-05-16 12  144-0056  東京都大田区西六郷**********      \n",
       "4  1993-02-28 26  144-0056  東京都大田区西六郷**********      \n",
       "5  1993-06-12 25  144-0056  東京都大田区西六郷**********      \n",
       "6  1996-06-09 22  140-0013  東京都品川区南大井**********      \n",
       "7  1996-01-14 23  210-0831  神奈川県川崎市川崎区観音**********\n",
       "8  1990-05-02 28  144-0056  東京都大田区西六郷**********      \n",
       "9  1996-06-05 22  144-0056  東京都大田区西六郷**********      \n",
       "10 1991-06-20 27  144-0056  東京都大田区西六郷**********      \n",
       "   application_store_cd application_date status_cd   \n",
       "1  S13001               20151105         7-20100308-1\n",
       "2  S13001               20160412         5-20100731-7\n",
       "3  S13001               20150417         B-20100405-9\n",
       "4  S13001               20160615         9-20100625-C\n",
       "5  S13001               20161111         B-20100224-C\n",
       "6  S13001               20160505         4-20100322-2\n",
       "7  S13001               20160918         4-20101018-2\n",
       "8  S13001               20160108         D-20100902-D\n",
       "9  S13001               20150409         C-20101006-C\n",
       "10 S13001               20160830         A-20100929-C"
      ]
     },
     "metadata": {},
     "output_type": "display_data"
    }
   ],
   "source": [
    "library(lubridate)\n",
    "cu = tbl(con, 'customer')\n",
    "\n",
    "re %>%\n",
    "data.frame %>%\n",
    "mutate(year = sales_ymd %>% ymd %>% year) %>%\n",
    "group_by(customer_id) %>%\n",
    "summarize(\n",
    "\tamount_all = sum(amount, na.rm = TRUE),\n",
    "\tamount_2019 = sum(ifelse(year == 2019,amount,0 ), na.rm = TRUE)\n",
    ") %>%\n",
    "right_join(cu %>% data.frame, by = 'customer_id') %>%\n",
    "replace_na(list(amount_all = 0, amount_2019 = 0)) %>%\n",
    "filter(amount_2019 > 0) %>% head(10)"
   ]
  },
  {
   "cell_type": "markdown",
   "metadata": {},
   "source": [
    "### R-085:\n",
    "顧客データ（df_customer）の全顧客に対し、郵便番号（postal_cd）を用いてジオコードデータ（df_geocode）を紐付け、新たな顧客データを作成せよ。ただし、1つの郵便番号（postal_cd）に複数の経度（longitude）、緯度（latitude）情報が紐づく場合は、経度（longitude）、緯度（latitude）の平均値を算出して使用すること。また、作成結果を確認するために結果を10件表示せよ。"
   ]
  },
  {
   "cell_type": "markdown",
   "metadata": {},
   "source": [
    "### R-086:\n",
    "085で作成した緯度経度つき顧客データに対し、会員申込店舗コード（application_store_cd）をキーに店舗データ（df_store）と結合せよ。そして申込み店舗の緯度（latitude）・経度情報（longitude)と顧客住所（address）の緯度・経度を用いて申込み店舗と顧客住所の距離（単位：km）を求め、顧客ID（customer_id）、顧客住所（address）、店舗住所（address）とともに表示せよ。計算式は以下の簡易式で良いものとするが、その他精度の高い方式を利用したライブラリを利用してもかまわない。結果は10件表示せよ。"
   ]
  },
  {
   "cell_type": "markdown",
   "metadata": {},
   "source": [
    "### R-087:\n",
    "顧客データ（df_customer）では、異なる店舗での申込みなどにより同一顧客が複数登録されている。名前（customer_name）と郵便番号（postal_cd）が同じ顧客は同一顧客とみなして1顧客1レコードとなるように名寄せした名寄顧客データを作成し、顧客データの件数、名寄顧客データの件数、重複数を算出せよ。ただし、同一顧客に対しては売上金額合計が最も高いものを残し、売上金額合計が同一もしくは売上実績がない顧客については顧客ID（customer_id）の番号が小さいものを残すこととする。"
   ]
  },
  {
   "cell_type": "markdown",
   "metadata": {},
   "source": [
    "### R-088:\n",
    "087で作成したデータを元に、顧客データに統合名寄IDを付与したデータを作成せよ。ただし、統合名寄IDは以下の仕様で付与するものとする。\n",
    "- 重複していない顧客：顧客ID（customer_id）を設定\n",
    "- 重複している顧客：前設問で抽出したレコードの顧客IDを設定\n",
    "\n",
    "顧客IDのユニーク件数と、統合名寄IDのユニーク件数の差も確認すること。"
   ]
  },
  {
   "cell_type": "markdown",
   "metadata": {},
   "source": [
    "### R-089:\n",
    "売上実績がある顧客を、予測モデル構築のため学習用データとテスト用データに分割したい。それぞれ8:2の割合でランダムにデータを分割せよ。"
   ]
  },
  {
   "cell_type": "markdown",
   "metadata": {},
   "source": [
    "### R-090:\n",
    "レシート明細データ（df_receipt）は2017年1月1日〜2019年10月31日までのデータを有している。売上金額（amount）を月次で集計し、学習用に12ヶ月、テスト用に6ヶ月の時系列モデル構築用データを3セット作成せよ。"
   ]
  },
  {
   "cell_type": "markdown",
   "metadata": {},
   "source": []
  }
 ],
 "metadata": {
  "kernelspec": {
   "display_name": "R",
   "language": "R",
   "name": "ir"
  },
  "language_info": {
   "codemirror_mode": "r",
   "file_extension": ".r",
   "mimetype": "text/x-r-source",
   "name": "R",
   "pygments_lexer": "r",
   "version": "4.2.0"
  },
  "orig_nbformat": 4
 },
 "nbformat": 4,
 "nbformat_minor": 2
}
