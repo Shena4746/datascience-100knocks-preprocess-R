{
 "cells": [
  {
   "cell_type": "code",
   "execution_count": 273,
   "metadata": {
    "vscode": {
     "languageId": "r"
    }
   },
   "outputs": [],
   "source": [
    "library('DBI')\n",
    "library('RPostgreSQL')\n",
    "library('dbplyr')\n",
    "library('dplyr')\n",
    "library(tidyr)\n",
    "\n",
    "# connect to database\n",
    "con <- dbConnect(PostgreSQL(), host=\"localhost\", port=5432, dbname=\"knock100\", user=\"guest\", password=\"guest\")\n",
    "\n",
    "# get access to table\n",
    "receipt_tbl <-  tbl(con,'receipt')\n",
    "customer_tbl <- tbl(con, 'customer')"
   ]
  },
  {
   "cell_type": "markdown",
   "metadata": {},
   "source": [
    "### R-041\n",
    "レシート明細データ（df_receipt）の売上金額（amount）を日付（sales_ymd）ごとに集計し、前回売上があった日からの売上金額増減を計算せよ。そして結果を10件表示せよ。"
   ]
  },
  {
   "cell_type": "code",
   "execution_count": 276,
   "metadata": {
    "vscode": {
     "languageId": "r"
    }
   },
   "outputs": [
    {
     "data": {
      "text/plain": [
       "\u001b[90m# Source:   lazy query [?? x 4]\u001b[39m\n",
       "\u001b[90m# Database: postgres 12.0.11 [@localhost:5432/knock100]\u001b[39m\n",
       "  sales_ymd sales_today sales_yest   diff\n",
       "      \u001b[3m\u001b[90m<int>\u001b[39m\u001b[23m       \u001b[3m\u001b[90m<dbl>\u001b[39m\u001b[23m      \u001b[3m\u001b[90m<dbl>\u001b[39m\u001b[23m  \u001b[3m\u001b[90m<dbl>\u001b[39m\u001b[23m\n",
       "\u001b[90m1\u001b[39m  20\u001b[4m1\u001b[24m\u001b[4m9\u001b[24m\u001b[4m0\u001b[24m504       \u001b[4m4\u001b[24m\u001b[4m9\u001b[24m561         \u001b[31mNA\u001b[39m     \u001b[31mNA\u001b[39m\n",
       "\u001b[90m2\u001b[39m  20\u001b[4m1\u001b[24m\u001b[4m8\u001b[24m\u001b[4m0\u001b[24m414       \u001b[4m2\u001b[24m\u001b[4m7\u001b[24m599      \u001b[4m4\u001b[24m\u001b[4m9\u001b[24m561 -\u001b[31m\u001b[4m2\u001b[24m\u001b[4m1\u001b[24m9\u001b[39m\u001b[31m62\u001b[39m\n",
       "\u001b[90m3\u001b[39m  20\u001b[4m1\u001b[24m\u001b[4m7\u001b[24m\u001b[4m0\u001b[24m416       \u001b[4m1\u001b[24m\u001b[4m6\u001b[24m442      \u001b[4m2\u001b[24m\u001b[4m7\u001b[24m599 -\u001b[31m\u001b[4m1\u001b[24m\u001b[4m1\u001b[24m1\u001b[39m\u001b[31m57\u001b[39m\n",
       "\u001b[90m4\u001b[39m  20\u001b[4m1\u001b[24m\u001b[4m9\u001b[24m\u001b[4m0\u001b[24m422       \u001b[4m3\u001b[24m\u001b[4m7\u001b[24m044      \u001b[4m1\u001b[24m\u001b[4m6\u001b[24m442  \u001b[4m2\u001b[24m\u001b[4m0\u001b[24m602\n",
       "\u001b[90m5\u001b[39m  20\u001b[4m1\u001b[24m\u001b[4m9\u001b[24m\u001b[4m0\u001b[24m710       \u001b[4m2\u001b[24m\u001b[4m7\u001b[24m796      \u001b[4m3\u001b[24m\u001b[4m7\u001b[24m044  -\u001b[31m\u001b[4m9\u001b[24m24\u001b[39m\u001b[31m8\u001b[39m\n",
       "\u001b[90m6\u001b[39m  20\u001b[4m1\u001b[24m\u001b[4m8\u001b[24m\u001b[4m1\u001b[24m027       \u001b[4m2\u001b[24m\u001b[4m8\u001b[24m497      \u001b[4m2\u001b[24m\u001b[4m7\u001b[24m796    701"
      ]
     },
     "metadata": {},
     "output_type": "display_data"
    }
   ],
   "source": [
    "receipt_tbl %>%\n",
    "group_by(sales_ymd) %>%\n",
    "summarise(sales_today = sum(amount)) %>%\n",
    "mutate(sales_yest = sales_today %>% lag()) %>%\n",
    "mutate(diff = sales_today - sales_yest) %>%\n",
    "head"
   ]
  },
  {
   "cell_type": "code",
   "execution_count": 3,
   "metadata": {
    "vscode": {
     "languageId": "r"
    }
   },
   "outputs": [
    {
     "name": "stderr",
     "output_type": "stream",
     "text": [
      "Warning message:\n",
      "“Missing values are always removed in SQL.\n",
      "Use `SUM(x, na.rm = TRUE)` to silence this warning\n",
      "This warning is displayed only once per session.”\n"
     ]
    },
    {
     "data": {
      "text/plain": [
       "\u001b[90m# Source:   lazy query [?? x 4]\u001b[39m\n",
       "\u001b[90m# Database: postgres 12.0.11 [@localhost:5432/knock100]\u001b[39m\n",
       "  sales_ymd sales_today sales_yest   diff\n",
       "      \u001b[3m\u001b[90m<int>\u001b[39m\u001b[23m       \u001b[3m\u001b[90m<dbl>\u001b[39m\u001b[23m      \u001b[3m\u001b[90m<dbl>\u001b[39m\u001b[23m  \u001b[3m\u001b[90m<dbl>\u001b[39m\u001b[23m\n",
       "\u001b[90m1\u001b[39m  20\u001b[4m1\u001b[24m\u001b[4m9\u001b[24m\u001b[4m0\u001b[24m504       \u001b[4m4\u001b[24m\u001b[4m9\u001b[24m561          0  \u001b[4m4\u001b[24m\u001b[4m9\u001b[24m561\n",
       "\u001b[90m2\u001b[39m  20\u001b[4m1\u001b[24m\u001b[4m8\u001b[24m\u001b[4m0\u001b[24m414       \u001b[4m2\u001b[24m\u001b[4m7\u001b[24m599      \u001b[4m4\u001b[24m\u001b[4m9\u001b[24m561 -\u001b[31m\u001b[4m2\u001b[24m\u001b[4m1\u001b[24m9\u001b[39m\u001b[31m62\u001b[39m\n",
       "\u001b[90m3\u001b[39m  20\u001b[4m1\u001b[24m\u001b[4m7\u001b[24m\u001b[4m0\u001b[24m416       \u001b[4m1\u001b[24m\u001b[4m6\u001b[24m442      \u001b[4m2\u001b[24m\u001b[4m7\u001b[24m599 -\u001b[31m\u001b[4m1\u001b[24m\u001b[4m1\u001b[24m1\u001b[39m\u001b[31m57\u001b[39m\n",
       "\u001b[90m4\u001b[39m  20\u001b[4m1\u001b[24m\u001b[4m9\u001b[24m\u001b[4m0\u001b[24m422       \u001b[4m3\u001b[24m\u001b[4m7\u001b[24m044      \u001b[4m1\u001b[24m\u001b[4m6\u001b[24m442  \u001b[4m2\u001b[24m\u001b[4m0\u001b[24m602\n",
       "\u001b[90m5\u001b[39m  20\u001b[4m1\u001b[24m\u001b[4m9\u001b[24m\u001b[4m0\u001b[24m710       \u001b[4m2\u001b[24m\u001b[4m7\u001b[24m796      \u001b[4m3\u001b[24m\u001b[4m7\u001b[24m044  -\u001b[31m\u001b[4m9\u001b[24m24\u001b[39m\u001b[31m8\u001b[39m\n",
       "\u001b[90m6\u001b[39m  20\u001b[4m1\u001b[24m\u001b[4m8\u001b[24m\u001b[4m1\u001b[24m027       \u001b[4m2\u001b[24m\u001b[4m8\u001b[24m497      \u001b[4m2\u001b[24m\u001b[4m7\u001b[24m796    701"
      ]
     },
     "metadata": {},
     "output_type": "display_data"
    }
   ],
   "source": [
    "re %>%\n",
    "group_by(sales_ymd) %>%\n",
    "summarise(sales_today = sum(amount)) %>%\n",
    "mutate(sales_yest = ifelse(is.na(lag(sales_today)),0,lag(sales_today))) %>%\n",
    "mutate(diff = sales_today - sales_yest) %>%\n",
    "head"
   ]
  },
  {
   "cell_type": "markdown",
   "metadata": {},
   "source": [
    "### R-042\n",
    "レシート明細データ（df_receipt）の売上金額（amount）を日付（sales_ymd）ごとに集計し、各日付のデータに対し、前回、前々回、3回前に売上があった日のデータを結合せよ。そして結果を10件表示せよ。"
   ]
  },
  {
   "cell_type": "code",
   "execution_count": 4,
   "metadata": {
    "vscode": {
     "languageId": "r"
    }
   },
   "outputs": [
    {
     "data": {
      "text/plain": [
       "\u001b[90m# Source:   lazy query [?? x 5]\u001b[39m\n",
       "\u001b[90m# Database: postgres 12.0.11 [@localhost:5432/knock100]\u001b[39m\n",
       "  sales_ymd sales_today sales_1 sales_2 sales_3\n",
       "      \u001b[3m\u001b[90m<int>\u001b[39m\u001b[23m       \u001b[3m\u001b[90m<dbl>\u001b[39m\u001b[23m   \u001b[3m\u001b[90m<dbl>\u001b[39m\u001b[23m   \u001b[3m\u001b[90m<dbl>\u001b[39m\u001b[23m   \u001b[3m\u001b[90m<dbl>\u001b[39m\u001b[23m\n",
       "\u001b[90m1\u001b[39m  20\u001b[4m1\u001b[24m\u001b[4m9\u001b[24m\u001b[4m0\u001b[24m504       \u001b[4m4\u001b[24m\u001b[4m9\u001b[24m561       0       0       0\n",
       "\u001b[90m2\u001b[39m  20\u001b[4m1\u001b[24m\u001b[4m8\u001b[24m\u001b[4m0\u001b[24m414       \u001b[4m2\u001b[24m\u001b[4m7\u001b[24m599   \u001b[4m4\u001b[24m\u001b[4m9\u001b[24m561       0       0\n",
       "\u001b[90m3\u001b[39m  20\u001b[4m1\u001b[24m\u001b[4m7\u001b[24m\u001b[4m0\u001b[24m416       \u001b[4m1\u001b[24m\u001b[4m6\u001b[24m442   \u001b[4m2\u001b[24m\u001b[4m7\u001b[24m599   \u001b[4m4\u001b[24m\u001b[4m9\u001b[24m561       0\n",
       "\u001b[90m4\u001b[39m  20\u001b[4m1\u001b[24m\u001b[4m9\u001b[24m\u001b[4m0\u001b[24m422       \u001b[4m3\u001b[24m\u001b[4m7\u001b[24m044   \u001b[4m1\u001b[24m\u001b[4m6\u001b[24m442   \u001b[4m2\u001b[24m\u001b[4m7\u001b[24m599   \u001b[4m4\u001b[24m\u001b[4m9\u001b[24m561\n",
       "\u001b[90m5\u001b[39m  20\u001b[4m1\u001b[24m\u001b[4m9\u001b[24m\u001b[4m0\u001b[24m710       \u001b[4m2\u001b[24m\u001b[4m7\u001b[24m796   \u001b[4m3\u001b[24m\u001b[4m7\u001b[24m044   \u001b[4m1\u001b[24m\u001b[4m6\u001b[24m442   \u001b[4m2\u001b[24m\u001b[4m7\u001b[24m599\n",
       "\u001b[90m6\u001b[39m  20\u001b[4m1\u001b[24m\u001b[4m8\u001b[24m\u001b[4m1\u001b[24m027       \u001b[4m2\u001b[24m\u001b[4m8\u001b[24m497   \u001b[4m2\u001b[24m\u001b[4m7\u001b[24m796   \u001b[4m3\u001b[24m\u001b[4m7\u001b[24m044   \u001b[4m1\u001b[24m\u001b[4m6\u001b[24m442"
      ]
     },
     "metadata": {},
     "output_type": "display_data"
    }
   ],
   "source": [
    "receipt_tbl %>%\n",
    "group_by(sales_ymd) %>%\n",
    "summarise(sales_today = sum(amount)) %>%\n",
    "mutate(sales_1 = ifelse(is.na(lag(sales_today,n=1)),0,lag(sales_today,n=1)),\n",
    "\t\tsales_2 = ifelse(is.na(lag(sales_today,n=2)),0,lag(sales_today,n=2)),\n",
    "\t\tsales_3 = ifelse(is.na(lag(sales_today,n=3)),0,lag(sales_today,n=3))\n",
    ") %>%\n",
    "head"
   ]
  },
  {
   "cell_type": "code",
   "execution_count": 305,
   "metadata": {
    "vscode": {
     "languageId": "r"
    }
   },
   "outputs": [
    {
     "data": {
      "text/html": [
       "<table class=\"dataframe\">\n",
       "<caption>A tibble: 6 × 5</caption>\n",
       "<thead>\n",
       "\t<tr><th scope=col>sales_ymd</th><th scope=col>sales_daily</th><th scope=col>sales_daily_lag_1</th><th scope=col>sales_daily_lag_2</th><th scope=col>sales_daily_lag_3</th></tr>\n",
       "\t<tr><th scope=col>&lt;int&gt;</th><th scope=col>&lt;dbl&gt;</th><th scope=col>&lt;dbl&gt;</th><th scope=col>&lt;dbl&gt;</th><th scope=col>&lt;dbl&gt;</th></tr>\n",
       "</thead>\n",
       "<tbody>\n",
       "\t<tr><td>20190504</td><td>2382479472</td><td>        NA</td><td>        NA</td><td>        NA</td></tr>\n",
       "\t<tr><td>20180414</td><td>2118943470</td><td>2382479472</td><td>        NA</td><td>        NA</td></tr>\n",
       "\t<tr><td>20170416</td><td>1593462864</td><td>2118943470</td><td>2382479472</td><td>        NA</td></tr>\n",
       "\t<tr><td>20190422</td><td>2261327264</td><td>1593462864</td><td>2118943470</td><td>2382479472</td></tr>\n",
       "\t<tr><td>20190710</td><td>2059452420</td><td>2261327264</td><td>1593462864</td><td>2118943470</td></tr>\n",
       "\t<tr><td>20181027</td><td>1836473457</td><td>2059452420</td><td>2261327264</td><td>1593462864</td></tr>\n",
       "</tbody>\n",
       "</table>\n"
      ],
      "text/latex": [
       "A tibble: 6 × 5\n",
       "\\begin{tabular}{lllll}\n",
       " sales\\_ymd & sales\\_daily & sales\\_daily\\_lag\\_1 & sales\\_daily\\_lag\\_2 & sales\\_daily\\_lag\\_3\\\\\n",
       " <int> & <dbl> & <dbl> & <dbl> & <dbl>\\\\\n",
       "\\hline\n",
       "\t 20190504 & 2382479472 &         NA &         NA &         NA\\\\\n",
       "\t 20180414 & 2118943470 & 2382479472 &         NA &         NA\\\\\n",
       "\t 20170416 & 1593462864 & 2118943470 & 2382479472 &         NA\\\\\n",
       "\t 20190422 & 2261327264 & 1593462864 & 2118943470 & 2382479472\\\\\n",
       "\t 20190710 & 2059452420 & 2261327264 & 1593462864 & 2118943470\\\\\n",
       "\t 20181027 & 1836473457 & 2059452420 & 2261327264 & 1593462864\\\\\n",
       "\\end{tabular}\n"
      ],
      "text/markdown": [
       "\n",
       "A tibble: 6 × 5\n",
       "\n",
       "| sales_ymd &lt;int&gt; | sales_daily &lt;dbl&gt; | sales_daily_lag_1 &lt;dbl&gt; | sales_daily_lag_2 &lt;dbl&gt; | sales_daily_lag_3 &lt;dbl&gt; |\n",
       "|---|---|---|---|---|\n",
       "| 20190504 | 2382479472 |         NA |         NA |         NA |\n",
       "| 20180414 | 2118943470 | 2382479472 |         NA |         NA |\n",
       "| 20170416 | 1593462864 | 2118943470 | 2382479472 |         NA |\n",
       "| 20190422 | 2261327264 | 1593462864 | 2118943470 | 2382479472 |\n",
       "| 20190710 | 2059452420 | 2261327264 | 1593462864 | 2118943470 |\n",
       "| 20181027 | 1836473457 | 2059452420 | 2261327264 | 1593462864 |\n",
       "\n"
      ],
      "text/plain": [
       "  sales_ymd sales_daily sales_daily_lag_1 sales_daily_lag_2 sales_daily_lag_3\n",
       "1 20190504  2382479472          NA                NA                NA       \n",
       "2 20180414  2118943470  2382479472                NA                NA       \n",
       "3 20170416  1593462864  2118943470        2382479472                NA       \n",
       "4 20190422  2261327264  1593462864        2118943470        2382479472       \n",
       "5 20190710  2059452420  2261327264        1593462864        2118943470       \n",
       "6 20181027  1836473457  2059452420        2261327264        1593462864       "
      ]
     },
     "metadata": {},
     "output_type": "display_data"
    }
   ],
   "source": [
    "library(stringr)\n",
    "\n",
    "D <- 3\n",
    "\n",
    "# lag formulas to apply\n",
    "fms <- list()\n",
    "for (d in 1:D) fms[[d]] <- stringr::str_c('~ lag(.x, n = ', d, ')') %>% as.formula()\n",
    "\n",
    "receipt_tbl %>%\n",
    "  group_by(sales_ymd) %>%\n",
    "  summarise(sales_daily= sum(sales_ymd)) %>%\n",
    "  collect() %>%\n",
    "  mutate(\n",
    "\t\tacross(\n",
    "\t\t\t.cols = sales_daily,\n",
    "\t\t\t.fns = fms,\n",
    "\t\t\t.names = '{.col}_lag_{.fn}'\n",
    "    )\n",
    "  ) %>% head"
   ]
  },
  {
   "cell_type": "code",
   "execution_count": 221,
   "metadata": {
    "vscode": {
     "languageId": "r"
    }
   },
   "outputs": [
    {
     "data": {
      "text/plain": [
       "\u001b[90m# Source:   lazy query [?? x 5]\u001b[39m\n",
       "\u001b[90m# Database: postgres 12.0.11 [@localhost:5432/knock100]\u001b[39m\n",
       "  sales_ymd sales_daily sales_daily_lag_1 sales_daily_lag_2 sales_daily_lag_3\n",
       "      \u001b[3m\u001b[90m<int>\u001b[39m\u001b[23m       \u001b[3m\u001b[90m<dbl>\u001b[39m\u001b[23m             \u001b[3m\u001b[90m<dbl>\u001b[39m\u001b[23m             \u001b[3m\u001b[90m<dbl>\u001b[39m\u001b[23m             \u001b[3m\u001b[90m<dbl>\u001b[39m\u001b[23m\n",
       "\u001b[90m1\u001b[39m  20\u001b[4m1\u001b[24m\u001b[4m9\u001b[24m\u001b[4m0\u001b[24m504  \u001b[4m2\u001b[24m382\u001b[4m4\u001b[24m\u001b[4m7\u001b[24m\u001b[4m9\u001b[24m472                \u001b[31mNA\u001b[39m                \u001b[31mNA\u001b[39m                \u001b[31mNA\u001b[39m\n",
       "\u001b[90m2\u001b[39m  20\u001b[4m1\u001b[24m\u001b[4m8\u001b[24m\u001b[4m0\u001b[24m414  \u001b[4m2\u001b[24m118\u001b[4m9\u001b[24m\u001b[4m4\u001b[24m\u001b[4m3\u001b[24m470        \u001b[4m2\u001b[24m382\u001b[4m4\u001b[24m\u001b[4m7\u001b[24m\u001b[4m9\u001b[24m472                \u001b[31mNA\u001b[39m                \u001b[31mNA\u001b[39m\n",
       "\u001b[90m3\u001b[39m  20\u001b[4m1\u001b[24m\u001b[4m7\u001b[24m\u001b[4m0\u001b[24m416  \u001b[4m1\u001b[24m593\u001b[4m4\u001b[24m\u001b[4m6\u001b[24m\u001b[4m2\u001b[24m864        \u001b[4m2\u001b[24m118\u001b[4m9\u001b[24m\u001b[4m4\u001b[24m\u001b[4m3\u001b[24m470        \u001b[4m2\u001b[24m382\u001b[4m4\u001b[24m\u001b[4m7\u001b[24m\u001b[4m9\u001b[24m472                \u001b[31mNA\u001b[39m\n",
       "\u001b[90m4\u001b[39m  20\u001b[4m1\u001b[24m\u001b[4m9\u001b[24m\u001b[4m0\u001b[24m422  \u001b[4m2\u001b[24m261\u001b[4m3\u001b[24m\u001b[4m2\u001b[24m\u001b[4m7\u001b[24m264        \u001b[4m1\u001b[24m593\u001b[4m4\u001b[24m\u001b[4m6\u001b[24m\u001b[4m2\u001b[24m864        \u001b[4m2\u001b[24m118\u001b[4m9\u001b[24m\u001b[4m4\u001b[24m\u001b[4m3\u001b[24m470        \u001b[4m2\u001b[24m382\u001b[4m4\u001b[24m\u001b[4m7\u001b[24m\u001b[4m9\u001b[24m472\n",
       "\u001b[90m5\u001b[39m  20\u001b[4m1\u001b[24m\u001b[4m9\u001b[24m\u001b[4m0\u001b[24m710  \u001b[4m2\u001b[24m059\u001b[4m4\u001b[24m\u001b[4m5\u001b[24m\u001b[4m2\u001b[24m420        \u001b[4m2\u001b[24m261\u001b[4m3\u001b[24m\u001b[4m2\u001b[24m\u001b[4m7\u001b[24m264        \u001b[4m1\u001b[24m593\u001b[4m4\u001b[24m\u001b[4m6\u001b[24m\u001b[4m2\u001b[24m864        \u001b[4m2\u001b[24m118\u001b[4m9\u001b[24m\u001b[4m4\u001b[24m\u001b[4m3\u001b[24m470\n",
       "\u001b[90m6\u001b[39m  20\u001b[4m1\u001b[24m\u001b[4m8\u001b[24m\u001b[4m1\u001b[24m027  \u001b[4m1\u001b[24m836\u001b[4m4\u001b[24m\u001b[4m7\u001b[24m\u001b[4m3\u001b[24m457        \u001b[4m2\u001b[24m059\u001b[4m4\u001b[24m\u001b[4m5\u001b[24m\u001b[4m2\u001b[24m420        \u001b[4m2\u001b[24m261\u001b[4m3\u001b[24m\u001b[4m2\u001b[24m\u001b[4m7\u001b[24m264        \u001b[4m1\u001b[24m593\u001b[4m4\u001b[24m\u001b[4m6\u001b[24m\u001b[4m2\u001b[24m864"
      ]
     },
     "metadata": {},
     "output_type": "display_data"
    }
   ],
   "source": [
    "library(stringr)\n",
    "# number of lags\n",
    "D <- 3\n",
    "\n",
    "sales_lag <- receipt_tbl %>%\n",
    "  group_by(sales_ymd) %>%\n",
    "  summarise(sales_daily= sum(sales_ymd))\n",
    "  \n",
    "for(d in 1:D){\n",
    "\tsales_lag %>% mutate(\n",
    "\t\t\t\tacross(\n",
    "      .cols = sales_lag %>% ncol(),\n",
    "      .fns = ~ lag(.x, n = 1),\n",
    "\t  .names = str_c('{.col}',d)\n",
    "    )\n",
    "  ) -> sales_lag\n",
    "}\n",
    "sales_lag %>% rename_with(.fn = function(x){str_sub(x,start = 1, end = 11) %>% str_c('_lag_', str_sub(x, start=-1,end=-1))}, .cols = -(D-1):-1)%>% head"
   ]
  },
  {
   "cell_type": "code",
   "execution_count": 329,
   "metadata": {
    "vscode": {
     "languageId": "r"
    }
   },
   "outputs": [
    {
     "data": {
      "text/plain": [
       "\u001b[90m# Source:   lazy query [?? x 5]\u001b[39m\n",
       "\u001b[90m# Database: postgres 12.0.11 [@localhost:5432/knock100]\u001b[39m\n",
       "  sales_ymd sales_daily sales_daily_lag_1 sales_daily_lag_2 sales_daily_lag_3\n",
       "      \u001b[3m\u001b[90m<int>\u001b[39m\u001b[23m       \u001b[3m\u001b[90m<dbl>\u001b[39m\u001b[23m             \u001b[3m\u001b[90m<dbl>\u001b[39m\u001b[23m             \u001b[3m\u001b[90m<dbl>\u001b[39m\u001b[23m             \u001b[3m\u001b[90m<dbl>\u001b[39m\u001b[23m\n",
       "\u001b[90m1\u001b[39m  20\u001b[4m1\u001b[24m\u001b[4m9\u001b[24m\u001b[4m0\u001b[24m504  \u001b[4m2\u001b[24m382\u001b[4m4\u001b[24m\u001b[4m7\u001b[24m\u001b[4m9\u001b[24m472                \u001b[31mNA\u001b[39m                \u001b[31mNA\u001b[39m                \u001b[31mNA\u001b[39m\n",
       "\u001b[90m2\u001b[39m  20\u001b[4m1\u001b[24m\u001b[4m8\u001b[24m\u001b[4m0\u001b[24m414  \u001b[4m2\u001b[24m118\u001b[4m9\u001b[24m\u001b[4m4\u001b[24m\u001b[4m3\u001b[24m470        \u001b[4m2\u001b[24m382\u001b[4m4\u001b[24m\u001b[4m7\u001b[24m\u001b[4m9\u001b[24m472                \u001b[31mNA\u001b[39m                \u001b[31mNA\u001b[39m\n",
       "\u001b[90m3\u001b[39m  20\u001b[4m1\u001b[24m\u001b[4m7\u001b[24m\u001b[4m0\u001b[24m416  \u001b[4m1\u001b[24m593\u001b[4m4\u001b[24m\u001b[4m6\u001b[24m\u001b[4m2\u001b[24m864        \u001b[4m2\u001b[24m118\u001b[4m9\u001b[24m\u001b[4m4\u001b[24m\u001b[4m3\u001b[24m470        \u001b[4m2\u001b[24m382\u001b[4m4\u001b[24m\u001b[4m7\u001b[24m\u001b[4m9\u001b[24m472                \u001b[31mNA\u001b[39m\n",
       "\u001b[90m4\u001b[39m  20\u001b[4m1\u001b[24m\u001b[4m9\u001b[24m\u001b[4m0\u001b[24m422  \u001b[4m2\u001b[24m261\u001b[4m3\u001b[24m\u001b[4m2\u001b[24m\u001b[4m7\u001b[24m264        \u001b[4m1\u001b[24m593\u001b[4m4\u001b[24m\u001b[4m6\u001b[24m\u001b[4m2\u001b[24m864        \u001b[4m2\u001b[24m118\u001b[4m9\u001b[24m\u001b[4m4\u001b[24m\u001b[4m3\u001b[24m470        \u001b[4m2\u001b[24m382\u001b[4m4\u001b[24m\u001b[4m7\u001b[24m\u001b[4m9\u001b[24m472\n",
       "\u001b[90m5\u001b[39m  20\u001b[4m1\u001b[24m\u001b[4m9\u001b[24m\u001b[4m0\u001b[24m710  \u001b[4m2\u001b[24m059\u001b[4m4\u001b[24m\u001b[4m5\u001b[24m\u001b[4m2\u001b[24m420        \u001b[4m2\u001b[24m261\u001b[4m3\u001b[24m\u001b[4m2\u001b[24m\u001b[4m7\u001b[24m264        \u001b[4m1\u001b[24m593\u001b[4m4\u001b[24m\u001b[4m6\u001b[24m\u001b[4m2\u001b[24m864        \u001b[4m2\u001b[24m118\u001b[4m9\u001b[24m\u001b[4m4\u001b[24m\u001b[4m3\u001b[24m470\n",
       "\u001b[90m6\u001b[39m  20\u001b[4m1\u001b[24m\u001b[4m8\u001b[24m\u001b[4m1\u001b[24m027  \u001b[4m1\u001b[24m836\u001b[4m4\u001b[24m\u001b[4m7\u001b[24m\u001b[4m3\u001b[24m457        \u001b[4m2\u001b[24m059\u001b[4m4\u001b[24m\u001b[4m5\u001b[24m\u001b[4m2\u001b[24m420        \u001b[4m2\u001b[24m261\u001b[4m3\u001b[24m\u001b[4m2\u001b[24m\u001b[4m7\u001b[24m264        \u001b[4m1\u001b[24m593\u001b[4m4\u001b[24m\u001b[4m6\u001b[24m\u001b[4m2\u001b[24m864"
      ]
     },
     "metadata": {},
     "output_type": "display_data"
    }
   ],
   "source": [
    "library(stringr)\n",
    "\n",
    "receipt_tbl %>%\n",
    "    group_by(sales_ymd) %>%\n",
    "    summarise(sales_daily = sum(sales_ymd)) %>%\n",
    "    mutate(\n",
    "        across(\n",
    "            .cols = sales_daily,\n",
    "            .fns = list(\n",
    "\t\t\t\tlag_1 = ~ lag(.x, n = 1),\n",
    "\t\t\t \tlag_2 = ~ lag(.x, n = 2),\n",
    "\t\t\t\tlag_3 = ~ lag(.x, n = 3)\n",
    "\t\t\t),\n",
    "        )\n",
    "    ) %>% head()"
   ]
  },
  {
   "cell_type": "markdown",
   "metadata": {},
   "source": [
    "### R-043:\n",
    "レシート明細データ（df_receipt）と顧客データ（df_customer）を結合し、性別コード（gender_cd）と年代（ageから計算）ごとに売上金額（amount）を合計した売上サマリデータを作成せよ。性別コードは0が男性、1が女性、9が不明を表すものとする。\n",
    "\n",
    "ただし、項目構成は年代、女性の売上金額、男性の売上金額、性別不明の売上金額の4項目とすること（縦に年代、横に性別のクロス集計）。また、年代は10歳ごとの階級とすること。"
   ]
  },
  {
   "cell_type": "code",
   "execution_count": 81,
   "metadata": {
    "vscode": {
     "languageId": "r"
    }
   },
   "outputs": [
    {
     "data": {
      "text/plain": [
       "\u001b[90m# Source:   lazy query [?? x 4]\u001b[39m\n",
       "\u001b[90m# Database: postgres 12.0.11 [@localhost:5432/knock100]\u001b[39m\n",
       "  generation sales_male sales_female sales_other\n",
       "       \u001b[3m\u001b[90m<dbl>\u001b[39m\u001b[23m      \u001b[3m\u001b[90m<dbl>\u001b[39m\u001b[23m        \u001b[3m\u001b[90m<dbl>\u001b[39m\u001b[23m       \u001b[3m\u001b[90m<dbl>\u001b[39m\u001b[23m\n",
       "\u001b[90m1\u001b[39m         10       \u001b[4m1\u001b[24m591       \u001b[4m1\u001b[24m\u001b[4m4\u001b[24m\u001b[4m9\u001b[24m836        \u001b[4m4\u001b[24m317\n",
       "\u001b[90m2\u001b[39m         20      \u001b[4m7\u001b[24m\u001b[4m2\u001b[24m940      1\u001b[4m3\u001b[24m\u001b[4m6\u001b[24m\u001b[4m3\u001b[24m724       \u001b[4m4\u001b[24m\u001b[4m4\u001b[24m328\n",
       "\u001b[90m3\u001b[39m         30     \u001b[4m1\u001b[24m\u001b[4m7\u001b[24m\u001b[4m7\u001b[24m322       \u001b[4m6\u001b[24m\u001b[4m9\u001b[24m\u001b[4m3\u001b[24m047       \u001b[4m5\u001b[24m\u001b[4m0\u001b[24m441\n",
       "\u001b[90m4\u001b[39m         40      \u001b[4m1\u001b[24m\u001b[4m9\u001b[24m355      9\u001b[4m3\u001b[24m\u001b[4m2\u001b[24m\u001b[4m0\u001b[24m791      \u001b[4m4\u001b[24m\u001b[4m8\u001b[24m\u001b[4m3\u001b[24m512\n",
       "\u001b[90m5\u001b[39m         50      \u001b[4m5\u001b[24m\u001b[4m4\u001b[24m320      6\u001b[4m6\u001b[24m\u001b[4m8\u001b[24m\u001b[4m5\u001b[24m192      \u001b[4m3\u001b[24m\u001b[4m4\u001b[24m\u001b[4m2\u001b[24m923\n",
       "\u001b[90m6\u001b[39m         60     \u001b[4m2\u001b[24m\u001b[4m7\u001b[24m\u001b[4m2\u001b[24m469       \u001b[4m9\u001b[24m\u001b[4m8\u001b[24m\u001b[4m7\u001b[24m741       \u001b[4m7\u001b[24m\u001b[4m1\u001b[24m418\n",
       "\u001b[90m7\u001b[39m         70      \u001b[4m1\u001b[24m\u001b[4m3\u001b[24m435        \u001b[4m2\u001b[24m\u001b[4m9\u001b[24m764        \u001b[4m2\u001b[24m427\n",
       "\u001b[90m8\u001b[39m         80      \u001b[4m4\u001b[24m\u001b[4m6\u001b[24m360       \u001b[4m2\u001b[24m\u001b[4m6\u001b[24m\u001b[4m2\u001b[24m923        \u001b[4m5\u001b[24m111\n",
       "\u001b[90m9\u001b[39m         90          0         \u001b[4m6\u001b[24m260           0"
      ]
     },
     "metadata": {},
     "output_type": "display_data"
    }
   ],
   "source": [
    "cu = tbl(con,'customer')\n",
    "re %>%\n",
    "inner_join(cu, by = 'customer_id') %>%\n",
    "mutate(generation = age - age%%10) %>%\n",
    "group_by(generation, gender_cd) %>%\n",
    "summarise(sales_amount = amount %>% sum(), .groups = 'drop') %>% \n",
    "pivot_wider(names_from = gender_cd, names_prefix = 'sales', values_from = sales_amount, values_fill = 0) %>%\n",
    "rename(sales_male = sales0, sales_female = sales1, sales_other = sales9) -> sales_summary\n",
    "sales_summary "
   ]
  },
  {
   "cell_type": "markdown",
   "metadata": {},
   "source": [
    "### R-044\n",
    "043で作成した売上サマリデータ（df_sales_summary）は性別の売上を横持ちさせたものであった。このデータから性別を縦持ちさせ、年代、性別コード、売上金額の3項目に変換せよ。ただし、性別コードは男性を\"00\"、女性を\"01\"、不明を\"99\"とする"
   ]
  },
  {
   "cell_type": "code",
   "execution_count": 85,
   "metadata": {
    "vscode": {
     "languageId": "r"
    }
   },
   "outputs": [
    {
     "data": {
      "text/plain": [
       "\u001b[90m# Source:   lazy query [?? x 3]\u001b[39m\n",
       "\u001b[90m# Database: postgres 12.0.11 [@localhost:5432/knock100]\u001b[39m\n",
       "  generation gender_cd sales_amount\n",
       "       \u001b[3m\u001b[90m<dbl>\u001b[39m\u001b[23m \u001b[3m\u001b[90m<chr>\u001b[39m\u001b[23m            \u001b[3m\u001b[90m<dbl>\u001b[39m\u001b[23m\n",
       "\u001b[90m1\u001b[39m         10 00                \u001b[4m1\u001b[24m591\n",
       "\u001b[90m2\u001b[39m         20 00               \u001b[4m7\u001b[24m\u001b[4m2\u001b[24m940\n",
       "\u001b[90m3\u001b[39m         30 00              \u001b[4m1\u001b[24m\u001b[4m7\u001b[24m\u001b[4m7\u001b[24m322\n",
       "\u001b[90m4\u001b[39m         40 00               \u001b[4m1\u001b[24m\u001b[4m9\u001b[24m355\n",
       "\u001b[90m5\u001b[39m         50 00               \u001b[4m5\u001b[24m\u001b[4m4\u001b[24m320\n",
       "\u001b[90m6\u001b[39m         60 00              \u001b[4m2\u001b[24m\u001b[4m7\u001b[24m\u001b[4m2\u001b[24m469"
      ]
     },
     "metadata": {},
     "output_type": "display_data"
    }
   ],
   "source": [
    "sales_summary %>%\n",
    "rename('00'=sales_male, '01'=sales_female, '99'=sales_other) %>%\n",
    "  pivot_longer(cols = - generation, names_to = 'gender_cd', values_to = 'sales_amount') %>% head"
   ]
  },
  {
   "cell_type": "code",
   "execution_count": 6,
   "metadata": {
    "vscode": {
     "languageId": "r"
    }
   },
   "outputs": [
    {
     "data": {
      "text/plain": [
       "\u001b[90m# Source:   lazy query [?? x 3]\u001b[39m\n",
       "\u001b[90m# Database: postgres 12.0.11 [@localhost:5432/knock100]\u001b[39m\n",
       "   generation gender   sales\n",
       "        \u001b[3m\u001b[90m<dbl>\u001b[39m\u001b[23m \u001b[3m\u001b[90m<chr>\u001b[39m\u001b[23m    \u001b[3m\u001b[90m<dbl>\u001b[39m\u001b[23m\n",
       "\u001b[90m 1\u001b[39m         10 01      \u001b[4m1\u001b[24m\u001b[4m4\u001b[24m\u001b[4m9\u001b[24m836\n",
       "\u001b[90m 2\u001b[39m         20 01     1\u001b[4m3\u001b[24m\u001b[4m6\u001b[24m\u001b[4m3\u001b[24m724\n",
       "\u001b[90m 3\u001b[39m         30 01      \u001b[4m6\u001b[24m\u001b[4m9\u001b[24m\u001b[4m3\u001b[24m047\n",
       "\u001b[90m 4\u001b[39m         40 01     9\u001b[4m3\u001b[24m\u001b[4m2\u001b[24m\u001b[4m0\u001b[24m791\n",
       "\u001b[90m 5\u001b[39m         50 01     6\u001b[4m6\u001b[24m\u001b[4m8\u001b[24m\u001b[4m5\u001b[24m192\n",
       "\u001b[90m 6\u001b[39m         60 01      \u001b[4m9\u001b[24m\u001b[4m8\u001b[24m\u001b[4m7\u001b[24m741\n",
       "\u001b[90m 7\u001b[39m         70 01       \u001b[4m2\u001b[24m\u001b[4m9\u001b[24m764\n",
       "\u001b[90m 8\u001b[39m         80 01      \u001b[4m2\u001b[24m\u001b[4m6\u001b[24m\u001b[4m2\u001b[24m923\n",
       "\u001b[90m 9\u001b[39m         90 01        \u001b[4m6\u001b[24m260\n",
       "\u001b[90m10\u001b[39m         10 00        \u001b[4m1\u001b[24m591"
      ]
     },
     "metadata": {},
     "output_type": "display_data"
    }
   ],
   "source": [
    "sales_summary %>%\n",
    "select(\n",
    "\tgeneration,\n",
    "\t'01' = sales_female,\n",
    "\t'00' = sales_male,\n",
    "\t'99' = sales_unknown\n",
    "\t) %>%\n",
    "pivot_longer(!generation, names_to = 'gender', values_to = 'sales') %>%\n",
    "head(10)"
   ]
  },
  {
   "cell_type": "markdown",
   "metadata": {},
   "source": [
    "### R-045\n",
    "顧客データ（df_customer）の生年月日（birth_day）は日付型でデータを保有している。これをYYYYMMDD形式の文字列に変換し、顧客ID（customer_id）とともに10件表示せよ。"
   ]
  },
  {
   "cell_type": "code",
   "execution_count": 48,
   "metadata": {
    "vscode": {
     "languageId": "r"
    }
   },
   "outputs": [
    {
     "data": {
      "text/plain": [
       "\u001b[90m# Source:   lazy query [?? x 2]\u001b[39m\n",
       "\u001b[90m# Database: postgres 12.0.11 [@localhost:5432/knock100]\u001b[39m\n",
       "  customer_id    date    \n",
       "  \u001b[3m\u001b[90m<chr>\u001b[39m\u001b[23m          \u001b[3m\u001b[90m<chr>\u001b[39m\u001b[23m   \n",
       "\u001b[90m1\u001b[39m CS021313000114 19810429\n",
       "\u001b[90m2\u001b[39m CS037613000071 19520401\n",
       "\u001b[90m3\u001b[39m CS031415000172 19761004\n",
       "\u001b[90m4\u001b[39m CS028811000001 19330327\n",
       "\u001b[90m5\u001b[39m CS001215000145 19950329\n",
       "\u001b[90m6\u001b[39m CS020401000016 19740915"
      ]
     },
     "metadata": {},
     "output_type": "display_data"
    }
   ],
   "source": [
    "cu %>%\n",
    "transmute(customer_id ,date = birth_day %>% as.character() %>% str_replace_all(pattern = '-',replacement='')) %>%\n",
    "head"
   ]
  },
  {
   "cell_type": "markdown",
   "metadata": {},
   "source": [
    "### R-046\n",
    "顧客データ（df_customer）の申し込み日（application_date）はYYYYMMDD形式の文字列型でデータを保有している。これを日付型に変換し、顧客ID（customer_id）とともに10件表示せよ。"
   ]
  },
  {
   "cell_type": "code",
   "execution_count": 8,
   "metadata": {
    "vscode": {
     "languageId": "r"
    }
   },
   "outputs": [
    {
     "data": {
      "text/plain": [
       "\u001b[90m# Source:   lazy query [?? x 2]\u001b[39m\n",
       "\u001b[90m# Database: postgres 12.0.11 [@localhost:5432/knock100]\u001b[39m\n",
       "  customer_id    application_date\n",
       "  \u001b[3m\u001b[90m<chr>\u001b[39m\u001b[23m          \u001b[3m\u001b[90m<date>\u001b[39m\u001b[23m          \n",
       "\u001b[90m1\u001b[39m CS021313000114 2015-09-05      \n",
       "\u001b[90m2\u001b[39m CS037613000071 2015-04-14      \n",
       "\u001b[90m3\u001b[39m CS031415000172 2015-05-29      \n",
       "\u001b[90m4\u001b[39m CS028811000001 2016-01-15      \n",
       "\u001b[90m5\u001b[39m CS001215000145 2017-06-05      \n",
       "\u001b[90m6\u001b[39m CS020401000016 2015-02-25      "
      ]
     },
     "metadata": {},
     "output_type": "display_data"
    }
   ],
   "source": [
    "customer_tbl %>%\n",
    "transmute(customer_id, application_date = as.Date(application_date)) %>%\n",
    "head"
   ]
  },
  {
   "cell_type": "markdown",
   "metadata": {},
   "source": [
    "### R-047\n",
    "レシート明細データ（df_receipt）の売上日（sales_ymd）はYYYYMMDD形式の数値型でデータを保有している。これを日付型に変換し、レシート番号(receipt_no)、レシートサブ番号（receipt_sub_no）とともに10件表示せよ。"
   ]
  },
  {
   "cell_type": "code",
   "execution_count": 47,
   "metadata": {
    "vscode": {
     "languageId": "r"
    }
   },
   "outputs": [
    {
     "data": {
      "text/plain": [
       "\u001b[90m# Source:   lazy query [?? x 3]\u001b[39m\n",
       "\u001b[90m# Database: postgres 12.0.11 [@localhost:5432/knock100]\u001b[39m\n",
       "  sales_date receipt_no receipt_sub_no\n",
       "  \u001b[3m\u001b[90m<date>\u001b[39m\u001b[23m          \u001b[3m\u001b[90m<int>\u001b[39m\u001b[23m          \u001b[3m\u001b[90m<int>\u001b[39m\u001b[23m\n",
       "\u001b[90m1\u001b[39m 2018-11-03        112              1\n",
       "\u001b[90m2\u001b[39m 2018-11-18       \u001b[4m1\u001b[24m132              2\n",
       "\u001b[90m3\u001b[39m 2017-07-12       \u001b[4m1\u001b[24m102              1\n",
       "\u001b[90m4\u001b[39m 2019-02-05       \u001b[4m1\u001b[24m132              1\n",
       "\u001b[90m5\u001b[39m 2018-08-21       \u001b[4m1\u001b[24m102              2\n",
       "\u001b[90m6\u001b[39m 2019-06-05       \u001b[4m1\u001b[24m112              1"
      ]
     },
     "metadata": {},
     "output_type": "display_data"
    }
   ],
   "source": [
    "re %>%\n",
    "transmute(sales_date = sales_ymd %>% as.character() %>% as.Date(),\n",
    "\t\t\treceipt_no,receipt_sub_no) %>%\n",
    "head"
   ]
  },
  {
   "cell_type": "markdown",
   "metadata": {},
   "source": [
    "### R-052:\n",
    "レシート明細データ（df_receipt）の売上金額（amount）を顧客ID（customer_id）ごとに合計の上、売上金額合計に対して2,000円以下を0、2,000円より大きい金額を1に二値化し、顧客ID、売上金額合計とともに10件表示せよ。ただし、顧客IDが\"Z\"から始まるのものは非会員を表すため、除外して計算すること。"
   ]
  },
  {
   "cell_type": "code",
   "execution_count": 6,
   "metadata": {
    "vscode": {
     "languageId": "r"
    }
   },
   "outputs": [
    {
     "data": {
      "text/plain": [
       "\u001b[90m# Source:   lazy query [?? x 3]\u001b[39m\n",
       "\u001b[90m# Database: postgres 12.0.11 [@localhost:5432/knock100]\u001b[39m\n",
       "   customer_id    amount amount_over_2000\n",
       "   \u001b[3m\u001b[90m<chr>\u001b[39m\u001b[23m           \u001b[3m\u001b[90m<dbl>\u001b[39m\u001b[23m            \u001b[3m\u001b[90m<dbl>\u001b[39m\u001b[23m\n",
       "\u001b[90m 1\u001b[39m CS001311000059   \u001b[4m2\u001b[24m302                1\n",
       "\u001b[90m 2\u001b[39m CS004614000122    248                0\n",
       "\u001b[90m 3\u001b[39m CS003512000043    298                0\n",
       "\u001b[90m 4\u001b[39m CS011615000061    246                0\n",
       "\u001b[90m 5\u001b[39m CS029212000033   \u001b[4m3\u001b[24m604                1\n",
       "\u001b[90m 6\u001b[39m CS007515000119   \u001b[4m7\u001b[24m157                1\n",
       "\u001b[90m 7\u001b[39m CS034515000123   \u001b[4m3\u001b[24m699                1\n",
       "\u001b[90m 8\u001b[39m CS004315000058    490                0\n",
       "\u001b[90m 9\u001b[39m CS026414000014   \u001b[4m6\u001b[24m671                1\n",
       "\u001b[90m10\u001b[39m CS001615000099    768                0"
      ]
     },
     "metadata": {},
     "output_type": "display_data"
    }
   ],
   "source": [
    "library(stringr)\n",
    "re %>%\n",
    "filter(!str_detect(customer_id, '^Z')) %>%\n",
    "group_by(customer_id) %>%\n",
    "summarise(amount = sum(amount, na.rm = TRUE)) %>%\n",
    "mutate(amount_over_2000 = if_else(amount>2000,1,0)) %>%\n",
    "head(10)"
   ]
  },
  {
   "cell_type": "markdown",
   "metadata": {},
   "source": [
    "### R-053:\n",
    "顧客データ（df_customer）の郵便番号（postal_cd）に対し、東京（先頭3桁が100〜209のもの）を1、それ以外のものを0に二値化せよ。さらにレシート明細データ（df_receipt）と結合し、全期間において売上実績のある顧客数を、作成した二値ごとにカウントせよ。"
   ]
  },
  {
   "cell_type": "code",
   "execution_count": 86,
   "metadata": {
    "vscode": {
     "languageId": "r"
    }
   },
   "outputs": [
    {
     "data": {
      "text/plain": [
       "\u001b[90m# Source:   lazy query [?? x 2]\u001b[39m\n",
       "\u001b[90m# Database: postgres 12.0.11 [@localhost:5432/knock100]\u001b[39m\n",
       "  is_tokyo amount\n",
       "     \u001b[3m\u001b[90m<dbl>\u001b[39m\u001b[23m  \u001b[3m\u001b[90m<dbl>\u001b[39m\u001b[23m\n",
       "\u001b[90m1\u001b[39m        0   \u001b[4m3\u001b[24m906\n",
       "\u001b[90m2\u001b[39m        1   \u001b[4m4\u001b[24m400"
      ]
     },
     "metadata": {},
     "output_type": "display_data"
    }
   ],
   "source": [
    "cu = tbl(con,'customer')\n",
    "\n",
    "cu %>% mutate(is_tokyo = dplyr::between(substr(postal_cd,1,3) %>% as.integer(),100,209) %>% ifelse(1,0)) %>%\n",
    "inner_join(re, by = 'customer_id') %>%\n",
    "group_by(is_tokyo) %>%\n",
    "summarise(amount=n_distinct(customer_id)) %>% head"
   ]
  },
  {
   "cell_type": "markdown",
   "metadata": {},
   "source": [
    "### R-054:\n",
    "顧客データ（df_customer）の住所（address）は、埼玉県、千葉県、東京都、神奈川県のいずれかとなっている。都道府県毎にコード値を作成し、顧客ID、住所とともに10件表示せよ。値は埼玉県を11、千葉県を12、東京都を13、神奈川県を14とすること。"
   ]
  },
  {
   "cell_type": "code",
   "execution_count": 12,
   "metadata": {
    "vscode": {
     "languageId": "r"
    }
   },
   "outputs": [
    {
     "data": {
      "text/plain": [
       "\u001b[90m# Source:   lazy query [?? x 3]\u001b[39m\n",
       "\u001b[90m# Database: postgres 12.0.11 [@localhost:5432/knock100]\u001b[39m\n",
       "  customer_id    address                            prefecture_cd\n",
       "  \u001b[3m\u001b[90m<chr>\u001b[39m\u001b[23m          \u001b[3m\u001b[90m<chr>\u001b[39m\u001b[23m                              \u001b[3m\u001b[90m<chr>\u001b[39m\u001b[23m        \n",
       "\u001b[90m1\u001b[39m CS021313000114 神奈川県伊勢原市粟窪**********     14           \n",
       "\u001b[90m2\u001b[39m CS037613000071 東京都江東区南砂**********         13           \n",
       "\u001b[90m3\u001b[39m CS031415000172 東京都渋谷区代々木**********       13           \n",
       "\u001b[90m4\u001b[39m CS028811000001 神奈川県横浜市泉区和泉町********** 14           \n",
       "\u001b[90m5\u001b[39m CS001215000145 東京都大田区仲六郷**********       13           \n",
       "\u001b[90m6\u001b[39m CS020401000016 東京都板橋区若木**********         13           "
      ]
     },
     "metadata": {},
     "output_type": "display_data"
    }
   ],
   "source": [
    "cu %>%\n",
    "mutate(prefecture_cd =\n",
    "\t\tcase_when(\n",
    "\t\t\tsubstr(address,1,2) == '埼玉' ~ '11',\n",
    "\t\t\tsubstr(address,1,2) == '千葉' ~ '12',\n",
    "\t\t\tsubstr(address,1,2) == '東京' ~ '13',\n",
    "\t\t\tsubstr(address,1,3) == '神奈川' ~ '14'\n",
    "\t\t)) %>%\n",
    "select(customer_id, address, prefecture_cd) %>%\n",
    "head"
   ]
  },
  {
   "cell_type": "code",
   "execution_count": 21,
   "metadata": {
    "vscode": {
     "languageId": "r"
    }
   },
   "outputs": [
    {
     "data": {
      "text/html": [
       "<table class=\"dataframe\">\n",
       "<caption>A tibble: 6 × 3</caption>\n",
       "<thead>\n",
       "\t<tr><th scope=col>customer_id</th><th scope=col>address</th><th scope=col>pref_code</th></tr>\n",
       "\t<tr><th scope=col>&lt;chr&gt;</th><th scope=col>&lt;chr&gt;</th><th scope=col>&lt;int&gt;</th></tr>\n",
       "</thead>\n",
       "<tbody>\n",
       "\t<tr><td>CS021313000114</td><td>神奈川県伊勢原市粟窪**********    </td><td>14</td></tr>\n",
       "\t<tr><td>CS037613000071</td><td>東京都江東区南砂**********        </td><td>13</td></tr>\n",
       "\t<tr><td>CS031415000172</td><td>東京都渋谷区代々木**********      </td><td>13</td></tr>\n",
       "\t<tr><td>CS028811000001</td><td>神奈川県横浜市泉区和泉町**********</td><td>14</td></tr>\n",
       "\t<tr><td>CS001215000145</td><td>東京都大田区仲六郷**********      </td><td>13</td></tr>\n",
       "\t<tr><td>CS020401000016</td><td>東京都板橋区若木**********        </td><td>13</td></tr>\n",
       "</tbody>\n",
       "</table>\n"
      ],
      "text/latex": [
       "A tibble: 6 × 3\n",
       "\\begin{tabular}{lll}\n",
       " customer\\_id & address & pref\\_code\\\\\n",
       " <chr> & <chr> & <int>\\\\\n",
       "\\hline\n",
       "\t CS021313000114 & 神奈川県伊勢原市粟窪**********     & 14\\\\\n",
       "\t CS037613000071 & 東京都江東区南砂**********         & 13\\\\\n",
       "\t CS031415000172 & 東京都渋谷区代々木**********       & 13\\\\\n",
       "\t CS028811000001 & 神奈川県横浜市泉区和泉町********** & 14\\\\\n",
       "\t CS001215000145 & 東京都大田区仲六郷**********       & 13\\\\\n",
       "\t CS020401000016 & 東京都板橋区若木**********         & 13\\\\\n",
       "\\end{tabular}\n"
      ],
      "text/markdown": [
       "\n",
       "A tibble: 6 × 3\n",
       "\n",
       "| customer_id &lt;chr&gt; | address &lt;chr&gt; | pref_code &lt;int&gt; |\n",
       "|---|---|---|\n",
       "| CS021313000114 | 神奈川県伊勢原市粟窪**********     | 14 |\n",
       "| CS037613000071 | 東京都江東区南砂**********         | 13 |\n",
       "| CS031415000172 | 東京都渋谷区代々木**********       | 13 |\n",
       "| CS028811000001 | 神奈川県横浜市泉区和泉町********** | 14 |\n",
       "| CS001215000145 | 東京都大田区仲六郷**********       | 13 |\n",
       "| CS020401000016 | 東京都板橋区若木**********         | 13 |\n",
       "\n"
      ],
      "text/plain": [
       "  customer_id    address                            pref_code\n",
       "1 CS021313000114 神奈川県伊勢原市粟窪**********     14       \n",
       "2 CS037613000071 東京都江東区南砂**********         13       \n",
       "3 CS031415000172 東京都渋谷区代々木**********       13       \n",
       "4 CS028811000001 神奈川県横浜市泉区和泉町********** 14       \n",
       "5 CS001215000145 東京都大田区仲六郷**********       13       \n",
       "6 CS020401000016 東京都板橋区若木**********         13       "
      ]
     },
     "metadata": {},
     "output_type": "display_data"
    }
   ],
   "source": [
    "pref_vec <- c(\"埼玉県\", \"千葉県\", \"東京都\", \"神奈川\")\n",
    "pref_map <- function(str) which(str == pref_vec) + 10 %>% as.integer()\n",
    "\n",
    "customer_tbl <- tbl(con, 'customer')\n",
    "\n",
    "customer_tbl %>%\n",
    "    select(customer_id, address) %>%\n",
    "    collect() %>%\n",
    "    mutate(\n",
    "        across(\n",
    "            .cols = address,\n",
    "            .fns = function(cls) purrr::map_int(cls, ~ substr(.x, 1, 3) %>% pref_map),\n",
    "\t\t\t.names = 'pref_code'\n",
    "        )\n",
    "    ) %>%\n",
    "    head()"
   ]
  },
  {
   "cell_type": "markdown",
   "metadata": {},
   "source": [
    "### R-055:\n",
    "レシート明細（df_receipt）データの売上金額（amount）を顧客ID（customer_id）ごとに合計し、その合計金額の四分位点を求めよ。その上で、顧客ごとの売上金額合計に対して以下の基準でカテゴリ値を作成し、顧客ID、売上金額合計とともに10件表示せよ。カテゴリ値は順に1〜4とする。\n",
    "- 最小値以上第1四分位未満 ・・・ 1を付与\n",
    "- 第1四分位以上第2四分位未満 ・・・ 2を付与\n",
    "- 第2四分位以上第3四分位未満 ・・・ 3を付与\n",
    "- 第3四分位以上 ・・・ 4を付与"
   ]
  },
  {
   "cell_type": "code",
   "execution_count": 24,
   "metadata": {
    "vscode": {
     "languageId": "r"
    }
   },
   "outputs": [
    {
     "data": {
      "text/html": [
       "<table class=\"dataframe\">\n",
       "<caption>A tibble: 6 × 3</caption>\n",
       "<thead>\n",
       "\t<tr><th scope=col>customer_id</th><th scope=col>amount</th><th scope=col>pct_group</th></tr>\n",
       "\t<tr><th scope=col>&lt;chr&gt;</th><th scope=col>&lt;dbl&gt;</th><th scope=col>&lt;int&gt;</th></tr>\n",
       "</thead>\n",
       "<tbody>\n",
       "\t<tr><td>CS001311000059</td><td>2302</td><td>3</td></tr>\n",
       "\t<tr><td>CS004614000122</td><td> 248</td><td>1</td></tr>\n",
       "\t<tr><td>CS003512000043</td><td> 298</td><td>1</td></tr>\n",
       "\t<tr><td>CS011615000061</td><td> 246</td><td>1</td></tr>\n",
       "\t<tr><td>CS029212000033</td><td>3604</td><td>3</td></tr>\n",
       "\t<tr><td>CS007515000119</td><td>7157</td><td>4</td></tr>\n",
       "</tbody>\n",
       "</table>\n"
      ],
      "text/latex": [
       "A tibble: 6 × 3\n",
       "\\begin{tabular}{lll}\n",
       " customer\\_id & amount & pct\\_group\\\\\n",
       " <chr> & <dbl> & <int>\\\\\n",
       "\\hline\n",
       "\t CS001311000059 & 2302 & 3\\\\\n",
       "\t CS004614000122 &  248 & 1\\\\\n",
       "\t CS003512000043 &  298 & 1\\\\\n",
       "\t CS011615000061 &  246 & 1\\\\\n",
       "\t CS029212000033 & 3604 & 3\\\\\n",
       "\t CS007515000119 & 7157 & 4\\\\\n",
       "\\end{tabular}\n"
      ],
      "text/markdown": [
       "\n",
       "A tibble: 6 × 3\n",
       "\n",
       "| customer_id &lt;chr&gt; | amount &lt;dbl&gt; | pct_group &lt;int&gt; |\n",
       "|---|---|---|\n",
       "| CS001311000059 | 2302 | 3 |\n",
       "| CS004614000122 |  248 | 1 |\n",
       "| CS003512000043 |  298 | 1 |\n",
       "| CS011615000061 |  246 | 1 |\n",
       "| CS029212000033 | 3604 | 3 |\n",
       "| CS007515000119 | 7157 | 4 |\n",
       "\n"
      ],
      "text/plain": [
       "  customer_id    amount pct_group\n",
       "1 CS001311000059 2302   3        \n",
       "2 CS004614000122  248   1        \n",
       "3 CS003512000043  298   1        \n",
       "4 CS011615000061  246   1        \n",
       "5 CS029212000033 3604   3        \n",
       "6 CS007515000119 7157   4        "
      ]
     },
     "metadata": {},
     "output_type": "display_data"
    }
   ],
   "source": [
    "receipt_tbl %>% \n",
    "group_by(customer_id) %>%\n",
    "summarise(amount = sum(amount)) %>%\n",
    "collect() %>%\n",
    "mutate(\n",
    "\tacross(\n",
    "\t\t.cols = amount,\n",
    "\t\t.fns = function(cls){\n",
    "\t\t\tq <- quantile(cls, probs = c(0.25, 0.5, 0.75, 1.0))\n",
    "\t\t\tpurrr::map_int(cls, ~ which(.x <= q) %>% min())\n",
    "\t\t},\n",
    "\t\t.names = 'pct_group'\n",
    ")) %>% head"
   ]
  },
  {
   "cell_type": "markdown",
   "metadata": {},
   "source": [
    "### R-056:\n",
    "顧客データ（df_customer）の年齢（age）をもとに10歳刻みで年代を算出し、顧客ID（customer_id）、生年月日（birth_day）とともに10件表示せよ。ただし、60歳以上は全て60歳代とすること。年代を表すカテゴリ名は任意とする。"
   ]
  },
  {
   "cell_type": "code",
   "execution_count": 90,
   "metadata": {
    "vscode": {
     "languageId": "r"
    }
   },
   "outputs": [
    {
     "data": {
      "text/plain": [
       "\u001b[90m# Source:   lazy query [?? x 3]\u001b[39m\n",
       "\u001b[90m# Database: postgres 12.0.11 [@localhost:5432/knock100]\u001b[39m\n",
       "  customer_id    birth_day  generation\n",
       "  \u001b[3m\u001b[90m<chr>\u001b[39m\u001b[23m          \u001b[3m\u001b[90m<date>\u001b[39m\u001b[23m          \u001b[3m\u001b[90m<dbl>\u001b[39m\u001b[23m\n",
       "\u001b[90m1\u001b[39m CS021313000114 1981-04-29         30\n",
       "\u001b[90m2\u001b[39m CS037613000071 1952-04-01         60\n",
       "\u001b[90m3\u001b[39m CS031415000172 1976-10-04         40\n",
       "\u001b[90m4\u001b[39m CS028811000001 1933-03-27         60\n",
       "\u001b[90m5\u001b[39m CS001215000145 1995-03-29         20\n",
       "\u001b[90m6\u001b[39m CS020401000016 1974-09-15         40"
      ]
     },
     "metadata": {},
     "output_type": "display_data"
    }
   ],
   "source": [
    "cu %>%\n",
    "mutate(generation = ifelse(age>=60, 60, age-age%%10)) -> customer_generation\n",
    "\n",
    "customer_generation %>% \n",
    "select(customer_id, birth_day, generation) %>%\n",
    "head"
   ]
  },
  {
   "cell_type": "markdown",
   "metadata": {},
   "source": [
    "### R-057:\n",
    "056の抽出結果と性別コード（gender_cd）により、新たに性別×年代の組み合わせを表すカテゴリデータを作成し、10件表示せよ。組み合わせを表すカテゴリの値は任意とする。"
   ]
  },
  {
   "cell_type": "code",
   "execution_count": 91,
   "metadata": {
    "vscode": {
     "languageId": "r"
    }
   },
   "outputs": [
    {
     "data": {
      "text/plain": [
       "\u001b[90m# Source:   lazy query [?? x 6]\u001b[39m\n",
       "\u001b[90m# Database: postgres 12.0.11 [@localhost:5432/knock100]\u001b[39m\n",
       "  customer_id    gender_cd gender   age generation gender_generation\n",
       "  \u001b[3m\u001b[90m<chr>\u001b[39m\u001b[23m              \u001b[3m\u001b[90m<int>\u001b[39m\u001b[23m \u001b[3m\u001b[90m<chr>\u001b[39m\u001b[23m  \u001b[3m\u001b[90m<int>\u001b[39m\u001b[23m      \u001b[3m\u001b[90m<dbl>\u001b[39m\u001b[23m             \u001b[3m\u001b[90m<dbl>\u001b[39m\u001b[23m\n",
       "\u001b[90m1\u001b[39m CS021313000114         1 女性      37         30                31\n",
       "\u001b[90m2\u001b[39m CS037613000071         9 不明      66         60                69\n",
       "\u001b[90m3\u001b[39m CS031415000172         1 女性      42         40                41\n",
       "\u001b[90m4\u001b[39m CS028811000001         1 女性      86         60                61\n",
       "\u001b[90m5\u001b[39m CS001215000145         1 女性      24         20                21\n",
       "\u001b[90m6\u001b[39m CS020401000016         0 男性      44         40                40"
      ]
     },
     "metadata": {},
     "output_type": "display_data"
    }
   ],
   "source": [
    "generation %>%\n",
    "mutate(gender_generation = gender_cd + generation) %>%\n",
    "select(customer_id, gender_cd, gender, age, generation, gender_generation) %>%\n",
    "head"
   ]
  },
  {
   "cell_type": "markdown",
   "metadata": {},
   "source": [
    "### R-058:\n",
    "顧客データ（df_customer）の性別コード（gender_cd）をダミー変数化し、顧客ID（customer_id）とともに10件表示せよ。"
   ]
  },
  {
   "cell_type": "code",
   "execution_count": 16,
   "metadata": {
    "vscode": {
     "languageId": "r"
    }
   },
   "outputs": [
    {
     "name": "stderr",
     "output_type": "stream",
     "text": [
      "Warning message in system(\"timedatectl\", intern = TRUE):\n",
      "“running command 'timedatectl' had status 1”\n",
      "\n",
      "Attaching package: ‘recipes’\n",
      "\n",
      "\n",
      "The following object is masked from ‘package:stringr’:\n",
      "\n",
      "    fixed\n",
      "\n",
      "\n",
      "The following object is masked from ‘package:stats’:\n",
      "\n",
      "    step\n",
      "\n",
      "\n",
      "── \u001b[1mAttaching packages\u001b[22m ────────────────────────────────────── tidymodels 0.2.0 ──\n",
      "\n",
      "\u001b[32m✔\u001b[39m \u001b[34mbroom       \u001b[39m 0.8.0     \u001b[32m✔\u001b[39m \u001b[34mrsample     \u001b[39m 0.1.1\n",
      "\u001b[32m✔\u001b[39m \u001b[34mdials       \u001b[39m 0.1.1     \u001b[32m✔\u001b[39m \u001b[34mtibble      \u001b[39m 3.1.7\n",
      "\u001b[32m✔\u001b[39m \u001b[34mggplot2     \u001b[39m 3.3.6     \u001b[32m✔\u001b[39m \u001b[34mtune        \u001b[39m 0.2.0\n",
      "\u001b[32m✔\u001b[39m \u001b[34minfer       \u001b[39m 1.0.0     \u001b[32m✔\u001b[39m \u001b[34mworkflows   \u001b[39m 0.2.6\n",
      "\u001b[32m✔\u001b[39m \u001b[34mmodeldata   \u001b[39m 0.1.1     \u001b[32m✔\u001b[39m \u001b[34mworkflowsets\u001b[39m 0.2.1\n",
      "\u001b[32m✔\u001b[39m \u001b[34mparsnip     \u001b[39m 0.2.1     \u001b[32m✔\u001b[39m \u001b[34myardstick   \u001b[39m 0.0.9\n",
      "\u001b[32m✔\u001b[39m \u001b[34mpurrr       \u001b[39m 0.3.4     \n",
      "\n",
      "── \u001b[1mConflicts\u001b[22m ───────────────────────────────────────── tidymodels_conflicts() ──\n",
      "\u001b[31m✖\u001b[39m \u001b[34mpurrr\u001b[39m::\u001b[32mdiscard()\u001b[39m masks \u001b[34mscales\u001b[39m::discard()\n",
      "\u001b[31m✖\u001b[39m \u001b[34mdplyr\u001b[39m::\u001b[32mfilter()\u001b[39m  masks \u001b[34mstats\u001b[39m::filter()\n",
      "\u001b[31m✖\u001b[39m \u001b[34mrecipes\u001b[39m::\u001b[32mfixed()\u001b[39m masks \u001b[34mstringr\u001b[39m::fixed()\n",
      "\u001b[31m✖\u001b[39m \u001b[34mdplyr\u001b[39m::\u001b[32mident()\u001b[39m   masks \u001b[34mdbplyr\u001b[39m::ident()\n",
      "\u001b[31m✖\u001b[39m \u001b[34mdplyr\u001b[39m::\u001b[32mlag()\u001b[39m     masks \u001b[34mstats\u001b[39m::lag()\n",
      "\u001b[31m✖\u001b[39m \u001b[34mdplyr\u001b[39m::\u001b[32msql()\u001b[39m     masks \u001b[34mdbplyr\u001b[39m::sql()\n",
      "\u001b[31m✖\u001b[39m \u001b[34mrecipes\u001b[39m::\u001b[32mstep()\u001b[39m  masks \u001b[34mstats\u001b[39m::step()\n",
      "\u001b[34m•\u001b[39m Learn how to get started at \u001b[32mhttps://www.tidymodels.org/start/\u001b[39m\n",
      "\n"
     ]
    },
    {
     "data": {
      "text/html": [
       "<table class=\"dataframe\">\n",
       "<caption>A tibble: 10 × 4</caption>\n",
       "<thead>\n",
       "\t<tr><th scope=col>customer_id</th><th scope=col>gender_cd_X0</th><th scope=col>gender_cd_X1</th><th scope=col>gender_cd_X9</th></tr>\n",
       "\t<tr><th scope=col>&lt;fct&gt;</th><th scope=col>&lt;dbl&gt;</th><th scope=col>&lt;dbl&gt;</th><th scope=col>&lt;dbl&gt;</th></tr>\n",
       "</thead>\n",
       "<tbody>\n",
       "\t<tr><td>CS021313000114</td><td>0</td><td>1</td><td>0</td></tr>\n",
       "\t<tr><td>CS037613000071</td><td>0</td><td>0</td><td>1</td></tr>\n",
       "\t<tr><td>CS031415000172</td><td>0</td><td>1</td><td>0</td></tr>\n",
       "\t<tr><td>CS028811000001</td><td>0</td><td>1</td><td>0</td></tr>\n",
       "\t<tr><td>CS001215000145</td><td>0</td><td>1</td><td>0</td></tr>\n",
       "\t<tr><td>CS020401000016</td><td>1</td><td>0</td><td>0</td></tr>\n",
       "\t<tr><td>CS015414000103</td><td>0</td><td>1</td><td>0</td></tr>\n",
       "\t<tr><td>CS029403000008</td><td>1</td><td>0</td><td>0</td></tr>\n",
       "\t<tr><td>CS015804000004</td><td>1</td><td>0</td><td>0</td></tr>\n",
       "\t<tr><td>CS033513000180</td><td>0</td><td>1</td><td>0</td></tr>\n",
       "</tbody>\n",
       "</table>\n"
      ],
      "text/latex": [
       "A tibble: 10 × 4\n",
       "\\begin{tabular}{llll}\n",
       " customer\\_id & gender\\_cd\\_X0 & gender\\_cd\\_X1 & gender\\_cd\\_X9\\\\\n",
       " <fct> & <dbl> & <dbl> & <dbl>\\\\\n",
       "\\hline\n",
       "\t CS021313000114 & 0 & 1 & 0\\\\\n",
       "\t CS037613000071 & 0 & 0 & 1\\\\\n",
       "\t CS031415000172 & 0 & 1 & 0\\\\\n",
       "\t CS028811000001 & 0 & 1 & 0\\\\\n",
       "\t CS001215000145 & 0 & 1 & 0\\\\\n",
       "\t CS020401000016 & 1 & 0 & 0\\\\\n",
       "\t CS015414000103 & 0 & 1 & 0\\\\\n",
       "\t CS029403000008 & 1 & 0 & 0\\\\\n",
       "\t CS015804000004 & 1 & 0 & 0\\\\\n",
       "\t CS033513000180 & 0 & 1 & 0\\\\\n",
       "\\end{tabular}\n"
      ],
      "text/markdown": [
       "\n",
       "A tibble: 10 × 4\n",
       "\n",
       "| customer_id &lt;fct&gt; | gender_cd_X0 &lt;dbl&gt; | gender_cd_X1 &lt;dbl&gt; | gender_cd_X9 &lt;dbl&gt; |\n",
       "|---|---|---|---|\n",
       "| CS021313000114 | 0 | 1 | 0 |\n",
       "| CS037613000071 | 0 | 0 | 1 |\n",
       "| CS031415000172 | 0 | 1 | 0 |\n",
       "| CS028811000001 | 0 | 1 | 0 |\n",
       "| CS001215000145 | 0 | 1 | 0 |\n",
       "| CS020401000016 | 1 | 0 | 0 |\n",
       "| CS015414000103 | 0 | 1 | 0 |\n",
       "| CS029403000008 | 1 | 0 | 0 |\n",
       "| CS015804000004 | 1 | 0 | 0 |\n",
       "| CS033513000180 | 0 | 1 | 0 |\n",
       "\n"
      ],
      "text/plain": [
       "   customer_id    gender_cd_X0 gender_cd_X1 gender_cd_X9\n",
       "1  CS021313000114 0            1            0           \n",
       "2  CS037613000071 0            0            1           \n",
       "3  CS031415000172 0            1            0           \n",
       "4  CS028811000001 0            1            0           \n",
       "5  CS001215000145 0            1            0           \n",
       "6  CS020401000016 1            0            0           \n",
       "7  CS015414000103 0            1            0           \n",
       "8  CS029403000008 1            0            0           \n",
       "9  CS015804000004 1            0            0           \n",
       "10 CS033513000180 0            1            0           "
      ]
     },
     "metadata": {},
     "output_type": "display_data"
    }
   ],
   "source": [
    "cul = DBI::dbReadTable(con, \"customer\")\n",
    "\n",
    "library(recipes)\n",
    "library(tidymodels)\n",
    "\n",
    "cul %>%\n",
    "  transmute(customer_id, gender_cd = factor(gender_cd)) %>%\n",
    "  recipe() %>%\n",
    "  step_dummy(gender_cd, one_hot = T) %>%\n",
    "  prep() %>%\n",
    "  juice() %>%\n",
    "  head(10)"
   ]
  },
  {
   "cell_type": "code",
   "execution_count": 17,
   "metadata": {
    "vscode": {
     "languageId": "r"
    }
   },
   "outputs": [
    {
     "data": {
      "text/plain": [
       "\u001b[90m# Source:   lazy query [?? x 5]\u001b[39m\n",
       "\u001b[90m# Database: postgres 12.0.11 [@localhost:5432/knock100]\u001b[39m\n",
       "   customer_id    gender_cd female unknown  male\n",
       "   \u001b[3m\u001b[90m<chr>\u001b[39m\u001b[23m          \u001b[3m\u001b[90m<chr>\u001b[39m\u001b[23m      \u001b[3m\u001b[90m<int>\u001b[39m\u001b[23m   \u001b[3m\u001b[90m<int>\u001b[39m\u001b[23m \u001b[3m\u001b[90m<int>\u001b[39m\u001b[23m\n",
       "\u001b[90m 1\u001b[39m CS001105000001 male           0       0     1\n",
       "\u001b[90m 2\u001b[39m CS001112000009 female         1       0     0\n",
       "\u001b[90m 3\u001b[39m CS001112000019 female         1       0     0\n",
       "\u001b[90m 4\u001b[39m CS001112000021 female         1       0     0\n",
       "\u001b[90m 5\u001b[39m CS001112000023 female         1       0     0\n",
       "\u001b[90m 6\u001b[39m CS001112000024 female         1       0     0\n",
       "\u001b[90m 7\u001b[39m CS001112000029 female         1       0     0\n",
       "\u001b[90m 8\u001b[39m CS001112000030 female         1       0     0\n",
       "\u001b[90m 9\u001b[39m CS001113000004 female         1       0     0\n",
       "\u001b[90m10\u001b[39m CS001113000010 female         1       0     0"
      ]
     },
     "metadata": {},
     "output_type": "display_data"
    }
   ],
   "source": [
    "cu %>% \n",
    "transmute(customer_id, gender_cd = \n",
    "\t\tcase_when(\n",
    "\t\t\tgender_cd == 1~'female',\n",
    "\t\t\tgender_cd == 0~'male',\n",
    "\t\t\tgender_cd == 9~'unknown'\n",
    "\t\t)) %>%\n",
    "mutate(name = gender_cd, value = 1L) %>%\n",
    "pivot_wider(values_fill = 0L) %>%\n",
    "head(10)"
   ]
  },
  {
   "cell_type": "code",
   "execution_count": 95,
   "metadata": {
    "vscode": {
     "languageId": "r"
    }
   },
   "outputs": [
    {
     "data": {
      "text/plain": [
       "\u001b[90m# Source:   lazy query [?? x 4]\u001b[39m\n",
       "\u001b[90m# Database: postgres 12.0.11 [@localhost:5432/knock100]\u001b[39m\n",
       "   customer_id    gender_cd0 gender_cd9 gender_cd1\n",
       "   \u001b[3m\u001b[90m<chr>\u001b[39m\u001b[23m               \u001b[3m\u001b[90m<dbl>\u001b[39m\u001b[23m      \u001b[3m\u001b[90m<dbl>\u001b[39m\u001b[23m      \u001b[3m\u001b[90m<dbl>\u001b[39m\u001b[23m\n",
       "\u001b[90m 1\u001b[39m CS001105000001          1          0          0\n",
       "\u001b[90m 2\u001b[39m CS001112000009          0          0          1\n",
       "\u001b[90m 3\u001b[39m CS001112000019          0          0          1\n",
       "\u001b[90m 4\u001b[39m CS001112000021          0          0          1\n",
       "\u001b[90m 5\u001b[39m CS001112000023          0          0          1\n",
       "\u001b[90m 6\u001b[39m CS001112000024          0          0          1\n",
       "\u001b[90m 7\u001b[39m CS001112000029          0          0          1\n",
       "\u001b[90m 8\u001b[39m CS001112000030          0          0          1\n",
       "\u001b[90m 9\u001b[39m CS001113000004          0          0          1\n",
       "\u001b[90m10\u001b[39m CS001113000010          0          0          1\n",
       "\u001b[90m# … with more rows\u001b[39m"
      ]
     },
     "metadata": {},
     "output_type": "display_data"
    }
   ],
   "source": [
    "cu %>% select(customer_id, gender_cd) %>%\n",
    "mutate(value = 1) %>%\n",
    "pivot_wider(names_from = gender_cd, names_prefix = 'gender_cd' ,values_from = value, values_fill = 0) "
   ]
  },
  {
   "cell_type": "markdown",
   "metadata": {},
   "source": [
    "### R-059:\n",
    "レシート明細データ（df_receipt）の売上金額（amount）を顧客ID（customer_id）ごとに合計し、売上金額合計を平均0、標準偏差1に標準化して顧客ID、売上金額合計とともに10件表示せよ。標準化に使用する標準偏差は、分散の平方根、もしくは不偏分散の平方根のどちらでも良いものとする。ただし、顧客IDが\"Z\"から始まるのものは非会員を表すため、除外して計算すること。"
   ]
  },
  {
   "cell_type": "code",
   "execution_count": 13,
   "metadata": {
    "vscode": {
     "languageId": "r"
    }
   },
   "outputs": [
    {
     "data": {
      "text/html": [
       "<table class=\"dataframe\">\n",
       "<caption>A tibble: 6 × 3</caption>\n",
       "<thead>\n",
       "\t<tr><th scope=col>customer_id</th><th scope=col>amount</th><th scope=col>normized_amount</th></tr>\n",
       "\t<tr><th scope=col>&lt;chr&gt;</th><th scope=col>&lt;dbl&gt;</th><th scope=col>&lt;dbl[,1]&gt;</th></tr>\n",
       "</thead>\n",
       "<tbody>\n",
       "\t<tr><td>CS001311000059</td><td>2302</td><td>-0.09032403</td></tr>\n",
       "\t<tr><td>CS004614000122</td><td> 248</td><td>-0.84528400</td></tr>\n",
       "\t<tr><td>CS003512000043</td><td> 298</td><td>-0.82690620</td></tr>\n",
       "\t<tr><td>CS011615000061</td><td> 246</td><td>-0.84601911</td></tr>\n",
       "\t<tr><td>CS029212000033</td><td>3604</td><td> 0.38823385</td></tr>\n",
       "\t<tr><td>CS007515000119</td><td>7157</td><td> 1.69416023</td></tr>\n",
       "</tbody>\n",
       "</table>\n"
      ],
      "text/latex": [
       "A tibble: 6 × 3\n",
       "\\begin{tabular}{lll}\n",
       " customer\\_id & amount & normized\\_amount\\\\\n",
       " <chr> & <dbl> & <dbl{[},1{]}>\\\\\n",
       "\\hline\n",
       "\t CS001311000059 & 2302 & -0.09032403\\\\\n",
       "\t CS004614000122 &  248 & -0.84528400\\\\\n",
       "\t CS003512000043 &  298 & -0.82690620\\\\\n",
       "\t CS011615000061 &  246 & -0.84601911\\\\\n",
       "\t CS029212000033 & 3604 &  0.38823385\\\\\n",
       "\t CS007515000119 & 7157 &  1.69416023\\\\\n",
       "\\end{tabular}\n"
      ],
      "text/markdown": [
       "\n",
       "A tibble: 6 × 3\n",
       "\n",
       "| customer_id &lt;chr&gt; | amount &lt;dbl&gt; | normized_amount &lt;dbl[,1]&gt; |\n",
       "|---|---|---|\n",
       "| CS001311000059 | 2302 | -0.09032403 |\n",
       "| CS004614000122 |  248 | -0.84528400 |\n",
       "| CS003512000043 |  298 | -0.82690620 |\n",
       "| CS011615000061 |  246 | -0.84601911 |\n",
       "| CS029212000033 | 3604 |  0.38823385 |\n",
       "| CS007515000119 | 7157 |  1.69416023 |\n",
       "\n"
      ],
      "text/plain": [
       "  customer_id    amount normized_amount\n",
       "1 CS001311000059 2302   -0.09032403    \n",
       "2 CS004614000122  248   -0.84528400    \n",
       "3 CS003512000043  298   -0.82690620    \n",
       "4 CS011615000061  246   -0.84601911    \n",
       "5 CS029212000033 3604    0.38823385    \n",
       "6 CS007515000119 7157    1.69416023    "
      ]
     },
     "metadata": {},
     "output_type": "display_data"
    }
   ],
   "source": [
    "library(stringr)\n",
    "receipt_tbl <- tbl(con, 'receipt')\n",
    "re %>%\n",
    "filter(!str_detect(customer_id,'^Z')) %>%\n",
    "group_by(customer_id) %>%\n",
    "summarise(amount = sum(amount, na.rm = TRUE)) %>%\n",
    "collect() %>%\n",
    "mutate(normized_amount = amount) %>%\n",
    "mutate(\n",
    "\tacross(\n",
    "\t\t.cols = normized_amount,\n",
    "\t\t.fns = ~ scale(.x, center = TRUE, scale = TRUE)\n",
    "\t)) %>% head"
   ]
  },
  {
   "cell_type": "code",
   "execution_count": 18,
   "metadata": {
    "vscode": {
     "languageId": "r"
    }
   },
   "outputs": [
    {
     "name": "stderr",
     "output_type": "stream",
     "text": [
      "Warning message:\n",
      "“Missing values are always removed in SQL.\n",
      "Use `AVG(x, na.rm = TRUE)` to silence this warning\n",
      "This warning is displayed only once per session.”\n",
      "Warning message:\n",
      "“Missing values are always removed in SQL.\n",
      "Use `STDDEV_SAMP(x, na.rm = TRUE)` to silence this warning\n",
      "This warning is displayed only once per session.”\n"
     ]
    },
    {
     "data": {
      "text/plain": [
       "\u001b[90m# Source:   lazy query [?? x 3]\u001b[39m\n",
       "\u001b[90m# Database: postgres 12.0.11 [@localhost:5432/knock100]\u001b[39m\n",
       "  customer_id    amount std_amount\n",
       "  \u001b[3m\u001b[90m<chr>\u001b[39m\u001b[23m           \u001b[3m\u001b[90m<dbl>\u001b[39m\u001b[23m      \u001b[3m\u001b[90m<dbl>\u001b[39m\u001b[23m\n",
       "\u001b[90m1\u001b[39m CS001311000059   \u001b[4m2\u001b[24m302    -\u001b[31m0\u001b[39m\u001b[31m.\u001b[39m\u001b[31m0\u001b[39m\u001b[31m90\u001b[4m3\u001b[24m\u001b[39m\n",
       "\u001b[90m2\u001b[39m CS004614000122    248    -\u001b[31m0\u001b[39m\u001b[31m.\u001b[39m\u001b[31m845\u001b[39m \n",
       "\u001b[90m3\u001b[39m CS003512000043    298    -\u001b[31m0\u001b[39m\u001b[31m.\u001b[39m\u001b[31m827\u001b[39m \n",
       "\u001b[90m4\u001b[39m CS011615000061    246    -\u001b[31m0\u001b[39m\u001b[31m.\u001b[39m\u001b[31m846\u001b[39m \n",
       "\u001b[90m5\u001b[39m CS029212000033   \u001b[4m3\u001b[24m604     0.388 \n",
       "\u001b[90m6\u001b[39m CS007515000119   \u001b[4m7\u001b[24m157     1.69  "
      ]
     },
     "metadata": {},
     "output_type": "display_data"
    }
   ],
   "source": [
    "library(stringr)\n",
    "re %>%\n",
    "filter(!str_detect(customer_id,'^Z')) %>%\n",
    "group_by(customer_id) %>%\n",
    "summarise(amount = sum(amount, na.rm = TRUE)) %>%\n",
    "mutate(std_amount = (amount - mean(amount))/sd(amount)) %>%\n",
    "head"
   ]
  },
  {
   "cell_type": "code",
   "execution_count": 15,
   "metadata": {
    "vscode": {
     "languageId": "r"
    }
   },
   "outputs": [
    {
     "data": {
      "text/html": [
       "<table class=\"dataframe\">\n",
       "<caption>A tibble: 6 × 3</caption>\n",
       "<thead>\n",
       "\t<tr><th scope=col>customer_id</th><th scope=col>amount</th><th scope=col>std_amount</th></tr>\n",
       "\t<tr><th scope=col>&lt;chr&gt;</th><th scope=col>&lt;dbl&gt;</th><th scope=col>&lt;dbl[,1]&gt;</th></tr>\n",
       "</thead>\n",
       "<tbody>\n",
       "\t<tr><td>CS001311000059</td><td>2302</td><td>-0.09032403</td></tr>\n",
       "\t<tr><td>CS004614000122</td><td> 248</td><td>-0.84528400</td></tr>\n",
       "\t<tr><td>CS003512000043</td><td> 298</td><td>-0.82690620</td></tr>\n",
       "\t<tr><td>CS011615000061</td><td> 246</td><td>-0.84601911</td></tr>\n",
       "\t<tr><td>CS029212000033</td><td>3604</td><td> 0.38823385</td></tr>\n",
       "\t<tr><td>CS007515000119</td><td>7157</td><td> 1.69416023</td></tr>\n",
       "</tbody>\n",
       "</table>\n"
      ],
      "text/latex": [
       "A tibble: 6 × 3\n",
       "\\begin{tabular}{lll}\n",
       " customer\\_id & amount & std\\_amount\\\\\n",
       " <chr> & <dbl> & <dbl{[},1{]}>\\\\\n",
       "\\hline\n",
       "\t CS001311000059 & 2302 & -0.09032403\\\\\n",
       "\t CS004614000122 &  248 & -0.84528400\\\\\n",
       "\t CS003512000043 &  298 & -0.82690620\\\\\n",
       "\t CS011615000061 &  246 & -0.84601911\\\\\n",
       "\t CS029212000033 & 3604 &  0.38823385\\\\\n",
       "\t CS007515000119 & 7157 &  1.69416023\\\\\n",
       "\\end{tabular}\n"
      ],
      "text/markdown": [
       "\n",
       "A tibble: 6 × 3\n",
       "\n",
       "| customer_id &lt;chr&gt; | amount &lt;dbl&gt; | std_amount &lt;dbl[,1]&gt; |\n",
       "|---|---|---|\n",
       "| CS001311000059 | 2302 | -0.09032403 |\n",
       "| CS004614000122 |  248 | -0.84528400 |\n",
       "| CS003512000043 |  298 | -0.82690620 |\n",
       "| CS011615000061 |  246 | -0.84601911 |\n",
       "| CS029212000033 | 3604 |  0.38823385 |\n",
       "| CS007515000119 | 7157 |  1.69416023 |\n",
       "\n"
      ],
      "text/plain": [
       "  customer_id    amount std_amount \n",
       "1 CS001311000059 2302   -0.09032403\n",
       "2 CS004614000122  248   -0.84528400\n",
       "3 CS003512000043  298   -0.82690620\n",
       "4 CS011615000061  246   -0.84601911\n",
       "5 CS029212000033 3604    0.38823385\n",
       "6 CS007515000119 7157    1.69416023"
      ]
     },
     "metadata": {},
     "output_type": "display_data"
    }
   ],
   "source": [
    "receipt_tbl %>%\n",
    "filter(!str_detect(customer_id,'^Z')) %>%\n",
    "group_by(customer_id) %>%\n",
    "summarise(amount = sum(amount, na.rm = TRUE)) %>%\n",
    "collect() %>%\n",
    "mutate(std_amount = scale(amount, center = TRUE, scale = TRUE)) %>%\n",
    "head"
   ]
  },
  {
   "cell_type": "markdown",
   "metadata": {},
   "source": [
    "### R-060:\n",
    "レシート明細データ（df_receipt）の売上金額（amount）を顧客ID（customer_id）ごとに合計し、売上金額合計を最小値0、最大値1に正規化して顧客ID、売上金額合計とともに10件表示せよ。ただし、顧客IDが\"Z\"から始まるのものは非会員を表すため、除外して計算すること。"
   ]
  },
  {
   "cell_type": "code",
   "execution_count": 19,
   "metadata": {
    "vscode": {
     "languageId": "r"
    }
   },
   "outputs": [
    {
     "name": "stderr",
     "output_type": "stream",
     "text": [
      "Warning message:\n",
      "“Missing values are always removed in SQL.\n",
      "Use `MIN(x, na.rm = TRUE)` to silence this warning\n",
      "This warning is displayed only once per session.”\n",
      "Warning message:\n",
      "“Missing values are always removed in SQL.\n",
      "Use `MAX(x, na.rm = TRUE)` to silence this warning\n",
      "This warning is displayed only once per session.”\n"
     ]
    },
    {
     "data": {
      "text/plain": [
       "\u001b[90m# Source:   lazy query [?? x 3]\u001b[39m\n",
       "\u001b[90m# Database: postgres 12.0.11 [@localhost:5432/knock100]\u001b[39m\n",
       "   customer_id    amount relative_pos\n",
       "   \u001b[3m\u001b[90m<chr>\u001b[39m\u001b[23m           \u001b[3m\u001b[90m<dbl>\u001b[39m\u001b[23m        \u001b[3m\u001b[90m<dbl>\u001b[39m\u001b[23m\n",
       "\u001b[90m 1\u001b[39m CS001311000059   \u001b[4m2\u001b[24m302      0.097\u001b[4m0\u001b[24m \n",
       "\u001b[90m 2\u001b[39m CS004614000122    248      0.007\u001b[4m7\u001b[24m\u001b[4m3\u001b[24m\n",
       "\u001b[90m 3\u001b[39m CS003512000043    298      0.009\u001b[4m9\u001b[24m\u001b[4m1\u001b[24m\n",
       "\u001b[90m 4\u001b[39m CS011615000061    246      0.007\u001b[4m6\u001b[24m\u001b[4m5\u001b[24m\n",
       "\u001b[90m 5\u001b[39m CS029212000033   \u001b[4m3\u001b[24m604      0.154  \n",
       "\u001b[90m 6\u001b[39m CS007515000119   \u001b[4m7\u001b[24m157      0.308  \n",
       "\u001b[90m 7\u001b[39m CS034515000123   \u001b[4m3\u001b[24m699      0.158  \n",
       "\u001b[90m 8\u001b[39m CS004315000058    490      0.018\u001b[4m2\u001b[24m \n",
       "\u001b[90m 9\u001b[39m CS026414000014   \u001b[4m6\u001b[24m671      0.287  \n",
       "\u001b[90m10\u001b[39m CS001615000099    768      0.030\u001b[4m3\u001b[24m "
      ]
     },
     "metadata": {},
     "output_type": "display_data"
    }
   ],
   "source": [
    "library(stringr)\n",
    "re %>%\n",
    "filter(!str_detect(customer_id, '^Z')) %>%\n",
    "group_by(customer_id) %>%\n",
    "summarise(amount = sum(amount, na.rm = TRUE )) %>%\n",
    "mutate(relative_pos = as.numeric((amount - min(amount)))/(max(amount)-min(amount))) %>%\n",
    "head(10)"
   ]
  }
 ],
 "metadata": {
  "kernelspec": {
   "display_name": "R",
   "language": "R",
   "name": "ir"
  },
  "language_info": {
   "codemirror_mode": "r",
   "file_extension": ".r",
   "mimetype": "text/x-r-source",
   "name": "R",
   "pygments_lexer": "r",
   "version": "4.2.0"
  },
  "orig_nbformat": 4
 },
 "nbformat": 4,
 "nbformat_minor": 2
}
