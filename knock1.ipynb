{
 "cells": [
  {
   "cell_type": "code",
   "execution_count": 2,
   "metadata": {
    "vscode": {
     "languageId": "r"
    }
   },
   "outputs": [
    {
     "name": "stderr",
     "output_type": "stream",
     "text": [
      "\n",
      "Attaching package: ‘dplyr’\n",
      "\n",
      "\n",
      "The following objects are masked from ‘package:dbplyr’:\n",
      "\n",
      "    ident, sql\n",
      "\n",
      "\n",
      "The following objects are masked from ‘package:stats’:\n",
      "\n",
      "    filter, lag\n",
      "\n",
      "\n",
      "The following objects are masked from ‘package:base’:\n",
      "\n",
      "    intersect, setdiff, setequal, union\n",
      "\n",
      "\n"
     ]
    }
   ],
   "source": [
    "library('DBI')\n",
    "library('RPostgreSQL')\n",
    "library('dbplyr')\n",
    "library('dplyr')"
   ]
  },
  {
   "cell_type": "code",
   "execution_count": 3,
   "metadata": {
    "vscode": {
     "languageId": "r"
    }
   },
   "outputs": [],
   "source": [
    "con <- DBI::dbConnect(\n",
    "\tPostgreSQL(),\n",
    "\thost=\"localhost\",\n",
    "\tport=5432,\n",
    "\tdbname=\"knock100\",\n",
    "\tuser=\"guest\",\n",
    "\tpassword=\"guest\"\n",
    ")"
   ]
  },
  {
   "cell_type": "code",
   "execution_count": 4,
   "metadata": {
    "vscode": {
     "languageId": "r"
    }
   },
   "outputs": [
    {
     "data": {
      "text/html": [
       "<style>\n",
       ".list-inline {list-style: none; margin:0; padding: 0}\n",
       ".list-inline>li {display: inline-block}\n",
       ".list-inline>li:not(:last-child)::after {content: \"\\00b7\"; padding: 0 .5ex}\n",
       "</style>\n",
       "<ol class=list-inline><li>'customer'</li><li>'category'</li><li>'geocode'</li><li>'product'</li><li>'receipt'</li><li>'store'</li></ol>\n"
      ],
      "text/latex": [
       "\\begin{enumerate*}\n",
       "\\item 'customer'\n",
       "\\item 'category'\n",
       "\\item 'geocode'\n",
       "\\item 'product'\n",
       "\\item 'receipt'\n",
       "\\item 'store'\n",
       "\\end{enumerate*}\n"
      ],
      "text/markdown": [
       "1. 'customer'\n",
       "2. 'category'\n",
       "3. 'geocode'\n",
       "4. 'product'\n",
       "5. 'receipt'\n",
       "6. 'store'\n",
       "\n",
       "\n"
      ],
      "text/plain": [
       "[1] \"customer\" \"category\" \"geocode\"  \"product\"  \"receipt\"  \"store\"   "
      ]
     },
     "metadata": {},
     "output_type": "display_data"
    }
   ],
   "source": [
    "# get the list of tables available\n",
    "DBI::dbListTables(con)"
   ]
  },
  {
   "cell_type": "code",
   "execution_count": 5,
   "metadata": {
    "vscode": {
     "languageId": "r"
    }
   },
   "outputs": [],
   "source": [
    "# define table name variables \n",
    "receipt_tbl <-  tbl(con,'receipt')\n",
    "customer_tbl <-  tbl(con,'customer')\n",
    "store_tbl <-  tbl(con, 'store')"
   ]
  },
  {
   "cell_type": "code",
   "execution_count": 6,
   "metadata": {
    "vscode": {
     "languageId": "r"
    }
   },
   "outputs": [
    {
     "data": {
      "text/plain": [
       "\u001b[90m# Source:   lazy query [?? x 1]\u001b[39m\n",
       "\u001b[90m# Database: postgres 12.0.11 [@localhost:5432/knock100]\u001b[39m\n",
       "       n\n",
       "   \u001b[3m\u001b[90m<dbl>\u001b[39m\u001b[23m\n",
       "\u001b[90m1\u001b[39m \u001b[4m1\u001b[24m\u001b[4m0\u001b[24m\u001b[4m4\u001b[24m681"
      ]
     },
     "metadata": {},
     "output_type": "display_data"
    }
   ],
   "source": [
    "receipt_tbl %>% count()"
   ]
  },
  {
   "cell_type": "markdown",
   "metadata": {},
   "source": [
    "### 006\n",
    "レシート明細データ（df_receipt）から売上⽇（sales_ymd）、顧客（customer_id）、\n",
    "商品コード（product_cd）、売上数量（quantity）、売上⾦額（amount）の順に列を指定\n",
    "し、以下の全ての条件を満たすデータを抽出せよ。\n",
    "- 顧客ID（customer_id）が\"CS018205000001\"\n",
    "- 売上⾦額（amount）が1,000以上または売上数量（quantity）が5以上"
   ]
  },
  {
   "cell_type": "code",
   "execution_count": 7,
   "metadata": {
    "vscode": {
     "languageId": "r"
    }
   },
   "outputs": [
    {
     "data": {
      "text/plain": [
       "\u001b[90m# Source:   lazy query [?? x 5]\u001b[39m\n",
       "\u001b[90m# Database: postgres 12.0.11 [@localhost:5432/knock100]\u001b[39m\n",
       "  sales_ymd customer_id    product_cd quantity amount\n",
       "      \u001b[3m\u001b[90m<int>\u001b[39m\u001b[23m \u001b[3m\u001b[90m<chr>\u001b[39m\u001b[23m          \u001b[3m\u001b[90m<chr>\u001b[39m\u001b[23m         \u001b[3m\u001b[90m<int>\u001b[39m\u001b[23m  \u001b[3m\u001b[90m<int>\u001b[39m\u001b[23m\n",
       "\u001b[90m1\u001b[39m  20\u001b[4m1\u001b[24m\u001b[4m8\u001b[24m\u001b[4m0\u001b[24m911 CS018205000001 P071401012        1   \u001b[4m2\u001b[24m200\n",
       "\u001b[90m2\u001b[39m  20\u001b[4m1\u001b[24m\u001b[4m8\u001b[24m\u001b[4m0\u001b[24m414 CS018205000001 P060104007        6    600\n",
       "\u001b[90m3\u001b[39m  20\u001b[4m1\u001b[24m\u001b[4m7\u001b[24m\u001b[4m0\u001b[24m614 CS018205000001 P050206001        5    990\n",
       "\u001b[90m4\u001b[39m  20\u001b[4m1\u001b[24m\u001b[4m9\u001b[24m\u001b[4m0\u001b[24m226 CS018205000001 P071401020        1   \u001b[4m2\u001b[24m200\n",
       "\u001b[90m5\u001b[39m  20\u001b[4m1\u001b[24m\u001b[4m8\u001b[24m\u001b[4m0\u001b[24m911 CS018205000001 P071401005        1   \u001b[4m1\u001b[24m100"
      ]
     },
     "metadata": {},
     "output_type": "display_data"
    }
   ],
   "source": [
    "# 006\n",
    "receipt_tbl %>%\n",
    "filter(amount >= 1000 || quantity >=5) %>%\n",
    "filter(customer_id == 'CS018205000001') %>%\n",
    "select(sales_ymd, customer_id, product_cd, quantity, amount) %>% \n",
    "head"
   ]
  },
  {
   "cell_type": "markdown",
   "metadata": {},
   "source": [
    "### 015\n",
    "顧客データ（df_customer）から、ステータスコード（status_cd）の先頭がアルファベッ\n",
    "トのA〜Fで始まり、末尾が数字の1〜9で終わるデータを全項⽬抽出し、10件表⽰せよ。"
   ]
  },
  {
   "cell_type": "code",
   "execution_count": 8,
   "metadata": {
    "vscode": {
     "languageId": "r"
    }
   },
   "outputs": [
    {
     "data": {
      "text/plain": [
       "\u001b[90m# Source:   lazy query [?? x 2]\u001b[39m\n",
       "\u001b[90m# Database: postgres 12.0.11 [@localhost:5432/knock100]\u001b[39m\n",
       "  customer_id    status_cd   \n",
       "  \u001b[3m\u001b[90m<chr>\u001b[39m\u001b[23m          \u001b[3m\u001b[90m<chr>\u001b[39m\u001b[23m       \n",
       "\u001b[90m1\u001b[39m CS011215000048 C-20100421-9\n",
       "\u001b[90m2\u001b[39m CS022513000105 A-20091115-7\n",
       "\u001b[90m3\u001b[39m CS001515000096 A-20100724-7\n",
       "\u001b[90m4\u001b[39m CS013615000053 B-20100329-6\n",
       "\u001b[90m5\u001b[39m CS020412000161 B-20081021-3\n",
       "\u001b[90m6\u001b[39m CS001215000097 A-20100211-2"
      ]
     },
     "metadata": {},
     "output_type": "display_data"
    }
   ],
   "source": [
    "library(stringr)\n",
    "\n",
    "customer_tbl %>%\n",
    "filter(str_detect(status_cd, \"^[A-F].*[1-9]$\")) %>%\n",
    "select(customer_id, status_cd) %>%\n",
    "head"
   ]
  },
  {
   "cell_type": "markdown",
   "metadata": {},
   "source": [
    "### 016\n",
    "店舗データ（df_store）から、電話番号（tel_no）が3桁-3桁-4桁のデータを全項目表示せよ。"
   ]
  },
  {
   "cell_type": "code",
   "execution_count": 9,
   "metadata": {
    "vscode": {
     "languageId": "r"
    }
   },
   "outputs": [
    {
     "data": {
      "text/plain": [
       "\u001b[90m# Source:   lazy query [?? x 10]\u001b[39m\n",
       "\u001b[90m# Database: postgres 12.0.11 [@localhost:5432/knock100]\u001b[39m\n",
       "  store_cd store_name   prefecture_cd prefecture address     address_kana tel_no\n",
       "  \u001b[3m\u001b[90m<chr>\u001b[39m\u001b[23m    \u001b[3m\u001b[90m<chr>\u001b[39m\u001b[23m                \u001b[3m\u001b[90m<int>\u001b[39m\u001b[23m \u001b[3m\u001b[90m<chr>\u001b[39m\u001b[23m      \u001b[3m\u001b[90m<chr>\u001b[39m\u001b[23m       \u001b[3m\u001b[90m<chr>\u001b[39m\u001b[23m        \u001b[3m\u001b[90m<chr>\u001b[39m\u001b[23m \n",
       "\u001b[90m1\u001b[39m S12014   千草台店                12 千葉県     千葉県千葉… チバケンチ…  043-1…\n",
       "\u001b[90m2\u001b[39m S13002   国分寺店                13 東京都     東京都国分… トウキョウ…  042-1…\n",
       "\u001b[90m3\u001b[39m S14010   菊名店                  14 神奈川県   神奈川県横… カナガワケ…  045-1…\n",
       "\u001b[90m4\u001b[39m S14033   阿久和店                14 神奈川県   神奈川県横… カナガワケ…  045-1…\n",
       "\u001b[90m5\u001b[39m S14036   相模原中央店            14 神奈川県   神奈川県相… カナガワケ…  042-1…\n",
       "\u001b[90m6\u001b[39m S14040   長津田店                14 神奈川県   神奈川県横… カナガワケ…  045-1…\n",
       "\u001b[90m# … with 3 more variables: longitude <dbl>, latitude <dbl>, floor_area <dbl>\u001b[39m"
      ]
     },
     "metadata": {},
     "output_type": "display_data"
    }
   ],
   "source": [
    "store = tbl(con, 'store')\n",
    "store %>%\n",
    "filter(str_detect(tel_no, \"^\\\\d{3}-\\\\d{3}-\\\\d{4}$\")) %>%\n",
    "head"
   ]
  },
  {
   "cell_type": "markdown",
   "metadata": {},
   "source": [
    "### 019\n",
    "レシート明細データ（df_receipt）に対し、1件あたりの売上金額（amount）が高い順にランクを付与し、先頭から10件表示せよ。項目は顧客ID（customer_id）、売上金額（amount）、付与したランクを表示させること。なお、売上金額（amount）が等しい場合は同一順位を付与するものとする。"
   ]
  },
  {
   "cell_type": "code",
   "execution_count": 10,
   "metadata": {
    "vscode": {
     "languageId": "r"
    }
   },
   "outputs": [
    {
     "data": {
      "text/plain": [
       "\u001b[90m# Source:     lazy query [?? x 3]\u001b[39m\n",
       "\u001b[90m# Database:   postgres 12.0.11 [@localhost:5432/knock100]\u001b[39m\n",
       "\u001b[90m# Ordered by: ranking\u001b[39m\n",
       "  customer_id    amount ranking\n",
       "  \u001b[3m\u001b[90m<chr>\u001b[39m\u001b[23m           \u001b[3m\u001b[90m<int>\u001b[39m\u001b[23m   \u001b[3m\u001b[90m<dbl>\u001b[39m\u001b[23m\n",
       "\u001b[90m1\u001b[39m CS011415000006  \u001b[4m1\u001b[24m\u001b[4m0\u001b[24m925       1\n",
       "\u001b[90m2\u001b[39m ZZ000000000000   \u001b[4m6\u001b[24m800       2\n",
       "\u001b[90m3\u001b[39m CS028605000002   \u001b[4m5\u001b[24m780       3\n",
       "\u001b[90m4\u001b[39m ZZ000000000000   \u001b[4m5\u001b[24m480       4\n",
       "\u001b[90m5\u001b[39m CS015515000034   \u001b[4m5\u001b[24m480       4\n",
       "\u001b[90m6\u001b[39m ZZ000000000000   \u001b[4m5\u001b[24m480       4"
      ]
     },
     "metadata": {},
     "output_type": "display_data"
    }
   ],
   "source": [
    "re = tbl(con,'receipt')\n",
    "re %>%\n",
    "select(customer_id, amount) %>%\n",
    "mutate(ranking = min_rank(desc(amount))) %>%\n",
    "arrange(ranking) %>%\n",
    "head"
   ]
  },
  {
   "cell_type": "markdown",
   "metadata": {},
   "source": [
    "### 020\n",
    "レシート明細データ（df_receipt）に対し、1件あたりの売上金額（amount）が高い順にランクを付与し、先頭から10件表示せよ。項目は顧客ID（customer_id）、売上金額（amount）、付与したランクを表示させること。なお、売上金額（amount）が等しい場合でも別順位を付与すること。"
   ]
  },
  {
   "cell_type": "code",
   "execution_count": 11,
   "metadata": {
    "vscode": {
     "languageId": "r"
    }
   },
   "outputs": [
    {
     "data": {
      "text/plain": [
       "\u001b[90m# Source:     lazy query [?? x 3]\u001b[39m\n",
       "\u001b[90m# Database:   postgres 12.0.11 [@localhost:5432/knock100]\u001b[39m\n",
       "\u001b[90m# Ordered by: ranking\u001b[39m\n",
       "  customer_id    amount ranking\n",
       "  \u001b[3m\u001b[90m<chr>\u001b[39m\u001b[23m           \u001b[3m\u001b[90m<int>\u001b[39m\u001b[23m   \u001b[3m\u001b[90m<dbl>\u001b[39m\u001b[23m\n",
       "\u001b[90m1\u001b[39m CS011415000006  \u001b[4m1\u001b[24m\u001b[4m0\u001b[24m925       1\n",
       "\u001b[90m2\u001b[39m ZZ000000000000   \u001b[4m6\u001b[24m800       2\n",
       "\u001b[90m3\u001b[39m CS028605000002   \u001b[4m5\u001b[24m780       3\n",
       "\u001b[90m4\u001b[39m ZZ000000000000   \u001b[4m5\u001b[24m480       4\n",
       "\u001b[90m5\u001b[39m CS015515000034   \u001b[4m5\u001b[24m480       5\n",
       "\u001b[90m6\u001b[39m ZZ000000000000   \u001b[4m5\u001b[24m480       6"
      ]
     },
     "metadata": {},
     "output_type": "display_data"
    }
   ],
   "source": [
    "re %>%\n",
    "select(customer_id,amount) %>%\n",
    "mutate(ranking = row_number(desc(amount))) %>%\n",
    "arrange(ranking) %>%\n",
    "head"
   ]
  },
  {
   "cell_type": "markdown",
   "metadata": {},
   "source": [
    "### 026\n",
    "レシート明細データ（df_receipt）に対し、顧客ID（customer_id）ごとに最も新しい売上年⽉⽇（sales_ymd）と古い売上年⽉⽇を求め、両者が異なるデータを10件表⽰せよ。"
   ]
  },
  {
   "cell_type": "code",
   "execution_count": 12,
   "metadata": {
    "vscode": {
     "languageId": "r"
    }
   },
   "outputs": [
    {
     "data": {
      "text/plain": [
       "\u001b[90m# Source:   lazy query [?? x 3]\u001b[39m\n",
       "\u001b[90m# Database: postgres 12.0.11 [@localhost:5432/knock100]\u001b[39m\n",
       "  customer_id    latest_ymd oldest_ymd\n",
       "  \u001b[3m\u001b[90m<chr>\u001b[39m\u001b[23m               \u001b[3m\u001b[90m<int>\u001b[39m\u001b[23m      \u001b[3m\u001b[90m<int>\u001b[39m\u001b[23m\n",
       "\u001b[90m1\u001b[39m CS029212000033   20\u001b[4m1\u001b[24m\u001b[4m8\u001b[24m\u001b[4m0\u001b[24m621   20\u001b[4m1\u001b[24m\u001b[4m7\u001b[24m\u001b[4m0\u001b[24m318\n",
       "\u001b[90m2\u001b[39m CS007515000119   20\u001b[4m1\u001b[24m\u001b[4m9\u001b[24m\u001b[4m0\u001b[24m511   20\u001b[4m1\u001b[24m\u001b[4m7\u001b[24m\u001b[4m0\u001b[24m201\n",
       "\u001b[90m3\u001b[39m CS034515000123   20\u001b[4m1\u001b[24m\u001b[4m9\u001b[24m\u001b[4m0\u001b[24m708   20\u001b[4m1\u001b[24m\u001b[4m7\u001b[24m\u001b[4m0\u001b[24m527\n",
       "\u001b[90m4\u001b[39m CS026414000014   20\u001b[4m1\u001b[24m\u001b[4m9\u001b[24m\u001b[4m0\u001b[24m720   20\u001b[4m1\u001b[24m\u001b[4m7\u001b[24m\u001b[4m0\u001b[24m718\n",
       "\u001b[90m5\u001b[39m CS010515000082   20\u001b[4m1\u001b[24m\u001b[4m8\u001b[24m\u001b[4m1\u001b[24m204   20\u001b[4m1\u001b[24m\u001b[4m8\u001b[24m\u001b[4m0\u001b[24m518\n",
       "\u001b[90m6\u001b[39m CS019315000045   20\u001b[4m1\u001b[24m\u001b[4m7\u001b[24m\u001b[4m0\u001b[24m920   20\u001b[4m1\u001b[24m\u001b[4m7\u001b[24m\u001b[4m0\u001b[24m423"
      ]
     },
     "metadata": {},
     "output_type": "display_data"
    }
   ],
   "source": [
    "re %>%\n",
    "group_by(customer_id) %>%\n",
    "summarise(latest_ymd = max(sales_ymd, na.rm=TRUE), oldest_ymd = min(sales_ymd,na.rm=TRUE)) %>%\n",
    "filter(latest_ymd != oldest_ymd) %>%\n",
    "head"
   ]
  },
  {
   "cell_type": "markdown",
   "metadata": {},
   "source": [
    "### 028\n",
    "レシート明細データ（df_receipt）に対し、店舗コード（store_cd）ごとに売上額\n",
    "（amount）の中央値を計算し、降順でTOP5を表示せよ。"
   ]
  },
  {
   "cell_type": "code",
   "execution_count": 13,
   "metadata": {
    "vscode": {
     "languageId": "r"
    }
   },
   "outputs": [
    {
     "data": {
      "text/plain": [
       "\u001b[90m# Source:     lazy query [?? x 2]\u001b[39m\n",
       "\u001b[90m# Database:   postgres 12.0.11 [@localhost:5432/knock100]\u001b[39m\n",
       "\u001b[90m# Ordered by: desc(amount)\u001b[39m\n",
       "  store_cd amount\n",
       "  \u001b[3m\u001b[90m<chr>\u001b[39m\u001b[23m     \u001b[3m\u001b[90m<dbl>\u001b[39m\u001b[23m\n",
       "\u001b[90m1\u001b[39m S13052      190\n",
       "\u001b[90m2\u001b[39m S14010      188\n",
       "\u001b[90m3\u001b[39m S14050      185\n",
       "\u001b[90m4\u001b[39m S14040      180\n",
       "\u001b[90m5\u001b[39m S13003      180\n",
       "\u001b[90m6\u001b[39m S13018      180"
      ]
     },
     "metadata": {},
     "output_type": "display_data"
    }
   ],
   "source": [
    "re %>%\n",
    "group_by(store_cd) %>%\n",
    "summarise(amount = median(amount, na.rm = TRUE)) %>%\n",
    "arrange(desc(amount)) %>%\n",
    "head"
   ]
  },
  {
   "cell_type": "markdown",
   "metadata": {},
   "source": [
    "### 029\n",
    "レシート明細データ（df_receipt）に対し、店舗コード（store_cd）ごとに商品コード（product_cd）の最頻値を求め、10件表示させよ。"
   ]
  },
  {
   "cell_type": "code",
   "execution_count": 21,
   "metadata": {
    "vscode": {
     "languageId": "r"
    }
   },
   "outputs": [
    {
     "data": {
      "text/plain": [
       "\u001b[90m# Source:   lazy query [?? x 3]\u001b[39m\n",
       "\u001b[90m# Database: postgres 12.0.11 [@localhost:5432/knock100]\u001b[39m\n",
       "\u001b[90m# Groups:   store_cd\u001b[39m\n",
       "  store_cd product_cd count\n",
       "  \u001b[3m\u001b[90m<chr>\u001b[39m\u001b[23m    \u001b[3m\u001b[90m<chr>\u001b[39m\u001b[23m      \u001b[3m\u001b[90m<dbl>\u001b[39m\u001b[23m\n",
       "\u001b[90m1\u001b[39m S12007   P060303001    72\n",
       "\u001b[90m2\u001b[39m S12013   P060303001   107\n",
       "\u001b[90m3\u001b[39m S12014   P060303001    65\n",
       "\u001b[90m4\u001b[39m S12029   P060303001    92\n",
       "\u001b[90m5\u001b[39m S12030   P060303001   115\n",
       "\u001b[90m6\u001b[39m S13001   P060303001    67"
      ]
     },
     "metadata": {},
     "output_type": "display_data"
    }
   ],
   "source": [
    "re %>%\n",
    "group_by(store_cd, product_cd) %>%\n",
    "summarise(count = n(), .groups = 'drop_last') %>%\n",
    "filter(count == max(count, na.rm = TRUE)) %>%\n",
    "head"
   ]
  },
  {
   "cell_type": "code",
   "execution_count": 20,
   "metadata": {
    "vscode": {
     "languageId": "r"
    }
   },
   "outputs": [
    {
     "name": "stderr",
     "output_type": "stream",
     "text": [
      "`summarise()` has grouped output by 'store_cd'. You can override using the `.groups` argument.\n"
     ]
    },
    {
     "data": {
      "text/plain": [
       "\u001b[90m# Source:   lazy query [?? x 3]\u001b[39m\n",
       "\u001b[90m# Database: postgres 12.0.11 [@localhost:5432/knock100]\u001b[39m\n",
       "\u001b[90m# Groups:   store_cd\u001b[39m\n",
       "  store_cd product_cd count\n",
       "  \u001b[3m\u001b[90m<chr>\u001b[39m\u001b[23m    \u001b[3m\u001b[90m<chr>\u001b[39m\u001b[23m      \u001b[3m\u001b[90m<dbl>\u001b[39m\u001b[23m\n",
       "\u001b[90m1\u001b[39m S12007   P060303001    72\n",
       "\u001b[90m2\u001b[39m S12013   P060303001   107\n",
       "\u001b[90m3\u001b[39m S12014   P060303001    65\n",
       "\u001b[90m4\u001b[39m S12029   P060303001    92\n",
       "\u001b[90m5\u001b[39m S12030   P060303001   115\n",
       "\u001b[90m6\u001b[39m S13001   P060303001    67"
      ]
     },
     "metadata": {},
     "output_type": "display_data"
    }
   ],
   "source": [
    "re %>%\n",
    "group_by(store_cd, product_cd) %>%\n",
    "summarise(count = n()) %>%\n",
    "filter(count == max(count)) %>%\n",
    "head"
   ]
  },
  {
   "cell_type": "markdown",
   "metadata": {},
   "source": [
    "### R-031:\n",
    "レシート明細データ（df_receipt）に対し、店舗コード（store_cd）ごとに売上金額（amount）の標準偏差を計算し、降順で5件表示せよ。"
   ]
  },
  {
   "cell_type": "code",
   "execution_count": 15,
   "metadata": {
    "vscode": {
     "languageId": "r"
    }
   },
   "outputs": [
    {
     "data": {
      "text/plain": [
       "\u001b[90m# Source:     lazy query [?? x 2]\u001b[39m\n",
       "\u001b[90m# Database:   postgres 12.0.11 [@localhost:5432/knock100]\u001b[39m\n",
       "\u001b[90m# Ordered by: desc(sd)\u001b[39m\n",
       "  store_cd    sd\n",
       "  \u001b[3m\u001b[90m<chr>\u001b[39m\u001b[23m    \u001b[3m\u001b[90m<dbl>\u001b[39m\u001b[23m\n",
       "\u001b[90m1\u001b[39m S13052    665.\n",
       "\u001b[90m2\u001b[39m S14011    554.\n",
       "\u001b[90m3\u001b[39m S14034    545.\n",
       "\u001b[90m4\u001b[39m S13001    544.\n",
       "\u001b[90m5\u001b[39m S13015    544.\n",
       "\u001b[90m6\u001b[39m S13035    527."
      ]
     },
     "metadata": {},
     "output_type": "display_data"
    }
   ],
   "source": [
    "receipt_tbl %>%\n",
    "group_by(store_cd) %>%\n",
    "summarise(sd = sd(amount, na.rm = TRUE)) %>%\n",
    "arrange(desc(sd)) %>%\n",
    "head"
   ]
  },
  {
   "cell_type": "markdown",
   "metadata": {},
   "source": [
    "### R-033:\n",
    "レシート明細データ（df_receipt）に対し、店舗コード（store_cd）ごとに売上金額（amount）の平均を計算し、330以上のものを抽出せよ。"
   ]
  },
  {
   "cell_type": "code",
   "execution_count": 16,
   "metadata": {
    "vscode": {
     "languageId": "r"
    }
   },
   "outputs": [
    {
     "data": {
      "text/plain": [
       "\u001b[90m# Source:   lazy query [?? x 2]\u001b[39m\n",
       "\u001b[90m# Database: postgres 12.0.11 [@localhost:5432/knock100]\u001b[39m\n",
       "  store_cd total\n",
       "  \u001b[3m\u001b[90m<chr>\u001b[39m\u001b[23m    \u001b[3m\u001b[90m<dbl>\u001b[39m\u001b[23m\n",
       "\u001b[90m1\u001b[39m S13052    403.\n",
       "\u001b[90m2\u001b[39m S13019    330.\n",
       "\u001b[90m3\u001b[39m S13003    351.\n",
       "\u001b[90m4\u001b[39m S14045    330.\n",
       "\u001b[90m5\u001b[39m S13004    331.\n",
       "\u001b[90m6\u001b[39m S13001    348."
      ]
     },
     "metadata": {},
     "output_type": "display_data"
    }
   ],
   "source": [
    "re %>%\n",
    "group_by(store_cd) %>%\n",
    "summarise(total = mean(amount, na.rm = TRUE)) %>%\n",
    "filter(total>=330) %>%\n",
    "head"
   ]
  },
  {
   "cell_type": "markdown",
   "metadata": {},
   "source": [
    "### R-036:\n",
    "レシート明細データ（df_receipt）と店舗データ（df_store）を内部結合し、レシート明細データの全項目と店舗データの店舗名（store_name）を10件表示せよ。"
   ]
  },
  {
   "cell_type": "code",
   "execution_count": 17,
   "metadata": {
    "vscode": {
     "languageId": "r"
    }
   },
   "outputs": [
    {
     "data": {
      "text/plain": [
       "\u001b[90m# Source:   lazy query [?? x 18]\u001b[39m\n",
       "\u001b[90m# Database: postgres 12.0.11 [@localhost:5432/knock100]\u001b[39m\n",
       "   sales_ymd sales_epoch store_cd receipt_no receipt_sub_no customer_id   \n",
       "       \u001b[3m\u001b[90m<int>\u001b[39m\u001b[23m       \u001b[3m\u001b[90m<int>\u001b[39m\u001b[23m \u001b[3m\u001b[90m<chr>\u001b[39m\u001b[23m         \u001b[3m\u001b[90m<int>\u001b[39m\u001b[23m          \u001b[3m\u001b[90m<int>\u001b[39m\u001b[23m \u001b[3m\u001b[90m<chr>\u001b[39m\u001b[23m         \n",
       "\u001b[90m 1\u001b[39m  20\u001b[4m1\u001b[24m\u001b[4m8\u001b[24m\u001b[4m1\u001b[24m103  \u001b[4m1\u001b[24m541\u001b[4m2\u001b[24m\u001b[4m0\u001b[24m\u001b[4m3\u001b[24m200 S14006          112              1 CS006214000001\n",
       "\u001b[90m 2\u001b[39m  20\u001b[4m1\u001b[24m\u001b[4m8\u001b[24m\u001b[4m1\u001b[24m118  \u001b[4m1\u001b[24m542\u001b[4m4\u001b[24m\u001b[4m9\u001b[24m\u001b[4m9\u001b[24m200 S13008         \u001b[4m1\u001b[24m132              2 CS008415000097\n",
       "\u001b[90m 3\u001b[39m  20\u001b[4m1\u001b[24m\u001b[4m7\u001b[24m\u001b[4m0\u001b[24m712  \u001b[4m1\u001b[24m499\u001b[4m8\u001b[24m\u001b[4m1\u001b[24m\u001b[4m7\u001b[24m600 S14028         \u001b[4m1\u001b[24m102              1 CS028414000014\n",
       "\u001b[90m 4\u001b[39m  20\u001b[4m1\u001b[24m\u001b[4m9\u001b[24m\u001b[4m0\u001b[24m205  \u001b[4m1\u001b[24m549\u001b[4m3\u001b[24m\u001b[4m2\u001b[24m\u001b[4m4\u001b[24m800 S14042         \u001b[4m1\u001b[24m132              1 ZZ000000000000\n",
       "\u001b[90m 5\u001b[39m  20\u001b[4m1\u001b[24m\u001b[4m8\u001b[24m\u001b[4m0\u001b[24m821  \u001b[4m1\u001b[24m534\u001b[4m8\u001b[24m\u001b[4m0\u001b[24m\u001b[4m9\u001b[24m600 S14025         \u001b[4m1\u001b[24m102              2 CS025415000050\n",
       "\u001b[90m 6\u001b[39m  20\u001b[4m1\u001b[24m\u001b[4m9\u001b[24m\u001b[4m0\u001b[24m605  \u001b[4m1\u001b[24m559\u001b[4m6\u001b[24m\u001b[4m9\u001b[24m\u001b[4m2\u001b[24m800 S13003         \u001b[4m1\u001b[24m112              1 CS003515000195\n",
       "\u001b[90m 7\u001b[39m  20\u001b[4m1\u001b[24m\u001b[4m8\u001b[24m\u001b[4m1\u001b[24m205  \u001b[4m1\u001b[24m543\u001b[4m9\u001b[24m\u001b[4m6\u001b[24m\u001b[4m8\u001b[24m000 S14024         \u001b[4m1\u001b[24m102              2 CS024514000042\n",
       "\u001b[90m 8\u001b[39m  20\u001b[4m1\u001b[24m\u001b[4m9\u001b[24m\u001b[4m0\u001b[24m922  \u001b[4m1\u001b[24m569\u001b[4m1\u001b[24m\u001b[4m1\u001b[24m\u001b[4m0\u001b[24m400 S14040         \u001b[4m1\u001b[24m102              1 CS040415000178\n",
       "\u001b[90m 9\u001b[39m  20\u001b[4m1\u001b[24m\u001b[4m7\u001b[24m\u001b[4m0\u001b[24m504  \u001b[4m1\u001b[24m493\u001b[4m8\u001b[24m\u001b[4m5\u001b[24m\u001b[4m6\u001b[24m000 S13020         \u001b[4m1\u001b[24m112              2 ZZ000000000000\n",
       "\u001b[90m10\u001b[39m  20\u001b[4m1\u001b[24m\u001b[4m9\u001b[24m\u001b[4m1\u001b[24m010  \u001b[4m1\u001b[24m570\u001b[4m6\u001b[24m\u001b[4m6\u001b[24m\u001b[4m5\u001b[24m600 S14027         \u001b[4m1\u001b[24m102              1 CS027514000015\n",
       "\u001b[90m# … with more rows, and 12 more variables: product_cd <chr>, quantity <int>,\u001b[39m\n",
       "\u001b[90m#   amount <int>, store_name <chr>, prefecture_cd <int>, prefecture <chr>,\u001b[39m\n",
       "\u001b[90m#   address <chr>, address_kana <chr>, tel_no <chr>, longitude <dbl>,\u001b[39m\n",
       "\u001b[90m#   latitude <dbl>, floor_area <dbl>\u001b[39m"
      ]
     },
     "metadata": {},
     "output_type": "display_data"
    }
   ],
   "source": [
    "# store %>% head\n",
    " inner_join(re, store, by = 'store_cd')"
   ]
  },
  {
   "cell_type": "markdown",
   "metadata": {},
   "source": [
    "### R-038:\n",
    "顧客データ（df_customer）とレシート明細データ（df_receipt）から、顧客ごとの売上金額合計を求め、10件表示せよ。ただし、売上実績がない顧客については売上金額を0として表示させること。また、顧客は性別コード（gender_cd）が女性（1）であるものを対象とし、非会員（顧客IDが\"Z\"から始まるもの）は除外すること。"
   ]
  },
  {
   "cell_type": "code",
   "execution_count": 18,
   "metadata": {
    "vscode": {
     "languageId": "r"
    }
   },
   "outputs": [
    {
     "name": "stderr",
     "output_type": "stream",
     "text": [
      "Warning message:\n",
      "“Missing values are always removed in SQL.\n",
      "Use `SUM(x, na.rm = TRUE)` to silence this warning\n",
      "This warning is displayed only once per session.”\n"
     ]
    },
    {
     "data": {
      "text/plain": [
       "\u001b[90m# Source:     lazy query [?? x 2]\u001b[39m\n",
       "\u001b[90m# Database:   postgres 12.0.11 [@localhost:5432/knock100]\u001b[39m\n",
       "\u001b[90m# Ordered by: desc(amount_total)\u001b[39m\n",
       "  customer_id    amount_total\n",
       "  \u001b[3m\u001b[90m<chr>\u001b[39m\u001b[23m                 \u001b[3m\u001b[90m<dbl>\u001b[39m\u001b[23m\n",
       "\u001b[90m1\u001b[39m CS017415000097        \u001b[4m2\u001b[24m\u001b[4m3\u001b[24m086\n",
       "\u001b[90m2\u001b[39m CS015415000185        \u001b[4m2\u001b[24m\u001b[4m0\u001b[24m153\n",
       "\u001b[90m3\u001b[39m CS031414000051        \u001b[4m1\u001b[24m\u001b[4m9\u001b[24m202\n",
       "\u001b[90m4\u001b[39m CS028415000007        \u001b[4m1\u001b[24m\u001b[4m9\u001b[24m127\n",
       "\u001b[90m5\u001b[39m CS010214000010        \u001b[4m1\u001b[24m\u001b[4m8\u001b[24m585\n",
       "\u001b[90m6\u001b[39m CS006515000023        \u001b[4m1\u001b[24m\u001b[4m8\u001b[24m372"
      ]
     },
     "metadata": {},
     "output_type": "display_data"
    }
   ],
   "source": [
    "cu = tbl(con,'customer')\n",
    "\n",
    "top20cu <- cu %>% filter(gender_cd == 1 && !str_detect(customer_id, '^Z')) %>%\n",
    "left_join(re, by = 'customer_id') %>%\n",
    "group_by(customer_id) %>%\n",
    "summarise(amount_total = sum(ifelse(is.null(amount),0,amount))) %>%\n",
    "arrange(desc(amount_total))\n",
    "\n",
    "# show\n",
    "top20cu %>% head"
   ]
  },
  {
   "cell_type": "markdown",
   "metadata": {},
   "source": [
    "### R-039:\n",
    "レシート明細データ（df_receipt）から、売上日数の多い顧客の上位20件を抽出したデータと、売上金額合計の多い顧客の上位20件を抽出したデータをそれぞれ作成し、さらにその2つを完全外部結合せよ。ただし、非会員（顧客IDが\"Z\"から始まるもの）は除外すること。"
   ]
  },
  {
   "cell_type": "code",
   "execution_count": 19,
   "metadata": {
    "vscode": {
     "languageId": "r"
    }
   },
   "outputs": [
    {
     "data": {
      "text/plain": [
       "\u001b[90m# Source:     lazy query [?? x 3]\u001b[39m\n",
       "\u001b[90m# Database:   postgres 12.0.11 [@localhost:5432/knock100]\u001b[39m\n",
       "\u001b[90m# Ordered by: desc(n_day)\u001b[39m\n",
       "   customer_id    n_day amount_total\n",
       "   \u001b[3m\u001b[90m<chr>\u001b[39m\u001b[23m          \u001b[3m\u001b[90m<dbl>\u001b[39m\u001b[23m        \u001b[3m\u001b[90m<dbl>\u001b[39m\u001b[23m\n",
       "\u001b[90m 1\u001b[39m CS001112000009    \u001b[31mNA\u001b[39m            0\n",
       "\u001b[90m 2\u001b[39m CS001112000019    \u001b[31mNA\u001b[39m            0\n",
       "\u001b[90m 3\u001b[39m CS001112000021    \u001b[31mNA\u001b[39m            0\n",
       "\u001b[90m 4\u001b[39m CS001112000023    \u001b[31mNA\u001b[39m            0\n",
       "\u001b[90m 5\u001b[39m CS001112000024    \u001b[31mNA\u001b[39m            0\n",
       "\u001b[90m 6\u001b[39m CS001112000029    \u001b[31mNA\u001b[39m            0\n",
       "\u001b[90m 7\u001b[39m CS001112000030    \u001b[31mNA\u001b[39m            0\n",
       "\u001b[90m 8\u001b[39m CS001113000004     1         \u001b[4m1\u001b[24m298\n",
       "\u001b[90m 9\u001b[39m CS001113000010    \u001b[31mNA\u001b[39m            0\n",
       "\u001b[90m10\u001b[39m CS001114000005     2          626\n",
       "\u001b[90m# … with more rows\u001b[39m"
      ]
     },
     "metadata": {},
     "output_type": "display_data"
    }
   ],
   "source": [
    "re %>%\n",
    "filter(!str_detect(customer_id, '^Z') && !is.na(sales_ymd)) %>%\n",
    "group_by(customer_id) %>%\n",
    "summarise(n_day = n_distinct(sales_ymd)) %>%\n",
    "arrange(desc(n_day)) %>%\n",
    "head(20) %>%\n",
    "full_join(top20cu, by = 'customer_id')"
   ]
  }
 ],
 "metadata": {
  "kernelspec": {
   "display_name": "R",
   "language": "R",
   "name": "ir"
  },
  "language_info": {
   "codemirror_mode": "r",
   "file_extension": ".r",
   "mimetype": "text/x-r-source",
   "name": "R",
   "pygments_lexer": "r",
   "version": "4.2.0"
  },
  "orig_nbformat": 4
 },
 "nbformat": 4,
 "nbformat_minor": 2
}
