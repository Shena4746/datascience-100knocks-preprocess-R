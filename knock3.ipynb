{
 "cells": [
  {
   "cell_type": "code",
   "execution_count": 1,
   "metadata": {
    "vscode": {
     "languageId": "r"
    }
   },
   "outputs": [
    {
     "name": "stderr",
     "output_type": "stream",
     "text": [
      "\n",
      "Attaching package: ‘dplyr’\n",
      "\n",
      "\n",
      "The following objects are masked from ‘package:dbplyr’:\n",
      "\n",
      "    ident, sql\n",
      "\n",
      "\n",
      "The following objects are masked from ‘package:stats’:\n",
      "\n",
      "    filter, lag\n",
      "\n",
      "\n",
      "The following objects are masked from ‘package:base’:\n",
      "\n",
      "    intersect, setdiff, setequal, union\n",
      "\n",
      "\n"
     ]
    }
   ],
   "source": [
    "library(\"DBI\")\n",
    "library(\"RPostgreSQL\")\n",
    "library(\"dbplyr\")\n",
    "library(\"dplyr\")\n",
    "\n",
    "con <- DBI::dbConnect(\n",
    "    RPostgreSQL::PostgreSQL(),\n",
    "    host = \"localhost\",\n",
    "    port = 5432,\n",
    "    dbname = \"knock100\",\n",
    "    user = \"guest\",\n",
    "    password = \"guest\"\n",
    ")\n",
    "\n",
    "customer_tbl <- dplyr::tbl(con, \"customer\")\n",
    "category_tbl <- dplyr::tbl(con, \"category\")\n",
    "product_tbl <- dplyr::tbl(con, \"product\")\n",
    "receipt_tbl <- dplyr::tbl(con, \"receipt\")\n",
    "store_tbl <- dplyr::tbl(con, \"store\")"
   ]
  },
  {
   "cell_type": "markdown",
   "metadata": {},
   "source": [
    "### R-061:\n",
    "レシート明細データ（df_receipt）の売上金額（amount）を顧客ID（customer_id）ごとに合計し、売上金額合計を常用対数化（底10）して顧客ID、売上金額合計とともに10件表示せよ。ただし、顧客IDが\"Z\"から始まるのものは非会員を表すため、除外して計算すること。"
   ]
  },
  {
   "cell_type": "code",
   "execution_count": null,
   "metadata": {
    "vscode": {
     "languageId": "r"
    }
   },
   "outputs": [],
   "source": [
    "library(stringr)\n",
    "re %>%\n",
    "filter(!str_detect(customer_id, '^Z')) %>%\n",
    "group_by(customer_id) %>%\n",
    "summarise(amount = sum(amount, na.rm = TRUE)) %>%\n",
    "mutate(log_amount = log10(amount)) %>%\n",
    "head"
   ]
  },
  {
   "cell_type": "markdown",
   "metadata": {},
   "source": [
    "### R-062:\n",
    "レシート明細データ（df_receipt）の売上金額（amount）を顧客ID（customer_id）ごとに合計し、売上金額合計を自然対数化（底e）して顧客ID、売上金額合計とともに10件表示せよ。ただし、顧客IDが\"Z\"から始まるのものは非会員を表すため、除外して計算すること。"
   ]
  },
  {
   "cell_type": "code",
   "execution_count": null,
   "metadata": {
    "vscode": {
     "languageId": "r"
    }
   },
   "outputs": [],
   "source": [
    "library(stringr)\n",
    "re %>%\n",
    "filter(!str_detect(customer_id, '^Z')) %>%\n",
    "group_by(customer_id) %>%\n",
    "summarise(amount = sum(amount, na.rm = TRUE )) %>%\n",
    "mutate(log_amount = log(amount)) %>%\n",
    "head"
   ]
  },
  {
   "cell_type": "markdown",
   "metadata": {},
   "source": [
    "### R-063:\n",
    "商品データ（df_product）の単価（unit_price）と原価（unit_cost）から各商品の利益額を算出し、結果を10件表示せよ。"
   ]
  },
  {
   "cell_type": "code",
   "execution_count": null,
   "metadata": {
    "vscode": {
     "languageId": "r"
    }
   },
   "outputs": [],
   "source": [
    "product <- tbl(con, 'product')\n",
    "product %>%\n",
    "transmute(product_cd, unit_price, unit_cost, unit_profit = unit_price - unit_cost) %>%\n",
    "head"
   ]
  },
  {
   "cell_type": "markdown",
   "metadata": {},
   "source": [
    "### R-064:\n",
    "商品データ（df_product）の単価（unit_price）と原価（unit_cost）から、各商品の利益率の全体平均を算出せよ。ただし、単価と原価には欠損が生じていることに注意せよ。"
   ]
  },
  {
   "cell_type": "code",
   "execution_count": null,
   "metadata": {
    "vscode": {
     "languageId": "r"
    }
   },
   "outputs": [],
   "source": [
    "product %>%\n",
    "mutate(avg_profit_rate = mean(unit_price - unit_cost, na.rm = TRUE)/mean(unit_price)) %>%\n",
    "summarise(avg_profit_rate = min(avg_profit_rate))"
   ]
  },
  {
   "cell_type": "markdown",
   "metadata": {},
   "source": [
    "### R-065:\n",
    "商品データ（df_product）の各商品について、利益率が30%となる新たな単価を求めよ。ただし、1円未満は切り捨てること。そして結果を10件表示させ、利益率がおよそ30％付近であることを確認せよ。ただし、単価（unit_price）と原価（unit_cost）には欠損が生じていることに注意せよ。"
   ]
  },
  {
   "cell_type": "code",
   "execution_count": null,
   "metadata": {
    "vscode": {
     "languageId": "r"
    }
   },
   "outputs": [],
   "source": [
    "product %>%\n",
    "mutate(target_price = trunc(unit_cost/0.7)) %>%\n",
    "select(product_cd, unit_price, unit_cost, target_price) %>%\n",
    "mutate(check_rate = (target_price - unit_cost)/target_price) %>%\n",
    "head"
   ]
  },
  {
   "cell_type": "markdown",
   "metadata": {},
   "source": [
    "### R-066:\n",
    "商品データ（df_product）の各商品について、利益率が30%となる新たな単価を求めよ。今回は、1円未満を丸めること（四捨五入または偶数への丸めで良い）。そして結果を10件表示させ、利益率がおよそ30％付近であることを確認せよ。ただし、単価（unit_price）と原価（unit_cost）には欠損が生じていることに注意せよ。"
   ]
  },
  {
   "cell_type": "code",
   "execution_count": null,
   "metadata": {
    "vscode": {
     "languageId": "r"
    }
   },
   "outputs": [],
   "source": [
    "product %>%\n",
    "mutate(target_price = round(unit_cost/0.7)) %>%\n",
    "select(product_cd, unit_price, unit_cost, target_price) %>%\n",
    "mutate(check_rate = (target_price - unit_cost)/target_price) %>%\n",
    "head"
   ]
  },
  {
   "cell_type": "markdown",
   "metadata": {},
   "source": [
    "### R-067:\n",
    "商品データ（df_product）の各商品について、利益率が30%となる新たな単価を求めよ。今回は、1円未満を切り上げること。そして結果を10件表示させ、利益率がおよそ30％付近であることを確認せよ。ただし、単価（unit_price）と原価（unit_cost）には欠損が生じていることに注意せよ。"
   ]
  },
  {
   "cell_type": "code",
   "execution_count": null,
   "metadata": {
    "vscode": {
     "languageId": "r"
    }
   },
   "outputs": [],
   "source": [
    "product %>%\n",
    "mutate(target_price = ceiling(unit_cost/0.7)) %>%\n",
    "select(product_cd, unit_price, unit_cost, target_price) %>%\n",
    "mutate(check_rate = (target_price - unit_cost)/target_price) %>%\n",
    "head"
   ]
  },
  {
   "cell_type": "markdown",
   "metadata": {},
   "source": [
    "### R-068:\n",
    "商品データ（df_product）の各商品について、消費税率10％の税込み金額を求めよ。1円未満の端数は切り捨てとし、結果を10件表示せよ。ただし、単価（unit_price）には欠損が生じていることに注意せよ。"
   ]
  },
  {
   "cell_type": "code",
   "execution_count": null,
   "metadata": {
    "vscode": {
     "languageId": "r"
    }
   },
   "outputs": [],
   "source": [
    "product %>%\n",
    "mutate(price_taxin = trunc(1.1 * unit_price)) %>%\n",
    "select(unit_price, price_taxin) %>%\n",
    "head"
   ]
  },
  {
   "cell_type": "markdown",
   "metadata": {},
   "source": [
    "### R-069:\n",
    "レシート明細データ（df_receipt）と商品データ（df_product）を結合し、顧客毎に全商品の売上金額合計と、カテゴリ大区分コード（category_major_cd）が\"07\"（瓶詰缶詰）の売上金額合計を計算の上、両者の比率を求めよ。抽出対象はカテゴリ大区分コード\"07\"（瓶詰缶詰）の売上実績がある顧客のみとし、結果を10件表示せよ。"
   ]
  },
  {
   "cell_type": "code",
   "execution_count": null,
   "metadata": {
    "vscode": {
     "languageId": "r"
    }
   },
   "outputs": [],
   "source": [
    "receipt_tbl %>%\n",
    "inner_join(product_tbl, by = 'product_cd') %>% \n",
    "group_by(customer_id) %>%\n",
    "summarise(\n",
    "\tamount_canned = sum(if_else(category_major_cd == '07',amount, 0), na.rm = TRUE),\n",
    "\tamount_total = sum(amount)\n",
    ") %>%\n",
    "filter(amount_canned > 0) %>%\n",
    "mutate(canned_ratio = as.numeric(amount_canned) / amount_total) %>%\n",
    "head(10)"
   ]
  },
  {
   "cell_type": "markdown",
   "metadata": {},
   "source": [
    "### R-070:\n",
    "レシート明細データ（df_receipt）の売上日（sales_ymd）に対し、顧客データ（df_customer）の会員申込日（application_date）からの経過日数を計算し、顧客ID（customer_id）、売上日、会員申込日とともに10件表示せよ（sales_ymdは数値、application_dateは文字列でデータを保持している点に注意）。"
   ]
  },
  {
   "cell_type": "code",
   "execution_count": 4,
   "metadata": {
    "vscode": {
     "languageId": "r"
    }
   },
   "outputs": [
    {
     "data": {
      "text/html": [
       "<table class=\"dataframe\">\n",
       "<caption>A tibble: 6 × 4</caption>\n",
       "<thead>\n",
       "\t<tr><th scope=col>customer_id</th><th scope=col>sales_ymd</th><th scope=col>application_date</th><th scope=col>elapsed_days</th></tr>\n",
       "\t<tr><th scope=col>&lt;chr&gt;</th><th scope=col>&lt;int&gt;</th><th scope=col>&lt;chr&gt;</th><th scope=col>&lt;dbl&gt;</th></tr>\n",
       "</thead>\n",
       "<tbody>\n",
       "\t<tr><td>CS006214000001</td><td>20181103</td><td>20150201</td><td>1371</td></tr>\n",
       "\t<tr><td>CS008415000097</td><td>20181118</td><td>20150322</td><td>1337</td></tr>\n",
       "\t<tr><td>CS028414000014</td><td>20170712</td><td>20150711</td><td> 732</td></tr>\n",
       "\t<tr><td>CS025415000050</td><td>20180821</td><td>20160131</td><td> 933</td></tr>\n",
       "\t<tr><td>CS003515000195</td><td>20190605</td><td>20150306</td><td>1552</td></tr>\n",
       "\t<tr><td>CS024514000042</td><td>20181205</td><td>20151010</td><td>1152</td></tr>\n",
       "</tbody>\n",
       "</table>\n"
      ],
      "text/latex": [
       "A tibble: 6 × 4\n",
       "\\begin{tabular}{llll}\n",
       " customer\\_id & sales\\_ymd & application\\_date & elapsed\\_days\\\\\n",
       " <chr> & <int> & <chr> & <dbl>\\\\\n",
       "\\hline\n",
       "\t CS006214000001 & 20181103 & 20150201 & 1371\\\\\n",
       "\t CS008415000097 & 20181118 & 20150322 & 1337\\\\\n",
       "\t CS028414000014 & 20170712 & 20150711 &  732\\\\\n",
       "\t CS025415000050 & 20180821 & 20160131 &  933\\\\\n",
       "\t CS003515000195 & 20190605 & 20150306 & 1552\\\\\n",
       "\t CS024514000042 & 20181205 & 20151010 & 1152\\\\\n",
       "\\end{tabular}\n"
      ],
      "text/markdown": [
       "\n",
       "A tibble: 6 × 4\n",
       "\n",
       "| customer_id &lt;chr&gt; | sales_ymd &lt;int&gt; | application_date &lt;chr&gt; | elapsed_days &lt;dbl&gt; |\n",
       "|---|---|---|---|\n",
       "| CS006214000001 | 20181103 | 20150201 | 1371 |\n",
       "| CS008415000097 | 20181118 | 20150322 | 1337 |\n",
       "| CS028414000014 | 20170712 | 20150711 |  732 |\n",
       "| CS025415000050 | 20180821 | 20160131 |  933 |\n",
       "| CS003515000195 | 20190605 | 20150306 | 1552 |\n",
       "| CS024514000042 | 20181205 | 20151010 | 1152 |\n",
       "\n"
      ],
      "text/plain": [
       "  customer_id    sales_ymd application_date elapsed_days\n",
       "1 CS006214000001 20181103  20150201         1371        \n",
       "2 CS008415000097 20181118  20150322         1337        \n",
       "3 CS028414000014 20170712  20150711          732        \n",
       "4 CS025415000050 20180821  20160131          933        \n",
       "5 CS003515000195 20190605  20150306         1552        \n",
       "6 CS024514000042 20181205  20151010         1152        "
      ]
     },
     "metadata": {},
     "output_type": "display_data"
    }
   ],
   "source": [
    "customer_tbl %>%\n",
    "    inner_join(receipt_tbl %>% select(customer_id, sales_ymd), by = \"customer_id\") %>%\n",
    "    select(customer_id, sales_ymd, application_date) %>%\n",
    "    collect() %>%\n",
    "    mutate(elapsed_days = lubridate::interval(lubridate::ymd(application_date), lubridate::ymd(sales_ymd)) %/% lubridate::days(1)) %>%\n",
    "    head()"
   ]
  },
  {
   "cell_type": "code",
   "execution_count": 2,
   "metadata": {
    "vscode": {
     "languageId": "r"
    }
   },
   "outputs": [
    {
     "name": "stderr",
     "output_type": "stream",
     "text": [
      "Warning message in system(\"timedatectl\", intern = TRUE):\n",
      "“running command 'timedatectl' had status 1”\n"
     ]
    },
    {
     "data": {
      "text/html": [
       "<table class=\"dataframe\">\n",
       "<caption>A tibble: 6 × 4</caption>\n",
       "<thead>\n",
       "\t<tr><th scope=col>customer_id</th><th scope=col>sales_ymd</th><th scope=col>application_date</th><th scope=col>interval</th></tr>\n",
       "\t<tr><th scope=col>&lt;chr&gt;</th><th scope=col>&lt;int&gt;</th><th scope=col>&lt;chr&gt;</th><th scope=col>&lt;Interval&gt;</th></tr>\n",
       "</thead>\n",
       "<tbody>\n",
       "\t<tr><td>CS006214000001</td><td>20181103</td><td>20150201</td><td>2015-02-01 UTC--2018-11-03 UTC</td></tr>\n",
       "\t<tr><td>CS008415000097</td><td>20181118</td><td>20150322</td><td>2015-03-22 UTC--2018-11-18 UTC</td></tr>\n",
       "\t<tr><td>CS028414000014</td><td>20170712</td><td>20150711</td><td>2015-07-11 UTC--2017-07-12 UTC</td></tr>\n",
       "\t<tr><td>CS025415000050</td><td>20180821</td><td>20160131</td><td>2016-01-31 UTC--2018-08-21 UTC</td></tr>\n",
       "\t<tr><td>CS003515000195</td><td>20190605</td><td>20150306</td><td>2015-03-06 UTC--2019-06-05 UTC</td></tr>\n",
       "\t<tr><td>CS024514000042</td><td>20181205</td><td>20151010</td><td>2015-10-10 UTC--2018-12-05 UTC</td></tr>\n",
       "</tbody>\n",
       "</table>\n"
      ],
      "text/latex": [
       "A tibble: 6 × 4\n",
       "\\begin{tabular}{llll}\n",
       " customer\\_id & sales\\_ymd & application\\_date & interval\\\\\n",
       " <chr> & <int> & <chr> & <Interval>\\\\\n",
       "\\hline\n",
       "\t CS006214000001 & 20181103 & 20150201 & 2015-02-01 UTC--2018-11-03 UTC\\\\\n",
       "\t CS008415000097 & 20181118 & 20150322 & 2015-03-22 UTC--2018-11-18 UTC\\\\\n",
       "\t CS028414000014 & 20170712 & 20150711 & 2015-07-11 UTC--2017-07-12 UTC\\\\\n",
       "\t CS025415000050 & 20180821 & 20160131 & 2016-01-31 UTC--2018-08-21 UTC\\\\\n",
       "\t CS003515000195 & 20190605 & 20150306 & 2015-03-06 UTC--2019-06-05 UTC\\\\\n",
       "\t CS024514000042 & 20181205 & 20151010 & 2015-10-10 UTC--2018-12-05 UTC\\\\\n",
       "\\end{tabular}\n"
      ],
      "text/markdown": [
       "\n",
       "A tibble: 6 × 4\n",
       "\n",
       "| customer_id &lt;chr&gt; | sales_ymd &lt;int&gt; | application_date &lt;chr&gt; | interval &lt;Interval&gt; |\n",
       "|---|---|---|---|\n",
       "| CS006214000001 | 20181103 | 20150201 | 2015-02-01 UTC--2018-11-03 UTC |\n",
       "| CS008415000097 | 20181118 | 20150322 | 2015-03-22 UTC--2018-11-18 UTC |\n",
       "| CS028414000014 | 20170712 | 20150711 | 2015-07-11 UTC--2017-07-12 UTC |\n",
       "| CS025415000050 | 20180821 | 20160131 | 2016-01-31 UTC--2018-08-21 UTC |\n",
       "| CS003515000195 | 20190605 | 20150306 | 2015-03-06 UTC--2019-06-05 UTC |\n",
       "| CS024514000042 | 20181205 | 20151010 | 2015-10-10 UTC--2018-12-05 UTC |\n",
       "\n"
      ],
      "text/plain": [
       "  customer_id    sales_ymd application_date interval                      \n",
       "1 CS006214000001 20181103  20150201         2015-02-01 UTC--2018-11-03 UTC\n",
       "2 CS008415000097 20181118  20150322         2015-03-22 UTC--2018-11-18 UTC\n",
       "3 CS028414000014 20170712  20150711         2015-07-11 UTC--2017-07-12 UTC\n",
       "4 CS025415000050 20180821  20160131         2016-01-31 UTC--2018-08-21 UTC\n",
       "5 CS003515000195 20190605  20150306         2015-03-06 UTC--2019-06-05 UTC\n",
       "6 CS024514000042 20181205  20151010         2015-10-10 UTC--2018-12-05 UTC"
      ]
     },
     "metadata": {},
     "output_type": "display_data"
    }
   ],
   "source": [
    "customer_tbl %>%\n",
    "    inner_join(receipt_tbl %>% select(customer_id, sales_ymd), by = \"customer_id\") %>%\n",
    "    select(customer_id, sales_ymd, application_date) %>%\n",
    "    collect() %>%\n",
    "    mutate(interval = lubridate::interval(lubridate::ymd(application_date), lubridate::ymd(sales_ymd))) %>%\n",
    "    head()"
   ]
  },
  {
   "cell_type": "markdown",
   "metadata": {},
   "source": [
    "### R-071:\n",
    "レシート明細データ（df_receipt）の売上日（sales_ymd）に対し、顧客データ（df_customer）の会員申込日（application_date）からの経過月数を計算し、顧客ID（customer_id）、売上日、会員申込日とともに10件表示せよ（sales_ymdは数値、application_dateは文字列でデータを保持している点に注意）。1ヶ月未満は切り捨てること。"
   ]
  },
  {
   "cell_type": "code",
   "execution_count": null,
   "metadata": {
    "vscode": {
     "languageId": "r"
    }
   },
   "outputs": [],
   "source": [
    "# work in local\n",
    "library(lubridate)\n",
    "\n",
    "compare_date_local <- cul %>%\n",
    "select(customer_id, application_date) %>%\n",
    "inner_join(select(rel, customer_id, sales_ymd), by='customer_id') %>%\n",
    "transmute(customer_id, sales_ymd = ymd(sales_ymd), application_date = ymd(application_date))\n",
    "\n",
    "compare_date_local %>% \n",
    "mutate(elapsed_months = interval(application_date, sales_ymd) %/% months(1)) %>%\n",
    "head"
   ]
  },
  {
   "cell_type": "markdown",
   "metadata": {},
   "source": [
    "### R-072:\n",
    "レシート明細データ（df_receipt）の売上日（df_customer）に対し、顧客データ（df_customer）の会員申込日（application_date）からの経過年数を計算し、顧客ID（customer_id）、売上日、会員申込日とともに10件表示せよ（sales_ymdは数値、application_dateは文字列でデータを保持している点に注意）。1年未満は切り捨てること。"
   ]
  },
  {
   "cell_type": "code",
   "execution_count": null,
   "metadata": {
    "vscode": {
     "languageId": "r"
    }
   },
   "outputs": [],
   "source": [
    "customer_tbl %>%\n",
    "inner_join(receipt_tbl %>% select(customer_id, sales_ymd), by='customer_id') %>%\n",
    "select(customer_id, sales_ymd, application_date) %>%\n",
    "collect() %>%\n",
    "mutate(elapsed_years = lubridate::interval(lubridate::ymd(application_date), lubridate::ymd(sales_ymd)) %/% months(1)) %>%\n",
    "head"
   ]
  },
  {
   "cell_type": "code",
   "execution_count": null,
   "metadata": {
    "vscode": {
     "languageId": "r"
    }
   },
   "outputs": [],
   "source": [
    "# work in local\n",
    "compare_date_local %>%\n",
    "mutate(elapsed_years = interval(application_date, sales_ymd) %/% years(1)) %>%\n",
    "head"
   ]
  },
  {
   "cell_type": "markdown",
   "metadata": {},
   "source": [
    "### R-073:\n",
    "レシート明細データ（df_receipt）の売上日（sales_ymd）に対し、顧客データ（df_customer）の会員申込日（application_date）からのエポック秒による経過時間を計算し、顧客ID（customer_id）、売上日、会員申込日とともに10件表示せよ（なお、sales_ymdは数値、application_dateは文字列でデータを保持している点に注意）。なお、時間情報は保有していないため各日付は0時0分0秒を表すものとする。"
   ]
  },
  {
   "cell_type": "code",
   "execution_count": null,
   "metadata": {
    "vscode": {
     "languageId": "r"
    }
   },
   "outputs": [],
   "source": [
    "# work in local\n",
    "compare_date_local %>%\n",
    "mutate(elapsed_epoch = (sales_ymd - application_date) %>% as.numeric(units = 'secs')) %>%\n",
    "head"
   ]
  },
  {
   "cell_type": "code",
   "execution_count": null,
   "metadata": {
    "vscode": {
     "languageId": "r"
    }
   },
   "outputs": [],
   "source": [
    "customer_tbl %>%\n",
    "    inner_join(receipt_tbl %>% select(customer_id, sales_ymd), by = \"customer_id\") %>%\n",
    "    select(customer_id, sales_ymd, application_date) %>%\n",
    "    collect() %>%\n",
    "    mutate(elapsed_months = lubridate::interval(lubridate::ymd(application_date), lubridate::ymd(sales_ymd)) %/% seconds(1)) %>%\n",
    "    head()"
   ]
  },
  {
   "cell_type": "markdown",
   "metadata": {},
   "source": [
    "### R-074:\n",
    "レシート明細データ（df_receipt）の売上日（sales_ymd）に対し、当該週の月曜日からの経過日数を計算し、売上日、直前の月曜日付とともに10件表示せよ（sales_ymdは数値でデータを保持している点に注意）。"
   ]
  },
  {
   "cell_type": "code",
   "execution_count": null,
   "metadata": {
    "vscode": {
     "languageId": "r"
    }
   },
   "outputs": [],
   "source": [
    "receipt_tbl %>%\n",
    "select(sales_ymd) %>%\n",
    "collect() %>%\n",
    "mutate(\n",
    "\telapsed_weekdays = lubridate::ymd(sales_ymd) %>% lubridate::wday(week_start = 1) -1,\n",
    "\tlast_monday = lubridate::ymd(sales_ymd) - elapsed_weekdays\n",
    "\t) %>%\n",
    "\thead"
   ]
  },
  {
   "cell_type": "code",
   "execution_count": null,
   "metadata": {
    "vscode": {
     "languageId": "r"
    }
   },
   "outputs": [],
   "source": [
    "library(lubridate)\n",
    "re %>%\n",
    "data.frame %>%\n",
    "mutate(\n",
    "\tsales_ymd_d = sales_ymd %>% ymd,\n",
    "\telapsed_weekdays = sales_ymd_d %>% wday(week_start = 1)-1,\n",
    "\tlast_monday = sales_ymd_d - elapsed_weekdays\n",
    "\t) %>%\n",
    "\thead"
   ]
  },
  {
   "cell_type": "markdown",
   "metadata": {},
   "source": [
    "### R-075:\n",
    "顧客データ（df_customer）からランダムに1%のデータを抽出し、先頭から10件表示せよ。"
   ]
  },
  {
   "cell_type": "code",
   "execution_count": 67,
   "metadata": {
    "vscode": {
     "languageId": "r"
    }
   },
   "outputs": [
    {
     "ename": "ERROR",
     "evalue": "\u001b[1m\u001b[33mError\u001b[39m in \u001b[1m\u001b[1m`slice_sample()`:\u001b[22m\n\u001b[33m!\u001b[39m Sampling with replacement is not supported on database backends\n",
     "output_type": "error",
     "traceback": [
      "\u001b[1m\u001b[33mError\u001b[39m in \u001b[1m\u001b[1m`slice_sample()`:\u001b[22m\n\u001b[33m!\u001b[39m Sampling with replacement is not supported on database backends\nTraceback:\n",
      "1. customer_tbl %>% slice_sample(n = customer_tbl %>% count() %>% \n .     collect() %>% as.numeric()%/%100, replace = TRUE) %>% head",
      "2. head(.)",
      "3. slice_sample(., n = customer_tbl %>% count() %>% collect() %>% \n .     as.numeric()%/%100, replace = TRUE)",
      "4. slice_sample.tbl_lazy(., n = customer_tbl %>% count() %>% collect() %>% \n .     as.numeric()%/%100, replace = TRUE)",
      "5. abort(\"Sampling with replacement is not supported on database backends\")",
      "6. signal_abort(cnd, .file)"
     ]
    }
   ],
   "source": [
    "customer_tbl %>% slice_sample(n=customer_tbl %>% count() %>% collect() %>% as.numeric() %/% 100) %>% head"
   ]
  },
  {
   "cell_type": "markdown",
   "metadata": {},
   "source": [
    "### R-076:\n",
    "顧客データ（df_customer）から性別コード（gender_cd）の割合に基づきランダムに10%のデータを層化抽出し、性別コードごとに件数を集計せよ。"
   ]
  },
  {
   "cell_type": "code",
   "execution_count": 73,
   "metadata": {
    "vscode": {
     "languageId": "r"
    }
   },
   "outputs": [
    {
     "data": {
      "text/html": [
       "2196"
      ],
      "text/latex": [
       "2196"
      ],
      "text/markdown": [
       "2196"
      ],
      "text/plain": [
       "[1] 2196"
      ]
     },
     "metadata": {},
     "output_type": "display_data"
    }
   ],
   "source": [
    "sampled_customer <- customer_tbl %>% \n",
    "\tgroup_by(gender_cd) %>%\n",
    "\tcollect() %>%\n",
    "\tdplyr::slice_sample(prop = 0.1)\n",
    "sampled_customer %>% nrow() %>% as.numeric()"
   ]
  },
  {
   "cell_type": "markdown",
   "metadata": {},
   "source": [
    "### R-077:\n",
    "レシート明細データ（df_receipt）の売上金額を顧客単位に合計し、合計した売上金額の外れ値を抽出せよ。なお、外れ値は売上金額合計を対数化したうえで平均と標準偏差を計算し、その平均から3σを超えて離れたものとする（自然対数と常用対数のどちらでも可）。結果は10件表示せよ。\n"
   ]
  },
  {
   "cell_type": "code",
   "execution_count": 78,
   "metadata": {
    "vscode": {
     "languageId": "r"
    }
   },
   "outputs": [
    {
     "data": {
      "text/plain": [
       "\u001b[90m# Source:   lazy query [?? x 4]\u001b[39m\n",
       "\u001b[90m# Database: postgres 12.0.11 [@localhost:5432/knock100]\u001b[39m\n",
       "  customer_id    log_amount  mean    sd\n",
       "  \u001b[3m\u001b[90m<chr>\u001b[39m\u001b[23m               \u001b[3m\u001b[90m<dbl>\u001b[39m\u001b[23m \u001b[3m\u001b[90m<dbl>\u001b[39m\u001b[23m \u001b[3m\u001b[90m<dbl>\u001b[39m\u001b[23m\n",
       "\u001b[90m1\u001b[39m ZZ000000000000       16.3  7.27  1.14"
      ]
     },
     "metadata": {},
     "output_type": "display_data"
    }
   ],
   "source": [
    "receipt_tbl %>%\n",
    "group_by(customer_id) %>%\n",
    "summarise(log_amount = log(sum(amount, na.rm = TRUE))) %>%\n",
    "mutate(mean = mean(log_amount, na.rm = TRUE), sd = sd(log_amount,na.rm = TRUE)) %>%\n",
    "filter(!(log_amount <= mean+3*sd)) %>%\n",
    "head"
   ]
  },
  {
   "cell_type": "markdown",
   "metadata": {},
   "source": [
    "### R-078:\n",
    "レシート明細データ（df_receipt）の売上金額（amount）を顧客単位に合計し、合計した売上金額の外れ値を抽出せよ。ただし、顧客IDが\"Z\"から始まるのものは非会員を表すため、除外して計算すること。なお、ここでは外れ値を第1四分位と第3四分位の差であるIQRを用いて、「第1四分位数-1.5×IQR」を下回るもの、または「第3四分位数+1.5×IQR」を超えるものとする。結果は10件表示せよ。"
   ]
  },
  {
   "cell_type": "code",
   "execution_count": 118,
   "metadata": {
    "vscode": {
     "languageId": "r"
    }
   },
   "outputs": [
    {
     "data": {
      "text/html": [
       "<table class=\"dataframe\">\n",
       "<caption>A tibble: 6 × 2</caption>\n",
       "<thead>\n",
       "\t<tr><th scope=col>customer_id</th><th scope=col>amount</th></tr>\n",
       "\t<tr><th scope=col>&lt;chr&gt;</th><th scope=col>&lt;dbl&gt;</th></tr>\n",
       "</thead>\n",
       "<tbody>\n",
       "\t<tr><td>CS007515000119</td><td>7157</td></tr>\n",
       "\t<tr><td>CS026414000014</td><td>6671</td></tr>\n",
       "\t<tr><td>CS016414000063</td><td>6207</td></tr>\n",
       "\t<tr><td>CS039814000011</td><td>8031</td></tr>\n",
       "\t<tr><td>CS013415000226</td><td>8362</td></tr>\n",
       "\t<tr><td>CS009415000117</td><td>8229</td></tr>\n",
       "</tbody>\n",
       "</table>\n"
      ],
      "text/latex": [
       "A tibble: 6 × 2\n",
       "\\begin{tabular}{ll}\n",
       " customer\\_id & amount\\\\\n",
       " <chr> & <dbl>\\\\\n",
       "\\hline\n",
       "\t CS007515000119 & 7157\\\\\n",
       "\t CS026414000014 & 6671\\\\\n",
       "\t CS016414000063 & 6207\\\\\n",
       "\t CS039814000011 & 8031\\\\\n",
       "\t CS013415000226 & 8362\\\\\n",
       "\t CS009415000117 & 8229\\\\\n",
       "\\end{tabular}\n"
      ],
      "text/markdown": [
       "\n",
       "A tibble: 6 × 2\n",
       "\n",
       "| customer_id &lt;chr&gt; | amount &lt;dbl&gt; |\n",
       "|---|---|\n",
       "| CS007515000119 | 7157 |\n",
       "| CS026414000014 | 6671 |\n",
       "| CS016414000063 | 6207 |\n",
       "| CS039814000011 | 8031 |\n",
       "| CS013415000226 | 8362 |\n",
       "| CS009415000117 | 8229 |\n",
       "\n"
      ],
      "text/plain": [
       "  customer_id    amount\n",
       "1 CS007515000119 7157  \n",
       "2 CS026414000014 6671  \n",
       "3 CS016414000063 6207  \n",
       "4 CS039814000011 8031  \n",
       "5 CS013415000226 8362  \n",
       "6 CS009415000117 8229  "
      ]
     },
     "metadata": {},
     "output_type": "display_data"
    }
   ],
   "source": [
    "# assume you are on a local machine\n",
    "library(stringr)\n",
    "\n",
    "receipt_tbl %>%\n",
    "filter(!str_detect(customer_id, '^Z')) %>%\n",
    "group_by(customer_id) %>%\n",
    "summarise(amount = sum(amount, na.rm = TRUE)) %>%\n",
    "collect() %>%\n",
    "filter(\n",
    "\tamount %>%\n",
    "\t{. > quantile(., probs = 0.25) + 1.5*IQR(.) | . < quantile(., probs = 0.25) - 1.5*IQR(.)}\n",
    ") %>% head"
   ]
  },
  {
   "cell_type": "code",
   "execution_count": 112,
   "metadata": {
    "vscode": {
     "languageId": "r"
    }
   },
   "outputs": [
    {
     "data": {
      "text/html": [
       "<table class=\"dataframe\">\n",
       "<caption>A tibble: 6 × 2</caption>\n",
       "<thead>\n",
       "\t<tr><th scope=col>customer_id</th><th scope=col>amount</th></tr>\n",
       "\t<tr><th scope=col>&lt;chr&gt;</th><th scope=col>&lt;dbl&gt;</th></tr>\n",
       "</thead>\n",
       "<tbody>\n",
       "\t<tr><td>CS007515000119</td><td>7157</td></tr>\n",
       "\t<tr><td>CS026414000014</td><td>6671</td></tr>\n",
       "\t<tr><td>CS016414000063</td><td>6207</td></tr>\n",
       "\t<tr><td>CS039814000011</td><td>8031</td></tr>\n",
       "\t<tr><td>CS013415000226</td><td>8362</td></tr>\n",
       "\t<tr><td>CS009415000117</td><td>8229</td></tr>\n",
       "</tbody>\n",
       "</table>\n"
      ],
      "text/latex": [
       "A tibble: 6 × 2\n",
       "\\begin{tabular}{ll}\n",
       " customer\\_id & amount\\\\\n",
       " <chr> & <dbl>\\\\\n",
       "\\hline\n",
       "\t CS007515000119 & 7157\\\\\n",
       "\t CS026414000014 & 6671\\\\\n",
       "\t CS016414000063 & 6207\\\\\n",
       "\t CS039814000011 & 8031\\\\\n",
       "\t CS013415000226 & 8362\\\\\n",
       "\t CS009415000117 & 8229\\\\\n",
       "\\end{tabular}\n"
      ],
      "text/markdown": [
       "\n",
       "A tibble: 6 × 2\n",
       "\n",
       "| customer_id &lt;chr&gt; | amount &lt;dbl&gt; |\n",
       "|---|---|\n",
       "| CS007515000119 | 7157 |\n",
       "| CS026414000014 | 6671 |\n",
       "| CS016414000063 | 6207 |\n",
       "| CS039814000011 | 8031 |\n",
       "| CS013415000226 | 8362 |\n",
       "| CS009415000117 | 8229 |\n",
       "\n"
      ],
      "text/plain": [
       "  customer_id    amount\n",
       "1 CS007515000119 7157  \n",
       "2 CS026414000014 6671  \n",
       "3 CS016414000063 6207  \n",
       "4 CS039814000011 8031  \n",
       "5 CS013415000226 8362  \n",
       "6 CS009415000117 8229  "
      ]
     },
     "metadata": {},
     "output_type": "display_data"
    }
   ],
   "source": [
    "# assume you are on a local machine\n",
    "library(stringr)\n",
    "\n",
    "receipt_tbl %>%\n",
    "filter(!str_detect(customer_id, '^Z')) %>%\n",
    "group_by(customer_id) %>%\n",
    "summarise(amount = sum(amount, na.rm = TRUE)) %>%\n",
    "collect() %>%\n",
    "filter(\n",
    "\tamount %>%\n",
    "\t{. > quantile(., probs = 0.25) + 1.5*IQR(.) | . < quantile(., probs = 0.25) - 1.5*IQR(.)}\n",
    ") %>% head"
   ]
  },
  {
   "cell_type": "code",
   "execution_count": null,
   "metadata": {
    "vscode": {
     "languageId": "r"
    }
   },
   "outputs": [],
   "source": [
    "# assume you are on a local machine\n",
    "rel <- DBI::dbReadTable(con, \"receipt\")\n",
    "library(stringr)\n",
    "\n",
    "rel %>%\n",
    "filter(!str_detect(customer_id, '^Z')) %>%\n",
    "group_by(customer_id) %>%\n",
    "summarise(amount = sum(amount, na.rm = TRUE)) %>%\n",
    "mutate(iqr = quantile(amount)[4] - quantile(amount)[2]) %>%\n",
    "mutate(thre_lower = quantile(amount)[2] - 1.5*iqr, thre_upper = quantile(amount)[4] + 1.5*iqr) %>%\n",
    "filter(amount < thre_lower | thre_upper < amount) %>%\n",
    "head"
   ]
  },
  {
   "cell_type": "markdown",
   "metadata": {},
   "source": [
    "### R-079:\n",
    "商品データ（df_product）の各項目に対し、欠損数を確認せよ。"
   ]
  },
  {
   "cell_type": "code",
   "execution_count": 64,
   "metadata": {
    "vscode": {
     "languageId": "r"
    }
   },
   "outputs": [
    {
     "data": {
      "text/html": [
       "<table class=\"dataframe\">\n",
       "<caption>A tibble: 1 × 6</caption>\n",
       "<thead>\n",
       "\t<tr><th scope=col>product_cd</th><th scope=col>category_major_cd</th><th scope=col>category_medium_cd</th><th scope=col>category_small_cd</th><th scope=col>unit_price</th><th scope=col>unit_cost</th></tr>\n",
       "\t<tr><th scope=col>&lt;int&gt;</th><th scope=col>&lt;int&gt;</th><th scope=col>&lt;int&gt;</th><th scope=col>&lt;int&gt;</th><th scope=col>&lt;int&gt;</th><th scope=col>&lt;int&gt;</th></tr>\n",
       "</thead>\n",
       "<tbody>\n",
       "\t<tr><td>0</td><td>0</td><td>0</td><td>0</td><td>7</td><td>7</td></tr>\n",
       "</tbody>\n",
       "</table>\n"
      ],
      "text/latex": [
       "A tibble: 1 × 6\n",
       "\\begin{tabular}{llllll}\n",
       " product\\_cd & category\\_major\\_cd & category\\_medium\\_cd & category\\_small\\_cd & unit\\_price & unit\\_cost\\\\\n",
       " <int> & <int> & <int> & <int> & <int> & <int>\\\\\n",
       "\\hline\n",
       "\t 0 & 0 & 0 & 0 & 7 & 7\\\\\n",
       "\\end{tabular}\n"
      ],
      "text/markdown": [
       "\n",
       "A tibble: 1 × 6\n",
       "\n",
       "| product_cd &lt;int&gt; | category_major_cd &lt;int&gt; | category_medium_cd &lt;int&gt; | category_small_cd &lt;int&gt; | unit_price &lt;int&gt; | unit_cost &lt;int&gt; |\n",
       "|---|---|---|---|---|---|\n",
       "| 0 | 0 | 0 | 0 | 7 | 7 |\n",
       "\n"
      ],
      "text/plain": [
       "  product_cd category_major_cd category_medium_cd category_small_cd unit_price\n",
       "1 0          0                 0                  0                 7         \n",
       "  unit_cost\n",
       "1 7        "
      ]
     },
     "metadata": {},
     "output_type": "display_data"
    }
   ],
   "source": [
    "product_tbl %>% filter(if_any(-c(), ~ is.na(.))) %>% collect() %>% \n",
    "summarise(across(everything(), ~ is.na(.) %>% sum()))"
   ]
  },
  {
   "cell_type": "markdown",
   "metadata": {},
   "source": [
    "### R-080:\n",
    "商品データ（df_product）のいずれかの項目に欠損が発生しているレコードを全て削除した新たな商品データを作成せよ。なお、削除前後の件数を表示させ、079で確認した件数だけ減少していることも確認すること。"
   ]
  },
  {
   "cell_type": "code",
   "execution_count": 78,
   "metadata": {
    "vscode": {
     "languageId": "r"
    }
   },
   "outputs": [
    {
     "data": {
      "text/plain": [
       "\u001b[90m# Source:   lazy query [?? x 6]\u001b[39m\n",
       "\u001b[90m# Database: postgres 12.0.11 [@localhost:5432/knock100]\u001b[39m\n",
       "  product_cd category_major_cd category_medium_cd category_small_cd unit_price\n",
       "  \u001b[3m\u001b[90m<chr>\u001b[39m\u001b[23m      \u001b[3m\u001b[90m<chr>\u001b[39m\u001b[23m             \u001b[3m\u001b[90m<chr>\u001b[39m\u001b[23m              \u001b[3m\u001b[90m<chr>\u001b[39m\u001b[23m                  \u001b[3m\u001b[90m<int>\u001b[39m\u001b[23m\n",
       "\u001b[90m1\u001b[39m P040101001 04                0401               040101                   198\n",
       "\u001b[90m2\u001b[39m P040101002 04                0401               040101                   218\n",
       "\u001b[90m3\u001b[39m P040101003 04                0401               040101                   230\n",
       "\u001b[90m4\u001b[39m P040101004 04                0401               040101                   248\n",
       "\u001b[90m5\u001b[39m P040101005 04                0401               040101                   268\n",
       "\u001b[90m6\u001b[39m P040101006 04                0401               040101                   298\n",
       "\u001b[90m# … with 1 more variable: unit_cost <int>\u001b[39m"
      ]
     },
     "metadata": {},
     "output_type": "display_data"
    }
   ],
   "source": [
    "product_tbl %>% filter(if_all(-c(), ~ !is.na(.))) %>% head"
   ]
  },
  {
   "cell_type": "code",
   "execution_count": 75,
   "metadata": {
    "vscode": {
     "languageId": "r"
    }
   },
   "outputs": [
    {
     "data": {
      "text/html": [
       "10023"
      ],
      "text/latex": [
       "10023"
      ],
      "text/markdown": [
       "10023"
      ],
      "text/plain": [
       "[1] 10023"
      ]
     },
     "metadata": {},
     "output_type": "display_data"
    }
   ],
   "source": [
    "# complete.cases does not works on tbl\n",
    "product_tbl %>% collect() %>%\n",
    "filter(complete.cases(.)) %>% nrow()"
   ]
  },
  {
   "cell_type": "markdown",
   "metadata": {},
   "source": [
    "### R-081:\n",
    "単価（unit_price）と原価（unit_cost）の欠損値について、それぞれの平均値で補完した新たな商品データを作成せよ。なお、平均値については1円未満を丸めること（四捨五入または偶数への丸めで良い）。補完実施後、各項目について欠損が生じていないことも確認すること。"
   ]
  },
  {
   "cell_type": "code",
   "execution_count": null,
   "metadata": {
    "vscode": {
     "languageId": "r"
    }
   },
   "outputs": [],
   "source": [
    "library(tidymodels)\n",
    "\n",
    "pr %>%\n",
    "data.frame %>%\n",
    "recipe() %>%\n",
    "step_impute_mean(unit_price, unit_cost) %>%\n",
    "prep() %>%\n",
    "juice() %>%\n",
    "head\n",
    "# filter(unit_cost %>% is.na)"
   ]
  },
  {
   "cell_type": "code",
   "execution_count": null,
   "metadata": {
    "vscode": {
     "languageId": "r"
    }
   },
   "outputs": [],
   "source": []
  },
  {
   "cell_type": "markdown",
   "metadata": {},
   "source": [
    "### R-082:\n",
    "単価（unit_price）と原価（unit_cost）の欠損値について、それぞれの中央値で補完した新たな商品データを作成せよ。なお、中央値については1円未満を丸めること（四捨五入または偶数への丸めで良い）。補完実施後、各項目について欠損が生じていないことも確認すること。"
   ]
  },
  {
   "cell_type": "code",
   "execution_count": null,
   "metadata": {
    "vscode": {
     "languageId": "r"
    }
   },
   "outputs": [],
   "source": [
    "pr %>%\n",
    "data.frame %>%\n",
    "recipe() %>%\n",
    "step_impute_median(unit_price, unit_cost) %>%\n",
    "prep() %>%\n",
    "juice() %>%\n",
    "#head\n",
    "filter(unit_cost %>% is.na) %>%head"
   ]
  },
  {
   "cell_type": "code",
   "execution_count": null,
   "metadata": {
    "vscode": {
     "languageId": "r"
    }
   },
   "outputs": [],
   "source": [
    "pr %>%\n",
    "  replace_na(list(unit_price = mean(.$unit_price, na.rm = T) %>% round, unit_cost = mean(.$unit_cost, na.rm = T) %>% round))"
   ]
  },
  {
   "cell_type": "markdown",
   "metadata": {},
   "source": [
    "### R-083:\n",
    "単価（unit_price）と原価（unit_cost）の欠損値について、各商品のカテゴリ小区分コード（category_small_cd）ごとに算出した中央値で補完した新たな商品データを作成せよ。なお、中央値については1円未満を丸めること（四捨五入または偶数への丸めで良い）。補完実施後、各項目について欠損が生じていないことも確認すること。"
   ]
  },
  {
   "cell_type": "code",
   "execution_count": null,
   "metadata": {
    "vscode": {
     "languageId": "r"
    }
   },
   "outputs": [],
   "source": [
    "pr %>%\n",
    "group_by(category_small_cd) %>%\n",
    "summarise(\n",
    "\t\tprice_median = unit_price %>% median(na.rm = TRUE) %>% round(),\n",
    "\t\tcost_median = unit_cost %>% median(na.rm = TRUE) %>% round()\n",
    "\t\t) %>%\n",
    "inner_join(pr, by='category_small_cd') %>%\n",
    "mutate(\n",
    "\tunit_price = ifelse(unit_price %>% is.na, price_median, unit_price),\n",
    "\tunit_cost = ifelse(unit_cost %>% is.na, cost_median, unit_cost)\n",
    ")"
   ]
  },
  {
   "cell_type": "markdown",
   "metadata": {},
   "source": [
    "### R-084:\n",
    "顧客データ（df_customer）の全顧客に対して全期間の売上金額に占める2019年売上金額の割合を計算し、新たなデータを作成せよ。ただし、売上実績がない場合は0として扱うこと。そして計算した割合が0超のものを抽出し、結果を10件表示せよ。また、作成したデータに欠損が存在しないことを確認せよ。"
   ]
  },
  {
   "cell_type": "code",
   "execution_count": null,
   "metadata": {
    "vscode": {
     "languageId": "r"
    }
   },
   "outputs": [],
   "source": [
    "library(lubridate)\n",
    "cu = tbl(con, 'customer')\n",
    "\n",
    "re %>%\n",
    "data.frame %>%\n",
    "mutate(year = sales_ymd %>% ymd %>% year) %>%\n",
    "group_by(customer_id) %>%\n",
    "summarize(\n",
    "\tamount_all = sum(amount, na.rm = TRUE),\n",
    "\tamount_2019 = sum(ifelse(year == 2019,amount,0 ), na.rm = TRUE)\n",
    ") %>%\n",
    "right_join(cu %>% data.frame, by = 'customer_id') %>%\n",
    "replace_na(list(amount_all = 0, amount_2019 = 0)) %>%\n",
    "filter(amount_2019 > 0) %>% head(10)"
   ]
  },
  {
   "cell_type": "markdown",
   "metadata": {},
   "source": [
    "### R-085:\n",
    "顧客データ（df_customer）の全顧客に対し、郵便番号（postal_cd）を用いてジオコードデータ（df_geocode）を紐付け、新たな顧客データを作成せよ。ただし、1つの郵便番号（postal_cd）に複数の経度（longitude）、緯度（latitude）情報が紐づく場合は、経度（longitude）、緯度（latitude）の平均値を算出して使用すること。また、作成結果を確認するために結果を10件表示せよ。"
   ]
  },
  {
   "cell_type": "markdown",
   "metadata": {},
   "source": [
    "### R-086:\n",
    "085で作成した緯度経度つき顧客データに対し、会員申込店舗コード（application_store_cd）をキーに店舗データ（df_store）と結合せよ。そして申込み店舗の緯度（latitude）・経度情報（longitude)と顧客住所（address）の緯度・経度を用いて申込み店舗と顧客住所の距離（単位：km）を求め、顧客ID（customer_id）、顧客住所（address）、店舗住所（address）とともに表示せよ。計算式は以下の簡易式で良いものとするが、その他精度の高い方式を利用したライブラリを利用してもかまわない。結果は10件表示せよ。"
   ]
  },
  {
   "cell_type": "markdown",
   "metadata": {},
   "source": [
    "### R-087:\n",
    "顧客データ（df_customer）では、異なる店舗での申込みなどにより同一顧客が複数登録されている。名前（customer_name）と郵便番号（postal_cd）が同じ顧客は同一顧客とみなして1顧客1レコードとなるように名寄せした名寄顧客データを作成し、顧客データの件数、名寄顧客データの件数、重複数を算出せよ。ただし、同一顧客に対しては売上金額合計が最も高いものを残し、売上金額合計が同一もしくは売上実績がない顧客については顧客ID（customer_id）の番号が小さいものを残すこととする。"
   ]
  },
  {
   "cell_type": "markdown",
   "metadata": {},
   "source": [
    "### R-088:\n",
    "087で作成したデータを元に、顧客データに統合名寄IDを付与したデータを作成せよ。ただし、統合名寄IDは以下の仕様で付与するものとする。\n",
    "- 重複していない顧客：顧客ID（customer_id）を設定\n",
    "- 重複している顧客：前設問で抽出したレコードの顧客IDを設定\n",
    "\n",
    "顧客IDのユニーク件数と、統合名寄IDのユニーク件数の差も確認すること。"
   ]
  },
  {
   "cell_type": "markdown",
   "metadata": {},
   "source": [
    "### R-089:\n",
    "売上実績がある顧客を、予測モデル構築のため学習用データとテスト用データに分割したい。それぞれ8:2の割合でランダムにデータを分割せよ。"
   ]
  },
  {
   "cell_type": "markdown",
   "metadata": {},
   "source": [
    "### R-090:\n",
    "レシート明細データ（df_receipt）は2017年1月1日〜2019年10月31日までのデータを有している。売上金額（amount）を月次で集計し、学習用に12ヶ月、テスト用に6ヶ月の時系列モデル構築用データを3セット作成せよ。"
   ]
  },
  {
   "cell_type": "markdown",
   "metadata": {},
   "source": []
  }
 ],
 "metadata": {
  "kernelspec": {
   "display_name": "R",
   "language": "R",
   "name": "ir"
  },
  "language_info": {
   "codemirror_mode": "r",
   "file_extension": ".r",
   "mimetype": "text/x-r-source",
   "name": "R",
   "pygments_lexer": "r",
   "version": "4.2.0"
  },
  "orig_nbformat": 4
 },
 "nbformat": 4,
 "nbformat_minor": 2
}
