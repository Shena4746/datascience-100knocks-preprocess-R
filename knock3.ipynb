{
 "cells": [
  {
   "cell_type": "code",
   "execution_count": 1,
   "metadata": {
    "vscode": {
     "languageId": "r"
    }
   },
   "outputs": [
    {
     "name": "stderr",
     "output_type": "stream",
     "text": [
      "\n",
      "Attaching package: ‘dplyr’\n",
      "\n",
      "\n",
      "The following objects are masked from ‘package:dbplyr’:\n",
      "\n",
      "    ident, sql\n",
      "\n",
      "\n",
      "The following objects are masked from ‘package:stats’:\n",
      "\n",
      "    filter, lag\n",
      "\n",
      "\n",
      "The following objects are masked from ‘package:base’:\n",
      "\n",
      "    intersect, setdiff, setequal, union\n",
      "\n",
      "\n",
      "Warning message in system(\"timedatectl\", intern = TRUE):\n",
      "“running command 'timedatectl' had status 1”\n"
     ]
    },
    {
     "data": {
      "text/html": [
       "<style>\n",
       ".list-inline {list-style: none; margin:0; padding: 0}\n",
       ".list-inline>li {display: inline-block}\n",
       ".list-inline>li:not(:last-child)::after {content: \"\\00b7\"; padding: 0 .5ex}\n",
       "</style>\n",
       "<ol class=list-inline><li>'customer'</li><li>'category'</li><li>'geocode'</li><li>'product'</li><li>'receipt'</li><li>'store'</li></ol>\n"
      ],
      "text/latex": [
       "\\begin{enumerate*}\n",
       "\\item 'customer'\n",
       "\\item 'category'\n",
       "\\item 'geocode'\n",
       "\\item 'product'\n",
       "\\item 'receipt'\n",
       "\\item 'store'\n",
       "\\end{enumerate*}\n"
      ],
      "text/markdown": [
       "1. 'customer'\n",
       "2. 'category'\n",
       "3. 'geocode'\n",
       "4. 'product'\n",
       "5. 'receipt'\n",
       "6. 'store'\n",
       "\n",
       "\n"
      ],
      "text/plain": [
       "[1] \"customer\" \"category\" \"geocode\"  \"product\"  \"receipt\"  \"store\"   "
      ]
     },
     "metadata": {},
     "output_type": "display_data"
    }
   ],
   "source": [
    "library(\"DBI\")\n",
    "library(\"dbplyr\")\n",
    "library(\"dplyr\")\n",
    "\n",
    "con <- DBI::dbConnect(\n",
    "    RPostgres::Postgres(),\n",
    "    host = \"localhost\",\n",
    "    port = 5432,\n",
    "    dbname = \"knock100\",\n",
    "    user = \"guest\",\n",
    "    password = \"guest\"\n",
    ")\n",
    "\n",
    "customer_tbl <- dplyr::tbl(con, \"customer\")\n",
    "category_tbl <- dplyr::tbl(con, \"category\")\n",
    "product_tbl <- dplyr::tbl(con, \"product\")\n",
    "receipt_tbl <- dplyr::tbl(con, \"receipt\")\n",
    "store_tbl <- dplyr::tbl(con, \"store\")\n",
    "geo_tbl <- dplyr::tbl(con, 'geocode')\n",
    "DBI::dbListTables(con)"
   ]
  },
  {
   "cell_type": "markdown",
   "metadata": {},
   "source": [
    "### R-061:\n",
    "レシート明細データ（df_receipt）の売上金額（amount）を顧客ID（customer_id）ごとに合計し、売上金額合計を常用対数化（底10）して顧客ID、売上金額合計とともに10件表示せよ。ただし、顧客IDが\"Z\"から始まるのものは非会員を表すため、除外して計算すること。"
   ]
  },
  {
   "cell_type": "code",
   "execution_count": null,
   "metadata": {
    "vscode": {
     "languageId": "r"
    }
   },
   "outputs": [],
   "source": [
    "library(stringr)\n",
    "re %>%\n",
    "filter(!str_detect(customer_id, '^Z')) %>%\n",
    "group_by(customer_id) %>%\n",
    "summarise(amount = sum(amount, na.rm = TRUE)) %>%\n",
    "mutate(log_amount = log10(amount)) %>%\n",
    "head"
   ]
  },
  {
   "cell_type": "markdown",
   "metadata": {},
   "source": [
    "### R-062:\n",
    "レシート明細データ（df_receipt）の売上金額（amount）を顧客ID（customer_id）ごとに合計し、売上金額合計を自然対数化（底e）して顧客ID、売上金額合計とともに10件表示せよ。ただし、顧客IDが\"Z\"から始まるのものは非会員を表すため、除外して計算すること。"
   ]
  },
  {
   "cell_type": "code",
   "execution_count": null,
   "metadata": {
    "vscode": {
     "languageId": "r"
    }
   },
   "outputs": [],
   "source": [
    "library(stringr)\n",
    "re %>%\n",
    "filter(!str_detect(customer_id, '^Z')) %>%\n",
    "group_by(customer_id) %>%\n",
    "summarise(amount = sum(amount, na.rm = TRUE )) %>%\n",
    "mutate(log_amount = log(amount)) %>%\n",
    "head"
   ]
  },
  {
   "cell_type": "markdown",
   "metadata": {},
   "source": [
    "### R-063:\n",
    "商品データ（df_product）の単価（unit_price）と原価（unit_cost）から各商品の利益額を算出し、結果を10件表示せよ。"
   ]
  },
  {
   "cell_type": "code",
   "execution_count": null,
   "metadata": {
    "vscode": {
     "languageId": "r"
    }
   },
   "outputs": [],
   "source": [
    "product <- tbl(con, 'product')\n",
    "product %>%\n",
    "transmute(product_cd, unit_price, unit_cost, unit_profit = unit_price - unit_cost) %>%\n",
    "head"
   ]
  },
  {
   "cell_type": "markdown",
   "metadata": {},
   "source": [
    "### R-064:\n",
    "商品データ（df_product）の単価（unit_price）と原価（unit_cost）から、各商品の利益率の全体平均を算出せよ。ただし、単価と原価には欠損が生じていることに注意せよ。"
   ]
  },
  {
   "cell_type": "code",
   "execution_count": null,
   "metadata": {
    "vscode": {
     "languageId": "r"
    }
   },
   "outputs": [],
   "source": [
    "product %>%\n",
    "mutate(avg_profit_rate = mean(unit_price - unit_cost, na.rm = TRUE)/mean(unit_price)) %>%\n",
    "summarise(avg_profit_rate = min(avg_profit_rate))"
   ]
  },
  {
   "cell_type": "markdown",
   "metadata": {},
   "source": [
    "### R-065:\n",
    "商品データ（df_product）の各商品について、利益率が30%となる新たな単価を求めよ。ただし、1円未満は切り捨てること。そして結果を10件表示させ、利益率がおよそ30％付近であることを確認せよ。ただし、単価（unit_price）と原価（unit_cost）には欠損が生じていることに注意せよ。"
   ]
  },
  {
   "cell_type": "code",
   "execution_count": null,
   "metadata": {
    "vscode": {
     "languageId": "r"
    }
   },
   "outputs": [],
   "source": [
    "product %>%\n",
    "mutate(target_price = trunc(unit_cost/0.7)) %>%\n",
    "select(product_cd, unit_price, unit_cost, target_price) %>%\n",
    "mutate(check_rate = (target_price - unit_cost)/target_price) %>%\n",
    "head"
   ]
  },
  {
   "cell_type": "markdown",
   "metadata": {},
   "source": [
    "### R-066:\n",
    "商品データ（df_product）の各商品について、利益率が30%となる新たな単価を求めよ。今回は、1円未満を丸めること（四捨五入または偶数への丸めで良い）。そして結果を10件表示させ、利益率がおよそ30％付近であることを確認せよ。ただし、単価（unit_price）と原価（unit_cost）には欠損が生じていることに注意せよ。"
   ]
  },
  {
   "cell_type": "code",
   "execution_count": null,
   "metadata": {
    "vscode": {
     "languageId": "r"
    }
   },
   "outputs": [],
   "source": [
    "product %>%\n",
    "mutate(target_price = round(unit_cost/0.7)) %>%\n",
    "select(product_cd, unit_price, unit_cost, target_price) %>%\n",
    "mutate(check_rate = (target_price - unit_cost)/target_price) %>%\n",
    "head"
   ]
  },
  {
   "cell_type": "markdown",
   "metadata": {},
   "source": [
    "### R-067:\n",
    "商品データ（df_product）の各商品について、利益率が30%となる新たな単価を求めよ。今回は、1円未満を切り上げること。そして結果を10件表示させ、利益率がおよそ30％付近であることを確認せよ。ただし、単価（unit_price）と原価（unit_cost）には欠損が生じていることに注意せよ。"
   ]
  },
  {
   "cell_type": "code",
   "execution_count": null,
   "metadata": {
    "vscode": {
     "languageId": "r"
    }
   },
   "outputs": [],
   "source": [
    "product %>%\n",
    "mutate(target_price = ceiling(unit_cost/0.7)) %>%\n",
    "select(product_cd, unit_price, unit_cost, target_price) %>%\n",
    "mutate(check_rate = (target_price - unit_cost)/target_price) %>%\n",
    "head"
   ]
  },
  {
   "cell_type": "markdown",
   "metadata": {},
   "source": [
    "### R-068:\n",
    "商品データ（df_product）の各商品について、消費税率10％の税込み金額を求めよ。1円未満の端数は切り捨てとし、結果を10件表示せよ。ただし、単価（unit_price）には欠損が生じていることに注意せよ。"
   ]
  },
  {
   "cell_type": "code",
   "execution_count": null,
   "metadata": {
    "vscode": {
     "languageId": "r"
    }
   },
   "outputs": [],
   "source": [
    "product %>%\n",
    "mutate(price_taxin = trunc(1.1 * unit_price)) %>%\n",
    "select(unit_price, price_taxin) %>%\n",
    "head"
   ]
  },
  {
   "cell_type": "markdown",
   "metadata": {},
   "source": [
    "### R-069:\n",
    "レシート明細データ（df_receipt）と商品データ（df_product）を結合し、顧客毎に全商品の売上金額合計と、カテゴリ大区分コード（category_major_cd）が\"07\"（瓶詰缶詰）の売上金額合計を計算の上、両者の比率を求めよ。抽出対象はカテゴリ大区分コード\"07\"（瓶詰缶詰）の売上実績がある顧客のみとし、結果を10件表示せよ。"
   ]
  },
  {
   "cell_type": "code",
   "execution_count": null,
   "metadata": {
    "vscode": {
     "languageId": "r"
    }
   },
   "outputs": [],
   "source": [
    "receipt_tbl %>%\n",
    "inner_join(product_tbl, by = 'product_cd') %>% \n",
    "group_by(customer_id) %>%\n",
    "summarise(\n",
    "\tamount_canned = sum(if_else(category_major_cd == '07',amount, 0), na.rm = TRUE),\n",
    "\tamount_total = sum(amount)\n",
    ") %>%\n",
    "filter(amount_canned > 0) %>%\n",
    "mutate(canned_ratio = as.numeric(amount_canned) / amount_total) %>%\n",
    "head(10)"
   ]
  },
  {
   "cell_type": "markdown",
   "metadata": {},
   "source": [
    "### R-070:\n",
    "レシート明細データ（df_receipt）の売上日（sales_ymd）に対し、顧客データ（df_customer）の会員申込日（application_date）からの経過日数を計算し、顧客ID（customer_id）、売上日、会員申込日とともに10件表示せよ（sales_ymdは数値、application_dateは文字列でデータを保持している点に注意）。"
   ]
  },
  {
   "cell_type": "code",
   "execution_count": null,
   "metadata": {
    "vscode": {
     "languageId": "r"
    }
   },
   "outputs": [],
   "source": [
    "customer_tbl %>%\n",
    "    inner_join(receipt_tbl %>% select(customer_id, sales_ymd), by = \"customer_id\") %>%\n",
    "    select(customer_id, sales_ymd, application_date) %>%\n",
    "    collect() %>%\n",
    "    mutate(elapsed_days = lubridate::interval(lubridate::ymd(application_date), lubridate::ymd(sales_ymd)) %/% lubridate::days(1)) %>%\n",
    "    head()"
   ]
  },
  {
   "cell_type": "code",
   "execution_count": null,
   "metadata": {
    "vscode": {
     "languageId": "r"
    }
   },
   "outputs": [],
   "source": [
    "customer_tbl %>%\n",
    "    inner_join(receipt_tbl %>% select(customer_id, sales_ymd), by = \"customer_id\") %>%\n",
    "    select(customer_id, sales_ymd, application_date) %>%\n",
    "    collect() %>%\n",
    "    mutate(interval = lubridate::interval(lubridate::ymd(application_date), lubridate::ymd(sales_ymd))) %>%\n",
    "    head()"
   ]
  },
  {
   "cell_type": "markdown",
   "metadata": {},
   "source": [
    "### R-071:\n",
    "レシート明細データ（df_receipt）の売上日（sales_ymd）に対し、顧客データ（df_customer）の会員申込日（application_date）からの経過月数を計算し、顧客ID（customer_id）、売上日、会員申込日とともに10件表示せよ（sales_ymdは数値、application_dateは文字列でデータを保持している点に注意）。1ヶ月未満は切り捨てること。"
   ]
  },
  {
   "cell_type": "code",
   "execution_count": null,
   "metadata": {
    "vscode": {
     "languageId": "r"
    }
   },
   "outputs": [],
   "source": [
    "# work in local\n",
    "library(lubridate)\n",
    "\n",
    "compare_date_local <- cul %>%\n",
    "select(customer_id, application_date) %>%\n",
    "inner_join(select(rel, customer_id, sales_ymd), by='customer_id') %>%\n",
    "transmute(customer_id, sales_ymd = ymd(sales_ymd), application_date = ymd(application_date))\n",
    "\n",
    "compare_date_local %>% \n",
    "mutate(elapsed_months = interval(application_date, sales_ymd) %/% months(1)) %>%\n",
    "head"
   ]
  },
  {
   "cell_type": "markdown",
   "metadata": {},
   "source": [
    "### R-072:\n",
    "レシート明細データ（df_receipt）の売上日（df_customer）に対し、顧客データ（df_customer）の会員申込日（application_date）からの経過年数を計算し、顧客ID（customer_id）、売上日、会員申込日とともに10件表示せよ（sales_ymdは数値、application_dateは文字列でデータを保持している点に注意）。1年未満は切り捨てること。"
   ]
  },
  {
   "cell_type": "code",
   "execution_count": null,
   "metadata": {
    "vscode": {
     "languageId": "r"
    }
   },
   "outputs": [],
   "source": [
    "customer_tbl %>%\n",
    "inner_join(receipt_tbl %>% select(customer_id, sales_ymd), by='customer_id') %>%\n",
    "select(customer_id, sales_ymd, application_date) %>%\n",
    "collect() %>%\n",
    "mutate(elapsed_years = lubridate::interval(lubridate::ymd(application_date), lubridate::ymd(sales_ymd)) %/% months(1)) %>%\n",
    "head"
   ]
  },
  {
   "cell_type": "code",
   "execution_count": null,
   "metadata": {
    "vscode": {
     "languageId": "r"
    }
   },
   "outputs": [],
   "source": [
    "# work in local\n",
    "compare_date_local %>%\n",
    "mutate(elapsed_years = interval(application_date, sales_ymd) %/% years(1)) %>%\n",
    "head"
   ]
  },
  {
   "cell_type": "markdown",
   "metadata": {},
   "source": [
    "### R-073:\n",
    "レシート明細データ（df_receipt）の売上日（sales_ymd）に対し、顧客データ（df_customer）の会員申込日（application_date）からのエポック秒による経過時間を計算し、顧客ID（customer_id）、売上日、会員申込日とともに10件表示せよ（なお、sales_ymdは数値、application_dateは文字列でデータを保持している点に注意）。なお、時間情報は保有していないため各日付は0時0分0秒を表すものとする。"
   ]
  },
  {
   "cell_type": "code",
   "execution_count": null,
   "metadata": {
    "vscode": {
     "languageId": "r"
    }
   },
   "outputs": [],
   "source": [
    "# work in local\n",
    "compare_date_local %>%\n",
    "mutate(elapsed_epoch = (sales_ymd - application_date) %>% as.numeric(units = 'secs')) %>%\n",
    "head"
   ]
  },
  {
   "cell_type": "code",
   "execution_count": null,
   "metadata": {
    "vscode": {
     "languageId": "r"
    }
   },
   "outputs": [],
   "source": [
    "customer_tbl %>%\n",
    "    inner_join(receipt_tbl %>% select(customer_id, sales_ymd), by = \"customer_id\") %>%\n",
    "    select(customer_id, sales_ymd, application_date) %>%\n",
    "    collect() %>%\n",
    "    mutate(elapsed_months = lubridate::interval(lubridate::ymd(application_date), lubridate::ymd(sales_ymd)) %/% seconds(1)) %>%\n",
    "    head()"
   ]
  },
  {
   "cell_type": "markdown",
   "metadata": {},
   "source": [
    "### R-074:\n",
    "レシート明細データ（df_receipt）の売上日（sales_ymd）に対し、当該週の月曜日からの経過日数を計算し、売上日、直前の月曜日付とともに10件表示せよ（sales_ymdは数値でデータを保持している点に注意）。"
   ]
  },
  {
   "cell_type": "code",
   "execution_count": null,
   "metadata": {
    "vscode": {
     "languageId": "r"
    }
   },
   "outputs": [],
   "source": [
    "receipt_tbl %>%\n",
    "select(sales_ymd) %>%\n",
    "collect() %>%\n",
    "mutate(\n",
    "\telapsed_weekdays = lubridate::ymd(sales_ymd) %>% lubridate::wday(week_start = 1) -1,\n",
    "\tlast_monday = lubridate::ymd(sales_ymd) - elapsed_weekdays\n",
    "\t) %>%\n",
    "\thead"
   ]
  },
  {
   "cell_type": "code",
   "execution_count": null,
   "metadata": {
    "vscode": {
     "languageId": "r"
    }
   },
   "outputs": [],
   "source": [
    "library(lubridate)\n",
    "re %>%\n",
    "data.frame %>%\n",
    "mutate(\n",
    "\tsales_ymd_d = sales_ymd %>% ymd,\n",
    "\telapsed_weekdays = sales_ymd_d %>% wday(week_start = 1)-1,\n",
    "\tlast_monday = sales_ymd_d - elapsed_weekdays\n",
    "\t) %>%\n",
    "\thead"
   ]
  },
  {
   "cell_type": "markdown",
   "metadata": {},
   "source": [
    "### R-075:\n",
    "顧客データ（df_customer）からランダムに1%のデータを抽出し、先頭から10件表示せよ。"
   ]
  },
  {
   "cell_type": "code",
   "execution_count": null,
   "metadata": {
    "vscode": {
     "languageId": "r"
    }
   },
   "outputs": [],
   "source": [
    "customer_tbl %>% slice_sample(n=customer_tbl %>% count() %>% collect() %>% as.numeric() %/% 100) %>% head"
   ]
  },
  {
   "cell_type": "markdown",
   "metadata": {},
   "source": [
    "### R-076:\n",
    "顧客データ（df_customer）から性別コード（gender_cd）の割合に基づきランダムに10%のデータを層化抽出し、性別コードごとに件数を集計せよ。"
   ]
  },
  {
   "cell_type": "code",
   "execution_count": null,
   "metadata": {
    "vscode": {
     "languageId": "r"
    }
   },
   "outputs": [],
   "source": [
    "sampled_customer <- customer_tbl %>% \n",
    "\tgroup_by(gender_cd) %>%\n",
    "\tcollect() %>%\n",
    "\tdplyr::slice_sample(prop = 0.1)\n",
    "sampled_customer %>% nrow() %>% as.numeric()"
   ]
  },
  {
   "cell_type": "markdown",
   "metadata": {},
   "source": [
    "### R-077:\n",
    "レシート明細データ（df_receipt）の売上金額を顧客単位に合計し、合計した売上金額の外れ値を抽出せよ。なお、外れ値は売上金額合計を対数化したうえで平均と標準偏差を計算し、その平均から3σを超えて離れたものとする（自然対数と常用対数のどちらでも可）。結果は10件表示せよ。\n"
   ]
  },
  {
   "cell_type": "code",
   "execution_count": null,
   "metadata": {
    "vscode": {
     "languageId": "r"
    }
   },
   "outputs": [],
   "source": [
    "receipt_tbl %>%\n",
    "group_by(customer_id) %>%\n",
    "summarise(log_amount = log(sum(amount, na.rm = TRUE))) %>%\n",
    "mutate(mean = mean(log_amount, na.rm = TRUE), sd = sd(log_amount,na.rm = TRUE)) %>%\n",
    "filter(!(log_amount <= mean+3*sd)) %>%\n",
    "head"
   ]
  },
  {
   "cell_type": "markdown",
   "metadata": {},
   "source": [
    "### R-078:\n",
    "レシート明細データ（df_receipt）の売上金額（amount）を顧客単位に合計し、合計した売上金額の外れ値を抽出せよ。ただし、顧客IDが\"Z\"から始まるのものは非会員を表すため、除外して計算すること。なお、ここでは外れ値を第1四分位と第3四分位の差であるIQRを用いて、「第1四分位数-1.5×IQR」を下回るもの、または「第3四分位数+1.5×IQR」を超えるものとする。結果は10件表示せよ。"
   ]
  },
  {
   "cell_type": "code",
   "execution_count": null,
   "metadata": {
    "vscode": {
     "languageId": "r"
    }
   },
   "outputs": [],
   "source": [
    "# assume you are on a local machine\n",
    "library(stringr)\n",
    "\n",
    "receipt_tbl %>%\n",
    "filter(!str_detect(customer_id, '^Z')) %>%\n",
    "group_by(customer_id) %>%\n",
    "summarise(amount = sum(amount, na.rm = TRUE)) %>%\n",
    "collect() %>%\n",
    "filter(\n",
    "\tamount %>%\n",
    "\t{. > quantile(., probs = 0.25) + 1.5*IQR(.) | . < quantile(., probs = 0.25) - 1.5*IQR(.)}\n",
    ") %>% head"
   ]
  },
  {
   "cell_type": "code",
   "execution_count": null,
   "metadata": {
    "vscode": {
     "languageId": "r"
    }
   },
   "outputs": [],
   "source": [
    "# assume you are on a local machine\n",
    "library(stringr)\n",
    "\n",
    "receipt_tbl %>%\n",
    "filter(!str_detect(customer_id, '^Z')) %>%\n",
    "group_by(customer_id) %>%\n",
    "summarise(amount = sum(amount, na.rm = TRUE)) %>%\n",
    "collect() %>%\n",
    "filter(\n",
    "\tamount %>%\n",
    "\t{. > quantile(., probs = 0.25) + 1.5*IQR(.) | . < quantile(., probs = 0.25) - 1.5*IQR(.)}\n",
    ") %>% head"
   ]
  },
  {
   "cell_type": "code",
   "execution_count": null,
   "metadata": {
    "vscode": {
     "languageId": "r"
    }
   },
   "outputs": [],
   "source": [
    "# assume you are on a local machine\n",
    "rel <- DBI::dbReadTable(con, \"receipt\")\n",
    "library(stringr)\n",
    "\n",
    "rel %>%\n",
    "filter(!str_detect(customer_id, '^Z')) %>%\n",
    "group_by(customer_id) %>%\n",
    "summarise(amount = sum(amount, na.rm = TRUE)) %>%\n",
    "mutate(iqr = quantile(amount)[4] - quantile(amount)[2]) %>%\n",
    "mutate(thre_lower = quantile(amount)[2] - 1.5*iqr, thre_upper = quantile(amount)[4] + 1.5*iqr) %>%\n",
    "filter(amount < thre_lower | thre_upper < amount) %>%\n",
    "head"
   ]
  },
  {
   "cell_type": "markdown",
   "metadata": {},
   "source": [
    "### R-079:\n",
    "商品データ（df_product）の各項目に対し、欠損数を確認せよ。"
   ]
  },
  {
   "cell_type": "code",
   "execution_count": 14,
   "metadata": {
    "vscode": {
     "languageId": "r"
    }
   },
   "outputs": [
    {
     "data": {
      "text/plain": [
       "\u001b[90m# Source:   lazy query [?? x 6]\u001b[39m\n",
       "\u001b[90m# Database: postgres [guest@localhost:5432/knock100]\u001b[39m\n",
       "  product_cd_NA category_major_… category_medium… category_small_… unit_price_NA\n",
       "          \u001b[3m\u001b[90m<dbl>\u001b[39m\u001b[23m            \u001b[3m\u001b[90m<dbl>\u001b[39m\u001b[23m            \u001b[3m\u001b[90m<dbl>\u001b[39m\u001b[23m            \u001b[3m\u001b[90m<dbl>\u001b[39m\u001b[23m         \u001b[3m\u001b[90m<dbl>\u001b[39m\u001b[23m\n",
       "\u001b[90m1\u001b[39m             0                0                0                0             7\n",
       "\u001b[90m# … with 1 more variable: unit_cost_NA <dbl>\u001b[39m"
      ]
     },
     "metadata": {},
     "output_type": "display_data"
    }
   ],
   "source": [
    "product_tbl %>% \n",
    "summarise(across(.cols = everything(), .fns = ~ if_else(is.na(.x), 1, 0) %>% sum(), .names = '{.col}_NA'))"
   ]
  },
  {
   "cell_type": "markdown",
   "metadata": {},
   "source": [
    "### R-080:\n",
    "商品データ（df_product）のいずれかの項目に欠損が発生しているレコードを全て削除した新たな商品データを作成せよ。なお、削除前後の件数を表示させ、079で確認した件数だけ減少していることも確認すること。"
   ]
  },
  {
   "cell_type": "code",
   "execution_count": null,
   "metadata": {
    "vscode": {
     "languageId": "r"
    }
   },
   "outputs": [],
   "source": [
    "# missing data\n",
    "product_tbl %>% filter(if_any(everything(), ~ is.na(.))) %>% head"
   ]
  },
  {
   "cell_type": "code",
   "execution_count": null,
   "metadata": {
    "vscode": {
     "languageId": "r"
    }
   },
   "outputs": [],
   "source": [
    "# complete data\n",
    "product_tbl %>% filter(if_all(-everything(), ~ !is.na(.))) %>% head"
   ]
  },
  {
   "cell_type": "code",
   "execution_count": null,
   "metadata": {
    "vscode": {
     "languageId": "r"
    }
   },
   "outputs": [],
   "source": [
    "# complete.cases does not works on tbl\n",
    "product_tbl %>% collect() %>%\n",
    "filter(complete.cases(.)) %>% nrow()"
   ]
  }
 ],
 "metadata": {
  "kernelspec": {
   "display_name": "R",
   "language": "R",
   "name": "ir"
  },
  "language_info": {
   "codemirror_mode": "r",
   "file_extension": ".r",
   "mimetype": "text/x-r-source",
   "name": "R",
   "pygments_lexer": "r",
   "version": "4.2.0"
  },
  "orig_nbformat": 4
 },
 "nbformat": 4,
 "nbformat_minor": 2
}
