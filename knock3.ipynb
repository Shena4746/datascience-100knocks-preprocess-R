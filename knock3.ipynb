{
 "cells": [
  {
   "cell_type": "code",
   "execution_count": 27,
   "metadata": {
    "vscode": {
     "languageId": "r"
    }
   },
   "outputs": [
    {
     "data": {
      "text/html": [
       "<style>\n",
       ".list-inline {list-style: none; margin:0; padding: 0}\n",
       ".list-inline>li {display: inline-block}\n",
       ".list-inline>li:not(:last-child)::after {content: \"\\00b7\"; padding: 0 .5ex}\n",
       "</style>\n",
       "<ol class=list-inline><li>'customer'</li><li>'category'</li><li>'geocode'</li><li>'product'</li><li>'receipt'</li><li>'store'</li></ol>\n"
      ],
      "text/latex": [
       "\\begin{enumerate*}\n",
       "\\item 'customer'\n",
       "\\item 'category'\n",
       "\\item 'geocode'\n",
       "\\item 'product'\n",
       "\\item 'receipt'\n",
       "\\item 'store'\n",
       "\\end{enumerate*}\n"
      ],
      "text/markdown": [
       "1. 'customer'\n",
       "2. 'category'\n",
       "3. 'geocode'\n",
       "4. 'product'\n",
       "5. 'receipt'\n",
       "6. 'store'\n",
       "\n",
       "\n"
      ],
      "text/plain": [
       "[1] \"customer\" \"category\" \"geocode\"  \"product\"  \"receipt\"  \"store\"   "
      ]
     },
     "metadata": {},
     "output_type": "display_data"
    }
   ],
   "source": [
    "library(\"DBI\")\n",
    "library(\"dbplyr\")\n",
    "library(\"dplyr\")\n",
    "\n",
    "con <- DBI::dbConnect(\n",
    "    RPostgres::Postgres(),\n",
    "    host = \"localhost\",\n",
    "    port = 5432,\n",
    "    dbname = \"knock100\",\n",
    "    user = \"guest\",\n",
    "    password = \"guest\"\n",
    ")\n",
    "\n",
    "customer_tbl <- dplyr::tbl(con, \"customer\")\n",
    "category_tbl <- dplyr::tbl(con, \"category\")\n",
    "product_tbl <- dplyr::tbl(con, \"product\")\n",
    "receipt_tbl <- dplyr::tbl(con, \"receipt\")\n",
    "store_tbl <- dplyr::tbl(con, \"store\")\n",
    "geo_tbl <- dplyr::tbl(con, 'geocode')\n",
    "DBI::dbListTables(con)"
   ]
  },
  {
   "cell_type": "markdown",
   "metadata": {},
   "source": [
    "### R-061:\n",
    "レシート明細データ（df_receipt）の売上金額（amount）を顧客ID（customer_id）ごとに合計し、売上金額合計を常用対数化（底10）して顧客ID、売上金額合計とともに10件表示せよ。ただし、顧客IDが\"Z\"から始まるのものは非会員を表すため、除外して計算すること。"
   ]
  },
  {
   "cell_type": "code",
   "execution_count": null,
   "metadata": {
    "vscode": {
     "languageId": "r"
    }
   },
   "outputs": [],
   "source": [
    "library(stringr)\n",
    "re %>%\n",
    "filter(!str_detect(customer_id, '^Z')) %>%\n",
    "group_by(customer_id) %>%\n",
    "summarise(amount = sum(amount, na.rm = TRUE)) %>%\n",
    "mutate(log_amount = log10(amount)) %>%\n",
    "head"
   ]
  },
  {
   "cell_type": "markdown",
   "metadata": {},
   "source": [
    "### R-062:\n",
    "レシート明細データ（df_receipt）の売上金額（amount）を顧客ID（customer_id）ごとに合計し、売上金額合計を自然対数化（底e）して顧客ID、売上金額合計とともに10件表示せよ。ただし、顧客IDが\"Z\"から始まるのものは非会員を表すため、除外して計算すること。"
   ]
  },
  {
   "cell_type": "code",
   "execution_count": null,
   "metadata": {
    "vscode": {
     "languageId": "r"
    }
   },
   "outputs": [],
   "source": [
    "library(stringr)\n",
    "re %>%\n",
    "filter(!str_detect(customer_id, '^Z')) %>%\n",
    "group_by(customer_id) %>%\n",
    "summarise(amount = sum(amount, na.rm = TRUE )) %>%\n",
    "mutate(log_amount = log(amount)) %>%\n",
    "head"
   ]
  },
  {
   "cell_type": "markdown",
   "metadata": {},
   "source": [
    "### R-063:\n",
    "商品データ（df_product）の単価（unit_price）と原価（unit_cost）から各商品の利益額を算出し、結果を10件表示せよ。"
   ]
  },
  {
   "cell_type": "code",
   "execution_count": null,
   "metadata": {
    "vscode": {
     "languageId": "r"
    }
   },
   "outputs": [],
   "source": [
    "product <- tbl(con, 'product')\n",
    "product %>%\n",
    "transmute(product_cd, unit_price, unit_cost, unit_profit = unit_price - unit_cost) %>%\n",
    "head"
   ]
  },
  {
   "cell_type": "markdown",
   "metadata": {},
   "source": [
    "### R-064:\n",
    "商品データ（df_product）の単価（unit_price）と原価（unit_cost）から、各商品の利益率の全体平均を算出せよ。ただし、単価と原価には欠損が生じていることに注意せよ。"
   ]
  },
  {
   "cell_type": "code",
   "execution_count": null,
   "metadata": {
    "vscode": {
     "languageId": "r"
    }
   },
   "outputs": [],
   "source": [
    "product %>%\n",
    "mutate(avg_profit_rate = mean(unit_price - unit_cost, na.rm = TRUE)/mean(unit_price)) %>%\n",
    "summarise(avg_profit_rate = min(avg_profit_rate))"
   ]
  },
  {
   "cell_type": "markdown",
   "metadata": {},
   "source": [
    "### R-065:\n",
    "商品データ（df_product）の各商品について、利益率が30%となる新たな単価を求めよ。ただし、1円未満は切り捨てること。そして結果を10件表示させ、利益率がおよそ30％付近であることを確認せよ。ただし、単価（unit_price）と原価（unit_cost）には欠損が生じていることに注意せよ。"
   ]
  },
  {
   "cell_type": "code",
   "execution_count": null,
   "metadata": {
    "vscode": {
     "languageId": "r"
    }
   },
   "outputs": [],
   "source": [
    "product %>%\n",
    "mutate(target_price = trunc(unit_cost/0.7)) %>%\n",
    "select(product_cd, unit_price, unit_cost, target_price) %>%\n",
    "mutate(check_rate = (target_price - unit_cost)/target_price) %>%\n",
    "head"
   ]
  },
  {
   "cell_type": "markdown",
   "metadata": {},
   "source": [
    "### R-066:\n",
    "商品データ（df_product）の各商品について、利益率が30%となる新たな単価を求めよ。今回は、1円未満を丸めること（四捨五入または偶数への丸めで良い）。そして結果を10件表示させ、利益率がおよそ30％付近であることを確認せよ。ただし、単価（unit_price）と原価（unit_cost）には欠損が生じていることに注意せよ。"
   ]
  },
  {
   "cell_type": "code",
   "execution_count": null,
   "metadata": {
    "vscode": {
     "languageId": "r"
    }
   },
   "outputs": [],
   "source": [
    "product %>%\n",
    "mutate(target_price = round(unit_cost/0.7)) %>%\n",
    "select(product_cd, unit_price, unit_cost, target_price) %>%\n",
    "mutate(check_rate = (target_price - unit_cost)/target_price) %>%\n",
    "head"
   ]
  },
  {
   "cell_type": "markdown",
   "metadata": {},
   "source": [
    "### R-067:\n",
    "商品データ（df_product）の各商品について、利益率が30%となる新たな単価を求めよ。今回は、1円未満を切り上げること。そして結果を10件表示させ、利益率がおよそ30％付近であることを確認せよ。ただし、単価（unit_price）と原価（unit_cost）には欠損が生じていることに注意せよ。"
   ]
  },
  {
   "cell_type": "code",
   "execution_count": null,
   "metadata": {
    "vscode": {
     "languageId": "r"
    }
   },
   "outputs": [],
   "source": [
    "product %>%\n",
    "mutate(target_price = ceiling(unit_cost/0.7)) %>%\n",
    "select(product_cd, unit_price, unit_cost, target_price) %>%\n",
    "mutate(check_rate = (target_price - unit_cost)/target_price) %>%\n",
    "head"
   ]
  },
  {
   "cell_type": "markdown",
   "metadata": {},
   "source": [
    "### R-068:\n",
    "商品データ（df_product）の各商品について、消費税率10％の税込み金額を求めよ。1円未満の端数は切り捨てとし、結果を10件表示せよ。ただし、単価（unit_price）には欠損が生じていることに注意せよ。"
   ]
  },
  {
   "cell_type": "code",
   "execution_count": null,
   "metadata": {
    "vscode": {
     "languageId": "r"
    }
   },
   "outputs": [],
   "source": [
    "product %>%\n",
    "mutate(price_taxin = trunc(1.1 * unit_price)) %>%\n",
    "select(unit_price, price_taxin) %>%\n",
    "head"
   ]
  },
  {
   "cell_type": "markdown",
   "metadata": {},
   "source": [
    "### R-069:\n",
    "レシート明細データ（df_receipt）と商品データ（df_product）を結合し、顧客毎に全商品の売上金額合計と、カテゴリ大区分コード（category_major_cd）が\"07\"（瓶詰缶詰）の売上金額合計を計算の上、両者の比率を求めよ。抽出対象はカテゴリ大区分コード\"07\"（瓶詰缶詰）の売上実績がある顧客のみとし、結果を10件表示せよ。"
   ]
  },
  {
   "cell_type": "code",
   "execution_count": null,
   "metadata": {
    "vscode": {
     "languageId": "r"
    }
   },
   "outputs": [],
   "source": [
    "receipt_tbl %>%\n",
    "inner_join(product_tbl, by = 'product_cd') %>% \n",
    "group_by(customer_id) %>%\n",
    "summarise(\n",
    "\tamount_canned = sum(if_else(category_major_cd == '07',amount, 0), na.rm = TRUE),\n",
    "\tamount_total = sum(amount)\n",
    ") %>%\n",
    "filter(amount_canned > 0) %>%\n",
    "mutate(canned_ratio = as.numeric(amount_canned) / amount_total) %>%\n",
    "head(10)"
   ]
  },
  {
   "cell_type": "markdown",
   "metadata": {},
   "source": [
    "### R-070:\n",
    "レシート明細データ（df_receipt）の売上日（sales_ymd）に対し、顧客データ（df_customer）の会員申込日（application_date）からの経過日数を計算し、顧客ID（customer_id）、売上日、会員申込日とともに10件表示せよ（sales_ymdは数値、application_dateは文字列でデータを保持している点に注意）。"
   ]
  },
  {
   "cell_type": "code",
   "execution_count": null,
   "metadata": {
    "vscode": {
     "languageId": "r"
    }
   },
   "outputs": [],
   "source": [
    "customer_tbl %>%\n",
    "    inner_join(receipt_tbl %>% select(customer_id, sales_ymd), by = \"customer_id\") %>%\n",
    "    select(customer_id, sales_ymd, application_date) %>%\n",
    "    collect() %>%\n",
    "    mutate(elapsed_days = lubridate::interval(lubridate::ymd(application_date), lubridate::ymd(sales_ymd)) %/% lubridate::days(1)) %>%\n",
    "    head()"
   ]
  },
  {
   "cell_type": "code",
   "execution_count": null,
   "metadata": {
    "vscode": {
     "languageId": "r"
    }
   },
   "outputs": [],
   "source": [
    "customer_tbl %>%\n",
    "    inner_join(receipt_tbl %>% select(customer_id, sales_ymd), by = \"customer_id\") %>%\n",
    "    select(customer_id, sales_ymd, application_date) %>%\n",
    "    collect() %>%\n",
    "    mutate(interval = lubridate::interval(lubridate::ymd(application_date), lubridate::ymd(sales_ymd))) %>%\n",
    "    head()"
   ]
  },
  {
   "cell_type": "markdown",
   "metadata": {},
   "source": [
    "### R-071:\n",
    "レシート明細データ（df_receipt）の売上日（sales_ymd）に対し、顧客データ（df_customer）の会員申込日（application_date）からの経過月数を計算し、顧客ID（customer_id）、売上日、会員申込日とともに10件表示せよ（sales_ymdは数値、application_dateは文字列でデータを保持している点に注意）。1ヶ月未満は切り捨てること。"
   ]
  },
  {
   "cell_type": "code",
   "execution_count": null,
   "metadata": {
    "vscode": {
     "languageId": "r"
    }
   },
   "outputs": [],
   "source": [
    "# work in local\n",
    "library(lubridate)\n",
    "\n",
    "compare_date_local <- cul %>%\n",
    "select(customer_id, application_date) %>%\n",
    "inner_join(select(rel, customer_id, sales_ymd), by='customer_id') %>%\n",
    "transmute(customer_id, sales_ymd = ymd(sales_ymd), application_date = ymd(application_date))\n",
    "\n",
    "compare_date_local %>% \n",
    "mutate(elapsed_months = interval(application_date, sales_ymd) %/% months(1)) %>%\n",
    "head"
   ]
  },
  {
   "cell_type": "markdown",
   "metadata": {},
   "source": [
    "### R-072:\n",
    "レシート明細データ（df_receipt）の売上日（df_customer）に対し、顧客データ（df_customer）の会員申込日（application_date）からの経過年数を計算し、顧客ID（customer_id）、売上日、会員申込日とともに10件表示せよ（sales_ymdは数値、application_dateは文字列でデータを保持している点に注意）。1年未満は切り捨てること。"
   ]
  },
  {
   "cell_type": "code",
   "execution_count": null,
   "metadata": {
    "vscode": {
     "languageId": "r"
    }
   },
   "outputs": [],
   "source": [
    "customer_tbl %>%\n",
    "inner_join(receipt_tbl %>% select(customer_id, sales_ymd), by='customer_id') %>%\n",
    "select(customer_id, sales_ymd, application_date) %>%\n",
    "collect() %>%\n",
    "mutate(elapsed_years = lubridate::interval(lubridate::ymd(application_date), lubridate::ymd(sales_ymd)) %/% months(1)) %>%\n",
    "head"
   ]
  },
  {
   "cell_type": "code",
   "execution_count": null,
   "metadata": {
    "vscode": {
     "languageId": "r"
    }
   },
   "outputs": [],
   "source": [
    "# work in local\n",
    "compare_date_local %>%\n",
    "mutate(elapsed_years = interval(application_date, sales_ymd) %/% years(1)) %>%\n",
    "head"
   ]
  },
  {
   "cell_type": "markdown",
   "metadata": {},
   "source": [
    "### R-073:\n",
    "レシート明細データ（df_receipt）の売上日（sales_ymd）に対し、顧客データ（df_customer）の会員申込日（application_date）からのエポック秒による経過時間を計算し、顧客ID（customer_id）、売上日、会員申込日とともに10件表示せよ（なお、sales_ymdは数値、application_dateは文字列でデータを保持している点に注意）。なお、時間情報は保有していないため各日付は0時0分0秒を表すものとする。"
   ]
  },
  {
   "cell_type": "code",
   "execution_count": null,
   "metadata": {
    "vscode": {
     "languageId": "r"
    }
   },
   "outputs": [],
   "source": [
    "# work in local\n",
    "compare_date_local %>%\n",
    "mutate(elapsed_epoch = (sales_ymd - application_date) %>% as.numeric(units = 'secs')) %>%\n",
    "head"
   ]
  },
  {
   "cell_type": "code",
   "execution_count": null,
   "metadata": {
    "vscode": {
     "languageId": "r"
    }
   },
   "outputs": [],
   "source": [
    "customer_tbl %>%\n",
    "    inner_join(receipt_tbl %>% select(customer_id, sales_ymd), by = \"customer_id\") %>%\n",
    "    select(customer_id, sales_ymd, application_date) %>%\n",
    "    collect() %>%\n",
    "    mutate(elapsed_months = lubridate::interval(lubridate::ymd(application_date), lubridate::ymd(sales_ymd)) %/% seconds(1)) %>%\n",
    "    head()"
   ]
  },
  {
   "cell_type": "markdown",
   "metadata": {},
   "source": [
    "### R-074:\n",
    "レシート明細データ（df_receipt）の売上日（sales_ymd）に対し、当該週の月曜日からの経過日数を計算し、売上日、直前の月曜日付とともに10件表示せよ（sales_ymdは数値でデータを保持している点に注意）。"
   ]
  },
  {
   "cell_type": "code",
   "execution_count": null,
   "metadata": {
    "vscode": {
     "languageId": "r"
    }
   },
   "outputs": [],
   "source": [
    "receipt_tbl %>%\n",
    "select(sales_ymd) %>%\n",
    "collect() %>%\n",
    "mutate(\n",
    "\telapsed_weekdays = lubridate::ymd(sales_ymd) %>% lubridate::wday(week_start = 1) -1,\n",
    "\tlast_monday = lubridate::ymd(sales_ymd) - elapsed_weekdays\n",
    "\t) %>%\n",
    "\thead"
   ]
  },
  {
   "cell_type": "code",
   "execution_count": null,
   "metadata": {
    "vscode": {
     "languageId": "r"
    }
   },
   "outputs": [],
   "source": [
    "library(lubridate)\n",
    "re %>%\n",
    "data.frame %>%\n",
    "mutate(\n",
    "\tsales_ymd_d = sales_ymd %>% ymd,\n",
    "\telapsed_weekdays = sales_ymd_d %>% wday(week_start = 1)-1,\n",
    "\tlast_monday = sales_ymd_d - elapsed_weekdays\n",
    "\t) %>%\n",
    "\thead"
   ]
  },
  {
   "cell_type": "markdown",
   "metadata": {},
   "source": [
    "### R-075:\n",
    "顧客データ（df_customer）からランダムに1%のデータを抽出し、先頭から10件表示せよ。"
   ]
  },
  {
   "cell_type": "code",
   "execution_count": null,
   "metadata": {
    "vscode": {
     "languageId": "r"
    }
   },
   "outputs": [],
   "source": [
    "customer_tbl %>% slice_sample(n=customer_tbl %>% count() %>% collect() %>% as.numeric() %/% 100) %>% head"
   ]
  },
  {
   "cell_type": "markdown",
   "metadata": {},
   "source": [
    "### R-076:\n",
    "顧客データ（df_customer）から性別コード（gender_cd）の割合に基づきランダムに10%のデータを層化抽出し、性別コードごとに件数を集計せよ。"
   ]
  },
  {
   "cell_type": "code",
   "execution_count": null,
   "metadata": {
    "vscode": {
     "languageId": "r"
    }
   },
   "outputs": [],
   "source": [
    "sampled_customer <- customer_tbl %>% \n",
    "\tgroup_by(gender_cd) %>%\n",
    "\tcollect() %>%\n",
    "\tdplyr::slice_sample(prop = 0.1)\n",
    "sampled_customer %>% nrow() %>% as.numeric()"
   ]
  },
  {
   "cell_type": "markdown",
   "metadata": {},
   "source": [
    "### R-077:\n",
    "レシート明細データ（df_receipt）の売上金額を顧客単位に合計し、合計した売上金額の外れ値を抽出せよ。なお、外れ値は売上金額合計を対数化したうえで平均と標準偏差を計算し、その平均から3σを超えて離れたものとする（自然対数と常用対数のどちらでも可）。結果は10件表示せよ。\n"
   ]
  },
  {
   "cell_type": "code",
   "execution_count": null,
   "metadata": {
    "vscode": {
     "languageId": "r"
    }
   },
   "outputs": [],
   "source": [
    "receipt_tbl %>%\n",
    "group_by(customer_id) %>%\n",
    "summarise(log_amount = log(sum(amount, na.rm = TRUE))) %>%\n",
    "mutate(mean = mean(log_amount, na.rm = TRUE), sd = sd(log_amount,na.rm = TRUE)) %>%\n",
    "filter(!(log_amount <= mean+3*sd)) %>%\n",
    "head"
   ]
  },
  {
   "cell_type": "markdown",
   "metadata": {},
   "source": [
    "### R-078:\n",
    "レシート明細データ（df_receipt）の売上金額（amount）を顧客単位に合計し、合計した売上金額の外れ値を抽出せよ。ただし、顧客IDが\"Z\"から始まるのものは非会員を表すため、除外して計算すること。なお、ここでは外れ値を第1四分位と第3四分位の差であるIQRを用いて、「第1四分位数-1.5×IQR」を下回るもの、または「第3四分位数+1.5×IQR」を超えるものとする。結果は10件表示せよ。"
   ]
  },
  {
   "cell_type": "code",
   "execution_count": null,
   "metadata": {
    "vscode": {
     "languageId": "r"
    }
   },
   "outputs": [],
   "source": [
    "# assume you are on a local machine\n",
    "library(stringr)\n",
    "\n",
    "receipt_tbl %>%\n",
    "filter(!str_detect(customer_id, '^Z')) %>%\n",
    "group_by(customer_id) %>%\n",
    "summarise(amount = sum(amount, na.rm = TRUE)) %>%\n",
    "collect() %>%\n",
    "filter(\n",
    "\tamount %>%\n",
    "\t{. > quantile(., probs = 0.25) + 1.5*IQR(.) | . < quantile(., probs = 0.25) - 1.5*IQR(.)}\n",
    ") %>% head"
   ]
  },
  {
   "cell_type": "code",
   "execution_count": null,
   "metadata": {
    "vscode": {
     "languageId": "r"
    }
   },
   "outputs": [],
   "source": [
    "# assume you are on a local machine\n",
    "library(stringr)\n",
    "\n",
    "receipt_tbl %>%\n",
    "filter(!str_detect(customer_id, '^Z')) %>%\n",
    "group_by(customer_id) %>%\n",
    "summarise(amount = sum(amount, na.rm = TRUE)) %>%\n",
    "collect() %>%\n",
    "filter(\n",
    "\tamount %>%\n",
    "\t{. > quantile(., probs = 0.25) + 1.5*IQR(.) | . < quantile(., probs = 0.25) - 1.5*IQR(.)}\n",
    ") %>% head"
   ]
  },
  {
   "cell_type": "code",
   "execution_count": null,
   "metadata": {
    "vscode": {
     "languageId": "r"
    }
   },
   "outputs": [],
   "source": [
    "# assume you are on a local machine\n",
    "rel <- DBI::dbReadTable(con, \"receipt\")\n",
    "library(stringr)\n",
    "\n",
    "rel %>%\n",
    "filter(!str_detect(customer_id, '^Z')) %>%\n",
    "group_by(customer_id) %>%\n",
    "summarise(amount = sum(amount, na.rm = TRUE)) %>%\n",
    "mutate(iqr = quantile(amount)[4] - quantile(amount)[2]) %>%\n",
    "mutate(thre_lower = quantile(amount)[2] - 1.5*iqr, thre_upper = quantile(amount)[4] + 1.5*iqr) %>%\n",
    "filter(amount < thre_lower | thre_upper < amount) %>%\n",
    "head"
   ]
  },
  {
   "cell_type": "markdown",
   "metadata": {},
   "source": [
    "### R-079:\n",
    "商品データ（df_product）の各項目に対し、欠損数を確認せよ。"
   ]
  },
  {
   "cell_type": "code",
   "execution_count": null,
   "metadata": {
    "vscode": {
     "languageId": "r"
    }
   },
   "outputs": [],
   "source": [
    "product_tbl %>% filter(if_any(-c(), ~ is.na(.))) %>% collect() %>% \n",
    "summarise(across(everything(), ~ is.na(.) %>% sum()))"
   ]
  },
  {
   "cell_type": "markdown",
   "metadata": {},
   "source": [
    "### R-080:\n",
    "商品データ（df_product）のいずれかの項目に欠損が発生しているレコードを全て削除した新たな商品データを作成せよ。なお、削除前後の件数を表示させ、079で確認した件数だけ減少していることも確認すること。"
   ]
  },
  {
   "cell_type": "code",
   "execution_count": null,
   "metadata": {
    "vscode": {
     "languageId": "r"
    }
   },
   "outputs": [],
   "source": [
    "# missing data\n",
    "product_tbl %>% filter(if_any(-c(), ~ is.na(.))) %>% head"
   ]
  },
  {
   "cell_type": "code",
   "execution_count": null,
   "metadata": {
    "vscode": {
     "languageId": "r"
    }
   },
   "outputs": [],
   "source": [
    "product_tbl %>% filter(if_all(-c(), ~ !is.na(.))) %>% head"
   ]
  },
  {
   "cell_type": "code",
   "execution_count": null,
   "metadata": {
    "vscode": {
     "languageId": "r"
    }
   },
   "outputs": [],
   "source": [
    "# complete.cases does not works on tbl\n",
    "product_tbl %>% collect() %>%\n",
    "filter(complete.cases(.)) %>% nrow()"
   ]
  },
  {
   "cell_type": "markdown",
   "metadata": {},
   "source": [
    "### R-081:\n",
    "単価（unit_price）と原価（unit_cost）の欠損値について、それぞれの平均値で補完した新たな商品データを作成せよ。なお、平均値については1円未満を丸めること（四捨五入または偶数への丸めで良い）。補完実施後、各項目について欠損が生じていないことも確認すること。"
   ]
  },
  {
   "cell_type": "code",
   "execution_count": null,
   "metadata": {
    "vscode": {
     "languageId": "r"
    }
   },
   "outputs": [],
   "source": [
    "library(tidymodels)\n",
    "\n",
    "product_df <- data.frame(con, 'product')\n",
    "product_tbl %>%\n",
    "recipe() %>%\n",
    "step_impute_mean(unit_price, unit_cost) %>%\n",
    "prep() %>%\n",
    "juice() %>%\n",
    "head\n",
    "# filter(unit_cost %>% is.na)"
   ]
  },
  {
   "cell_type": "code",
   "execution_count": null,
   "metadata": {
    "vscode": {
     "languageId": "r"
    }
   },
   "outputs": [],
   "source": [
    "product_tbl %>%\n",
    "mutate(across(c(unit_price,unit_cost), ~ coalesce(mean(.x) %>% round())))"
   ]
  },
  {
   "cell_type": "markdown",
   "metadata": {},
   "source": [
    "### R-082:\n",
    "単価（unit_price）と原価（unit_cost）の欠損値について、それぞれの中央値で補完した新たな商品データを作成せよ。なお、中央値については1円未満を丸めること（四捨五入または偶数への丸めで良い）。補完実施後、各項目について欠損が生じていないことも確認すること。"
   ]
  },
  {
   "cell_type": "code",
   "execution_count": null,
   "metadata": {
    "vscode": {
     "languageId": "r"
    }
   },
   "outputs": [],
   "source": [
    "pr %>%\n",
    "data.frame %>%\n",
    "recipe() %>%\n",
    "step_impute_median(unit_price, unit_cost) %>%\n",
    "prep() %>%\n",
    "juice() %>%\n",
    "#head\n",
    "filter(unit_cost %>% is.na) %>%head"
   ]
  },
  {
   "cell_type": "markdown",
   "metadata": {},
   "source": [
    "### R-083:\n",
    "単価（unit_price）と原価（unit_cost）の欠損値について、各商品のカテゴリ小区分コード（category_small_cd）ごとに算出した中央値で補完した新たな商品データを作成せよ。なお、中央値については1円未満を丸めること（四捨五入または偶数への丸めで良い）。補完実施後、各項目について欠損が生じていないことも確認すること。"
   ]
  },
  {
   "cell_type": "code",
   "execution_count": 17,
   "metadata": {
    "vscode": {
     "languageId": "r"
    }
   },
   "outputs": [
    {
     "data": {
      "text/html": [
       "10030"
      ],
      "text/latex": [
       "10030"
      ],
      "text/markdown": [
       "10030"
      ],
      "text/plain": [
       "[1] 10030"
      ]
     },
     "metadata": {},
     "output_type": "display_data"
    }
   ],
   "source": [
    "product_tbl %>% \n",
    "collect() %>%\n",
    "group_by(category_small_cd) %>%\n",
    "group_modify(~ mutate(.x, \n",
    "\tacross(\n",
    "\t\t.cols = c(unit_price,unit_cost),\n",
    "\t\t.fns = ~ coalesce(.x, median(.x, na.rm = TRUE) %>% round())\n",
    "))) %>% head"
   ]
  },
  {
   "cell_type": "code",
   "execution_count": 2,
   "metadata": {
    "vscode": {
     "languageId": "r"
    }
   },
   "outputs": [
    {
     "name": "stderr",
     "output_type": "stream",
     "text": [
      "Warning message:\n",
      "“Missing values are always removed in SQL.\n",
      "Use `median(x, na.rm = TRUE)` to silence this warning\n",
      "This warning is displayed only once per session.”\n",
      "NOTICE:  view \"product_imputed\" will be a temporary view\n",
      "\n",
      "\n",
      "Warning message in result_create(conn@ptr, statement, immediate):\n",
      "“Closing open result set, cancelling previous query”\n"
     ]
    },
    {
     "data": {
      "text/html": [
       "<style>\n",
       ".list-inline {list-style: none; margin:0; padding: 0}\n",
       ".list-inline>li {display: inline-block}\n",
       ".list-inline>li:not(:last-child)::after {content: \"\\00b7\"; padding: 0 .5ex}\n",
       "</style>\n",
       "<ol class=list-inline><li>'customer'</li><li>'category'</li><li>'geocode'</li><li>'product'</li><li>'receipt'</li><li>'store'</li><li>'imputed'</li><li>'product_complete'</li><li>'product_imputed'</li></ol>\n"
      ],
      "text/latex": [
       "\\begin{enumerate*}\n",
       "\\item 'customer'\n",
       "\\item 'category'\n",
       "\\item 'geocode'\n",
       "\\item 'product'\n",
       "\\item 'receipt'\n",
       "\\item 'store'\n",
       "\\item 'imputed'\n",
       "\\item 'product\\_complete'\n",
       "\\item 'product\\_imputed'\n",
       "\\end{enumerate*}\n"
      ],
      "text/markdown": [
       "1. 'customer'\n",
       "2. 'category'\n",
       "3. 'geocode'\n",
       "4. 'product'\n",
       "5. 'receipt'\n",
       "6. 'store'\n",
       "7. 'imputed'\n",
       "8. 'product_complete'\n",
       "9. 'product_imputed'\n",
       "\n",
       "\n"
      ],
      "text/plain": [
       "[1] \"customer\"         \"category\"         \"geocode\"          \"product\"         \n",
       "[5] \"receipt\"          \"store\"            \"imputed\"          \"product_complete\"\n",
       "[9] \"product_imputed\" "
      ]
     },
     "metadata": {},
     "output_type": "display_data"
    },
    {
     "name": "stdout",
     "output_type": "stream",
     "text": [
      "\u001b[90m# Source:   lazy query [?? x 1]\u001b[39m\n",
      "\u001b[90m# Database: postgres [guest@localhost:5432/knock100]\u001b[39m\n",
      "    `n()`\n",
      "  \u001b[3m\u001b[90m<int64>\u001b[39m\u001b[23m\n",
      "\u001b[90m1\u001b[39m   \u001b[4m1\u001b[24m\u001b[4m0\u001b[24m030\n"
     ]
    },
    {
     "data": {
      "text/plain": [
       "\u001b[90m# Source:   lazy query [?? x 1]\u001b[39m\n",
       "\u001b[90m# Database: postgres [guest@localhost:5432/knock100]\u001b[39m\n",
       "    `n()`\n",
       "  \u001b[3m\u001b[90m<int64>\u001b[39m\u001b[23m\n",
       "\u001b[90m1\u001b[39m       1"
      ]
     },
     "metadata": {},
     "output_type": "display_data"
    }
   ],
   "source": [
    "product_tbl %>%\n",
    "group_by(category_small_cd) %>%\n",
    "summarise(\n",
    "\tacross(\n",
    "\t\t.cols = c(unit_price, unit_cost),\n",
    "\t\t.fns = ~ median(.x) %>% round(),\n",
    "\t\t.names = '{.col}_med'\n",
    "\t\t) \n",
    "\t) %>%\n",
    "inner_join(product_tbl %>% filter(if_any(-c(), ~ is.na(.))), by = 'category_small_cd') %>%\n",
    "collect() %>% \n",
    "group_by(category_small_cd) %>% \n",
    "group_modify(\n",
    "\t~ mutate(\n",
    "\t\t.x,\n",
    "\t\tacross(\n",
    "\t\t\t.cols = c(unit_price,unit_cost),\n",
    "\t\t\t.fns = ~ coalesce(.x, cur_data() %>% summarise(across(stringr::str_c(cur_column(),'_med'),first)) %>% collect() %>% as.numeric()) \n",
    "\t\t\t))\n",
    "\t\t) %>% \n",
    "select(- ends_with('_med')) %>% \n",
    "# temporarily save table in server.\n",
    "copy_to(con, .,name = 'imputed', overwrite = TRUE)\n",
    "product_tbl %>% filter(if_all(-c(), ~ !is.na(.))) %>% copy_to(con, .,name='product_complete', overwrite = TRUE)\n",
    "# combine and show\n",
    "rs <- DBI::dbSendQuery(con, \"\n",
    "create view product_imputed as\n",
    "select *\n",
    "from imputed\n",
    "union all\n",
    "select *\n",
    "from product_complete\n",
    "\"\n",
    ")\n",
    "DBI::dbListTables(con)\n",
    "tbl(con, 'product_imputed') %>% \n",
    "filter(if_all(-c(), ~ !is.na(.))) %>%\n",
    "summarise(n())"
   ]
  },
  {
   "cell_type": "code",
   "execution_count": 4,
   "metadata": {
    "vscode": {
     "languageId": "r"
    }
   },
   "outputs": [
    {
     "data": {
      "text/plain": [
       "\u001b[90m# Source:   lazy query [?? x 1]\u001b[39m\n",
       "\u001b[90m# Database: postgres [guest@localhost:5432/knock100]\u001b[39m\n",
       "    `n()`\n",
       "  \u001b[3m\u001b[90m<int64>\u001b[39m\u001b[23m\n",
       "\u001b[90m1\u001b[39m   \u001b[4m1\u001b[24m\u001b[4m0\u001b[24m030"
      ]
     },
     "metadata": {},
     "output_type": "display_data"
    }
   ],
   "source": [
    "tbl(con, 'product_imputed') %>% \n",
    "filter(if_all(-c(), ~ !is.na(.))) %>%\n",
    "summarise(n())"
   ]
  },
  {
   "cell_type": "code",
   "execution_count": null,
   "metadata": {
    "vscode": {
     "languageId": "r"
    }
   },
   "outputs": [],
   "source": [
    "pr %>%\n",
    "group_by(category_small_cd) %>%\n",
    "summarise(\n",
    "\t\tprice_median = unit_price %>% median(na.rm = TRUE) %>% round(),\n",
    "\t\tcost_median = unit_cost %>% median(na.rm = TRUE) %>% round()\n",
    "\t\t) %>%\n",
    "inner_join(pr, by='category_small_cd') %>%\n",
    "mutate(\n",
    "\tunit_price = ifelse(unit_price %>% is.na, price_median, unit_price),\n",
    "\tunit_cost = ifelse(unit_cost %>% is.na, cost_median, unit_cost)\n",
    ")"
   ]
  },
  {
   "cell_type": "markdown",
   "metadata": {},
   "source": [
    "### R-084:\n",
    "顧客データ（df_customer）の全顧客に対して全期間の売上金額に占める2019年売上金額の割合を計算し、新たなデータを作成せよ。ただし、売上実績がない場合は0として扱うこと。そして計算した割合が0超のものを抽出し、結果を10件表示せよ。また、作成したデータに欠損が存在しないことを確認せよ。"
   ]
  },
  {
   "cell_type": "code",
   "execution_count": 24,
   "metadata": {
    "vscode": {
     "languageId": "r"
    }
   },
   "outputs": [
    {
     "data": {
      "text/plain": [
       "\u001b[90m# Source:   lazy query [?? x 4]\u001b[39m\n",
       "\u001b[90m# Database: postgres [guest@localhost:5432/knock100]\u001b[39m\n",
       "  customer_id    amount_all amount_2019 ratio_2019\n",
       "  \u001b[3m\u001b[90m<chr>\u001b[39m\u001b[23m               \u001b[3m\u001b[90m<dbl>\u001b[39m\u001b[23m       \u001b[3m\u001b[90m<dbl>\u001b[39m\u001b[23m      \u001b[3m\u001b[90m<dbl>\u001b[39m\u001b[23m\n",
       "\u001b[90m1\u001b[39m CS031415000172       \u001b[4m5\u001b[24m088        \u001b[4m2\u001b[24m971     0.584 \n",
       "\u001b[90m2\u001b[39m CS015414000103       \u001b[4m3\u001b[24m122         874     0.280 \n",
       "\u001b[90m3\u001b[39m CS011215000048       \u001b[4m3\u001b[24m444         248     0.072\u001b[4m0\u001b[24m\n",
       "\u001b[90m4\u001b[39m CS029415000023       \u001b[4m5\u001b[24m167        \u001b[4m3\u001b[24m767     0.729 \n",
       "\u001b[90m5\u001b[39m CS035415000029       \u001b[4m7\u001b[24m504        \u001b[4m5\u001b[24m823     0.776 \n",
       "\u001b[90m6\u001b[39m CS023513000066        771         208     0.270 "
      ]
     },
     "metadata": {},
     "output_type": "display_data"
    }
   ],
   "source": [
    "receipt_tbl %>% \n",
    "mutate(year = sales_ymd %>% as.character() %>% substr(1,4)) %>%\n",
    "group_by(customer_id) %>%\n",
    "summarise(\n",
    "\tamount_all = sum(amount, na.rm=TRUE),\n",
    "\tamount_2019 = sum(if_else(year=='2019', coalesce(amount,0), 0), na.rm=TRUE)\n",
    ")  %>%\n",
    " right_join(customer_tbl %>% select(customer_id), by = 'customer_id') %>%\n",
    " mutate(across(\n",
    " \t.cols = starts_with('amount'),\n",
    " \t.fns = ~ coalesce(.x, .0)\n",
    " )) %>% # the first of asked data\n",
    " filter(amount_2019>0) %>%\n",
    " # the second one\n",
    " mutate(ratio_2019 = amount_2019/amount_all) %>% head"
   ]
  },
  {
   "cell_type": "code",
   "execution_count": 23,
   "metadata": {
    "vscode": {
     "languageId": "r"
    }
   },
   "outputs": [
    {
     "ename": "ERROR",
     "evalue": "Error in replace_na(., list(amount_all = 0, amount_2019 = 0)): could not find function \"replace_na\"\n",
     "output_type": "error",
     "traceback": [
      "Error in replace_na(., list(amount_all = 0, amount_2019 = 0)): could not find function \"replace_na\"\nTraceback:\n",
      "1. re %>% data.frame %>% mutate(year = sales_ymd %>% ymd %>% year) %>% \n .     group_by(customer_id, year) %>% summarize(amount_all = sum(amount, \n .     na.rm = TRUE), amount_2019 = sum(ifelse(year == 2019, amount, \n .     0), na.rm = TRUE)) %>% right_join(cu %>% data.frame, by = \"customer_id\") %>% \n .     replace_na(list(amount_all = 0, amount_2019 = 0)) %>% filter(amount_2019 > \n .     0) %>% head(10)",
      "2. head(., 10)",
      "3. filter(., amount_2019 > 0)"
     ]
    }
   ],
   "source": [
    "library(lubridate)\n",
    "cu = tbl(con, 'customer')\n",
    "\n",
    "re %>%\n",
    "data.frame %>%\n",
    "mutate(year = sales_ymd %>% ymd %>% year) %>%\n",
    "group_by(customer_id, year) %>%\n",
    "summarize(\n",
    "\tamount_all = sum(amount, na.rm = TRUE),\n",
    "\tamount_2019 = sum(ifelse(year == 2019,amount,0 ), na.rm = TRUE)\n",
    ") %>%\n",
    "right_join(cu %>% data.frame, by = 'customer_id') %>%\n",
    "replace_na(list(amount_all = 0, amount_2019 = 0)) %>%\n",
    "filter(amount_2019 > 0) %>% head(10)"
   ]
  },
  {
   "cell_type": "markdown",
   "metadata": {},
   "source": [
    "### R-085:\n",
    "顧客データ（df_customer）の全顧客に対し、郵便番号（postal_cd）を用いてジオコードデータ（df_geocode）を紐付け、新たな顧客データを作成せよ。ただし、1つの郵便番号（postal_cd）に複数の経度（longitude）、緯度（latitude）情報が紐づく場合は、経度（longitude）、緯度（latitude）の平均値を算出して使用すること。また、作成結果を確認するために結果を10件表示せよ。"
   ]
  },
  {
   "cell_type": "code",
   "execution_count": 33,
   "metadata": {
    "vscode": {
     "languageId": "r"
    }
   },
   "outputs": [
    {
     "data": {
      "text/plain": [
       "\u001b[90m# Source:   lazy query [?? x 3]\u001b[39m\n",
       "\u001b[90m# Database: postgres [guest@localhost:5432/knock100]\u001b[39m\n",
       "   longitude latitude postal_cd\n",
       "       \u001b[3m\u001b[90m<dbl>\u001b[39m\u001b[23m    \u001b[3m\u001b[90m<dbl>\u001b[39m\u001b[23m \u001b[3m\u001b[90m<chr>\u001b[39m\u001b[23m    \n",
       "\u001b[90m 1\u001b[39m      141.     43.1 060-0000 \n",
       "\u001b[90m 2\u001b[39m      141.     43.0 064-0941 \n",
       "\u001b[90m 3\u001b[39m      141.     43.1 060-0042 \n",
       "\u001b[90m 4\u001b[39m      141.     43.1 060-0042 \n",
       "\u001b[90m 5\u001b[39m      141.     43.1 060-0042 \n",
       "\u001b[90m 6\u001b[39m      141.     43.1 060-0042 \n",
       "\u001b[90m 7\u001b[39m      141.     43.1 060-0042 \n",
       "\u001b[90m 8\u001b[39m      141.     43.1 060-0042 \n",
       "\u001b[90m 9\u001b[39m      141.     43.1 060-0042 \n",
       "\u001b[90m10\u001b[39m      141.     43.1 060-0042 \n",
       "\u001b[90m# … with more rows\u001b[39m"
      ]
     },
     "metadata": {},
     "output_type": "display_data"
    },
    {
     "ename": "ERROR",
     "evalue": "Error in group_by(postal_cd): object 'postal_cd' not found\n",
     "output_type": "error",
     "traceback": [
      "Error in group_by(postal_cd): object 'postal_cd' not found\nTraceback:\n",
      "1. group_by(postal_cd) %>% summarise(across(.cols = c(longitude, \n .     latitude), .fns = ~mean(.x, na.rm = TRUE))) %>% right_join(customer_tbl %>% \n .     select(customer_id, postal_cd), by = \"postal_cd\") %>% head",
      "2. head(.)",
      "3. right_join(., customer_tbl %>% select(customer_id, postal_cd), \n .     by = \"postal_cd\")",
      "4. summarise(., across(.cols = c(longitude, latitude), .fns = ~mean(.x, \n .     na.rm = TRUE)))",
      "5. group_by(postal_cd)"
     ]
    }
   ],
   "source": [
    "geo_tbl %>% select(longitude, latitude, postal_cd)\n",
    "group_by(postal_cd) %>%\n",
    "summarise(across(\n",
    "\t.cols = c(longitude, latitude),\n",
    "\t.fns = ~ mean(.x, na.rm = TRUE)\n",
    ")) %>%\n",
    "right_join(customer_tbl %>% select(customer_id, postal_cd), by = 'postal_cd') %>%\n",
    "head"
   ]
  },
  {
   "cell_type": "markdown",
   "metadata": {},
   "source": [
    "### R-086:\n",
    "085で作成した緯度経度つき顧客データに対し、会員申込店舗コード（application_store_cd）をキーに店舗データ（df_store）と結合せよ。そして申込み店舗の緯度（latitude）・経度情報（longitude)と顧客住所（address）の緯度・経度を用いて申込み店舗と顧客住所の距離（単位：km）を求め、顧客ID（customer_id）、顧客住所（address）、店舗住所（address）とともに表示せよ。計算式は以下の簡易式で良いものとするが、その他精度の高い方式を利用したライブラリを利用してもかまわない。結果は10件表示せよ。"
   ]
  },
  {
   "cell_type": "markdown",
   "metadata": {},
   "source": [
    "### R-087:\n",
    "顧客データ（df_customer）では、異なる店舗での申込みなどにより同一顧客が複数登録されている。名前（customer_name）と郵便番号（postal_cd）が同じ顧客は同一顧客とみなして1顧客1レコードとなるように名寄せした名寄顧客データを作成し、顧客データの件数、名寄顧客データの件数、重複数を算出せよ。ただし、同一顧客に対しては売上金額合計が最も高いものを残し、売上金額合計が同一もしくは売上実績がない顧客については顧客ID（customer_id）の番号が小さいものを残すこととする。"
   ]
  },
  {
   "cell_type": "markdown",
   "metadata": {},
   "source": [
    "### R-088:\n",
    "087で作成したデータを元に、顧客データに統合名寄IDを付与したデータを作成せよ。ただし、統合名寄IDは以下の仕様で付与するものとする。\n",
    "- 重複していない顧客：顧客ID（customer_id）を設定\n",
    "- 重複している顧客：前設問で抽出したレコードの顧客IDを設定\n",
    "\n",
    "顧客IDのユニーク件数と、統合名寄IDのユニーク件数の差も確認すること。"
   ]
  },
  {
   "cell_type": "markdown",
   "metadata": {},
   "source": [
    "### R-089:\n",
    "売上実績がある顧客を、予測モデル構築のため学習用データとテスト用データに分割したい。それぞれ8:2の割合でランダムにデータを分割せよ。"
   ]
  },
  {
   "cell_type": "markdown",
   "metadata": {},
   "source": [
    "### R-090:\n",
    "レシート明細データ（df_receipt）は2017年1月1日〜2019年10月31日までのデータを有している。売上金額（amount）を月次で集計し、学習用に12ヶ月、テスト用に6ヶ月の時系列モデル構築用データを3セット作成せよ。"
   ]
  },
  {
   "cell_type": "markdown",
   "metadata": {},
   "source": []
  }
 ],
 "metadata": {
  "kernelspec": {
   "display_name": "R",
   "language": "R",
   "name": "ir"
  },
  "language_info": {
   "codemirror_mode": "r",
   "file_extension": ".r",
   "mimetype": "text/x-r-source",
   "name": "R",
   "pygments_lexer": "r",
   "version": "4.2.0"
  },
  "orig_nbformat": 4
 },
 "nbformat": 4,
 "nbformat_minor": 2
}
