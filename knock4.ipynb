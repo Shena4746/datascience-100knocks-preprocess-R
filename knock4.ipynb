{
 "cells": [
  {
   "cell_type": "code",
   "execution_count": 1,
   "metadata": {
    "vscode": {
     "languageId": "r"
    }
   },
   "outputs": [
    {
     "name": "stderr",
     "output_type": "stream",
     "text": [
      "\n",
      "Attaching package: ‘dplyr’\n",
      "\n",
      "\n",
      "The following objects are masked from ‘package:dbplyr’:\n",
      "\n",
      "    ident, sql\n",
      "\n",
      "\n",
      "The following objects are masked from ‘package:stats’:\n",
      "\n",
      "    filter, lag\n",
      "\n",
      "\n",
      "The following objects are masked from ‘package:base’:\n",
      "\n",
      "    intersect, setdiff, setequal, union\n",
      "\n",
      "\n",
      "Warning message in system(\"timedatectl\", intern = TRUE):\n",
      "“running command 'timedatectl' had status 1”\n"
     ]
    },
    {
     "data": {
      "text/html": [
       "<style>\n",
       ".list-inline {list-style: none; margin:0; padding: 0}\n",
       ".list-inline>li {display: inline-block}\n",
       ".list-inline>li:not(:last-child)::after {content: \"\\00b7\"; padding: 0 .5ex}\n",
       "</style>\n",
       "<ol class=list-inline><li>'customer'</li><li>'category'</li><li>'geocode'</li><li>'product'</li><li>'receipt'</li><li>'store'</li></ol>\n"
      ],
      "text/latex": [
       "\\begin{enumerate*}\n",
       "\\item 'customer'\n",
       "\\item 'category'\n",
       "\\item 'geocode'\n",
       "\\item 'product'\n",
       "\\item 'receipt'\n",
       "\\item 'store'\n",
       "\\end{enumerate*}\n"
      ],
      "text/markdown": [
       "1. 'customer'\n",
       "2. 'category'\n",
       "3. 'geocode'\n",
       "4. 'product'\n",
       "5. 'receipt'\n",
       "6. 'store'\n",
       "\n",
       "\n"
      ],
      "text/plain": [
       "[1] \"customer\" \"category\" \"geocode\"  \"product\"  \"receipt\"  \"store\"   "
      ]
     },
     "metadata": {},
     "output_type": "display_data"
    }
   ],
   "source": [
    "library(\"DBI\")\n",
    "library(\"dbplyr\")\n",
    "library(\"dplyr\")\n",
    "\n",
    "con <- DBI::dbConnect(\n",
    "    RPostgres::Postgres(),\n",
    "    host = \"localhost\",\n",
    "    port = 5432,\n",
    "    dbname = \"knock100\",\n",
    "    user = \"guest\",\n",
    "    password = \"guest\"\n",
    ")\n",
    "\n",
    "customer_tbl <- dplyr::tbl(con, \"customer\")\n",
    "category_tbl <- dplyr::tbl(con, \"category\")\n",
    "product_tbl <- dplyr::tbl(con, \"product\")\n",
    "receipt_tbl <- dplyr::tbl(con, \"receipt\")\n",
    "store_tbl <- dplyr::tbl(con, \"store\")\n",
    "geo_tbl <- dplyr::tbl(con, 'geocode')\n",
    "DBI::dbListTables(con)"
   ]
  },
  {
   "cell_type": "markdown",
   "metadata": {},
   "source": [
    "### R-080:\n",
    "商品データ（df_product）のいずれかの項目に欠損が発生しているレコードを全て削除した新たな商品データを作成せよ。なお、削除前後の件数を表示させ、079で確認した件数だけ減少していることも確認すること。"
   ]
  },
  {
   "cell_type": "code",
   "execution_count": null,
   "metadata": {
    "vscode": {
     "languageId": "r"
    }
   },
   "outputs": [],
   "source": [
    "# missing data\n",
    "product_tbl %>% filter(if_any(everything(), ~ is.na(.))) %>% head"
   ]
  },
  {
   "cell_type": "code",
   "execution_count": null,
   "metadata": {
    "vscode": {
     "languageId": "r"
    }
   },
   "outputs": [],
   "source": [
    "product_tbl %>% filter(if_all(everything(), ~ !is.na(.))) %>% head"
   ]
  },
  {
   "cell_type": "code",
   "execution_count": null,
   "metadata": {
    "vscode": {
     "languageId": "r"
    }
   },
   "outputs": [],
   "source": [
    "# complete.cases does not works on tbl\n",
    "product_tbl %>% collect() %>%\n",
    "filter(complete.cases(.)) %>% nrow()"
   ]
  },
  {
   "cell_type": "markdown",
   "metadata": {},
   "source": [
    "### R-081:\n",
    "単価（unit_price）と原価（unit_cost）の欠損値について、それぞれの平均値で補完した新たな商品データを作成せよ。なお、平均値については1円未満を丸めること（四捨五入または偶数への丸めで良い）。補完実施後、各項目について欠損が生じていないことも確認すること。"
   ]
  },
  {
   "cell_type": "code",
   "execution_count": null,
   "metadata": {
    "vscode": {
     "languageId": "r"
    }
   },
   "outputs": [],
   "source": [
    "library(tidymodels)\n",
    "\n",
    "product_df <- data.frame(con, 'product')\n",
    "product_tbl %>%\n",
    "recipe() %>%\n",
    "step_impute_mean(unit_price, unit_cost) %>%\n",
    "prep() %>%\n",
    "juice() %>%\n",
    "head\n",
    "# filter(unit_cost %>% is.na)"
   ]
  },
  {
   "cell_type": "code",
   "execution_count": null,
   "metadata": {
    "vscode": {
     "languageId": "r"
    }
   },
   "outputs": [],
   "source": [
    "product_tbl %>% \n",
    "mutate(across(starts_with(\"unit_\"), ~ coalesce(.x, mean(.x) %>% round())))"
   ]
  },
  {
   "cell_type": "code",
   "execution_count": null,
   "metadata": {
    "vscode": {
     "languageId": "r"
    }
   },
   "outputs": [],
   "source": [
    "rows_to_impute <- c(\"unit_price\", \"unit_cost\")\n",
    "product_tbl %>%\n",
    "mutate(across(rows_to_impute, ~ coalesce(.x, mean(.x) %>% round())))"
   ]
  },
  {
   "cell_type": "markdown",
   "metadata": {},
   "source": [
    "### R-082:\n",
    "単価（unit_price）と原価（unit_cost）の欠損値について、それぞれの中央値で補完した新たな商品データを作成せよ。なお、中央値については1円未満を丸めること（四捨五入または偶数への丸めで良い）。補完実施後、各項目について欠損が生じていないことも確認すること。"
   ]
  },
  {
   "cell_type": "markdown",
   "metadata": {},
   "source": [
    "### R-083:\n",
    "単価（unit_price）と原価（unit_cost）の欠損値について、各商品のカテゴリ小区分コード（category_small_cd）ごとに算出した中央値で補完した新たな商品データを作成せよ。なお、中央値については1円未満を丸めること（四捨五入または偶数への丸めで良い）。補完実施後、各項目について欠損が生じていないことも確認すること。"
   ]
  },
  {
   "cell_type": "code",
   "execution_count": null,
   "metadata": {
    "vscode": {
     "languageId": "r"
    }
   },
   "outputs": [],
   "source": [
    "product_tbl %>% \n",
    "collect() %>%\n",
    "group_by(category_small_cd) %>%\n",
    "group_modify(~ mutate(.x, \n",
    "\tacross(\n",
    "\t\t.cols = starts_with(\"unit_\"),\n",
    "\t\t.fns = ~ coalesce(.x, median(.x, na.rm = TRUE) %>% round())\n",
    "))) %>% head"
   ]
  },
  {
   "cell_type": "code",
   "execution_count": 109,
   "metadata": {
    "vscode": {
     "languageId": "r"
    }
   },
   "outputs": [
    {
     "data": {
      "text/plain": [
       "\u001b[90m# Source:   SQL [1 x 6]\u001b[39m\n",
       "\u001b[90m# Database: postgres  [guest@localhost:5432/knock100]\u001b[39m\n",
       "  category_small_… product_cd_NA category_major_… category_medium… unit_price_NA\n",
       "             \u001b[3m\u001b[90m<dbl>\u001b[39m\u001b[23m         \u001b[3m\u001b[90m<dbl>\u001b[39m\u001b[23m            \u001b[3m\u001b[90m<dbl>\u001b[39m\u001b[23m            \u001b[3m\u001b[90m<dbl>\u001b[39m\u001b[23m         \u001b[3m\u001b[90m<dbl>\u001b[39m\u001b[23m\n",
       "\u001b[90m1\u001b[39m                0             0                0                0             0\n",
       "\u001b[90m# … with 1 more variable: unit_cost_NA <dbl>\u001b[39m"
      ]
     },
     "metadata": {},
     "output_type": "display_data"
    }
   ],
   "source": [
    "rows_to_impute <- c(\"unit_price\", \"unit_cost\")\n",
    "product_tbl %>%\n",
    "group_by(category_small_cd) %>%\n",
    "summarise(\n",
    "\tacross(\n",
    "\t\t.cols = all_of(rows_to_impute),\n",
    "\t\t.fns = ~ median(.x) %>% round(),\n",
    "\t\t.names = '{.col}_med'\n",
    "\t\t) \n",
    "\t) %>%\n",
    "inner_join(product_tbl %>% filter(if_any(everything(), ~ is.na(.))), by = 'category_small_cd') %>%\n",
    "collect() %>% \n",
    "group_by(category_small_cd) %>% \n",
    "group_modify(\n",
    "\t~ mutate(\n",
    "\t\t.x,\n",
    "\t\tacross(\n",
    "\t\t\t.cols = all_of(rows_to_impute),\n",
    "\t\t\t.fns = ~ coalesce(.x, cur_data() %>% summarise(across(stringr::str_c(cur_column(),'_med') ,first)) %>% collect() %>% as.numeric()) \n",
    "\t\t\t))\n",
    "\t\t) %>% \n",
    "select(- ends_with('_med')) %>% \n",
    "# copy_to method temporarily saves table in server, and then merge tables\n",
    "copy_to(con, ., overwrite = TRUE) %>% dplyr::union(product_tbl %>% filter(if_all(everything(), ~ !is.na(.)))) %>%\n",
    "# make sure that the merged table has no missing cells\n",
    "summarise(across(.cols = everything(), .fns = ~ if_else(is.na(.x), 1, 0) %>% sum(), .names = '{.col}_NA'))"
   ]
  },
  {
   "cell_type": "code",
   "execution_count": null,
   "metadata": {
    "vscode": {
     "languageId": "r"
    }
   },
   "outputs": [],
   "source": [
    "pr %>%\n",
    "group_by(category_small_cd) %>%\n",
    "summarise(\n",
    "\t\tprice_median = unit_price %>% median(na.rm = TRUE) %>% round(),\n",
    "\t\tcost_median = unit_cost %>% median(na.rm = TRUE) %>% round()\n",
    "\t\t) %>%\n",
    "inner_join(pr, by='category_small_cd') %>%\n",
    "mutate(\n",
    "\tunit_price = ifelse(unit_price %>% is.na, price_median, unit_price),\n",
    "\tunit_cost = ifelse(unit_cost %>% is.na, cost_median, unit_cost)\n",
    ")"
   ]
  },
  {
   "cell_type": "markdown",
   "metadata": {},
   "source": [
    "### R-084:\n",
    "顧客データ（df_customer）の全顧客に対して全期間の売上金額に占める2019年売上金額の割合を計算し、新たなデータを作成せよ。ただし、売上実績がない場合は0として扱うこと。そして計算した割合が0超のものを抽出し、結果を10件表示せよ。また、作成したデータに欠損が存在しないことを確認せよ。"
   ]
  },
  {
   "cell_type": "code",
   "execution_count": null,
   "metadata": {
    "vscode": {
     "languageId": "r"
    }
   },
   "outputs": [],
   "source": [
    "receipt_tbl %>% \n",
    "mutate(year = sales_ymd %>% as.character() %>% substr(1,4)) %>%\n",
    "group_by(customer_id) %>%\n",
    "summarise(\n",
    "\tamount_all = sum(amount, na.rm=TRUE),\n",
    "\tamount_2019 = sum(if_else(year=='2019', coalesce(amount,0), 0), na.rm=TRUE)\n",
    ")  %>%\n",
    " right_join(customer_tbl %>% select(customer_id), by = 'customer_id') %>%\n",
    " mutate(across(\n",
    " \t.cols = starts_with('amount'),\n",
    " \t.fns = ~ coalesce(.x, .0)\n",
    " )) %>% # the first of asked data\n",
    " filter(amount_2019>0) %>%\n",
    " # the second one\n",
    " mutate(ratio_2019 = amount_2019/amount_all) %>% head"
   ]
  },
  {
   "cell_type": "code",
   "execution_count": null,
   "metadata": {
    "vscode": {
     "languageId": "r"
    }
   },
   "outputs": [],
   "source": [
    "library(lubridate)\n",
    "cu = tbl(con, 'customer')\n",
    "\n",
    "re %>%\n",
    "data.frame %>%\n",
    "mutate(year = sales_ymd %>% ymd %>% year) %>%\n",
    "group_by(customer_id, year) %>%\n",
    "summarize(\n",
    "\tamount_all = sum(amount, na.rm = TRUE),\n",
    "\tamount_2019 = sum(ifelse(year == 2019,amount,0 ), na.rm = TRUE)\n",
    ") %>%\n",
    "right_join(cu %>% data.frame, by = 'customer_id') %>%\n",
    "replace_na(list(amount_all = 0, amount_2019 = 0)) %>%\n",
    "filter(amount_2019 > 0) %>% head(10)"
   ]
  },
  {
   "cell_type": "markdown",
   "metadata": {},
   "source": [
    "### R-085:\n",
    "顧客データ（df_customer）の全顧客に対し、郵便番号（postal_cd）を用いてジオコードデータ（df_geocode）を紐付け、新たな顧客データを作成せよ。ただし、1つの郵便番号（postal_cd）に複数の経度（longitude）、緯度（latitude）情報が紐づく場合は、経度（longitude）、緯度（latitude）の平均値を算出して使用すること。また、作成結果を確認するために結果を10件表示せよ。"
   ]
  },
  {
   "cell_type": "markdown",
   "metadata": {},
   "source": [
    "### R-086:\n",
    "085で作成した緯度経度つき顧客データに対し、会員申込店舗コード（application_store_cd）をキーに店舗データ（df_store）と結合せよ。そして申込み店舗の緯度（latitude）・経度情報（longitude)と顧客住所（address）の緯度・経度を用いて申込み店舗と顧客住所の距離（単位：km）を求め、顧客ID（customer_id）、顧客住所（address）、店舗住所（address）とともに表示せよ。計算式は以下の簡易式で良いものとするが、その他精度の高い方式を利用したライブラリを利用してもかまわない。結果は10件表示せよ。"
   ]
  },
  {
   "cell_type": "markdown",
   "metadata": {},
   "source": [
    "### R-087:\n",
    "顧客データ（df_customer）では、異なる店舗での申込みなどにより同一顧客が複数登録されている。名前（customer_name）と郵便番号（postal_cd）が同じ顧客は同一顧客とみなして1顧客1レコードとなるように名寄せした名寄顧客データを作成し、顧客データの件数、名寄顧客データの件数、重複数を算出せよ。ただし、同一顧客に対しては売上金額合計が最も高いものを残し、売上金額合計が同一もしくは売上実績がない顧客については顧客ID（customer_id）の番号が小さいものを残すこととする。"
   ]
  },
  {
   "cell_type": "code",
   "execution_count": 2,
   "metadata": {
    "vscode": {
     "languageId": "r"
    }
   },
   "outputs": [
    {
     "name": "stderr",
     "output_type": "stream",
     "text": [
      "Warning message:\n",
      "“\u001b[1m\u001b[22mMissing values are always removed in SQL aggregation functions.\n",
      "Use `na.rm = TRUE` to silence this warning\n",
      "\u001b[90mThis warning is displayed once every 8 hours.\u001b[39m”\n"
     ]
    },
    {
     "data": {
      "text/plain": [
       "\u001b[90m# Source:   SQL [1 x 1]\u001b[39m\n",
       "\u001b[90m# Database: postgres  [guest@localhost:5432/knock100]\u001b[39m\n",
       "  n_unique_rows\n",
       "        \u001b[3m\u001b[90m<int64>\u001b[39m\u001b[23m\n",
       "\u001b[90m1\u001b[39m         \u001b[4m2\u001b[24m\u001b[4m1\u001b[24m941"
      ]
     },
     "metadata": {},
     "output_type": "display_data"
    }
   ],
   "source": [
    "customer_tbl_u2 <- receipt_tbl %>%\n",
    "group_by(customer_id) %>%\n",
    "summarise(amount = amount %>% sum(na.rm = TRUE)) %>%\n",
    "right_join(customer_tbl, by = 'customer_id') %>%\n",
    "group_by(customer_name, postal_cd) %>%\n",
    "mutate(\n",
    "\tamount = amount %>% coalesce(0),\n",
    "\tmulti = n(),\n",
    "\tuse_this = (multi==1)\n",
    "\t\t\t\t| ((amount==max(amount) & amount != min(amount)))\n",
    "\t\t\t\t| ( amount==max(amount) & (customer_id == min(customer_id)))\n",
    "\t) %>% \n",
    "filter(use_this) %>% \n",
    "ungroup() %>% \n",
    "select(colnames(customer_tbl))\n",
    "# show \n",
    "customer_tbl_u2 %>% summarise(n_unique_rows = n())"
   ]
  },
  {
   "cell_type": "code",
   "execution_count": 32,
   "metadata": {
    "vscode": {
     "languageId": "r"
    }
   },
   "outputs": [
    {
     "data": {
      "text/plain": [
       "\u001b[90m# Source:     SQL [1 x 1]\u001b[39m\n",
       "\u001b[90m# Database:   postgres  [guest@localhost:5432/knock100]\u001b[39m\n",
       "\u001b[90m# Ordered by: desc(sales_amount), customer_id\u001b[39m\n",
       "    `n()`\n",
       "  \u001b[3m\u001b[90m<int64>\u001b[39m\u001b[23m\n",
       "\u001b[90m1\u001b[39m   \u001b[4m2\u001b[24m\u001b[4m1\u001b[24m941"
      ]
     },
     "metadata": {},
     "output_type": "display_data"
    }
   ],
   "source": [
    "customer_tbl_u <- customer_tbl %>%\n",
    "left_join(receipt_tbl %>% select(customer_id, amount), by = 'customer_id') %>%\n",
    "group_by(across(all_of(customer_tbl %>% colnames()))) %>%\n",
    "summarise(sales_amount = amount %>% sum() %>% coalesce(0), .groups = 'drop') %>%\n",
    "group_by(customer_name, postal_cd) %>%\n",
    "window_order(desc(sales_amount), customer_id) %>% \n",
    "distinct(customer_name, postal_cd, .keep_all = TRUE) %>%\n",
    "ungroup()\n",
    "\n",
    "customer_tbl_u %>% summarise(n())"
   ]
  },
  {
   "cell_type": "code",
   "execution_count": 35,
   "metadata": {
    "vscode": {
     "languageId": "r"
    }
   },
   "outputs": [
    {
     "data": {
      "text/html": [
       "<table class=\"dataframe\">\n",
       "<caption>A data.frame: 0 × 11</caption>\n",
       "<thead>\n",
       "\t<tr><th scope=col>customer_id</th><th scope=col>customer_name</th><th scope=col>gender_cd</th><th scope=col>gender</th><th scope=col>birth_day</th><th scope=col>age</th><th scope=col>postal_cd</th><th scope=col>address</th><th scope=col>application_store_cd</th><th scope=col>application_date</th><th scope=col>status_cd</th></tr>\n",
       "\t<tr><th scope=col>&lt;chr&gt;</th><th scope=col>&lt;chr&gt;</th><th scope=col>&lt;int&gt;</th><th scope=col>&lt;chr&gt;</th><th scope=col>&lt;date&gt;</th><th scope=col>&lt;int&gt;</th><th scope=col>&lt;chr&gt;</th><th scope=col>&lt;chr&gt;</th><th scope=col>&lt;chr&gt;</th><th scope=col>&lt;chr&gt;</th><th scope=col>&lt;chr&gt;</th></tr>\n",
       "</thead>\n",
       "<tbody>\n",
       "</tbody>\n",
       "</table>\n"
      ],
      "text/latex": [
       "A data.frame: 0 × 11\n",
       "\\begin{tabular}{lllllllllll}\n",
       " customer\\_id & customer\\_name & gender\\_cd & gender & birth\\_day & age & postal\\_cd & address & application\\_store\\_cd & application\\_date & status\\_cd\\\\\n",
       " <chr> & <chr> & <int> & <chr> & <date> & <int> & <chr> & <chr> & <chr> & <chr> & <chr>\\\\\n",
       "\\hline\n",
       "\\end{tabular}\n"
      ],
      "text/markdown": [
       "\n",
       "A data.frame: 0 × 11\n",
       "\n",
       "| customer_id &lt;chr&gt; | customer_name &lt;chr&gt; | gender_cd &lt;int&gt; | gender &lt;chr&gt; | birth_day &lt;date&gt; | age &lt;int&gt; | postal_cd &lt;chr&gt; | address &lt;chr&gt; | application_store_cd &lt;chr&gt; | application_date &lt;chr&gt; | status_cd &lt;chr&gt; |\n",
       "|---|---|---|---|---|---|---|---|---|---|---|\n",
       "\n"
      ],
      "text/plain": [
       "     customer_id customer_name gender_cd gender birth_day age postal_cd address\n",
       "     application_store_cd application_date status_cd"
      ]
     },
     "metadata": {},
     "output_type": "display_data"
    }
   ],
   "source": [
    "# compare with official answer\n",
    "df_receipt <- receipt_tbl %>% collect() %>% data.frame()\n",
    "df_customer <- customer_tbl %>% collect() %>% data.frame()\n",
    "\n",
    "df_sales_amount <- df_receipt %>%\n",
    "    group_by(customer_id) %>%\n",
    "    summarise(sum_amount = sum(amount), .groups = \"drop\")\n",
    "\n",
    "df_customer_u <- left_join(df_customer, df_sales_amount, by = \"customer_id\") %>%\n",
    "    mutate(sum_amount = ifelse(is.na(sum_amount), 0, sum_amount)) %>%\n",
    "    arrange(desc(sum_amount), customer_id) %>%\n",
    "    distinct(customer_name, postal_cd, .keep_all = TRUE)\n",
    "\n",
    "col_names_check <- df_customer %>% colnames()\n",
    "\n",
    "rows_diff <- setdiff(df_customer_u %>% select(all_of(col_names_check)) , customer_tbl_u %>% select(all_of(col_names_check)) %>% collect() %>% as.data.frame()) \n",
    "names_diff <- rows_diff[,'customer_name']\n",
    "rows_diff"
   ]
  },
  {
   "cell_type": "code",
   "execution_count": 36,
   "metadata": {
    "vscode": {
     "languageId": "r"
    }
   },
   "outputs": [
    {
     "data": {
      "text/html": [
       "<table class=\"dataframe\">\n",
       "<caption>A tibble: 0 × 12</caption>\n",
       "<thead>\n",
       "\t<tr><th scope=col>customer_id</th><th scope=col>customer_name</th><th scope=col>gender_cd</th><th scope=col>gender</th><th scope=col>birth_day</th><th scope=col>age</th><th scope=col>postal_cd</th><th scope=col>address</th><th scope=col>application_store_cd</th><th scope=col>application_date</th><th scope=col>status_cd</th><th scope=col>sales_amount</th></tr>\n",
       "\t<tr><th scope=col>&lt;chr&gt;</th><th scope=col>&lt;chr&gt;</th><th scope=col>&lt;int&gt;</th><th scope=col>&lt;chr&gt;</th><th scope=col>&lt;date&gt;</th><th scope=col>&lt;int&gt;</th><th scope=col>&lt;chr&gt;</th><th scope=col>&lt;chr&gt;</th><th scope=col>&lt;chr&gt;</th><th scope=col>&lt;chr&gt;</th><th scope=col>&lt;chr&gt;</th><th scope=col>&lt;dbl&gt;</th></tr>\n",
       "</thead>\n",
       "<tbody>\n",
       "</tbody>\n",
       "</table>\n"
      ],
      "text/latex": [
       "A tibble: 0 × 12\n",
       "\\begin{tabular}{llllllllllll}\n",
       " customer\\_id & customer\\_name & gender\\_cd & gender & birth\\_day & age & postal\\_cd & address & application\\_store\\_cd & application\\_date & status\\_cd & sales\\_amount\\\\\n",
       " <chr> & <chr> & <int> & <chr> & <date> & <int> & <chr> & <chr> & <chr> & <chr> & <chr> & <dbl>\\\\\n",
       "\\hline\n",
       "\\end{tabular}\n"
      ],
      "text/markdown": [
       "\n",
       "A tibble: 0 × 12\n",
       "\n",
       "| customer_id &lt;chr&gt; | customer_name &lt;chr&gt; | gender_cd &lt;int&gt; | gender &lt;chr&gt; | birth_day &lt;date&gt; | age &lt;int&gt; | postal_cd &lt;chr&gt; | address &lt;chr&gt; | application_store_cd &lt;chr&gt; | application_date &lt;chr&gt; | status_cd &lt;chr&gt; | sales_amount &lt;dbl&gt; |\n",
       "|---|---|---|---|---|---|---|---|---|---|---|---|\n",
       "\n"
      ],
      "text/plain": [
       "     customer_id customer_name gender_cd gender birth_day age postal_cd address\n",
       "     application_store_cd application_date status_cd sales_amount"
      ]
     },
     "metadata": {},
     "output_type": "display_data"
    },
    {
     "data": {
      "text/html": [
       "<table class=\"dataframe\">\n",
       "<caption>A data.frame: 0 × 12</caption>\n",
       "<thead>\n",
       "\t<tr><th scope=col>customer_id</th><th scope=col>customer_name</th><th scope=col>gender_cd</th><th scope=col>gender</th><th scope=col>birth_day</th><th scope=col>age</th><th scope=col>postal_cd</th><th scope=col>address</th><th scope=col>application_store_cd</th><th scope=col>application_date</th><th scope=col>status_cd</th><th scope=col>sum_amount</th></tr>\n",
       "\t<tr><th scope=col>&lt;chr&gt;</th><th scope=col>&lt;chr&gt;</th><th scope=col>&lt;int&gt;</th><th scope=col>&lt;chr&gt;</th><th scope=col>&lt;date&gt;</th><th scope=col>&lt;int&gt;</th><th scope=col>&lt;chr&gt;</th><th scope=col>&lt;chr&gt;</th><th scope=col>&lt;chr&gt;</th><th scope=col>&lt;chr&gt;</th><th scope=col>&lt;chr&gt;</th><th scope=col>&lt;dbl&gt;</th></tr>\n",
       "</thead>\n",
       "<tbody>\n",
       "</tbody>\n",
       "</table>\n"
      ],
      "text/latex": [
       "A data.frame: 0 × 12\n",
       "\\begin{tabular}{llllllllllll}\n",
       " customer\\_id & customer\\_name & gender\\_cd & gender & birth\\_day & age & postal\\_cd & address & application\\_store\\_cd & application\\_date & status\\_cd & sum\\_amount\\\\\n",
       " <chr> & <chr> & <int> & <chr> & <date> & <int> & <chr> & <chr> & <chr> & <chr> & <chr> & <dbl>\\\\\n",
       "\\hline\n",
       "\\end{tabular}\n"
      ],
      "text/markdown": [
       "\n",
       "A data.frame: 0 × 12\n",
       "\n",
       "| customer_id &lt;chr&gt; | customer_name &lt;chr&gt; | gender_cd &lt;int&gt; | gender &lt;chr&gt; | birth_day &lt;date&gt; | age &lt;int&gt; | postal_cd &lt;chr&gt; | address &lt;chr&gt; | application_store_cd &lt;chr&gt; | application_date &lt;chr&gt; | status_cd &lt;chr&gt; | sum_amount &lt;dbl&gt; |\n",
       "|---|---|---|---|---|---|---|---|---|---|---|---|\n",
       "\n"
      ],
      "text/plain": [
       "     customer_id customer_name gender_cd gender birth_day age postal_cd address\n",
       "     application_store_cd application_date status_cd sum_amount"
      ]
     },
     "metadata": {},
     "output_type": "display_data"
    }
   ],
   "source": [
    "# compare diff set \n",
    "customer_tbl_u %>% filter(customer_name %in% names_diff) %>% collect()\n",
    "df_customer_u %>% filter(customer_name %in% names_diff)"
   ]
  },
  {
   "cell_type": "markdown",
   "metadata": {},
   "source": [
    "### R-088:\n",
    "087で作成したデータを元に、顧客データに統合名寄IDを付与したデータを作成せよ。ただし、統合名寄IDは以下の仕様で付与するものとする。\n",
    "- 重複していない顧客：顧客ID（customer_id）を設定\n",
    "- 重複している顧客：前設問で抽出したレコードの顧客IDを設定\n",
    "\n",
    "顧客IDのユニーク件数と、統合名寄IDのユニーク件数の差も確認すること。"
   ]
  },
  {
   "cell_type": "markdown",
   "metadata": {},
   "source": [
    "## R-089:\n",
    "売上実績がある顧客を、予測モデル構築のため学習用データとテスト用データに分割したい。それぞれ8:2の割合でランダムにデータを分割せよ。"
   ]
  },
  {
   "cell_type": "code",
   "execution_count": 82,
   "metadata": {
    "vscode": {
     "languageId": "r"
    }
   },
   "outputs": [
    {
     "ename": "ERROR",
     "evalue": "Error in customer_by_sales %>% filter(sales_amount > 0) <- receipt_tbl %>% : object 'customer_by_sales' not found\n",
     "output_type": "error",
     "traceback": [
      "Error in customer_by_sales %>% filter(sales_amount > 0) <- receipt_tbl %>% : object 'customer_by_sales' not found\nTraceback:\n"
     ]
    }
   ],
   "source": [
    "customer_with_sales_history <- receipt_tbl %>%\n",
    "group_by(customer_id) %>%\n",
    "summarise(sales_amount = amount %>% sum(na.rm = TRUE), .groups = 'drop') %>% \n",
    "filter(sales_amount > 0)\n",
    "\n",
    "count_rows <- function(table) table %>% summarise(n()) %>% collect() %>% data.frame() %>% .[1,1] %>% as.double()\n",
    "\n",
    "N <- customer_with_sales_history %>% count_rows()\n",
    "\n",
    "data_test <- customer_with_sales_history %>% slice_sample(n = 0.2*N, replace = FALSE)\n",
    "data_train <- dplyr::setdiff(customer_with_sales_history, data_test)\n",
    "\n",
    "\"size of N:\" %>% paste(N)\n",
    "\"ratio of training data:\" %>% paste(count_rows(data_train) / N )\n",
    "\"ratio of test data:\" %>% paste(count_rows(data_test) / N)"
   ]
  },
  {
   "cell_type": "markdown",
   "metadata": {},
   "source": [
    "### R-090:\n",
    "レシート明細データ（df_receipt）は2017年1月1日〜2019年10月31日までのデータを有している。売上金額（amount）を月次で集計し、学習用に12ヶ月、テスト用に6ヶ月の時系列モデル構築用データを3セット作成せよ。"
   ]
  },
  {
   "cell_type": "markdown",
   "metadata": {},
   "source": [
    "## R-091:\n",
    "顧客データ（df_customer）の各顧客に対し、売上実績がある顧客数と売上実績がない顧客数が1:1となるようにアンダーサンプリングで抽出せよ。"
   ]
  },
  {
   "cell_type": "code",
   "execution_count": 100,
   "metadata": {
    "vscode": {
     "languageId": "r"
    }
   },
   "outputs": [
    {
     "data": {
      "text/plain": [
       "\u001b[90m# Source:   SQL [2 x 2]\u001b[39m\n",
       "\u001b[90m# Database: postgres  [guest@localhost:5432/knock100]\u001b[39m\n",
       "  purchase       n\n",
       "     \u001b[3m\u001b[90m<dbl>\u001b[39m\u001b[23m \u001b[3m\u001b[90m<int64>\u001b[39m\u001b[23m\n",
       "\u001b[90m1\u001b[39m        1    \u001b[4m8\u001b[24m306\n",
       "\u001b[90m2\u001b[39m        0    \u001b[4m8\u001b[24m306"
      ]
     },
     "metadata": {},
     "output_type": "display_data"
    }
   ],
   "source": [
    "customer_sales_amount <- customer_tbl %>%\n",
    "left_join(receipt_tbl %>% select(customer_id, amount), by = 'customer_id') %>%\n",
    "group_by(customer_id) %>%\n",
    "summarise(amount = amount %>% sum(na.rm = TRUE) %>% coalesce(0), .groups = 'drop') %>%\n",
    "mutate(purchase = if_else(amount>0,1,0))\n",
    "\n",
    "customer_with_sales_history <- customer_sales_amount %>% filter(amount>0)\n",
    "\n",
    "# size of down sampling\n",
    "size <- count_rows(customer_sales_amount) %>% min(customer_with_sales_history %>% count_rows())\n",
    "\n",
    "# union each of sampled group\n",
    "down_samples_tbl <- customer_sales_amount %>% filter(amount==0) %>% slice_sample(n = size) %>% dplyr::union(customer_with_sales_history %>% slice_sample(n = size))\n",
    "\n",
    "down_samples_tbl %>% group_by(purchase) %>%\n",
    "summarise(n = n())"
   ]
  },
  {
   "cell_type": "markdown",
   "metadata": {},
   "source": [
    "## R-092:\n",
    "顧客データ（df_customer）の性別について、第三正規形へと正規化せよ。"
   ]
  },
  {
   "cell_type": "markdown",
   "metadata": {},
   "source": [
    "## R-093:\n",
    " 商品データ（df_product）では各カテゴリのコード値だけを保有し、カテゴリ名は保有していない。カテゴリデータ（df_category）と組み合わせて非正規化し、カテゴリ名を保有した新たな商品データを作成せよ。"
   ]
  },
  {
   "cell_type": "markdown",
   "metadata": {},
   "source": [
    "## R-094:\n",
    "093で作成したカテゴリ名付き商品データを以下の仕様でファイル出力せよ。\n",
    "\n",
    "ファイル形式\tヘッダ有無\t文字エンコーディング\n",
    "CSV（カンマ区切り）\t有り\tUTF-8"
   ]
  },
  {
   "cell_type": "markdown",
   "metadata": {},
   "source": [
    "## R-095:\n",
    "093で作成したカテゴリ名付き商品データを以下の仕様でファイル出力せよ。\n",
    "\n",
    "ファイル形式\tヘッダ有無\t文字エンコーディング\n",
    "CSV（カンマ区切り）\t有り\tCP932"
   ]
  },
  {
   "cell_type": "markdown",
   "metadata": {},
   "source": [
    "## R-096:\n",
    "093で作成したカテゴリ名付き商品データを以下の仕様でファイル出力せよ。\n",
    "\n",
    "ファイル形式\tヘッダ有無\t文字エンコーディング\n",
    "CSV（カンマ区切り）\t無し\tUTF-8"
   ]
  },
  {
   "cell_type": "markdown",
   "metadata": {},
   "source": []
  }
 ],
 "metadata": {
  "kernelspec": {
   "display_name": "R",
   "language": "R",
   "name": "ir"
  },
  "language_info": {
   "codemirror_mode": "r",
   "file_extension": ".r",
   "mimetype": "text/x-r-source",
   "name": "R",
   "pygments_lexer": "r",
   "version": "4.2.0"
  },
  "orig_nbformat": 4
 },
 "nbformat": 4,
 "nbformat_minor": 2
}
